{
 "cells": [
  {
   "cell_type": "markdown",
   "metadata": {
    "toc": true
   },
   "source": [
    "<h1>Содержание<span class=\"tocSkip\"></span></h1>\n",
    "<div class=\"toc\"><ul class=\"toc-item\"><li><span><a href=\"#Подготовка\" data-toc-modified-id=\"Подготовка-1\"><span class=\"toc-item-num\">1&nbsp;&nbsp;</span>Подготовка</a></span><ul class=\"toc-item\"><li><span><a href=\"#Загрузим-необходимые-библиотеки\" data-toc-modified-id=\"Загрузим-необходимые-библиотеки-1.1\"><span class=\"toc-item-num\">1.1&nbsp;&nbsp;</span>Загрузим необходимые библиотеки</a></span></li><li><span><a href=\"#Загрузим-исходные-данные\" data-toc-modified-id=\"Загрузим-исходные-данные-1.2\"><span class=\"toc-item-num\">1.2&nbsp;&nbsp;</span>Загрузим исходные данные</a></span></li><li><span><a href=\"#Изучим-данные\" data-toc-modified-id=\"Изучим-данные-1.3\"><span class=\"toc-item-num\">1.3&nbsp;&nbsp;</span>Изучим данные</a></span></li><li><span><a href=\"#Проведем-предварительную--обработку-данных-перед-исследованием---сгруппируем-данные-о-заказах-в-часовые-блоки\" data-toc-modified-id=\"Проведем-предварительную--обработку-данных-перед-исследованием---сгруппируем-данные-о-заказах-в-часовые-блоки-1.4\"><span class=\"toc-item-num\">1.4&nbsp;&nbsp;</span>Проведем предварительную  обработку данных перед исследованием - <code>сгруппируем</code> данные о заказах в часовые блоки</a></span></li></ul></li><li><span><a href=\"#Анализ\" data-toc-modified-id=\"Анализ-2\"><span class=\"toc-item-num\">2&nbsp;&nbsp;</span>Анализ</a></span><ul class=\"toc-item\"><li><span><a href=\"#Выделим-и-изучим-тренд,-сезонные-колебания-и-шум\" data-toc-modified-id=\"Выделим-и-изучим-тренд,-сезонные-колебания-и-шум-2.1\"><span class=\"toc-item-num\">2.1&nbsp;&nbsp;</span>Выделим и изучим тренд, сезонные колебания и шум</a></span></li><li><span><a href=\"#Изучим-стационарность-ряда\" data-toc-modified-id=\"Изучим-стационарность-ряда-2.2\"><span class=\"toc-item-num\">2.2&nbsp;&nbsp;</span>Изучим стационарность ряда</a></span></li></ul></li><li><span><a href=\"#Обучение\" data-toc-modified-id=\"Обучение-3\"><span class=\"toc-item-num\">3&nbsp;&nbsp;</span>Обучение</a></span><ul class=\"toc-item\"><li><span><a href=\"#Создадим-признаки-и-выборки-для-обучения-модели\" data-toc-modified-id=\"Создадим-признаки-и-выборки-для-обучения-модели-3.1\"><span class=\"toc-item-num\">3.1&nbsp;&nbsp;</span>Создадим признаки и выборки для обучения модели</a></span><ul class=\"toc-item\"><li><span><a href=\"#Создадим-календарные-признаки\" data-toc-modified-id=\"Создадим-календарные-признаки-3.1.1\"><span class=\"toc-item-num\">3.1.1&nbsp;&nbsp;</span>Создадим <code>календарные</code> признаки</a></span></li><li><span><a href=\"#Обьявим-функцию-make_features_and_split-для-создания-признаков-отстающих-значений-и-скользящего-среднего--обучения-моделей-и-обучающей-и-тестовой-выборок\" data-toc-modified-id=\"Обьявим-функцию-make_features_and_split-для-создания-признаков-отстающих-значений-и-скользящего-среднего--обучения-моделей-и-обучающей-и-тестовой-выборок-3.1.2\"><span class=\"toc-item-num\">3.1.2&nbsp;&nbsp;</span>Обьявим функцию <code>make_features_and_split</code> для создания признаков отстающих значений и скользящего среднего  обучения моделей и <code>обучающей</code> и <code>тестовой</code> выборок</a></span></li><li><span><a href=\"#Объявим-функцию-features_tune-для-подбора-оптимальных-признаков,-дающих-наименьшее-значение-метрики-RMSE,-полученной-методом-кросс-валидации-на-модели-LinearRegression\" data-toc-modified-id=\"Объявим-функцию-features_tune-для-подбора-оптимальных-признаков,-дающих-наименьшее-значение-метрики-RMSE,-полученной-методом-кросс-валидации-на-модели-LinearRegression-3.1.3\"><span class=\"toc-item-num\">3.1.3&nbsp;&nbsp;</span>Объявим функцию <code>features_tune</code> для подбора оптимальных признаков, дающих наименьшее значение метрики <code>RMSE</code>, полученной методом <code>кросс-валидации</code> на модели <code>LinearRegression</code></a></span></li></ul></li><li><span><a href=\"#Создадим-выборки-с-найденными-признаками,-обеспечивающими-наилучшее-значение-метрики-RMSE-для-модели-LinearRegression\" data-toc-modified-id=\"Создадим-выборки-с-найденными-признаками,-обеспечивающими-наилучшее-значение-метрики-RMSE-для-модели-LinearRegression-3.2\"><span class=\"toc-item-num\">3.2&nbsp;&nbsp;</span>Создадим выборки с найденными признаками, обеспечивающими наилучшее значение метрики <code>RMSE</code> для модели <code>LinearRegression</code></a></span></li><li><span><a href=\"#Обучим-модель-RandomForestRegressor-на-созданной-обучающей-выборке-и-подберем-оптимальные-гиперпараметры-методом-кросс-валидации\" data-toc-modified-id=\"Обучим-модель-RandomForestRegressor-на-созданной-обучающей-выборке-и-подберем-оптимальные-гиперпараметры-методом-кросс-валидации-3.3\"><span class=\"toc-item-num\">3.3&nbsp;&nbsp;</span>Обучим модель <code>RandomForestRegressor</code> на созданной <code>обучающей</code> выборке и подберем оптимальные гиперпараметры методом <code>кросс-валидации</code></a></span></li><li><span><a href=\"#Обучим-и-проверим-методом-кросс-валидации-модель-LightGBM\" data-toc-modified-id=\"Обучим-и-проверим-методом-кросс-валидации-модель-LightGBM-3.4\"><span class=\"toc-item-num\">3.4&nbsp;&nbsp;</span>Обучим и проверим методом кросс-валидации модель <code>LightGBM</code></a></span><ul class=\"toc-item\"><li><span><a href=\"#Создадим-датасеты-для-обучения-и-кросс-валидации-модели-LightGBM\" data-toc-modified-id=\"Создадим-датасеты-для-обучения-и-кросс-валидации-модели-LightGBM-3.4.1\"><span class=\"toc-item-num\">3.4.1&nbsp;&nbsp;</span>Создадим датасеты для обучения и кросс-валидации модели <code>LightGBM</code></a></span></li><li><span><a href=\"#Объявим-функцию-lgb_cv_rmse,-которая-рассчитывает-метрику-RMSE-методом-кросс-валидации-при-заданных-гиперпараметрах\" data-toc-modified-id=\"Объявим-функцию-lgb_cv_rmse,-которая-рассчитывает-метрику-RMSE-методом-кросс-валидации-при-заданных-гиперпараметрах-3.4.2\"><span class=\"toc-item-num\">3.4.2&nbsp;&nbsp;</span>Объявим функцию <code>lgb_cv_rmse</code>, которая рассчитывает метрику <code>RMSE</code> методом <code>кросс-валидации</code> при заданных гиперпараметрах</a></span></li><li><span><a href=\"#Объявим-функцию-lgb_tune-для-настойки-гиперпараметров-модели-LightGBM,-при-которых-достигается-наименьшее-значение-метрики-RMSE,-рассчитанной-методом-кросс-валидации&quot;\" data-toc-modified-id=\"Объявим-функцию-lgb_tune-для-настойки-гиперпараметров-модели-LightGBM,-при-которых-достигается-наименьшее-значение-метрики-RMSE,-рассчитанной-методом-кросс-валидации&quot;-3.4.3\"><span class=\"toc-item-num\">3.4.3&nbsp;&nbsp;</span>Объявим функцию <code>lgb_tune</code> для настойки гиперпараметров модели <code>LightGBM</code>, при которых достигается наименьшее значение метрики <code>RMSE</code>, рассчитанной методом <code>кросс-валидации</code>\"</a></span></li><li><span><a href=\"#Зададим-границы-гиперпараметров-и-проведем-подбор\" data-toc-modified-id=\"Зададим-границы-гиперпараметров-и-проведем-подбор-3.4.4\"><span class=\"toc-item-num\">3.4.4&nbsp;&nbsp;</span>Зададим границы гиперпараметров и проведем подбор</a></span></li></ul></li><li><span><a href=\"#Выводы-по-результам-обучения-и-проверки-моделей-методом-кросс-валидации\" data-toc-modified-id=\"Выводы-по-результам-обучения-и-проверки-моделей-методом-кросс-валидации-3.5\"><span class=\"toc-item-num\">3.5&nbsp;&nbsp;</span>Выводы по результам обучения и проверки моделей методом <code>кросс-валидации</code></a></span></li></ul></li><li><span><a href=\"#Тестирование\" data-toc-modified-id=\"Тестирование-4\"><span class=\"toc-item-num\">4&nbsp;&nbsp;</span>Тестирование</a></span><ul class=\"toc-item\"><li><span><a href=\"#Найдем-на-тестовой-выборке-значение-метрики-RMSE-модели-LinearRegression,-показавшей-наилучшие-результаты-при-обучении-и-тестировании-методом-кросс-валидации\" data-toc-modified-id=\"Найдем-на-тестовой-выборке-значение-метрики-RMSE-модели-LinearRegression,-показавшей-наилучшие-результаты-при-обучении-и-тестировании-методом-кросс-валидации-4.1\"><span class=\"toc-item-num\">4.1&nbsp;&nbsp;</span>Найдем на <code>тестовой</code> выборке значение метрики <code>RMSE</code> модели <code>LinearRegression</code>, показавшей наилучшие результаты при обучении и тестировании методом <code>кросс-валидации</code></a></span></li><li><span><a href=\"#Проверим-среднюю-скорость-обучения-модели-LinearRegression-и-среднюю-скорость-предсказания-на-обучающей-выборке\" data-toc-modified-id=\"Проверим-среднюю-скорость-обучения-модели-LinearRegression-и-среднюю-скорость-предсказания-на-обучающей-выборке-4.2\"><span class=\"toc-item-num\">4.2&nbsp;&nbsp;</span>Проверим среднюю скорость обучения модели <code>LinearRegression</code> и среднюю скорость предсказания на <code>обучающей</code> выборке</a></span></li><li><span><a href=\"#Проверим-модель-LinearRegression-на-адекватность-путем-сравнения-метрики-RMSE-модели-с-метрикой-RMSE,-посчитанной-на-прогнозах,-полученных-подстановкой-в-прогноз-константы---медианного-значения-обучающей-выборки-и-предыдущего-значения\" data-toc-modified-id=\"Проверим-модель-LinearRegression-на-адекватность-путем-сравнения-метрики-RMSE-модели-с-метрикой-RMSE,-посчитанной-на-прогнозах,-полученных-подстановкой-в-прогноз-константы---медианного-значения-обучающей-выборки-и-предыдущего-значения-4.3\"><span class=\"toc-item-num\">4.3&nbsp;&nbsp;</span>Проверим модель <code>LinearRegression</code> на адекватность путем сравнения метрики <code>RMSE</code> модели с метрикой <code>RMSE</code>, посчитанной на прогнозах, полученных подстановкой в прогноз константы - <code>медианного</code> значения обучающей выборки и <code>предыдущего</code> значения</a></span><ul class=\"toc-item\"><li><span><a href=\"#Создадим-вектор-прогнозных-значений,-состоящий-из-медианных-значений-целевого-признака-обучающей-выборки\" data-toc-modified-id=\"Создадим-вектор-прогнозных-значений,-состоящий-из-медианных-значений-целевого-признака-обучающей-выборки-4.3.1\"><span class=\"toc-item-num\">4.3.1&nbsp;&nbsp;</span>Создадим вектор прогнозных значений, состоящий из медианных значений <code>целевого</code> признака <code>обучающей выборки</code></a></span></li><li><span><a href=\"#Посчитаем-точность-RMSE-полученного-прогноза\" data-toc-modified-id=\"Посчитаем-точность-RMSE-полученного-прогноза-4.3.2\"><span class=\"toc-item-num\">4.3.2&nbsp;&nbsp;</span>Посчитаем точность <code>RMSE</code> полученного прогноза</a></span></li><li><span><a href=\"#Создадим-вектор-прогнозных-значений,-состоящий-из-предыдущих-значений-тестовой-выборки\" data-toc-modified-id=\"Создадим-вектор-прогнозных-значений,-состоящий-из-предыдущих-значений-тестовой-выборки-4.3.3\"><span class=\"toc-item-num\">4.3.3&nbsp;&nbsp;</span>Создадим вектор прогнозных значений, состоящий из предыдущих значений <code>тестовой</code> выборки</a></span></li><li><span><a href=\"#Посчитаем-точность-RMSE-полученного-прогноза\" data-toc-modified-id=\"Посчитаем-точность-RMSE-полученного-прогноза-4.3.4\"><span class=\"toc-item-num\">4.3.4&nbsp;&nbsp;</span>Посчитаем точность <code>RMSE</code> полученного прогноза</a></span></li></ul></li><li><span><a href=\"#Выводы-по-итогам-тестирования-модели\" data-toc-modified-id=\"Выводы-по-итогам-тестирования-модели-4.4\"><span class=\"toc-item-num\">4.4&nbsp;&nbsp;</span>Выводы по итогам тестирования модели</a></span></li></ul></li></ul></div>"
   ]
  },
  {
   "cell_type": "markdown",
   "metadata": {},
   "source": [
    "#  Прогнозирование заказов такси"
   ]
  },
  {
   "cell_type": "markdown",
   "metadata": {},
   "source": [
    "Таксомоторный парк собрал исторические данные о заказах такси в аэропортах. Чтобы привлекать больше водителей в период пиковой нагрузки, нужно спрогнозировать количество заказов такси на следующий час. Нужно построить модель для такого предсказания.\n",
    "\n",
    "Значение метрики *RMSE* на тестовой выборке должно быть не больше 48.\n",
    "\n",
    "Данные лежат в файле `taxi.csv`. Количество заказов находится в столбце `num_orders`."
   ]
  },
  {
   "cell_type": "markdown",
   "metadata": {},
   "source": [
    "## Подготовка"
   ]
  },
  {
   "cell_type": "markdown",
   "metadata": {},
   "source": [
    "### Загрузим необходимые библиотеки"
   ]
  },
  {
   "cell_type": "code",
   "execution_count": 1,
   "metadata": {},
   "outputs": [],
   "source": [
    "import pandas as pd\n",
    "import numpy as np\n",
    "import matplotlib.pyplot as plt\n",
    "\n",
    "import os\n",
    "import lightgbm as lgb\n",
    "\n",
    "from statsmodels.tsa.seasonal import seasonal_decompose\n",
    "\n",
    "from sklearn.linear_model import LinearRegression\n",
    "from sklearn.ensemble import RandomForestRegressor\n",
    "\n",
    "from sklearn.model_selection import (train_test_split,\n",
    "                                     GridSearchCV,\n",
    "                                     cross_val_score,\n",
    "                                     TimeSeriesSplit)\n",
    "from sklearn.metrics import mean_squared_error\n",
    "\n",
    "import warnings"
   ]
  },
  {
   "cell_type": "markdown",
   "metadata": {},
   "source": [
    "### Загрузим исходные данные"
   ]
  },
  {
   "cell_type": "code",
   "execution_count": 2,
   "metadata": {},
   "outputs": [],
   "source": [
    "path_1 = '/datasets/taxi.csv'\n",
    "path_2 = 'https://code.s3.yandex.net/datasets/taxi.csv'\n",
    "\n",
    "if os.path.exists(path_1):\n",
    "    data = pd.read_csv(path_1, index_col=[0], parse_dates=[0])\n",
    "    \n",
    "elif os.path.exists(path_2):\n",
    "    \n",
    "    data = pd.read_csv(path_2, index_col=[0], parse_dates=[0])\n",
    "else:\n",
    "    print('Файл не найден, проверьте путь')"
   ]
  },
  {
   "cell_type": "markdown",
   "metadata": {},
   "source": [
    "### Изучим данные"
   ]
  },
  {
   "cell_type": "code",
   "execution_count": 3,
   "metadata": {},
   "outputs": [
    {
     "name": "stdout",
     "output_type": "stream",
     "text": [
      "<class 'pandas.core.frame.DataFrame'>\n",
      "DatetimeIndex: 26496 entries, 2018-03-01 00:00:00 to 2018-08-31 23:50:00\n",
      "Data columns (total 1 columns):\n",
      " #   Column      Non-Null Count  Dtype\n",
      "---  ------      --------------  -----\n",
      " 0   num_orders  26496 non-null  int64\n",
      "dtypes: int64(1)\n",
      "memory usage: 414.0 KB\n"
     ]
    },
    {
     "data": {
      "text/plain": [
       "None"
      ]
     },
     "metadata": {},
     "output_type": "display_data"
    },
    {
     "data": {
      "text/html": [
       "<div>\n",
       "<style scoped>\n",
       "    .dataframe tbody tr th:only-of-type {\n",
       "        vertical-align: middle;\n",
       "    }\n",
       "\n",
       "    .dataframe tbody tr th {\n",
       "        vertical-align: top;\n",
       "    }\n",
       "\n",
       "    .dataframe thead th {\n",
       "        text-align: right;\n",
       "    }\n",
       "</style>\n",
       "<table border=\"1\" class=\"dataframe\">\n",
       "  <thead>\n",
       "    <tr style=\"text-align: right;\">\n",
       "      <th></th>\n",
       "      <th>num_orders</th>\n",
       "    </tr>\n",
       "    <tr>\n",
       "      <th>datetime</th>\n",
       "      <th></th>\n",
       "    </tr>\n",
       "  </thead>\n",
       "  <tbody>\n",
       "    <tr>\n",
       "      <th>2018-03-01 00:00:00</th>\n",
       "      <td>9</td>\n",
       "    </tr>\n",
       "    <tr>\n",
       "      <th>2018-03-01 00:10:00</th>\n",
       "      <td>14</td>\n",
       "    </tr>\n",
       "    <tr>\n",
       "      <th>2018-03-01 00:20:00</th>\n",
       "      <td>28</td>\n",
       "    </tr>\n",
       "  </tbody>\n",
       "</table>\n",
       "</div>"
      ],
      "text/plain": [
       "                     num_orders\n",
       "datetime                       \n",
       "2018-03-01 00:00:00           9\n",
       "2018-03-01 00:10:00          14\n",
       "2018-03-01 00:20:00          28"
      ]
     },
     "metadata": {},
     "output_type": "display_data"
    },
    {
     "data": {
      "text/html": [
       "<div>\n",
       "<style scoped>\n",
       "    .dataframe tbody tr th:only-of-type {\n",
       "        vertical-align: middle;\n",
       "    }\n",
       "\n",
       "    .dataframe tbody tr th {\n",
       "        vertical-align: top;\n",
       "    }\n",
       "\n",
       "    .dataframe thead th {\n",
       "        text-align: right;\n",
       "    }\n",
       "</style>\n",
       "<table border=\"1\" class=\"dataframe\">\n",
       "  <thead>\n",
       "    <tr style=\"text-align: right;\">\n",
       "      <th></th>\n",
       "      <th>num_orders</th>\n",
       "    </tr>\n",
       "    <tr>\n",
       "      <th>datetime</th>\n",
       "      <th></th>\n",
       "    </tr>\n",
       "  </thead>\n",
       "  <tbody>\n",
       "    <tr>\n",
       "      <th>2018-08-31 23:30:00</th>\n",
       "      <td>27</td>\n",
       "    </tr>\n",
       "    <tr>\n",
       "      <th>2018-08-31 23:40:00</th>\n",
       "      <td>39</td>\n",
       "    </tr>\n",
       "    <tr>\n",
       "      <th>2018-08-31 23:50:00</th>\n",
       "      <td>53</td>\n",
       "    </tr>\n",
       "  </tbody>\n",
       "</table>\n",
       "</div>"
      ],
      "text/plain": [
       "                     num_orders\n",
       "datetime                       \n",
       "2018-08-31 23:30:00          27\n",
       "2018-08-31 23:40:00          39\n",
       "2018-08-31 23:50:00          53"
      ]
     },
     "metadata": {},
     "output_type": "display_data"
    },
    {
     "data": {
      "text/html": [
       "<div>\n",
       "<style scoped>\n",
       "    .dataframe tbody tr th:only-of-type {\n",
       "        vertical-align: middle;\n",
       "    }\n",
       "\n",
       "    .dataframe tbody tr th {\n",
       "        vertical-align: top;\n",
       "    }\n",
       "\n",
       "    .dataframe thead th {\n",
       "        text-align: right;\n",
       "    }\n",
       "</style>\n",
       "<table border=\"1\" class=\"dataframe\">\n",
       "  <thead>\n",
       "    <tr style=\"text-align: right;\">\n",
       "      <th></th>\n",
       "      <th>count</th>\n",
       "      <th>mean</th>\n",
       "      <th>std</th>\n",
       "      <th>min</th>\n",
       "      <th>25%</th>\n",
       "      <th>50%</th>\n",
       "      <th>75%</th>\n",
       "      <th>max</th>\n",
       "    </tr>\n",
       "  </thead>\n",
       "  <tbody>\n",
       "    <tr>\n",
       "      <th>num_orders</th>\n",
       "      <td>26496.0</td>\n",
       "      <td>14.070463</td>\n",
       "      <td>9.21133</td>\n",
       "      <td>0.0</td>\n",
       "      <td>8.0</td>\n",
       "      <td>13.0</td>\n",
       "      <td>19.0</td>\n",
       "      <td>119.0</td>\n",
       "    </tr>\n",
       "  </tbody>\n",
       "</table>\n",
       "</div>"
      ],
      "text/plain": [
       "              count       mean      std  min  25%   50%   75%    max\n",
       "num_orders  26496.0  14.070463  9.21133  0.0  8.0  13.0  19.0  119.0"
      ]
     },
     "metadata": {},
     "output_type": "display_data"
    },
    {
     "name": "stdout",
     "output_type": "stream",
     "text": [
      "\n",
      "Количество дубликатов в индексе: 0\n",
      "\n",
      "Начало временного ряда 2018-03-01 00:00:00\n",
      "\n",
      "Конец временного ряда 2018-08-31 23:50:00\n",
      "\n",
      "Проверка индекса на упорядоченность: True\n"
     ]
    }
   ],
   "source": [
    "display(data.info())\n",
    "display(data.head(3), data.tail(3))\n",
    "display(data.describe().T)\n",
    "print('\\nКоличество дубликатов в индексе:', \n",
    "      data.index.duplicated().sum())\n",
    "print('\\nНачало временного ряда', data.index.min())\n",
    "print('\\nКонец временного ряда', data.index.max())\n",
    "print('\\nПроверка индекса на упорядоченность:', data.index.is_monotonic)"
   ]
  },
  {
   "cell_type": "code",
   "execution_count": 4,
   "metadata": {},
   "outputs": [
    {
     "data": {
      "image/png": "[encoded data removed]",
      "text/plain": [
       "<Figure size 864x288 with 1 Axes>"
      ]
     },
     "metadata": {
      "needs_background": "light"
     },
     "output_type": "display_data"
    }
   ],
   "source": [
    "data.plot(figsize = (12, 4), grid = True, xlabel = 'Время',\n",
    "         ylabel = 'Количество заказов', \n",
    "          title = 'Динамика количества заказов такси во времени');"
   ]
  },
  {
   "cell_type": "markdown",
   "metadata": {},
   "source": [
    "   "
   ]
  },
  {
   "cell_type": "markdown",
   "metadata": {},
   "source": [
    "- данные представляют собой **временной ряд** из **26496** точек, расположенных через 10 минут, представляющих собой количество заказов автомобилей такси\n",
    "- временной ряд охватывает **период** с марта по август 2018 года включительно\n",
    "- временной ряд **упорядоченный**\n",
    "- пропущенных данных **нет**\n",
    "- дубликаты **отсутствуют**\n",
    "- отрицательные и невероятные значения **отсутствуют**\n",
    "- наблюдается **увеличение** числа заказов к концу периода\n",
    "\n",
    "\n",
    "- данные **могут быть использованы для прогнозирования**"
   ]
  },
  {
   "cell_type": "markdown",
   "metadata": {},
   "source": [
    "### Проведем предварительную  обработку данных перед исследованием - `сгруппируем` данные о заказах в часовые блоки"
   ]
  },
  {
   "cell_type": "code",
   "execution_count": 5,
   "metadata": {},
   "outputs": [
    {
     "name": "stdout",
     "output_type": "stream",
     "text": [
      "<class 'pandas.core.frame.DataFrame'>\n",
      "DatetimeIndex: 4416 entries, 2018-03-01 00:00:00 to 2018-08-31 23:00:00\n",
      "Freq: H\n",
      "Data columns (total 1 columns):\n",
      " #   Column      Non-Null Count  Dtype\n",
      "---  ------      --------------  -----\n",
      " 0   num_orders  4416 non-null   int64\n",
      "dtypes: int64(1)\n",
      "memory usage: 69.0 KB\n"
     ]
    }
   ],
   "source": [
    "data = data.resample('1H').sum()\n",
    "data.info()"
   ]
  },
  {
   "cell_type": "code",
   "execution_count": 6,
   "metadata": {},
   "outputs": [
    {
     "data": {
      "text/html": [
       "<div>\n",
       "<style scoped>\n",
       "    .dataframe tbody tr th:only-of-type {\n",
       "        vertical-align: middle;\n",
       "    }\n",
       "\n",
       "    .dataframe tbody tr th {\n",
       "        vertical-align: top;\n",
       "    }\n",
       "\n",
       "    .dataframe thead th {\n",
       "        text-align: right;\n",
       "    }\n",
       "</style>\n",
       "<table border=\"1\" class=\"dataframe\">\n",
       "  <thead>\n",
       "    <tr style=\"text-align: right;\">\n",
       "      <th></th>\n",
       "      <th>num_orders</th>\n",
       "    </tr>\n",
       "    <tr>\n",
       "      <th>datetime</th>\n",
       "      <th></th>\n",
       "    </tr>\n",
       "  </thead>\n",
       "  <tbody>\n",
       "    <tr>\n",
       "      <th>2018-03-01 00:00:00</th>\n",
       "      <td>124</td>\n",
       "    </tr>\n",
       "    <tr>\n",
       "      <th>2018-03-01 01:00:00</th>\n",
       "      <td>85</td>\n",
       "    </tr>\n",
       "    <tr>\n",
       "      <th>2018-03-01 02:00:00</th>\n",
       "      <td>71</td>\n",
       "    </tr>\n",
       "  </tbody>\n",
       "</table>\n",
       "</div>"
      ],
      "text/plain": [
       "                     num_orders\n",
       "datetime                       \n",
       "2018-03-01 00:00:00         124\n",
       "2018-03-01 01:00:00          85\n",
       "2018-03-01 02:00:00          71"
      ]
     },
     "execution_count": 6,
     "metadata": {},
     "output_type": "execute_result"
    }
   ],
   "source": [
    "data.head(3)"
   ]
  },
  {
   "cell_type": "markdown",
   "metadata": {},
   "source": [
    "- данные **сгруппированы** по 1 часу"
   ]
  },
  {
   "cell_type": "markdown",
   "metadata": {},
   "source": [
    "## Анализ"
   ]
  },
  {
   "cell_type": "markdown",
   "metadata": {},
   "source": [
    "### Выделим и изучим тренд, сезонные колебания и шум"
   ]
  },
  {
   "cell_type": "code",
   "execution_count": 7,
   "metadata": {},
   "outputs": [],
   "source": [
    "decomposed_hourly = seasonal_decompose(data)"
   ]
  },
  {
   "cell_type": "code",
   "execution_count": 8,
   "metadata": {},
   "outputs": [],
   "source": [
    "decomposed_daily = seasonal_decompose(data.resample('1D').sum())"
   ]
  },
  {
   "cell_type": "code",
   "execution_count": 9,
   "metadata": {},
   "outputs": [
    {
     "data": {
      "image/png": "[encoded data removed]",
      "text/plain": [
       "<Figure size 720x1008 with 4 Axes>"
      ]
     },
     "metadata": {
      "needs_background": "light"
     },
     "output_type": "display_data"
    }
   ],
   "source": [
    "plt.figure(figsize=(10, 14))\n",
    "\n",
    "plt.subplot(411)\n",
    "decomposed_daily.trend.plot(ax=plt.gca(), \n",
    "                      xlabel = 'Месяцы',\n",
    "                      ylabel = 'Динамика количества заказов',\n",
    "                      grid = True)\n",
    "plt.title('Динамика среднего дневного количества заказов по месяцам')\n",
    "\n",
    "plt.subplot(412)\n",
    "decomposed_daily.seasonal['2018-05-07':'2018-05-28'].plot(\n",
    "                      ax=plt.gca(),\n",
    "                      #kind = 'bar',\n",
    "                      xlabel = 'Дни',\n",
    "                      ylabel = 'Изменение количества заказов',\n",
    "                      grid = True)\n",
    "plt.grid(True)\n",
    "plt.title('Колебания дневного количества заказов в течение месяца')\n",
    "\n",
    "\n",
    "\n",
    "plt.subplot(413)\n",
    "decomposed_hourly.seasonal['2018-05-07':'2018-05-08'].plot(ax=plt.gca(),\n",
    "                      xlabel = 'Часы',\n",
    "                      ylabel = 'Изменение количества заказов',\n",
    "                      grid = True)\n",
    "plt.title('Колебания почасового количества заказов')\n",
    "\n",
    "\n",
    "\n",
    "plt.subplot(414)\n",
    "decomposed_daily.resid.plot(ax=plt.gca(),\n",
    "                      xlabel = 'Месяцы',\n",
    "                      ylabel = 'Изменение количества заказов',\n",
    "                      grid = True)\n",
    "plt.title('Динамика дневного шума по месяцам')\n",
    "plt.tight_layout()"
   ]
  },
  {
   "cell_type": "markdown",
   "metadata": {},
   "source": [
    "- **тренд** показывает **существенный рост** количества заказов к концу исследуемого периода\n",
    "\n",
    "\n",
    "- **сезонные колебания** зависят от **дня недели** и от **времени суток**:\n",
    "    - по дням недели **наибольшее** количество заказов поступает в понедельник и в пятницу\n",
    "    - **наименьшее** количество заказов поступает во вторник и воскресенье\n",
    "    - в течение суток **наибольшее** количество заказов поступает в районе 0/24 часов, затем падает до **минимума** к 6 часам утра, затем постепенно растет к 10 часам, затем снова уменьшается к 12, после чего идет второй пик в районе 17 часов\n",
    "    \n",
    "    подобная динамика связана с тем, что данные представляют собой количество заказов такси в аэропорту и отражают динамику авиарейсов - в основном перелеты совершаются с деловыми целями, поэтому пики в понедельник и пятницу, ночью количество заказов выше, так как не работает общественный транспорт\n",
    "\n",
    "\n",
    "- амплитуда **шумов** в целом **стабильна**"
   ]
  },
  {
   "cell_type": "markdown",
   "metadata": {},
   "source": [
    "### Изучим стационарность ряда"
   ]
  },
  {
   "cell_type": "code",
   "execution_count": 10,
   "metadata": {},
   "outputs": [
    {
     "data": {
      "image/png": "[encoded data removed]",
      "text/plain": [
       "<Figure size 864x288 with 1 Axes>"
      ]
     },
     "metadata": {
      "needs_background": "light"
     },
     "output_type": "display_data"
    }
   ],
   "source": [
    "data['rolling_mean'] = data.rolling(100).mean()\n",
    "# < напишите код здесь >\n",
    "data.plot(figsize = (12, 4),\n",
    "         grid = True,\n",
    "         xlabel = 'Месяцы',\n",
    "         ylabel = 'Количество заказов',\n",
    "         title = 'Динамика количества заказов \\\n",
    "по месяцам и скользящее среднее');"
   ]
  },
  {
   "cell_type": "markdown",
   "metadata": {},
   "source": [
    "- имеется устойчивая динамика роста среднего количества заказов к концу изучаемого периода (в три раза), временной ряд **не стационарен**"
   ]
  },
  {
   "cell_type": "markdown",
   "metadata": {},
   "source": [
    "- таким образом, необходимо создать следующие признаки, характеризующие время:\n",
    "    \n",
    "    - день месяца\n",
    "    - день недели\n",
    "    - час\n",
    "    \n",
    "- а также несколько признаков отстающих значений и скользящее среднее"
   ]
  },
  {
   "cell_type": "markdown",
   "metadata": {},
   "source": [
    "## Обучение"
   ]
  },
  {
   "cell_type": "markdown",
   "metadata": {},
   "source": [
    "### Создадим признаки и выборки для обучения модели"
   ]
  },
  {
   "cell_type": "markdown",
   "metadata": {},
   "source": [
    "#### Создадим `календарные` признаки"
   ]
  },
  {
   "cell_type": "code",
   "execution_count": 11,
   "metadata": {},
   "outputs": [],
   "source": [
    "#data['month'] = data.index.month"
   ]
  },
  {
   "cell_type": "code",
   "execution_count": 12,
   "metadata": {},
   "outputs": [],
   "source": [
    "data['day'] = data.index.day\n",
    "data['dayofweek'] = data.index.dayofweek\n",
    "data['hour'] = data.index.hour"
   ]
  },
  {
   "cell_type": "markdown",
   "metadata": {},
   "source": [
    "#### Обьявим функцию `make_features_and_split` для создания признаков отстающих значений и скользящего среднего  обучения моделей и `обучающей` и `тестовой` выборок"
   ]
  },
  {
   "cell_type": "code",
   "execution_count": 13,
   "metadata": {},
   "outputs": [],
   "source": [
    "def make_features_and_split(init_data, max_lag, rolling_mean_size):\n",
    "    \n",
    "    features = pd.DataFrame(init_data.values,\n",
    "    index = init_data.index,\n",
    "    columns = init_data.columns)\n",
    "    \n",
    "    features['rolling_mean'] = features[\n",
    "        'num_orders'].shift().rolling(rolling_mean_size).mean()\n",
    "    \n",
    "    \n",
    "    for lag in range(1, max_lag + 1):\n",
    "        features['lag_{}'.format(lag)] = features[\n",
    "            'num_orders'].shift(lag)\n",
    "        \n",
    "    \n",
    "    features = features.dropna()\n",
    "    \n",
    "    target = features['num_orders']\n",
    "    features = features.drop('num_orders', axis = 1)\n",
    "   \n",
    "\n",
    "    features_train, features_test, \\\n",
    "    target_train, target_test = train_test_split(\n",
    "                features, target, \n",
    "                random_state = 190923, \n",
    "                shuffle=False, test_size=0.1)\n",
    "    \n",
    "    \n",
    "    return features_train, features_test, \\\n",
    "    target_train, target_test"
   ]
  },
  {
   "cell_type": "markdown",
   "metadata": {},
   "source": [
    "#### Объявим функцию `features_tune` для подбора оптимальных признаков, дающих наименьшее значение метрики `RMSE`, полученной методом `кросс-валидации` на модели `LinearRegression`"
   ]
  },
  {
   "cell_type": "code",
   "execution_count": 14,
   "metadata": {},
   "outputs": [],
   "source": [
    "def features_tune(init_data, min_lag, max_lag, lag_step,\n",
    "    min_size, max_size, size_step):\n",
    "    \n",
    "                \n",
    "    model = LinearRegression()\n",
    "    \n",
    "    best_lag = 1\n",
    "    best_size = 1\n",
    "    best_rmse = 1000000\n",
    "    rmse = 10000\n",
    "    \n",
    "    for lag in range(min_lag, max_lag + 1, lag_step):\n",
    "        for size in range(min_size, max_size + 1, size_step):\n",
    "        \n",
    "            features_train, features_test, \\\n",
    "            target_train, target_test = make_features_and_split(\n",
    "            init_data, lag, size)\n",
    "            \n",
    "     #Зададим разделение выборок \n",
    "    \n",
    "            tscv = TimeSeriesSplit(n_splits=5)\n",
    "      \n",
    "    # Посчитаем значение RMSE по результатам кросс-валидации\n",
    "    \n",
    "            score = cross_val_score(\n",
    "            model, features_train, target_train,\n",
    "            n_jobs = -1, cv=tscv, scoring = 'neg_mean_squared_error')\n",
    "            \n",
    "            rmse = round((-1*score.mean()) ** 0.5, 2)\n",
    "            \n",
    "            if rmse < best_rmse:\n",
    "                best_rmse = rmse\n",
    "                best_lag = lag\n",
    "                best_size = size\n",
    "            \n",
    "            #print('rmse:', rmse, 'lag:', lag, \n",
    "             #     'size:', size, end = '\\r')\n",
    "                  \n",
    "            print('rmse: {}, lag: {}, size: {}      '.format(\n",
    "                rmse, lag, size), end = '\\r')\n",
    "                        \n",
    "    return best_rmse, best_lag, best_size"
   ]
  },
  {
   "cell_type": "code",
   "execution_count": 15,
   "metadata": {},
   "outputs": [
    {
     "name": "stdout",
     "output_type": "stream",
     "text": [
      "rmse: 22.85, lag: 169, size: 4      \r\n",
      "RMSE полученный методом кросс-валидации: 22.85 \n",
      "Количество признаков с историческими данными: 169 \n",
      "Ширина окна для расчета скользящей средней: 4\n"
     ]
    }
   ],
   "source": [
    "best_rmse, best_lag, best_size = features_tune(data,\n",
    "    min_lag = 169, max_lag = 169, lag_step = 1,\n",
    "    min_size = 4, max_size = 4, size_step = 1)\n",
    "print('\\nRMSE полученный методом кросс-валидации:', best_rmse,\n",
    "      '\\nКоличество признаков с историческими данными:', best_lag,\n",
    "      '\\nШирина окна для расчета скользящей средней:', best_size)"
   ]
  },
  {
   "cell_type": "markdown",
   "metadata": {
    "scrolled": true
   },
   "source": [
    "- для достижения минимального значения `RMSE = 22.85` дополнительно к `календарным` признакам необходимо создать 169 признаков `отстающих значений` и признак `скользящего среднего` с шириной окна равной 4 час"
   ]
  },
  {
   "cell_type": "markdown",
   "metadata": {
    "scrolled": true
   },
   "source": [
    "   "
   ]
  },
  {
   "cell_type": "markdown",
   "metadata": {},
   "source": [
    "### Создадим выборки с найденными признаками, обеспечивающими наилучшее значение метрики `RMSE` для модели `LinearRegression`"
   ]
  },
  {
   "cell_type": "code",
   "execution_count": 16,
   "metadata": {},
   "outputs": [],
   "source": [
    "features_train, features_test, \\\n",
    "target_train, target_test = make_features_and_split(\n",
    "data, best_lag, best_size)"
   ]
  },
  {
   "cell_type": "code",
   "execution_count": 17,
   "metadata": {},
   "outputs": [
    {
     "data": {
      "text/html": [
       "<div>\n",
       "<style scoped>\n",
       "    .dataframe tbody tr th:only-of-type {\n",
       "        vertical-align: middle;\n",
       "    }\n",
       "\n",
       "    .dataframe tbody tr th {\n",
       "        vertical-align: top;\n",
       "    }\n",
       "\n",
       "    .dataframe thead th {\n",
       "        text-align: right;\n",
       "    }\n",
       "</style>\n",
       "<table border=\"1\" class=\"dataframe\">\n",
       "  <thead>\n",
       "    <tr style=\"text-align: right;\">\n",
       "      <th></th>\n",
       "      <th>rolling_mean</th>\n",
       "      <th>day</th>\n",
       "      <th>dayofweek</th>\n",
       "      <th>hour</th>\n",
       "      <th>lag_1</th>\n",
       "      <th>lag_2</th>\n",
       "      <th>lag_3</th>\n",
       "      <th>lag_4</th>\n",
       "      <th>lag_5</th>\n",
       "      <th>lag_6</th>\n",
       "      <th>...</th>\n",
       "      <th>lag_160</th>\n",
       "      <th>lag_161</th>\n",
       "      <th>lag_162</th>\n",
       "      <th>lag_163</th>\n",
       "      <th>lag_164</th>\n",
       "      <th>lag_165</th>\n",
       "      <th>lag_166</th>\n",
       "      <th>lag_167</th>\n",
       "      <th>lag_168</th>\n",
       "      <th>lag_169</th>\n",
       "    </tr>\n",
       "    <tr>\n",
       "      <th>datetime</th>\n",
       "      <th></th>\n",
       "      <th></th>\n",
       "      <th></th>\n",
       "      <th></th>\n",
       "      <th></th>\n",
       "      <th></th>\n",
       "      <th></th>\n",
       "      <th></th>\n",
       "      <th></th>\n",
       "      <th></th>\n",
       "      <th></th>\n",
       "      <th></th>\n",
       "      <th></th>\n",
       "      <th></th>\n",
       "      <th></th>\n",
       "      <th></th>\n",
       "      <th></th>\n",
       "      <th></th>\n",
       "      <th></th>\n",
       "      <th></th>\n",
       "      <th></th>\n",
       "    </tr>\n",
       "  </thead>\n",
       "  <tbody>\n",
       "    <tr>\n",
       "      <th>2018-03-08 01:00:00</th>\n",
       "      <td>118.0</td>\n",
       "      <td>8.0</td>\n",
       "      <td>3.0</td>\n",
       "      <td>1.0</td>\n",
       "      <td>143.0</td>\n",
       "      <td>94.0</td>\n",
       "      <td>127.0</td>\n",
       "      <td>108.0</td>\n",
       "      <td>76.0</td>\n",
       "      <td>50.0</td>\n",
       "      <td>...</td>\n",
       "      <td>69.0</td>\n",
       "      <td>34.0</td>\n",
       "      <td>15.0</td>\n",
       "      <td>12.0</td>\n",
       "      <td>6.0</td>\n",
       "      <td>43.0</td>\n",
       "      <td>66.0</td>\n",
       "      <td>71.0</td>\n",
       "      <td>85.0</td>\n",
       "      <td>124.0</td>\n",
       "    </tr>\n",
       "    <tr>\n",
       "      <th>2018-03-08 02:00:00</th>\n",
       "      <td>110.5</td>\n",
       "      <td>8.0</td>\n",
       "      <td>3.0</td>\n",
       "      <td>2.0</td>\n",
       "      <td>78.0</td>\n",
       "      <td>143.0</td>\n",
       "      <td>94.0</td>\n",
       "      <td>127.0</td>\n",
       "      <td>108.0</td>\n",
       "      <td>76.0</td>\n",
       "      <td>...</td>\n",
       "      <td>64.0</td>\n",
       "      <td>69.0</td>\n",
       "      <td>34.0</td>\n",
       "      <td>15.0</td>\n",
       "      <td>12.0</td>\n",
       "      <td>6.0</td>\n",
       "      <td>43.0</td>\n",
       "      <td>66.0</td>\n",
       "      <td>71.0</td>\n",
       "      <td>85.0</td>\n",
       "    </tr>\n",
       "  </tbody>\n",
       "</table>\n",
       "<p>2 rows × 173 columns</p>\n",
       "</div>"
      ],
      "text/plain": [
       "                     rolling_mean  day  dayofweek  hour  lag_1  lag_2  lag_3  \\\n",
       "datetime                                                                       \n",
       "2018-03-08 01:00:00         118.0  8.0        3.0   1.0  143.0   94.0  127.0   \n",
       "2018-03-08 02:00:00         110.5  8.0        3.0   2.0   78.0  143.0   94.0   \n",
       "\n",
       "                     lag_4  lag_5  lag_6  ...  lag_160  lag_161  lag_162  \\\n",
       "datetime                                  ...                              \n",
       "2018-03-08 01:00:00  108.0   76.0   50.0  ...     69.0     34.0     15.0   \n",
       "2018-03-08 02:00:00  127.0  108.0   76.0  ...     64.0     69.0     34.0   \n",
       "\n",
       "                     lag_163  lag_164  lag_165  lag_166  lag_167  lag_168  \\\n",
       "datetime                                                                    \n",
       "2018-03-08 01:00:00     12.0      6.0     43.0     66.0     71.0     85.0   \n",
       "2018-03-08 02:00:00     15.0     12.0      6.0     43.0     66.0     71.0   \n",
       "\n",
       "                     lag_169  \n",
       "datetime                      \n",
       "2018-03-08 01:00:00    124.0  \n",
       "2018-03-08 02:00:00     85.0  \n",
       "\n",
       "[2 rows x 173 columns]"
      ]
     },
     "metadata": {},
     "output_type": "display_data"
    },
    {
     "data": {
      "text/plain": [
       "(3822, 173)"
      ]
     },
     "metadata": {},
     "output_type": "display_data"
    },
    {
     "data": {
      "text/html": [
       "<div>\n",
       "<style scoped>\n",
       "    .dataframe tbody tr th:only-of-type {\n",
       "        vertical-align: middle;\n",
       "    }\n",
       "\n",
       "    .dataframe tbody tr th {\n",
       "        vertical-align: top;\n",
       "    }\n",
       "\n",
       "    .dataframe thead th {\n",
       "        text-align: right;\n",
       "    }\n",
       "</style>\n",
       "<table border=\"1\" class=\"dataframe\">\n",
       "  <thead>\n",
       "    <tr style=\"text-align: right;\">\n",
       "      <th></th>\n",
       "      <th>rolling_mean</th>\n",
       "      <th>day</th>\n",
       "      <th>dayofweek</th>\n",
       "      <th>hour</th>\n",
       "      <th>lag_1</th>\n",
       "      <th>lag_2</th>\n",
       "      <th>lag_3</th>\n",
       "      <th>lag_4</th>\n",
       "      <th>lag_5</th>\n",
       "      <th>lag_6</th>\n",
       "      <th>...</th>\n",
       "      <th>lag_160</th>\n",
       "      <th>lag_161</th>\n",
       "      <th>lag_162</th>\n",
       "      <th>lag_163</th>\n",
       "      <th>lag_164</th>\n",
       "      <th>lag_165</th>\n",
       "      <th>lag_166</th>\n",
       "      <th>lag_167</th>\n",
       "      <th>lag_168</th>\n",
       "      <th>lag_169</th>\n",
       "    </tr>\n",
       "    <tr>\n",
       "      <th>datetime</th>\n",
       "      <th></th>\n",
       "      <th></th>\n",
       "      <th></th>\n",
       "      <th></th>\n",
       "      <th></th>\n",
       "      <th></th>\n",
       "      <th></th>\n",
       "      <th></th>\n",
       "      <th></th>\n",
       "      <th></th>\n",
       "      <th></th>\n",
       "      <th></th>\n",
       "      <th></th>\n",
       "      <th></th>\n",
       "      <th></th>\n",
       "      <th></th>\n",
       "      <th></th>\n",
       "      <th></th>\n",
       "      <th></th>\n",
       "      <th></th>\n",
       "      <th></th>\n",
       "    </tr>\n",
       "  </thead>\n",
       "  <tbody>\n",
       "    <tr>\n",
       "      <th>2018-08-14 05:00:00</th>\n",
       "      <td>167.0</td>\n",
       "      <td>14.0</td>\n",
       "      <td>1.0</td>\n",
       "      <td>5.0</td>\n",
       "      <td>139.0</td>\n",
       "      <td>190.0</td>\n",
       "      <td>108.0</td>\n",
       "      <td>231.0</td>\n",
       "      <td>139.0</td>\n",
       "      <td>134.0</td>\n",
       "      <td>...</td>\n",
       "      <td>100.0</td>\n",
       "      <td>115.0</td>\n",
       "      <td>71.0</td>\n",
       "      <td>99.0</td>\n",
       "      <td>120.0</td>\n",
       "      <td>79.0</td>\n",
       "      <td>44.0</td>\n",
       "      <td>46.0</td>\n",
       "      <td>50.0</td>\n",
       "      <td>108.0</td>\n",
       "    </tr>\n",
       "    <tr>\n",
       "      <th>2018-08-14 06:00:00</th>\n",
       "      <td>121.0</td>\n",
       "      <td>14.0</td>\n",
       "      <td>1.0</td>\n",
       "      <td>6.0</td>\n",
       "      <td>47.0</td>\n",
       "      <td>139.0</td>\n",
       "      <td>190.0</td>\n",
       "      <td>108.0</td>\n",
       "      <td>231.0</td>\n",
       "      <td>139.0</td>\n",
       "      <td>...</td>\n",
       "      <td>74.0</td>\n",
       "      <td>100.0</td>\n",
       "      <td>115.0</td>\n",
       "      <td>71.0</td>\n",
       "      <td>99.0</td>\n",
       "      <td>120.0</td>\n",
       "      <td>79.0</td>\n",
       "      <td>44.0</td>\n",
       "      <td>46.0</td>\n",
       "      <td>50.0</td>\n",
       "    </tr>\n",
       "  </tbody>\n",
       "</table>\n",
       "<p>2 rows × 173 columns</p>\n",
       "</div>"
      ],
      "text/plain": [
       "                     rolling_mean   day  dayofweek  hour  lag_1  lag_2  lag_3  \\\n",
       "datetime                                                                        \n",
       "2018-08-14 05:00:00         167.0  14.0        1.0   5.0  139.0  190.0  108.0   \n",
       "2018-08-14 06:00:00         121.0  14.0        1.0   6.0   47.0  139.0  190.0   \n",
       "\n",
       "                     lag_4  lag_5  lag_6  ...  lag_160  lag_161  lag_162  \\\n",
       "datetime                                  ...                              \n",
       "2018-08-14 05:00:00  231.0  139.0  134.0  ...    100.0    115.0     71.0   \n",
       "2018-08-14 06:00:00  108.0  231.0  139.0  ...     74.0    100.0    115.0   \n",
       "\n",
       "                     lag_163  lag_164  lag_165  lag_166  lag_167  lag_168  \\\n",
       "datetime                                                                    \n",
       "2018-08-14 05:00:00     99.0    120.0     79.0     44.0     46.0     50.0   \n",
       "2018-08-14 06:00:00     71.0     99.0    120.0     79.0     44.0     46.0   \n",
       "\n",
       "                     lag_169  \n",
       "datetime                      \n",
       "2018-08-14 05:00:00    108.0  \n",
       "2018-08-14 06:00:00     50.0  \n",
       "\n",
       "[2 rows x 173 columns]"
      ]
     },
     "metadata": {},
     "output_type": "display_data"
    },
    {
     "data": {
      "text/html": [
       "<div>\n",
       "<style scoped>\n",
       "    .dataframe tbody tr th:only-of-type {\n",
       "        vertical-align: middle;\n",
       "    }\n",
       "\n",
       "    .dataframe tbody tr th {\n",
       "        vertical-align: top;\n",
       "    }\n",
       "\n",
       "    .dataframe thead th {\n",
       "        text-align: right;\n",
       "    }\n",
       "</style>\n",
       "<table border=\"1\" class=\"dataframe\">\n",
       "  <thead>\n",
       "    <tr style=\"text-align: right;\">\n",
       "      <th></th>\n",
       "      <th>rolling_mean</th>\n",
       "      <th>day</th>\n",
       "      <th>dayofweek</th>\n",
       "      <th>hour</th>\n",
       "      <th>lag_1</th>\n",
       "      <th>lag_2</th>\n",
       "      <th>lag_3</th>\n",
       "      <th>lag_4</th>\n",
       "      <th>lag_5</th>\n",
       "      <th>lag_6</th>\n",
       "      <th>...</th>\n",
       "      <th>lag_160</th>\n",
       "      <th>lag_161</th>\n",
       "      <th>lag_162</th>\n",
       "      <th>lag_163</th>\n",
       "      <th>lag_164</th>\n",
       "      <th>lag_165</th>\n",
       "      <th>lag_166</th>\n",
       "      <th>lag_167</th>\n",
       "      <th>lag_168</th>\n",
       "      <th>lag_169</th>\n",
       "    </tr>\n",
       "    <tr>\n",
       "      <th>datetime</th>\n",
       "      <th></th>\n",
       "      <th></th>\n",
       "      <th></th>\n",
       "      <th></th>\n",
       "      <th></th>\n",
       "      <th></th>\n",
       "      <th></th>\n",
       "      <th></th>\n",
       "      <th></th>\n",
       "      <th></th>\n",
       "      <th></th>\n",
       "      <th></th>\n",
       "      <th></th>\n",
       "      <th></th>\n",
       "      <th></th>\n",
       "      <th></th>\n",
       "      <th></th>\n",
       "      <th></th>\n",
       "      <th></th>\n",
       "      <th></th>\n",
       "      <th></th>\n",
       "    </tr>\n",
       "  </thead>\n",
       "  <tbody>\n",
       "    <tr>\n",
       "      <th>2018-08-14 07:00:00</th>\n",
       "      <td>105.25</td>\n",
       "      <td>14.0</td>\n",
       "      <td>1.0</td>\n",
       "      <td>7.0</td>\n",
       "      <td>45.0</td>\n",
       "      <td>47.0</td>\n",
       "      <td>139.0</td>\n",
       "      <td>190.0</td>\n",
       "      <td>108.0</td>\n",
       "      <td>231.0</td>\n",
       "      <td>...</td>\n",
       "      <td>111.0</td>\n",
       "      <td>74.0</td>\n",
       "      <td>100.0</td>\n",
       "      <td>115.0</td>\n",
       "      <td>71.0</td>\n",
       "      <td>99.0</td>\n",
       "      <td>120.0</td>\n",
       "      <td>79.0</td>\n",
       "      <td>44.0</td>\n",
       "      <td>46.0</td>\n",
       "    </tr>\n",
       "    <tr>\n",
       "      <th>2018-08-14 08:00:00</th>\n",
       "      <td>71.25</td>\n",
       "      <td>14.0</td>\n",
       "      <td>1.0</td>\n",
       "      <td>8.0</td>\n",
       "      <td>54.0</td>\n",
       "      <td>45.0</td>\n",
       "      <td>47.0</td>\n",
       "      <td>139.0</td>\n",
       "      <td>190.0</td>\n",
       "      <td>108.0</td>\n",
       "      <td>...</td>\n",
       "      <td>99.0</td>\n",
       "      <td>111.0</td>\n",
       "      <td>74.0</td>\n",
       "      <td>100.0</td>\n",
       "      <td>115.0</td>\n",
       "      <td>71.0</td>\n",
       "      <td>99.0</td>\n",
       "      <td>120.0</td>\n",
       "      <td>79.0</td>\n",
       "      <td>44.0</td>\n",
       "    </tr>\n",
       "  </tbody>\n",
       "</table>\n",
       "<p>2 rows × 173 columns</p>\n",
       "</div>"
      ],
      "text/plain": [
       "                     rolling_mean   day  dayofweek  hour  lag_1  lag_2  lag_3  \\\n",
       "datetime                                                                        \n",
       "2018-08-14 07:00:00        105.25  14.0        1.0   7.0   45.0   47.0  139.0   \n",
       "2018-08-14 08:00:00         71.25  14.0        1.0   8.0   54.0   45.0   47.0   \n",
       "\n",
       "                     lag_4  lag_5  lag_6  ...  lag_160  lag_161  lag_162  \\\n",
       "datetime                                  ...                              \n",
       "2018-08-14 07:00:00  190.0  108.0  231.0  ...    111.0     74.0    100.0   \n",
       "2018-08-14 08:00:00  139.0  190.0  108.0  ...     99.0    111.0     74.0   \n",
       "\n",
       "                     lag_163  lag_164  lag_165  lag_166  lag_167  lag_168  \\\n",
       "datetime                                                                    \n",
       "2018-08-14 07:00:00    115.0     71.0     99.0    120.0     79.0     44.0   \n",
       "2018-08-14 08:00:00    100.0    115.0     71.0     99.0    120.0     79.0   \n",
       "\n",
       "                     lag_169  \n",
       "datetime                      \n",
       "2018-08-14 07:00:00     46.0  \n",
       "2018-08-14 08:00:00     44.0  \n",
       "\n",
       "[2 rows x 173 columns]"
      ]
     },
     "metadata": {},
     "output_type": "display_data"
    },
    {
     "data": {
      "text/plain": [
       "(425, 173)"
      ]
     },
     "metadata": {},
     "output_type": "display_data"
    },
    {
     "data": {
      "text/plain": [
       "datetime\n",
       "2018-03-08 01:00:00    78.0\n",
       "2018-03-08 02:00:00    65.0\n",
       "Freq: H, Name: num_orders, dtype: float64"
      ]
     },
     "metadata": {},
     "output_type": "display_data"
    },
    {
     "data": {
      "text/plain": [
       "(3822,)"
      ]
     },
     "metadata": {},
     "output_type": "display_data"
    },
    {
     "data": {
      "text/plain": [
       "datetime\n",
       "2018-08-14 05:00:00    47.0\n",
       "2018-08-14 06:00:00    45.0\n",
       "Freq: H, Name: num_orders, dtype: float64"
      ]
     },
     "metadata": {},
     "output_type": "display_data"
    },
    {
     "data": {
      "text/plain": [
       "datetime\n",
       "2018-08-14 07:00:00    54.0\n",
       "2018-08-14 08:00:00    91.0\n",
       "Freq: H, Name: num_orders, dtype: float64"
      ]
     },
     "metadata": {},
     "output_type": "display_data"
    },
    {
     "data": {
      "text/plain": [
       "(425,)"
      ]
     },
     "metadata": {},
     "output_type": "display_data"
    }
   ],
   "source": [
    "display(features_train.head(2), features_train.shape,\n",
    "        features_train.tail(2),\n",
    "        features_test.head(2), features_test.shape)\n",
    "display(target_train.head(2), target_train.shape,\n",
    "        target_train.tail(2),\n",
    "        target_test.head(2), target_test.shape)"
   ]
  },
  {
   "cell_type": "markdown",
   "metadata": {},
   "source": [
    "- необходимые признаки **созданы**\n",
    "- выборки **разделены** на `обучающую` и `тестовую`"
   ]
  },
  {
   "cell_type": "markdown",
   "metadata": {},
   "source": [
    "### Обучим модель `RandomForestRegressor` на созданной `обучающей` выборке и подберем оптимальные гиперпараметры методом `кросс-валидации`"
   ]
  },
  {
   "cell_type": "code",
   "execution_count": 18,
   "metadata": {},
   "outputs": [],
   "source": [
    "param_grid = {\n",
    "    'n_estimators': [110], # 110 [1 - 310],\n",
    "    'max_depth': [6], # 7 [1 - 10],\n",
    "    'min_samples_leaf': [7], # 8 [1 - 30]\\n\",\n",
    "    'min_samples_split': [38], # 39 [2 - 50]\\n\",\n",
    "    }"
   ]
  },
  {
   "cell_type": "code",
   "execution_count": 19,
   "metadata": {},
   "outputs": [],
   "source": [
    "rfr = RandomForestRegressor(random_state = 190923,\n",
    "                     n_jobs = -1,\n",
    "                    warm_start = True)\n",
    "\n",
    "tscv = TimeSeriesSplit(n_splits=5)\n",
    "\n",
    "rfr_gscv_model = GridSearchCV(rfr,\n",
    "             param_grid, cv = tscv, n_jobs = -1, \n",
    "             scoring = 'neg_mean_squared_error')"
   ]
  },
  {
   "cell_type": "code",
   "execution_count": 20,
   "metadata": {
    "scrolled": true
   },
   "outputs": [],
   "source": [
    "rfr_gscv_model.fit(features_train, target_train);"
   ]
  },
  {
   "cell_type": "code",
   "execution_count": 21,
   "metadata": {
    "scrolled": true
   },
   "outputs": [
    {
     "data": {
      "text/plain": [
       "RandomForestRegressor(max_depth=6, min_samples_leaf=7, min_samples_split=38,\n",
       "                      n_estimators=110, n_jobs=-1, random_state=190923,\n",
       "                      warm_start=True)"
      ]
     },
     "execution_count": 21,
     "metadata": {},
     "output_type": "execute_result"
    }
   ],
   "source": [
    "rfr_gscv_model.best_estimator_"
   ]
  },
  {
   "cell_type": "code",
   "execution_count": 22,
   "metadata": {},
   "outputs": [
    {
     "data": {
      "text/plain": [
       "23.56"
      ]
     },
     "execution_count": 22,
     "metadata": {},
     "output_type": "execute_result"
    }
   ],
   "source": [
    "rfr_cv_rmse = round(\n",
    "     (-1 * rfr_gscv_model.best_score_)**0.5, 2)\n",
    "rfr_cv_rmse"
   ]
  },
  {
   "cell_type": "markdown",
   "metadata": {},
   "source": [
    "- наилучший результат метрики `RMSE`, который показала модель `RandomForestRegressor` при обучении и тестировании методом `кросс-валидации`: 23.56, что **хуже**, чем у модели `LinearRegression`"
   ]
  },
  {
   "cell_type": "markdown",
   "metadata": {},
   "source": [
    "### Обучим и проверим методом кросс-валидации модель `LightGBM`"
   ]
  },
  {
   "cell_type": "markdown",
   "metadata": {},
   "source": [
    "#### Создадим датасеты для обучения и кросс-валидации модели `LightGBM`"
   ]
  },
  {
   "cell_type": "code",
   "execution_count": 23,
   "metadata": {},
   "outputs": [],
   "source": [
    "lgb_train = lgb.Dataset(features_train, target_train)"
   ]
  },
  {
   "cell_type": "markdown",
   "metadata": {},
   "source": [
    "#### Объявим функцию `lgb_cv_rmse`, которая рассчитывает метрику `RMSE` методом `кросс-валидации` при заданных гиперпараметрах"
   ]
  },
  {
   "cell_type": "code",
   "execution_count": 24,
   "metadata": {},
   "outputs": [],
   "source": [
    "def lgb_cv_rmse(num_leaves, max_depth, learning_rate):\n",
    "    params = {\n",
    "        # Задал random_state\n",
    "    'random_state': 190923,\n",
    "    'boosting_type': 'gbdt',\n",
    "    'objective': 'regression',\n",
    "    'metric': 'rmse',\n",
    "    'num_threads': 4,\n",
    "    'num_leaves': num_leaves,\n",
    "    'max_depth': max_depth,\n",
    "    'min_gain_to_split': 1,\n",
    "    'min_data_in_leaf': 50,\n",
    "    'min_sum_hessian_in_leaf': 100,\n",
    "    'learning_rate': learning_rate,\n",
    "    'feature_fraction': 0.9,\n",
    "    'bagging_fraction': 0.8,\n",
    "    'bagging_freq': 5,\n",
    "    'verbose': -1,\n",
    "    'force_row_wise': 'True', \n",
    "    'device_type': 'cpu'\n",
    "    }\n",
    "    \n",
    "    lgb_model = lgb.train(params, lgb_train)\n",
    "    \n",
    "    # Задаем параметры разделения выборки на подвыборки\n",
    "    tscv = TimeSeriesSplit(n_splits=5)\n",
    "    \n",
    "    # Считаем cv_rmse\n",
    "    lgb_cv_score = lgb.cv(params, lgb_train,\n",
    "                    num_boost_round=20,\n",
    "                    folds = tscv,\n",
    "                    nfold=5,\n",
    "                    shuffle = False)\n",
    "    \n",
    "    rmse = round(np.array(\n",
    "    lgb_cv_score['rmse-mean']).mean(), 2)\n",
    "        \n",
    "    return rmse"
   ]
  },
  {
   "cell_type": "markdown",
   "metadata": {},
   "source": [
    "#### Объявим функцию `lgb_tune` для настойки гиперпараметров модели `LightGBM`, при которых достигается наименьшее значение метрики `RMSE`, рассчитанной методом `кросс-валидации`\""
   ]
  },
  {
   "cell_type": "code",
   "execution_count": 25,
   "metadata": {},
   "outputs": [],
   "source": [
    "def lgb_tune(min_leaves, max_leaves, leaves_step,                     min_depth, max_depth, depth_step,\n",
    "    min_learning_rate, max_learning_rate,\n",
    "             learning_rate_step):\n",
    "             \n",
    "    best_rmse = 100000\n",
    "    best_num_leaves = 1\n",
    "    best_max_depth = 1\n",
    "    best_learning_rate = 0.1\n",
    "    \n",
    "    for leaves in range(min_leaves, max_leaves +1, leaves_step):\n",
    "        for depth in range(min_depth, max_depth +1, depth_step):\n",
    "            for learning_rate in range(min_learning_rate,\n",
    "                                       max_learning_rate +1,\n",
    "                                       learning_rate_step):\n",
    "                learning_rate_float = learning_rate / 100\n",
    "                rmse = lgb_cv_rmse(leaves, depth, learning_rate_float)\n",
    "                if rmse < best_rmse:\n",
    "                    best_rmse = rmse\n",
    "                    best_num_leaves = leaves\n",
    "                    best_max_depth = depth\n",
    "                    best_learning_rate = learning_rate_float\n",
    "                \n",
    "                print('leaves', leaves, 'depth', depth,\n",
    "                      'learning_rate', learning_rate_float,\n",
    "                      'rmse', rmse, end = '\\r')\n",
    "                      \n",
    "    return best_rmse, best_num_leaves, best_max_depth, best_learning_rate"
   ]
  },
  {
   "cell_type": "markdown",
   "metadata": {},
   "source": [
    "#### Зададим границы гиперпараметров и проведем подбор"
   ]
  },
  {
   "cell_type": "code",
   "execution_count": 26,
   "metadata": {},
   "outputs": [
    {
     "name": "stdout",
     "output_type": "stream",
     "text": [
      "leaves 8 depth 3 learning_rate 0.5 rmse 24.51\r"
     ]
    }
   ],
   "source": [
    "best_rmse, best_num_leaves, best_max_depth, \\\n",
    "    best_learning_rate = lgb_tune(\n",
    "    min_leaves = 8, max_leaves = 8, leaves_step = 3,\n",
    "    min_depth = 3, max_depth = 3, depth_step = 1,\n",
    "    min_learning_rate = 50, max_learning_rate = 50,\n",
    "    learning_rate_step = 10)"
   ]
  },
  {
   "cell_type": "code",
   "execution_count": 27,
   "metadata": {},
   "outputs": [
    {
     "name": "stdout",
     "output_type": "stream",
     "text": [
      "\n",
      "Найденные методом кросс-валидации гиперпараметры, при которых достигается значение RMSE = 24.51 \n",
      " \n",
      "num_leaves: 8 \n",
      "max_depth: 3 \n",
      "learning_rate: 0.5\n"
     ]
    }
   ],
   "source": [
    " print('\\nНайденные методом кросс-валидации гиперпараметры, \\\n",
    " при которых достигается значение RMSE =', best_rmse, '\\n',\n",
    "    '\\nnum_leaves:', best_num_leaves,\n",
    "    '\\nmax_depth:', best_max_depth,\n",
    "    '\\nlearning_rate:', best_learning_rate)"
   ]
  },
  {
   "cell_type": "markdown",
   "metadata": {},
   "source": [
    "- найденное методом `кросс-валидации` значение метрики точности  `RMSE` = 24.51 **хуже**, чем у модели `LinearRegression`"
   ]
  },
  {
   "cell_type": "markdown",
   "metadata": {},
   "source": [
    "   "
   ]
  },
  {
   "cell_type": "markdown",
   "metadata": {},
   "source": [
    "### Выводы по результам обучения и проверки моделей методом `кросс-валидации`"
   ]
  },
  {
   "cell_type": "markdown",
   "metadata": {},
   "source": [
    "- в результате обучения и тестирования методом `кросс-валидации` на обучающей выборке моделей `LinearRegression`, `RandomForestRegressor` и  `LightGBM` **наилучшее** значение метрики точности `RMSE` = 22.85 показала модель `LinearRegression`\n",
    "\n",
    "- модель `LinearRegression` предлагается для дальнейшего тестирования в качестве модели для оперативного прогнозирования необходимого количества машин такси на линии"
   ]
  },
  {
   "cell_type": "markdown",
   "metadata": {},
   "source": [
    "## Тестирование"
   ]
  },
  {
   "cell_type": "markdown",
   "metadata": {},
   "source": [
    "### Найдем на `тестовой` выборке значение метрики `RMSE` модели `LinearRegression`, показавшей наилучшие результаты при обучении и тестировании методом `кросс-валидации`"
   ]
  },
  {
   "cell_type": "code",
   "execution_count": 28,
   "metadata": {},
   "outputs": [
    {
     "data": {
      "text/plain": [
       "34.4"
      ]
     },
     "execution_count": 28,
     "metadata": {},
     "output_type": "execute_result"
    }
   ],
   "source": [
    "lr_model = LinearRegression()\n",
    "lr_model.fit(features_train, target_train)\n",
    "lr_predictions_test = lr_model.predict(features_test)\n",
    "\n",
    "lr_rmse = round(mean_squared_error(target_test, \n",
    "                             lr_predictions_test) ** 0.5, 2)\n",
    "lr_rmse"
   ]
  },
  {
   "cell_type": "markdown",
   "metadata": {},
   "source": [
    "- значение метрики точности предсказания `RMSE` = **34.4**, полученной с применением модели `LinearRegression` на **тестовой** выборке, соответствует требованиям задачи (RMSE не больше 48)"
   ]
  },
  {
   "cell_type": "markdown",
   "metadata": {},
   "source": [
    "### Проверим среднюю скорость обучения модели `LinearRegression` и среднюю скорость предсказания на `обучающей` выборке"
   ]
  },
  {
   "cell_type": "code",
   "execution_count": 29,
   "metadata": {},
   "outputs": [
    {
     "name": "stdout",
     "output_type": "stream",
     "text": [
      "457 ms ± 85.2 ms per loop (mean ± std. dev. of 7 runs, 1 loop each)\n"
     ]
    }
   ],
   "source": [
    "%%timeit\n",
    "lr_model = LinearRegression()\n",
    "lr_model.fit(features_train, target_train)"
   ]
  },
  {
   "cell_type": "code",
   "execution_count": 30,
   "metadata": {},
   "outputs": [
    {
     "name": "stdout",
     "output_type": "stream",
     "text": [
      "34.1 ms ± 4.88 ms per loop (mean ± std. dev. of 7 runs, 10 loops each)\n"
     ]
    }
   ],
   "source": [
    "%%timeit\n",
    "predictions_train = lr_model.predict(features_train)"
   ]
  },
  {
   "cell_type": "markdown",
   "metadata": {},
   "source": [
    "- средняя **скорость обучения** модели `LinearRegression` на обучающей выборке составляет 0.3 секунды\n",
    "- средняя **скорость предсказания** модели составляет 0.06 секунды\n",
    "- указанные параметры **позволяют использовать** модель для **оперативного прогнозирования** необходимого количества такси на линии"
   ]
  },
  {
   "cell_type": "markdown",
   "metadata": {},
   "source": [
    "### Проверим модель `LinearRegression` на адекватность путем сравнения метрики `RMSE` модели с метрикой `RMSE`, посчитанной на прогнозах, полученных подстановкой в прогноз константы - `медианного` значения обучающей выборки и `предыдущего` значения"
   ]
  },
  {
   "cell_type": "markdown",
   "metadata": {},
   "source": [
    "#### Создадим вектор прогнозных значений, состоящий из медианных значений `целевого` признака `обучающей выборки`"
   ]
  },
  {
   "cell_type": "code",
   "execution_count": 31,
   "metadata": {
    "scrolled": true
   },
   "outputs": [
    {
     "data": {
      "text/plain": [
       "datetime\n",
       "2018-08-14 07:00:00    76.0\n",
       "2018-08-14 08:00:00    76.0\n",
       "2018-08-14 09:00:00    76.0\n",
       "Freq: H, dtype: float64"
      ]
     },
     "execution_count": 31,
     "metadata": {},
     "output_type": "execute_result"
    }
   ],
   "source": [
    "pred_median = pd.Series(dtype = 'float64', \n",
    "                        index = features_test.index)\n",
    "pred_median.fillna(target_train.median(), inplace = True)\n",
    "pred_median.head(3)"
   ]
  },
  {
   "cell_type": "markdown",
   "metadata": {},
   "source": [
    "#### Посчитаем точность `RMSE` полученного прогноза"
   ]
  },
  {
   "cell_type": "code",
   "execution_count": 32,
   "metadata": {
    "scrolled": true
   },
   "outputs": [
    {
     "data": {
      "text/plain": [
       "87.04"
      ]
     },
     "execution_count": 32,
     "metadata": {},
     "output_type": "execute_result"
    }
   ],
   "source": [
    "lr_constant_rmse = round(mean_squared_error(target_test, \n",
    "                             pred_median) ** 0.5, 2)\n",
    "lr_constant_rmse"
   ]
  },
  {
   "cell_type": "code",
   "execution_count": 33,
   "metadata": {},
   "outputs": [
    {
     "data": {
      "text/plain": [
       "2.5302325581395353"
      ]
     },
     "execution_count": 33,
     "metadata": {},
     "output_type": "execute_result"
    }
   ],
   "source": [
    "lr_constant_rmse/lr_rmse"
   ]
  },
  {
   "cell_type": "markdown",
   "metadata": {},
   "source": [
    "- значение метрики точности `RMSE` у прогноза, состоящего из `медианных` значений обучающей выборки, более чем в 2,4 раза хуже точности прогноза модели `LinearRegression`, модель `LinearRegression` **адекватна**"
   ]
  },
  {
   "cell_type": "markdown",
   "metadata": {},
   "source": [
    "#### Создадим вектор прогнозных значений, состоящий из предыдущих значений `тестовой` выборки"
   ]
  },
  {
   "cell_type": "code",
   "execution_count": 34,
   "metadata": {
    "scrolled": false
   },
   "outputs": [
    {
     "data": {
      "text/plain": [
       "datetime\n",
       "2018-08-14 05:00:00    47.0\n",
       "2018-08-14 06:00:00    45.0\n",
       "Freq: H, Name: num_orders, dtype: float64"
      ]
     },
     "metadata": {},
     "output_type": "display_data"
    },
    {
     "data": {
      "text/plain": [
       "(3822,)"
      ]
     },
     "metadata": {},
     "output_type": "display_data"
    },
    {
     "data": {
      "text/plain": [
       "datetime\n",
       "2018-08-14 07:00:00    45.0\n",
       "2018-08-14 08:00:00    54.0\n",
       "Freq: H, Name: num_orders, dtype: float64"
      ]
     },
     "execution_count": 34,
     "metadata": {},
     "output_type": "execute_result"
    }
   ],
   "source": [
    "display(target_train.tail(2), target_train.shape)\n",
    "pred_previous = target_test.shift()\n",
    "pred_previous.iloc[0] = target_train.iloc[\n",
    "    target_train.shape[0] - 1]\n",
    "pred_previous.head(2)\n"
   ]
  },
  {
   "cell_type": "markdown",
   "metadata": {},
   "source": [
    "#### Посчитаем точность `RMSE` полученного прогноза"
   ]
  },
  {
   "cell_type": "code",
   "execution_count": 35,
   "metadata": {
    "scrolled": true
   },
   "outputs": [
    {
     "data": {
      "text/plain": [
       "58.82"
      ]
     },
     "execution_count": 35,
     "metadata": {},
     "output_type": "execute_result"
    }
   ],
   "source": [
    "lr_prev_value_rmse = round(mean_squared_error(target_test, \n",
    "                             pred_previous) ** 0.5, 2)\n",
    "lr_prev_value_rmse"
   ]
  },
  {
   "cell_type": "code",
   "execution_count": 36,
   "metadata": {
    "scrolled": true
   },
   "outputs": [
    {
     "data": {
      "text/plain": [
       "1.7098837209302327"
      ]
     },
     "execution_count": 36,
     "metadata": {},
     "output_type": "execute_result"
    }
   ],
   "source": [
    "lr_prev_value_rmse/lr_rmse"
   ]
  },
  {
   "cell_type": "markdown",
   "metadata": {},
   "source": [
    "- значение метрики точности `RMSE` у прогноза, состоящего из предыдущих значений тестовой выборки, в 1.6 раз хуже точности прогноза модели `LinearRegression`, модель `LinearRegression` **адекватна**"
   ]
  },
  {
   "cell_type": "markdown",
   "metadata": {},
   "source": [
    "### Выводы по итогам тестирования модели"
   ]
  },
  {
   "cell_type": "markdown",
   "metadata": {},
   "source": [
    "- значение метрики точности предсказания `RMSE` = **34.4**, полученной с применением модели `LinearRegression` на **тестовой** выборке, соответствует требованиям задачи (RMSE не больше 48)"
   ]
  },
  {
   "cell_type": "markdown",
   "metadata": {},
   "source": [
    "- средняя **скорость обучения** модели `LinearRegression` на обучающей выборке составляет 0.3 секунды\n",
    "- средняя **скорость предсказания** модели составляет 0.06 секунды\n",
    "- указанные параметры **позволяют использовать** модель для **оперативного прогнозирования** необходимого количества такси на линии"
   ]
  },
  {
   "cell_type": "markdown",
   "metadata": {},
   "source": [
    "- значение метрики точности `RMSE` у прогноза, состоящего из `предыдущих` значений `тестовой` выборки, и у прогноза, состоящего из `медианных` значений `обучающей` выборки, **существенно хуже** точности прогноза модели `LinearRegression`, модель `LinearRegression` **адекватна**"
   ]
  },
  {
   "cell_type": "markdown",
   "metadata": {},
   "source": [
    "- модель `LinearRegression` может быть **рекомендована** для\n",
    "оперативного прогнозирования необходимого количества машин такси на линии"
   ]
  },
  {
   "cell_type": "markdown",
   "metadata": {},
   "source": [
    "- при этом из временного ряда должна быть создана обучающая выборка, имеющая следующие признаки:\n",
    "    \n",
    "    - число месяца\n",
    "    - день недели\n",
    "    - час\n",
    "    - 169 признаков отстающих значений\n",
    "    - признак скользящего среднего с окном: 4 часа"
   ]
  }
 ],
 "metadata": {
  "ExecuteTimeLog": [
   {
    "duration": 1719,
    "start_time": "2023-09-19T05:37:04.605Z"
   },
   {
    "duration": 122,
    "start_time": "2023-09-19T05:37:06.326Z"
   },
   {
    "duration": 4,
    "start_time": "2023-09-19T05:37:19.611Z"
   },
   {
    "duration": 13,
    "start_time": "2023-09-19T05:38:02.079Z"
   },
   {
    "duration": 11,
    "start_time": "2023-09-19T05:38:42.516Z"
   },
   {
    "duration": 113,
    "start_time": "2023-09-19T05:39:07.778Z"
   },
   {
    "duration": 16,
    "start_time": "2023-09-19T05:40:09.014Z"
   },
   {
    "duration": 41,
    "start_time": "2023-09-19T05:42:55.707Z"
   },
   {
    "duration": 52,
    "start_time": "2023-09-19T05:46:34.365Z"
   },
   {
    "duration": 19,
    "start_time": "2023-09-19T05:46:36.422Z"
   },
   {
    "duration": 17,
    "start_time": "2023-09-19T05:46:40.765Z"
   },
   {
    "duration": 17,
    "start_time": "2023-09-19T05:47:22.809Z"
   },
   {
    "duration": 32,
    "start_time": "2023-09-19T05:51:20.295Z"
   },
   {
    "duration": 29,
    "start_time": "2023-09-19T05:51:40.175Z"
   },
   {
    "duration": 31,
    "start_time": "2023-09-19T05:55:04.288Z"
   },
   {
    "duration": 32,
    "start_time": "2023-09-19T05:55:45.254Z"
   },
   {
    "duration": 28,
    "start_time": "2023-09-19T05:58:42.712Z"
   },
   {
    "duration": 40,
    "start_time": "2023-09-19T05:59:38.697Z"
   },
   {
    "duration": 40,
    "start_time": "2023-09-19T06:01:45.584Z"
   },
   {
    "duration": 32,
    "start_time": "2023-09-19T06:02:10.797Z"
   },
   {
    "duration": 33,
    "start_time": "2023-09-19T06:02:29.341Z"
   },
   {
    "duration": 33,
    "start_time": "2023-09-19T06:02:56.278Z"
   },
   {
    "duration": 5,
    "start_time": "2023-09-19T06:10:35.657Z"
   },
   {
    "duration": 47,
    "start_time": "2023-09-19T06:11:57.755Z"
   },
   {
    "duration": 31,
    "start_time": "2023-09-19T06:13:43.814Z"
   },
   {
    "duration": 33,
    "start_time": "2023-09-19T06:13:56.296Z"
   },
   {
    "duration": 3,
    "start_time": "2023-09-19T06:15:46.519Z"
   },
   {
    "duration": 4,
    "start_time": "2023-09-19T06:15:47.457Z"
   },
   {
    "duration": 9,
    "start_time": "2023-09-19T06:16:09.892Z"
   },
   {
    "duration": 40,
    "start_time": "2023-09-19T06:17:01.005Z"
   },
   {
    "duration": 3,
    "start_time": "2023-09-19T06:17:22.793Z"
   },
   {
    "duration": 78,
    "start_time": "2023-09-19T06:17:22.798Z"
   },
   {
    "duration": 35,
    "start_time": "2023-09-19T06:17:22.878Z"
   },
   {
    "duration": 9,
    "start_time": "2023-09-19T06:17:27.378Z"
   },
   {
    "duration": 3,
    "start_time": "2023-09-19T06:17:35.378Z"
   },
   {
    "duration": 9,
    "start_time": "2023-09-19T06:17:36.446Z"
   },
   {
    "duration": 8,
    "start_time": "2023-09-19T06:19:14.933Z"
   },
   {
    "duration": 9,
    "start_time": "2023-09-19T06:19:16.306Z"
   },
   {
    "duration": 13,
    "start_time": "2023-09-19T06:19:59.417Z"
   },
   {
    "duration": 9,
    "start_time": "2023-09-19T06:20:22.382Z"
   },
   {
    "duration": 179,
    "start_time": "2023-09-19T06:25:40.234Z"
   },
   {
    "duration": 263,
    "start_time": "2023-09-19T06:26:10.425Z"
   },
   {
    "duration": 338,
    "start_time": "2023-09-19T06:30:02.468Z"
   },
   {
    "duration": 3,
    "start_time": "2023-09-19T06:30:29.134Z"
   },
   {
    "duration": 58,
    "start_time": "2023-09-19T06:30:29.142Z"
   },
   {
    "duration": 35,
    "start_time": "2023-09-19T06:30:29.202Z"
   },
   {
    "duration": 777,
    "start_time": "2023-09-19T06:30:29.238Z"
   },
   {
    "duration": 712,
    "start_time": "2023-09-19T06:32:49.306Z"
   },
   {
    "duration": 16,
    "start_time": "2023-09-19T06:43:31.382Z"
   },
   {
    "duration": 7,
    "start_time": "2023-09-19T06:43:32.972Z"
   },
   {
    "duration": 27,
    "start_time": "2023-09-19T06:46:11.123Z"
   },
   {
    "duration": 10,
    "start_time": "2023-09-19T06:47:52.346Z"
   },
   {
    "duration": 963,
    "start_time": "2023-09-19T06:47:55.987Z"
   },
   {
    "duration": 816,
    "start_time": "2023-09-19T06:51:14.118Z"
   },
   {
    "duration": 812,
    "start_time": "2023-09-19T06:52:50.004Z"
   },
   {
    "duration": 998,
    "start_time": "2023-09-19T06:53:45.419Z"
   },
   {
    "duration": 844,
    "start_time": "2023-09-19T06:55:06.185Z"
   },
   {
    "duration": 1108,
    "start_time": "2023-09-19T06:59:01.101Z"
   },
   {
    "duration": 832,
    "start_time": "2023-09-19T07:00:26.034Z"
   },
   {
    "duration": 812,
    "start_time": "2023-09-19T07:02:04.111Z"
   },
   {
    "duration": 898,
    "start_time": "2023-09-19T07:02:31.238Z"
   },
   {
    "duration": 762,
    "start_time": "2023-09-19T07:03:07.247Z"
   },
   {
    "duration": 1539,
    "start_time": "2023-09-19T08:41:05.166Z"
   },
   {
    "duration": 44,
    "start_time": "2023-09-19T08:42:03.237Z"
   },
   {
    "duration": 1633,
    "start_time": "2023-09-19T08:42:11.046Z"
   },
   {
    "duration": 196,
    "start_time": "2023-09-19T08:42:12.682Z"
   },
   {
    "duration": 47,
    "start_time": "2023-09-19T08:42:12.880Z"
   },
   {
    "duration": 818,
    "start_time": "2023-09-19T08:42:12.929Z"
   },
   {
    "duration": 15,
    "start_time": "2023-09-19T08:42:13.749Z"
   },
   {
    "duration": 17,
    "start_time": "2023-09-19T08:42:13.766Z"
   },
   {
    "duration": 101,
    "start_time": "2023-09-19T08:42:13.785Z"
   },
   {
    "duration": 6,
    "start_time": "2023-09-19T08:42:21.466Z"
   },
   {
    "duration": 436,
    "start_time": "2023-09-19T08:42:22.483Z"
   },
   {
    "duration": 723,
    "start_time": "2023-09-19T08:42:46.002Z"
   },
   {
    "duration": 675,
    "start_time": "2023-09-19T08:43:11.499Z"
   },
   {
    "duration": 710,
    "start_time": "2023-09-19T08:45:29.271Z"
   },
   {
    "duration": 769,
    "start_time": "2023-09-19T08:46:02.106Z"
   },
   {
    "duration": 333,
    "start_time": "2023-09-19T08:49:48.710Z"
   },
   {
    "duration": 676,
    "start_time": "2023-09-19T08:50:05.973Z"
   },
   {
    "duration": 706,
    "start_time": "2023-09-19T08:50:25.749Z"
   },
   {
    "duration": 501,
    "start_time": "2023-09-19T08:50:47.618Z"
   },
   {
    "duration": 704,
    "start_time": "2023-09-19T08:50:56.224Z"
   },
   {
    "duration": 763,
    "start_time": "2023-09-19T08:51:33.532Z"
   },
   {
    "duration": 180,
    "start_time": "2023-09-19T08:52:18.801Z"
   },
   {
    "duration": 798,
    "start_time": "2023-09-19T08:52:39.303Z"
   },
   {
    "duration": 268,
    "start_time": "2023-09-19T08:53:22.553Z"
   },
   {
    "duration": 742,
    "start_time": "2023-09-19T08:53:37.021Z"
   },
   {
    "duration": 765,
    "start_time": "2023-09-19T08:59:48.551Z"
   },
   {
    "duration": 8,
    "start_time": "2023-09-19T09:04:17.116Z"
   },
   {
    "duration": 694,
    "start_time": "2023-09-19T09:04:18.542Z"
   },
   {
    "duration": 242,
    "start_time": "2023-09-19T09:17:00.007Z"
   },
   {
    "duration": 8,
    "start_time": "2023-09-19T09:17:05.768Z"
   },
   {
    "duration": 10,
    "start_time": "2023-09-19T09:17:06.535Z"
   },
   {
    "duration": 635,
    "start_time": "2023-09-19T09:17:07.768Z"
   },
   {
    "duration": 1008,
    "start_time": "2023-09-19T09:17:55.870Z"
   },
   {
    "duration": 277,
    "start_time": "2023-09-19T09:19:46.823Z"
   },
   {
    "duration": 1077,
    "start_time": "2023-09-19T09:20:06.365Z"
   },
   {
    "duration": 1094,
    "start_time": "2023-09-19T09:20:22.056Z"
   },
   {
    "duration": 983,
    "start_time": "2023-09-19T09:22:20.518Z"
   },
   {
    "duration": 1047,
    "start_time": "2023-09-19T09:24:10.583Z"
   },
   {
    "duration": 974,
    "start_time": "2023-09-19T09:25:28.648Z"
   },
   {
    "duration": 824,
    "start_time": "2023-09-19T09:26:31.087Z"
   },
   {
    "duration": 1018,
    "start_time": "2023-09-19T09:27:16.341Z"
   },
   {
    "duration": 9,
    "start_time": "2023-09-19T09:28:20.847Z"
   },
   {
    "duration": 14,
    "start_time": "2023-09-19T09:28:32.296Z"
   },
   {
    "duration": 14,
    "start_time": "2023-09-19T09:28:56.170Z"
   },
   {
    "duration": 15,
    "start_time": "2023-09-19T09:29:17.216Z"
   },
   {
    "duration": 13,
    "start_time": "2023-09-19T09:29:19.394Z"
   },
   {
    "duration": 1096,
    "start_time": "2023-09-19T09:29:35.986Z"
   },
   {
    "duration": 973,
    "start_time": "2023-09-19T09:30:37.640Z"
   },
   {
    "duration": 1078,
    "start_time": "2023-09-19T09:33:01.039Z"
   },
   {
    "duration": 9,
    "start_time": "2023-09-19T10:51:14.379Z"
   },
   {
    "duration": 79,
    "start_time": "2023-09-19T10:51:16.516Z"
   },
   {
    "duration": 5,
    "start_time": "2023-09-19T10:52:08.337Z"
   },
   {
    "duration": 2738,
    "start_time": "2023-09-19T10:52:11.762Z"
   },
   {
    "duration": 5,
    "start_time": "2023-09-19T10:54:21.610Z"
   },
   {
    "duration": 21,
    "start_time": "2023-09-19T10:54:23.898Z"
   },
   {
    "duration": 5,
    "start_time": "2023-09-19T10:54:45.968Z"
   },
   {
    "duration": 12,
    "start_time": "2023-09-19T10:54:52.336Z"
   },
   {
    "duration": 5,
    "start_time": "2023-09-19T10:54:54.822Z"
   },
   {
    "duration": 14,
    "start_time": "2023-09-19T10:54:58.374Z"
   },
   {
    "duration": 29,
    "start_time": "2023-09-19T10:58:27.733Z"
   },
   {
    "duration": 34,
    "start_time": "2023-09-19T10:59:57.349Z"
   },
   {
    "duration": 36,
    "start_time": "2023-09-19T11:07:20.320Z"
   },
   {
    "duration": 4,
    "start_time": "2023-09-19T11:21:16.830Z"
   },
   {
    "duration": 959,
    "start_time": "2023-09-19T11:22:29.485Z"
   },
   {
    "duration": 1307,
    "start_time": "2023-09-19T11:23:06.990Z"
   },
   {
    "duration": 1029,
    "start_time": "2023-09-19T11:24:42.980Z"
   },
   {
    "duration": 4,
    "start_time": "2023-09-19T11:41:33.965Z"
   },
   {
    "duration": 5,
    "start_time": "2023-09-19T11:41:44.587Z"
   },
   {
    "duration": 5,
    "start_time": "2023-09-19T11:48:47.174Z"
   },
   {
    "duration": 11,
    "start_time": "2023-09-19T11:48:49.888Z"
   },
   {
    "duration": 1404,
    "start_time": "2023-09-19T11:49:34.142Z"
   },
   {
    "duration": 5,
    "start_time": "2023-09-19T11:50:53.617Z"
   },
   {
    "duration": 968,
    "start_time": "2023-09-19T11:50:55.280Z"
   },
   {
    "duration": 39860,
    "start_time": "2023-09-19T11:51:35.885Z"
   },
   {
    "duration": 192763,
    "start_time": "2023-09-19T11:52:37.987Z"
   },
   {
    "duration": 47192,
    "start_time": "2023-09-19T11:57:17.960Z"
   },
   {
    "duration": 76364,
    "start_time": "2023-09-19T11:58:32.388Z"
   },
   {
    "duration": 5,
    "start_time": "2023-09-19T12:01:12.000Z"
   },
   {
    "duration": 720547,
    "start_time": "2023-09-19T12:01:37.303Z"
   },
   {
    "duration": 5,
    "start_time": "2023-09-19T12:40:14.939Z"
   },
   {
    "duration": 753781,
    "start_time": "2023-09-19T12:40:19.670Z"
   },
   {
    "duration": 5,
    "start_time": "2023-09-19T12:54:45.460Z"
   },
   {
    "duration": 6,
    "start_time": "2023-09-19T12:55:07.400Z"
   },
   {
    "duration": 747769,
    "start_time": "2023-09-19T12:55:10.982Z"
   },
   {
    "duration": 5,
    "start_time": "2023-09-19T13:20:08.818Z"
   },
   {
    "duration": 30090,
    "start_time": "2023-09-19T13:20:35.954Z"
   },
   {
    "duration": 5,
    "start_time": "2023-09-19T13:21:31.309Z"
   },
   {
    "duration": 5,
    "start_time": "2023-09-19T13:21:37.936Z"
   },
   {
    "duration": 736092,
    "start_time": "2023-09-19T13:22:06.956Z"
   },
   {
    "duration": 64774,
    "start_time": "2023-09-19T13:35:51.671Z"
   },
   {
    "duration": 58432,
    "start_time": "2023-09-19T13:37:54.318Z"
   },
   {
    "duration": 72262,
    "start_time": "2023-09-19T13:39:34.585Z"
   },
   {
    "duration": 490623,
    "start_time": "2023-09-19T13:41:03.025Z"
   },
   {
    "duration": 29763,
    "start_time": "2023-09-19T13:49:25.494Z"
   },
   {
    "duration": 43196,
    "start_time": "2023-09-19T13:50:11.848Z"
   },
   {
    "duration": 5,
    "start_time": "2023-09-19T13:51:14.464Z"
   },
   {
    "duration": 1410,
    "start_time": "2023-09-19T13:52:04.409Z"
   },
   {
    "duration": 50,
    "start_time": "2023-09-19T13:52:05.820Z"
   },
   {
    "duration": 35,
    "start_time": "2023-09-19T13:52:05.872Z"
   },
   {
    "duration": 659,
    "start_time": "2023-09-19T13:52:05.909Z"
   },
   {
    "duration": 13,
    "start_time": "2023-09-19T13:52:06.570Z"
   },
   {
    "duration": 43,
    "start_time": "2023-09-19T13:52:06.585Z"
   },
   {
    "duration": 94,
    "start_time": "2023-09-19T13:52:06.629Z"
   },
   {
    "duration": 48,
    "start_time": "2023-09-19T13:52:06.724Z"
   },
   {
    "duration": 1033,
    "start_time": "2023-09-19T13:52:06.774Z"
   },
   {
    "duration": 6,
    "start_time": "2023-09-19T13:52:07.809Z"
   },
   {
    "duration": 37,
    "start_time": "2023-09-19T13:52:07.816Z"
   },
   {
    "duration": 39,
    "start_time": "2023-09-19T13:52:07.854Z"
   },
   {
    "duration": 5,
    "start_time": "2023-09-19T13:52:07.894Z"
   },
   {
    "duration": 21544,
    "start_time": "2023-09-19T13:52:07.900Z"
   },
   {
    "duration": 24166,
    "start_time": "2023-09-19T13:52:56.781Z"
   },
   {
    "duration": 5,
    "start_time": "2023-09-19T13:53:47.000Z"
   },
   {
    "duration": 15292,
    "start_time": "2023-09-19T13:53:50.554Z"
   },
   {
    "duration": 1490,
    "start_time": "2023-09-19T13:54:28.877Z"
   },
   {
    "duration": 49,
    "start_time": "2023-09-19T13:54:30.369Z"
   },
   {
    "duration": 42,
    "start_time": "2023-09-19T13:54:30.419Z"
   },
   {
    "duration": 665,
    "start_time": "2023-09-19T13:54:30.463Z"
   },
   {
    "duration": 88,
    "start_time": "2023-09-19T13:54:31.131Z"
   },
   {
    "duration": 21,
    "start_time": "2023-09-19T13:54:31.221Z"
   },
   {
    "duration": 138,
    "start_time": "2023-09-19T13:54:31.244Z"
   },
   {
    "duration": 67,
    "start_time": "2023-09-19T13:54:31.384Z"
   },
   {
    "duration": 1047,
    "start_time": "2023-09-19T13:54:31.453Z"
   },
   {
    "duration": 5,
    "start_time": "2023-09-19T13:54:32.501Z"
   },
   {
    "duration": 34,
    "start_time": "2023-09-19T13:54:32.508Z"
   },
   {
    "duration": 39,
    "start_time": "2023-09-19T13:54:32.544Z"
   },
   {
    "duration": 5,
    "start_time": "2023-09-19T13:54:32.585Z"
   },
   {
    "duration": 81454,
    "start_time": "2023-09-19T13:54:32.592Z"
   },
   {
    "duration": 1469,
    "start_time": "2023-09-19T13:56:51.646Z"
   },
   {
    "duration": 49,
    "start_time": "2023-09-19T13:56:53.118Z"
   },
   {
    "duration": 39,
    "start_time": "2023-09-19T13:56:53.169Z"
   },
   {
    "duration": 703,
    "start_time": "2023-09-19T13:56:53.210Z"
   },
   {
    "duration": 82,
    "start_time": "2023-09-19T13:56:53.915Z"
   },
   {
    "duration": 7,
    "start_time": "2023-09-19T13:56:53.999Z"
   },
   {
    "duration": 19,
    "start_time": "2023-09-19T13:56:54.007Z"
   },
   {
    "duration": 20,
    "start_time": "2023-09-19T13:56:54.028Z"
   },
   {
    "duration": 1105,
    "start_time": "2023-09-19T13:56:54.050Z"
   },
   {
    "duration": 5,
    "start_time": "2023-09-19T13:56:55.157Z"
   },
   {
    "duration": 22,
    "start_time": "2023-09-19T13:56:55.164Z"
   },
   {
    "duration": 56,
    "start_time": "2023-09-19T13:56:55.188Z"
   },
   {
    "duration": 5,
    "start_time": "2023-09-19T13:56:55.246Z"
   },
   {
    "duration": 151599,
    "start_time": "2023-09-19T13:56:55.253Z"
   },
   {
    "duration": 3442,
    "start_time": "2023-09-19T13:59:47.709Z"
   },
   {
    "duration": 5,
    "start_time": "2023-09-19T14:00:36.720Z"
   },
   {
    "duration": 3482,
    "start_time": "2023-09-19T14:00:45.969Z"
   },
   {
    "duration": 1493,
    "start_time": "2023-09-19T14:01:06.949Z"
   },
   {
    "duration": 49,
    "start_time": "2023-09-19T14:01:08.444Z"
   },
   {
    "duration": 38,
    "start_time": "2023-09-19T14:01:08.495Z"
   },
   {
    "duration": 651,
    "start_time": "2023-09-19T14:01:08.535Z"
   },
   {
    "duration": 94,
    "start_time": "2023-09-19T14:01:09.189Z"
   },
   {
    "duration": 7,
    "start_time": "2023-09-19T14:01:09.285Z"
   },
   {
    "duration": 9,
    "start_time": "2023-09-19T14:01:09.293Z"
   },
   {
    "duration": 8,
    "start_time": "2023-09-19T14:01:09.304Z"
   },
   {
    "duration": 1072,
    "start_time": "2023-09-19T14:01:09.314Z"
   },
   {
    "duration": 5,
    "start_time": "2023-09-19T14:01:10.388Z"
   },
   {
    "duration": 31,
    "start_time": "2023-09-19T14:01:10.395Z"
   },
   {
    "duration": 40,
    "start_time": "2023-09-19T14:01:10.427Z"
   },
   {
    "duration": 5,
    "start_time": "2023-09-19T14:01:10.470Z"
   },
   {
    "duration": 2473,
    "start_time": "2023-09-19T14:01:10.477Z"
   },
   {
    "duration": 26672,
    "start_time": "2023-09-19T14:01:49.373Z"
   },
   {
    "duration": 64734,
    "start_time": "2023-09-19T14:02:32.611Z"
   },
   {
    "duration": 943433,
    "start_time": "2023-09-19T14:04:02.716Z"
   },
   {
    "duration": 486793,
    "start_time": "2023-09-19T14:21:46.458Z"
   },
   {
    "duration": 1430,
    "start_time": "2023-09-19T14:30:39.175Z"
   },
   {
    "duration": 58,
    "start_time": "2023-09-19T14:30:40.607Z"
   },
   {
    "duration": 45,
    "start_time": "2023-09-19T14:30:40.667Z"
   },
   {
    "duration": 726,
    "start_time": "2023-09-19T14:30:40.715Z"
   },
   {
    "duration": 18,
    "start_time": "2023-09-19T14:30:41.445Z"
   },
   {
    "duration": 10,
    "start_time": "2023-09-19T14:30:41.465Z"
   },
   {
    "duration": 97,
    "start_time": "2023-09-19T14:30:41.476Z"
   },
   {
    "duration": 21,
    "start_time": "2023-09-19T14:30:41.575Z"
   },
   {
    "duration": 1093,
    "start_time": "2023-09-19T14:30:41.598Z"
   },
   {
    "duration": 5,
    "start_time": "2023-09-19T14:30:42.694Z"
   },
   {
    "duration": 63,
    "start_time": "2023-09-19T14:30:42.701Z"
   },
   {
    "duration": 61,
    "start_time": "2023-09-19T14:30:42.766Z"
   },
   {
    "duration": 5,
    "start_time": "2023-09-19T14:30:42.829Z"
   },
   {
    "duration": 0,
    "start_time": "2023-09-19T14:31:53.513Z"
   },
   {
    "duration": 5,
    "start_time": "2023-09-19T14:32:26.214Z"
   },
   {
    "duration": 64,
    "start_time": "2023-09-19T14:32:29.237Z"
   },
   {
    "duration": 5,
    "start_time": "2023-09-19T14:32:51.557Z"
   },
   {
    "duration": 5,
    "start_time": "2023-09-19T14:33:47.530Z"
   },
   {
    "duration": 19,
    "start_time": "2023-09-19T14:33:51.126Z"
   },
   {
    "duration": 71,
    "start_time": "2023-09-19T14:33:52.306Z"
   },
   {
    "duration": 9,
    "start_time": "2023-09-19T14:34:04.578Z"
   },
   {
    "duration": 94172,
    "start_time": "2023-09-19T14:34:07.691Z"
   },
   {
    "duration": 1471,
    "start_time": "2023-09-19T14:36:16.153Z"
   },
   {
    "duration": 54,
    "start_time": "2023-09-19T14:36:17.627Z"
   },
   {
    "duration": 37,
    "start_time": "2023-09-19T14:36:17.683Z"
   },
   {
    "duration": 710,
    "start_time": "2023-09-19T14:36:17.722Z"
   },
   {
    "duration": 28,
    "start_time": "2023-09-19T14:36:18.434Z"
   },
   {
    "duration": 19,
    "start_time": "2023-09-19T14:36:18.465Z"
   },
   {
    "duration": 129,
    "start_time": "2023-09-19T14:36:18.486Z"
   },
   {
    "duration": 40,
    "start_time": "2023-09-19T14:36:18.617Z"
   },
   {
    "duration": 1087,
    "start_time": "2023-09-19T14:36:18.661Z"
   },
   {
    "duration": 6,
    "start_time": "2023-09-19T14:36:19.757Z"
   },
   {
    "duration": 64,
    "start_time": "2023-09-19T14:36:19.765Z"
   },
   {
    "duration": 66,
    "start_time": "2023-09-19T14:36:19.831Z"
   },
   {
    "duration": 5,
    "start_time": "2023-09-19T14:36:19.899Z"
   },
   {
    "duration": 245639,
    "start_time": "2023-09-19T14:36:19.906Z"
   },
   {
    "duration": 10891,
    "start_time": "2023-09-19T14:44:04.504Z"
   },
   {
    "duration": 1671,
    "start_time": "2023-09-19T14:44:44.688Z"
   },
   {
    "duration": 60,
    "start_time": "2023-09-19T14:44:46.363Z"
   },
   {
    "duration": 56,
    "start_time": "2023-09-19T14:44:46.425Z"
   },
   {
    "duration": 799,
    "start_time": "2023-09-19T14:44:46.486Z"
   },
   {
    "duration": 104,
    "start_time": "2023-09-19T14:44:47.288Z"
   },
   {
    "duration": 7,
    "start_time": "2023-09-19T14:44:47.394Z"
   },
   {
    "duration": 9,
    "start_time": "2023-09-19T14:44:47.403Z"
   },
   {
    "duration": 14,
    "start_time": "2023-09-19T14:44:47.413Z"
   },
   {
    "duration": 1191,
    "start_time": "2023-09-19T14:44:47.428Z"
   },
   {
    "duration": 5,
    "start_time": "2023-09-19T14:44:48.621Z"
   },
   {
    "duration": 53,
    "start_time": "2023-09-19T14:44:48.627Z"
   },
   {
    "duration": 42,
    "start_time": "2023-09-19T14:44:48.682Z"
   },
   {
    "duration": 6,
    "start_time": "2023-09-19T14:44:48.726Z"
   },
   {
    "duration": 12811,
    "start_time": "2023-09-19T14:44:48.743Z"
   },
   {
    "duration": 29288,
    "start_time": "2023-09-19T14:45:28.171Z"
   },
   {
    "duration": 1502,
    "start_time": "2023-09-19T14:47:10.980Z"
   },
   {
    "duration": 52,
    "start_time": "2023-09-19T14:47:12.485Z"
   },
   {
    "duration": 59,
    "start_time": "2023-09-19T14:47:12.539Z"
   },
   {
    "duration": 807,
    "start_time": "2023-09-19T14:47:12.600Z"
   },
   {
    "duration": 16,
    "start_time": "2023-09-19T14:47:13.409Z"
   },
   {
    "duration": 25,
    "start_time": "2023-09-19T14:47:13.427Z"
   },
   {
    "duration": 94,
    "start_time": "2023-09-19T14:47:13.453Z"
   },
   {
    "duration": 29,
    "start_time": "2023-09-19T14:47:13.548Z"
   },
   {
    "duration": 1269,
    "start_time": "2023-09-19T14:47:13.585Z"
   },
   {
    "duration": 13,
    "start_time": "2023-09-19T14:47:14.857Z"
   },
   {
    "duration": 31,
    "start_time": "2023-09-19T14:47:14.878Z"
   },
   {
    "duration": 49,
    "start_time": "2023-09-19T14:47:14.912Z"
   },
   {
    "duration": 12,
    "start_time": "2023-09-19T14:47:14.965Z"
   },
   {
    "duration": 542472,
    "start_time": "2023-09-19T14:47:14.979Z"
   },
   {
    "duration": 1562,
    "start_time": "2023-09-19T15:03:42.375Z"
   },
   {
    "duration": 54,
    "start_time": "2023-09-19T15:03:43.939Z"
   },
   {
    "duration": 37,
    "start_time": "2023-09-19T15:03:43.995Z"
   },
   {
    "duration": 798,
    "start_time": "2023-09-19T15:03:44.034Z"
   },
   {
    "duration": 94,
    "start_time": "2023-09-19T15:03:44.834Z"
   },
   {
    "duration": 24,
    "start_time": "2023-09-19T15:03:44.930Z"
   },
   {
    "duration": 14,
    "start_time": "2023-09-19T15:03:44.956Z"
   },
   {
    "duration": 10,
    "start_time": "2023-09-19T15:03:44.972Z"
   },
   {
    "duration": 1224,
    "start_time": "2023-09-19T15:03:44.983Z"
   },
   {
    "duration": 5,
    "start_time": "2023-09-19T15:03:46.210Z"
   },
   {
    "duration": 37,
    "start_time": "2023-09-19T15:03:46.217Z"
   },
   {
    "duration": 53,
    "start_time": "2023-09-19T15:03:46.257Z"
   },
   {
    "duration": 6,
    "start_time": "2023-09-19T15:03:46.312Z"
   },
   {
    "duration": 1497,
    "start_time": "2023-09-19T15:05:37.165Z"
   },
   {
    "duration": 53,
    "start_time": "2023-09-19T15:05:38.664Z"
   },
   {
    "duration": 45,
    "start_time": "2023-09-19T15:05:38.719Z"
   },
   {
    "duration": 730,
    "start_time": "2023-09-19T15:05:38.766Z"
   },
   {
    "duration": 98,
    "start_time": "2023-09-19T15:05:39.499Z"
   },
   {
    "duration": 7,
    "start_time": "2023-09-19T15:05:39.599Z"
   },
   {
    "duration": 19,
    "start_time": "2023-09-19T15:05:39.608Z"
   },
   {
    "duration": 27,
    "start_time": "2023-09-19T15:05:39.628Z"
   },
   {
    "duration": 1111,
    "start_time": "2023-09-19T15:05:39.657Z"
   },
   {
    "duration": 8,
    "start_time": "2023-09-19T15:05:40.771Z"
   },
   {
    "duration": 21,
    "start_time": "2023-09-19T15:05:40.780Z"
   },
   {
    "duration": 36,
    "start_time": "2023-09-19T15:05:40.802Z"
   },
   {
    "duration": 11,
    "start_time": "2023-09-19T15:05:40.845Z"
   },
   {
    "duration": 999281,
    "start_time": "2023-09-19T15:05:40.862Z"
   },
   {
    "duration": 1469,
    "start_time": "2023-09-19T15:24:46.265Z"
   },
   {
    "duration": 53,
    "start_time": "2023-09-19T15:24:47.735Z"
   },
   {
    "duration": 36,
    "start_time": "2023-09-19T15:24:47.790Z"
   },
   {
    "duration": 685,
    "start_time": "2023-09-19T15:24:47.828Z"
   },
   {
    "duration": 13,
    "start_time": "2023-09-19T15:24:48.515Z"
   },
   {
    "duration": 16,
    "start_time": "2023-09-19T15:24:48.530Z"
   },
   {
    "duration": 99,
    "start_time": "2023-09-19T15:24:48.547Z"
   },
   {
    "duration": 11,
    "start_time": "2023-09-19T15:24:48.650Z"
   },
   {
    "duration": 1060,
    "start_time": "2023-09-19T15:24:48.663Z"
   },
   {
    "duration": 5,
    "start_time": "2023-09-19T15:24:49.726Z"
   },
   {
    "duration": 40,
    "start_time": "2023-09-19T15:24:49.732Z"
   },
   {
    "duration": 43,
    "start_time": "2023-09-19T15:24:49.774Z"
   },
   {
    "duration": 6,
    "start_time": "2023-09-19T15:24:49.818Z"
   },
   {
    "duration": 456136,
    "start_time": "2023-09-19T15:24:49.825Z"
   },
   {
    "duration": 114643,
    "start_time": "2023-09-19T15:34:41.704Z"
   },
   {
    "duration": 2797,
    "start_time": "2023-09-19T15:38:40.360Z"
   },
   {
    "duration": 1591,
    "start_time": "2023-09-19T15:39:07.760Z"
   },
   {
    "duration": 51,
    "start_time": "2023-09-19T15:39:09.356Z"
   },
   {
    "duration": 51,
    "start_time": "2023-09-19T15:39:09.409Z"
   },
   {
    "duration": 757,
    "start_time": "2023-09-19T15:39:09.463Z"
   },
   {
    "duration": 22,
    "start_time": "2023-09-19T15:39:10.222Z"
   },
   {
    "duration": 10,
    "start_time": "2023-09-19T15:39:10.247Z"
   },
   {
    "duration": 95,
    "start_time": "2023-09-19T15:39:10.259Z"
   },
   {
    "duration": 9,
    "start_time": "2023-09-19T15:39:10.356Z"
   },
   {
    "duration": 1192,
    "start_time": "2023-09-19T15:39:10.367Z"
   },
   {
    "duration": 9,
    "start_time": "2023-09-19T15:39:11.563Z"
   },
   {
    "duration": 47,
    "start_time": "2023-09-19T15:39:11.573Z"
   },
   {
    "duration": 55,
    "start_time": "2023-09-19T15:39:11.622Z"
   },
   {
    "duration": 6,
    "start_time": "2023-09-19T15:39:11.679Z"
   },
   {
    "duration": 4158,
    "start_time": "2023-09-19T15:39:11.687Z"
   },
   {
    "duration": 1801,
    "start_time": "2023-09-19T15:39:44.178Z"
   },
   {
    "duration": 51,
    "start_time": "2023-09-19T15:39:45.982Z"
   },
   {
    "duration": 49,
    "start_time": "2023-09-19T15:39:46.034Z"
   },
   {
    "duration": 713,
    "start_time": "2023-09-19T15:39:46.085Z"
   },
   {
    "duration": 98,
    "start_time": "2023-09-19T15:39:46.801Z"
   },
   {
    "duration": 7,
    "start_time": "2023-09-19T15:39:46.901Z"
   },
   {
    "duration": 35,
    "start_time": "2023-09-19T15:39:46.911Z"
   },
   {
    "duration": 26,
    "start_time": "2023-09-19T15:39:46.947Z"
   },
   {
    "duration": 1108,
    "start_time": "2023-09-19T15:39:46.975Z"
   },
   {
    "duration": 7,
    "start_time": "2023-09-19T15:39:48.085Z"
   },
   {
    "duration": 23,
    "start_time": "2023-09-19T15:39:48.094Z"
   },
   {
    "duration": 47,
    "start_time": "2023-09-19T15:39:48.119Z"
   },
   {
    "duration": 5,
    "start_time": "2023-09-19T15:39:48.168Z"
   },
   {
    "duration": 71973,
    "start_time": "2023-09-19T15:39:48.175Z"
   },
   {
    "duration": 1467,
    "start_time": "2023-09-19T15:41:40.043Z"
   },
   {
    "duration": 55,
    "start_time": "2023-09-19T15:41:41.513Z"
   },
   {
    "duration": 38,
    "start_time": "2023-09-19T15:41:41.570Z"
   },
   {
    "duration": 752,
    "start_time": "2023-09-19T15:41:41.609Z"
   },
   {
    "duration": 95,
    "start_time": "2023-09-19T15:41:42.368Z"
   },
   {
    "duration": 7,
    "start_time": "2023-09-19T15:41:42.464Z"
   },
   {
    "duration": 20,
    "start_time": "2023-09-19T15:41:42.473Z"
   },
   {
    "duration": 18,
    "start_time": "2023-09-19T15:41:42.495Z"
   },
   {
    "duration": 1152,
    "start_time": "2023-09-19T15:41:42.515Z"
   },
   {
    "duration": 6,
    "start_time": "2023-09-19T15:41:43.669Z"
   },
   {
    "duration": 42,
    "start_time": "2023-09-19T15:41:43.677Z"
   },
   {
    "duration": 54,
    "start_time": "2023-09-19T15:41:43.721Z"
   },
   {
    "duration": 5,
    "start_time": "2023-09-19T15:41:43.777Z"
   },
   {
    "duration": 332991,
    "start_time": "2023-09-19T15:41:43.785Z"
   },
   {
    "duration": 7552,
    "start_time": "2023-09-19T15:49:54.903Z"
   },
   {
    "duration": 1848,
    "start_time": "2023-09-19T15:50:19.116Z"
   },
   {
    "duration": 62,
    "start_time": "2023-09-19T15:50:20.970Z"
   },
   {
    "duration": 69,
    "start_time": "2023-09-19T15:50:21.034Z"
   },
   {
    "duration": 843,
    "start_time": "2023-09-19T15:50:21.107Z"
   },
   {
    "duration": 26,
    "start_time": "2023-09-19T15:50:21.952Z"
   },
   {
    "duration": 17,
    "start_time": "2023-09-19T15:50:21.981Z"
   },
   {
    "duration": 115,
    "start_time": "2023-09-19T15:50:22.001Z"
   },
   {
    "duration": 11,
    "start_time": "2023-09-19T15:50:22.118Z"
   },
   {
    "duration": 1332,
    "start_time": "2023-09-19T15:50:22.131Z"
   },
   {
    "duration": 8,
    "start_time": "2023-09-19T15:50:23.467Z"
   },
   {
    "duration": 24,
    "start_time": "2023-09-19T15:50:23.477Z"
   },
   {
    "duration": 108,
    "start_time": "2023-09-19T15:50:23.503Z"
   },
   {
    "duration": 6,
    "start_time": "2023-09-19T15:50:23.613Z"
   },
   {
    "duration": 7340,
    "start_time": "2023-09-19T15:50:23.620Z"
   },
   {
    "duration": 66,
    "start_time": "2023-09-19T15:56:40.993Z"
   },
   {
    "duration": 108,
    "start_time": "2023-09-19T15:57:10.449Z"
   },
   {
    "duration": 23,
    "start_time": "2023-09-19T15:58:13.396Z"
   },
   {
    "duration": 105,
    "start_time": "2023-09-19T15:58:16.542Z"
   },
   {
    "duration": 161,
    "start_time": "2023-09-19T16:02:38.036Z"
   },
   {
    "duration": 5,
    "start_time": "2023-09-19T16:02:57.796Z"
   },
   {
    "duration": 19,
    "start_time": "2023-09-19T16:03:00.411Z"
   },
   {
    "duration": 117,
    "start_time": "2023-09-19T16:03:02.544Z"
   },
   {
    "duration": 1862,
    "start_time": "2023-09-19T16:03:24.416Z"
   },
   {
    "duration": 55,
    "start_time": "2023-09-19T16:03:26.280Z"
   },
   {
    "duration": 64,
    "start_time": "2023-09-19T16:03:26.337Z"
   },
   {
    "duration": 897,
    "start_time": "2023-09-19T16:03:26.405Z"
   },
   {
    "duration": 15,
    "start_time": "2023-09-19T16:03:27.306Z"
   },
   {
    "duration": 47,
    "start_time": "2023-09-19T16:03:27.323Z"
   },
   {
    "duration": 105,
    "start_time": "2023-09-19T16:03:27.372Z"
   },
   {
    "duration": 17,
    "start_time": "2023-09-19T16:03:27.479Z"
   },
   {
    "duration": 1333,
    "start_time": "2023-09-19T16:03:27.498Z"
   },
   {
    "duration": 12,
    "start_time": "2023-09-19T16:03:28.835Z"
   },
   {
    "duration": 42,
    "start_time": "2023-09-19T16:03:28.849Z"
   },
   {
    "duration": 34,
    "start_time": "2023-09-19T16:03:28.894Z"
   },
   {
    "duration": 5,
    "start_time": "2023-09-19T16:03:28.930Z"
   },
   {
    "duration": 4748,
    "start_time": "2023-09-19T16:03:28.936Z"
   },
   {
    "duration": 134,
    "start_time": "2023-09-19T16:03:33.691Z"
   },
   {
    "duration": 131,
    "start_time": "2023-09-19T16:03:33.828Z"
   },
   {
    "duration": 1927,
    "start_time": "2023-09-19T16:06:12.893Z"
   },
   {
    "duration": 76,
    "start_time": "2023-09-19T16:06:14.824Z"
   },
   {
    "duration": 82,
    "start_time": "2023-09-19T16:06:14.903Z"
   },
   {
    "duration": 945,
    "start_time": "2023-09-19T16:06:14.988Z"
   },
   {
    "duration": 29,
    "start_time": "2023-09-19T16:06:15.935Z"
   },
   {
    "duration": 12,
    "start_time": "2023-09-19T16:06:15.973Z"
   },
   {
    "duration": 115,
    "start_time": "2023-09-19T16:06:15.990Z"
   },
   {
    "duration": 8,
    "start_time": "2023-09-19T16:06:16.107Z"
   },
   {
    "duration": 1261,
    "start_time": "2023-09-19T16:06:16.117Z"
   },
   {
    "duration": 7,
    "start_time": "2023-09-19T16:06:17.385Z"
   },
   {
    "duration": 8,
    "start_time": "2023-09-19T16:06:17.393Z"
   },
   {
    "duration": 6456,
    "start_time": "2023-09-19T16:06:17.403Z"
   },
   {
    "duration": 156,
    "start_time": "2023-09-19T16:06:23.866Z"
   },
   {
    "duration": 85,
    "start_time": "2023-09-19T16:06:24.023Z"
   },
   {
    "duration": 48504,
    "start_time": "2023-09-19T16:08:17.442Z"
   },
   {
    "duration": 1564,
    "start_time": "2023-09-19T16:09:41.005Z"
   },
   {
    "duration": 58,
    "start_time": "2023-09-19T16:09:42.573Z"
   },
   {
    "duration": 58,
    "start_time": "2023-09-19T16:09:42.633Z"
   },
   {
    "duration": 835,
    "start_time": "2023-09-19T16:09:42.693Z"
   },
   {
    "duration": 28,
    "start_time": "2023-09-19T16:09:43.529Z"
   },
   {
    "duration": 21,
    "start_time": "2023-09-19T16:09:43.559Z"
   },
   {
    "duration": 101,
    "start_time": "2023-09-19T16:09:43.586Z"
   },
   {
    "duration": 35,
    "start_time": "2023-09-19T16:09:43.689Z"
   },
   {
    "duration": 1305,
    "start_time": "2023-09-19T16:09:43.726Z"
   },
   {
    "duration": 6,
    "start_time": "2023-09-19T16:09:45.035Z"
   },
   {
    "duration": 47,
    "start_time": "2023-09-19T16:09:45.046Z"
   },
   {
    "duration": 68050,
    "start_time": "2023-09-19T16:09:45.095Z"
   },
   {
    "duration": 100,
    "start_time": "2023-09-19T16:10:53.151Z"
   },
   {
    "duration": 74,
    "start_time": "2023-09-19T16:10:53.260Z"
   },
   {
    "duration": 47046,
    "start_time": "2023-09-19T16:11:15.704Z"
   },
   {
    "duration": 1759,
    "start_time": "2023-09-19T16:12:23.863Z"
   },
   {
    "duration": 62,
    "start_time": "2023-09-19T16:12:25.624Z"
   },
   {
    "duration": 38,
    "start_time": "2023-09-19T16:12:25.687Z"
   },
   {
    "duration": 771,
    "start_time": "2023-09-19T16:12:25.727Z"
   },
   {
    "duration": 18,
    "start_time": "2023-09-19T16:12:26.500Z"
   },
   {
    "duration": 25,
    "start_time": "2023-09-19T16:12:26.519Z"
   },
   {
    "duration": 123,
    "start_time": "2023-09-19T16:12:26.546Z"
   },
   {
    "duration": 10,
    "start_time": "2023-09-19T16:12:26.673Z"
   },
   {
    "duration": 1155,
    "start_time": "2023-09-19T16:12:26.684Z"
   },
   {
    "duration": 11,
    "start_time": "2023-09-19T16:12:27.842Z"
   },
   {
    "duration": 16,
    "start_time": "2023-09-19T16:12:27.855Z"
   },
   {
    "duration": 46678,
    "start_time": "2023-09-19T16:12:27.873Z"
   },
   {
    "duration": 142,
    "start_time": "2023-09-19T16:13:14.555Z"
   },
   {
    "duration": 104,
    "start_time": "2023-09-19T16:13:14.699Z"
   },
   {
    "duration": 40,
    "start_time": "2023-09-19T16:13:20.147Z"
   },
   {
    "duration": 5,
    "start_time": "2023-09-19T16:16:19.031Z"
   },
   {
    "duration": 1437,
    "start_time": "2023-09-19T16:16:28.114Z"
   },
   {
    "duration": 53,
    "start_time": "2023-09-19T16:16:29.553Z"
   },
   {
    "duration": 46,
    "start_time": "2023-09-19T16:16:29.608Z"
   },
   {
    "duration": 710,
    "start_time": "2023-09-19T16:16:29.659Z"
   },
   {
    "duration": 15,
    "start_time": "2023-09-19T16:16:30.371Z"
   },
   {
    "duration": 40,
    "start_time": "2023-09-19T16:16:30.388Z"
   },
   {
    "duration": 141,
    "start_time": "2023-09-19T16:16:30.429Z"
   },
   {
    "duration": 232,
    "start_time": "2023-09-19T16:16:30.573Z"
   },
   {
    "duration": 1250,
    "start_time": "2023-09-19T16:16:30.807Z"
   },
   {
    "duration": 8,
    "start_time": "2023-09-19T16:16:32.060Z"
   },
   {
    "duration": 97,
    "start_time": "2023-09-19T16:16:32.069Z"
   },
   {
    "duration": 17583,
    "start_time": "2023-09-19T16:16:32.168Z"
   },
   {
    "duration": 129,
    "start_time": "2023-09-19T16:16:49.754Z"
   },
   {
    "duration": 93,
    "start_time": "2023-09-19T16:16:49.884Z"
   },
   {
    "duration": 90,
    "start_time": "2023-09-19T16:16:49.979Z"
   },
   {
    "duration": 17,
    "start_time": "2023-09-19T16:18:48.402Z"
   },
   {
    "duration": 1477,
    "start_time": "2023-09-19T16:18:57.535Z"
   },
   {
    "duration": 54,
    "start_time": "2023-09-19T16:18:59.014Z"
   },
   {
    "duration": 34,
    "start_time": "2023-09-19T16:18:59.070Z"
   },
   {
    "duration": 725,
    "start_time": "2023-09-19T16:18:59.106Z"
   },
   {
    "duration": 25,
    "start_time": "2023-09-19T16:18:59.833Z"
   },
   {
    "duration": 23,
    "start_time": "2023-09-19T16:18:59.860Z"
   },
   {
    "duration": 105,
    "start_time": "2023-09-19T16:18:59.885Z"
   },
   {
    "duration": 9,
    "start_time": "2023-09-19T16:18:59.993Z"
   },
   {
    "duration": 1200,
    "start_time": "2023-09-19T16:19:00.003Z"
   },
   {
    "duration": 5,
    "start_time": "2023-09-19T16:19:01.206Z"
   },
   {
    "duration": 85,
    "start_time": "2023-09-19T16:19:01.213Z"
   },
   {
    "duration": 26956,
    "start_time": "2023-09-19T16:19:01.300Z"
   },
   {
    "duration": 191,
    "start_time": "2023-09-19T16:19:28.258Z"
   },
   {
    "duration": 54,
    "start_time": "2023-09-19T16:19:28.451Z"
   },
   {
    "duration": 104,
    "start_time": "2023-09-19T16:19:28.508Z"
   },
   {
    "duration": 1500,
    "start_time": "2023-09-19T16:20:26.331Z"
   },
   {
    "duration": 63,
    "start_time": "2023-09-19T16:20:27.833Z"
   },
   {
    "duration": 41,
    "start_time": "2023-09-19T16:20:27.898Z"
   },
   {
    "duration": 744,
    "start_time": "2023-09-19T16:20:27.941Z"
   },
   {
    "duration": 15,
    "start_time": "2023-09-19T16:20:28.687Z"
   },
   {
    "duration": 6,
    "start_time": "2023-09-19T16:20:28.704Z"
   },
   {
    "duration": 108,
    "start_time": "2023-09-19T16:20:28.712Z"
   },
   {
    "duration": 17,
    "start_time": "2023-09-19T16:20:28.822Z"
   },
   {
    "duration": 1127,
    "start_time": "2023-09-19T16:20:28.840Z"
   },
   {
    "duration": 5,
    "start_time": "2023-09-19T16:20:29.969Z"
   },
   {
    "duration": 31,
    "start_time": "2023-09-19T16:20:29.975Z"
   },
   {
    "duration": 22240,
    "start_time": "2023-09-19T16:20:30.008Z"
   },
   {
    "duration": 118,
    "start_time": "2023-09-19T16:20:52.257Z"
   },
   {
    "duration": 68,
    "start_time": "2023-09-19T16:20:52.377Z"
   },
   {
    "duration": 69,
    "start_time": "2023-09-19T16:20:52.447Z"
   },
   {
    "duration": 1414,
    "start_time": "2023-09-19T16:22:07.212Z"
   },
   {
    "duration": 59,
    "start_time": "2023-09-19T16:22:08.628Z"
   },
   {
    "duration": 41,
    "start_time": "2023-09-19T16:22:08.688Z"
   },
   {
    "duration": 680,
    "start_time": "2023-09-19T16:22:08.731Z"
   },
   {
    "duration": 15,
    "start_time": "2023-09-19T16:22:09.413Z"
   },
   {
    "duration": 10,
    "start_time": "2023-09-19T16:22:09.443Z"
   },
   {
    "duration": 103,
    "start_time": "2023-09-19T16:22:09.455Z"
   },
   {
    "duration": 28,
    "start_time": "2023-09-19T16:22:09.559Z"
   },
   {
    "duration": 1132,
    "start_time": "2023-09-19T16:22:09.588Z"
   },
   {
    "duration": 8,
    "start_time": "2023-09-19T16:22:10.723Z"
   },
   {
    "duration": 20,
    "start_time": "2023-09-19T16:22:10.733Z"
   },
   {
    "duration": 18990,
    "start_time": "2023-09-19T16:22:10.755Z"
   },
   {
    "duration": 126,
    "start_time": "2023-09-19T16:22:29.749Z"
   },
   {
    "duration": 50,
    "start_time": "2023-09-19T16:22:29.878Z"
   },
   {
    "duration": 83,
    "start_time": "2023-09-19T16:22:29.929Z"
   },
   {
    "duration": 18771,
    "start_time": "2023-09-19T16:23:28.980Z"
   },
   {
    "duration": 34,
    "start_time": "2023-09-19T16:23:58.632Z"
   },
   {
    "duration": 1443,
    "start_time": "2023-09-19T16:24:07.753Z"
   },
   {
    "duration": 57,
    "start_time": "2023-09-19T16:24:09.200Z"
   },
   {
    "duration": 36,
    "start_time": "2023-09-19T16:24:09.259Z"
   },
   {
    "duration": 703,
    "start_time": "2023-09-19T16:24:09.298Z"
   },
   {
    "duration": 16,
    "start_time": "2023-09-19T16:24:10.003Z"
   },
   {
    "duration": 43,
    "start_time": "2023-09-19T16:24:10.021Z"
   },
   {
    "duration": 104,
    "start_time": "2023-09-19T16:24:10.065Z"
   },
   {
    "duration": 15,
    "start_time": "2023-09-19T16:24:10.171Z"
   },
   {
    "duration": 1079,
    "start_time": "2023-09-19T16:24:10.188Z"
   },
   {
    "duration": 5,
    "start_time": "2023-09-19T16:24:11.269Z"
   },
   {
    "duration": 42,
    "start_time": "2023-09-19T16:24:11.276Z"
   },
   {
    "duration": 14731,
    "start_time": "2023-09-19T16:24:11.320Z"
   },
   {
    "duration": 116,
    "start_time": "2023-09-19T16:24:26.055Z"
   },
   {
    "duration": 51,
    "start_time": "2023-09-19T16:24:26.173Z"
   },
   {
    "duration": 82,
    "start_time": "2023-09-19T16:24:26.226Z"
   },
   {
    "duration": 10172,
    "start_time": "2023-09-19T16:29:43.978Z"
   },
   {
    "duration": 1540,
    "start_time": "2023-09-19T16:30:05.825Z"
   },
   {
    "duration": 51,
    "start_time": "2023-09-19T16:30:07.367Z"
   },
   {
    "duration": 39,
    "start_time": "2023-09-19T16:30:07.420Z"
   },
   {
    "duration": 697,
    "start_time": "2023-09-19T16:30:07.461Z"
   },
   {
    "duration": 105,
    "start_time": "2023-09-19T16:30:08.160Z"
   },
   {
    "duration": 7,
    "start_time": "2023-09-19T16:30:08.267Z"
   },
   {
    "duration": 11,
    "start_time": "2023-09-19T16:30:08.276Z"
   },
   {
    "duration": 11,
    "start_time": "2023-09-19T16:30:08.289Z"
   },
   {
    "duration": 1101,
    "start_time": "2023-09-19T16:30:08.302Z"
   },
   {
    "duration": 7,
    "start_time": "2023-09-19T16:30:09.406Z"
   },
   {
    "duration": 15,
    "start_time": "2023-09-19T16:30:09.416Z"
   },
   {
    "duration": 9219,
    "start_time": "2023-09-19T16:30:09.433Z"
   },
   {
    "duration": 116,
    "start_time": "2023-09-19T16:30:18.743Z"
   },
   {
    "duration": 51,
    "start_time": "2023-09-19T16:30:18.861Z"
   },
   {
    "duration": 84,
    "start_time": "2023-09-19T16:30:18.914Z"
   },
   {
    "duration": 1441,
    "start_time": "2023-09-19T16:30:48.009Z"
   },
   {
    "duration": 1528,
    "start_time": "2023-09-19T16:30:59.608Z"
   },
   {
    "duration": 50,
    "start_time": "2023-09-19T16:31:01.139Z"
   },
   {
    "duration": 74,
    "start_time": "2023-09-19T16:31:01.191Z"
   },
   {
    "duration": 751,
    "start_time": "2023-09-19T16:31:01.267Z"
   },
   {
    "duration": 16,
    "start_time": "2023-09-19T16:31:02.019Z"
   },
   {
    "duration": 89,
    "start_time": "2023-09-19T16:31:02.036Z"
   },
   {
    "duration": 200,
    "start_time": "2023-09-19T16:31:02.128Z"
   },
   {
    "duration": 39,
    "start_time": "2023-09-19T16:31:02.329Z"
   },
   {
    "duration": 1070,
    "start_time": "2023-09-19T16:31:02.369Z"
   },
   {
    "duration": 6,
    "start_time": "2023-09-19T16:31:03.441Z"
   },
   {
    "duration": 50,
    "start_time": "2023-09-19T16:31:03.448Z"
   },
   {
    "duration": 1546,
    "start_time": "2023-09-19T16:31:03.500Z"
   },
   {
    "duration": 118,
    "start_time": "2023-09-19T16:31:05.048Z"
   },
   {
    "duration": 58,
    "start_time": "2023-09-19T16:31:05.168Z"
   },
   {
    "duration": 74,
    "start_time": "2023-09-19T16:31:05.229Z"
   },
   {
    "duration": 950,
    "start_time": "2023-09-19T16:33:35.496Z"
   },
   {
    "duration": 32,
    "start_time": "2023-09-19T16:33:42.120Z"
   },
   {
    "duration": 30,
    "start_time": "2023-09-19T16:33:49.061Z"
   },
   {
    "duration": 30,
    "start_time": "2023-09-19T16:33:53.512Z"
   },
   {
    "duration": 6,
    "start_time": "2023-09-19T16:34:04.212Z"
   },
   {
    "duration": 1759,
    "start_time": "2023-09-19T16:35:03.372Z"
   },
   {
    "duration": 48,
    "start_time": "2023-09-19T16:35:05.133Z"
   },
   {
    "duration": 37,
    "start_time": "2023-09-19T16:35:05.183Z"
   },
   {
    "duration": 647,
    "start_time": "2023-09-19T16:35:05.222Z"
   },
   {
    "duration": 16,
    "start_time": "2023-09-19T16:35:05.872Z"
   },
   {
    "duration": 36,
    "start_time": "2023-09-19T16:35:05.889Z"
   },
   {
    "duration": 112,
    "start_time": "2023-09-19T16:35:05.927Z"
   },
   {
    "duration": 8,
    "start_time": "2023-09-19T16:35:06.040Z"
   },
   {
    "duration": 1046,
    "start_time": "2023-09-19T16:35:06.049Z"
   },
   {
    "duration": 5,
    "start_time": "2023-09-19T16:35:07.098Z"
   },
   {
    "duration": 35,
    "start_time": "2023-09-19T16:35:07.104Z"
   },
   {
    "duration": 1104,
    "start_time": "2023-09-19T16:35:07.141Z"
   },
   {
    "duration": 103,
    "start_time": "2023-09-19T16:35:08.249Z"
   },
   {
    "duration": 89,
    "start_time": "2023-09-19T16:35:08.354Z"
   },
   {
    "duration": 62,
    "start_time": "2023-09-19T16:35:08.445Z"
   },
   {
    "duration": 34,
    "start_time": "2023-09-19T16:35:21.696Z"
   },
   {
    "duration": 5,
    "start_time": "2023-09-19T16:36:56.813Z"
   },
   {
    "duration": 1511,
    "start_time": "2023-09-19T16:37:18.518Z"
   },
   {
    "duration": 52,
    "start_time": "2023-09-19T16:37:20.031Z"
   },
   {
    "duration": 44,
    "start_time": "2023-09-19T16:37:20.085Z"
   },
   {
    "duration": 648,
    "start_time": "2023-09-19T16:37:20.131Z"
   },
   {
    "duration": 14,
    "start_time": "2023-09-19T16:37:20.780Z"
   },
   {
    "duration": 52,
    "start_time": "2023-09-19T16:37:20.796Z"
   },
   {
    "duration": 96,
    "start_time": "2023-09-19T16:37:20.850Z"
   },
   {
    "duration": 19,
    "start_time": "2023-09-19T16:37:20.947Z"
   },
   {
    "duration": 1023,
    "start_time": "2023-09-19T16:37:20.968Z"
   },
   {
    "duration": 5,
    "start_time": "2023-09-19T16:37:21.994Z"
   },
   {
    "duration": 48,
    "start_time": "2023-09-19T16:37:22.000Z"
   },
   {
    "duration": 1108,
    "start_time": "2023-09-19T16:37:22.049Z"
   },
   {
    "duration": 32,
    "start_time": "2023-09-19T16:37:23.244Z"
   },
   {
    "duration": 106,
    "start_time": "2023-09-19T16:37:23.278Z"
   },
   {
    "duration": 72,
    "start_time": "2023-09-19T16:37:23.386Z"
   },
   {
    "duration": 9,
    "start_time": "2023-09-19T16:40:48.377Z"
   },
   {
    "duration": 1428,
    "start_time": "2023-09-19T16:42:06.345Z"
   },
   {
    "duration": 51,
    "start_time": "2023-09-19T16:42:07.776Z"
   },
   {
    "duration": 40,
    "start_time": "2023-09-19T16:42:07.829Z"
   },
   {
    "duration": 684,
    "start_time": "2023-09-19T16:42:07.871Z"
   },
   {
    "duration": 15,
    "start_time": "2023-09-19T16:42:08.557Z"
   },
   {
    "duration": 16,
    "start_time": "2023-09-19T16:42:08.574Z"
   },
   {
    "duration": 104,
    "start_time": "2023-09-19T16:42:08.591Z"
   },
   {
    "duration": 34,
    "start_time": "2023-09-19T16:42:08.696Z"
   },
   {
    "duration": 1055,
    "start_time": "2023-09-19T16:42:08.732Z"
   },
   {
    "duration": 7,
    "start_time": "2023-09-19T16:42:09.790Z"
   },
   {
    "duration": 29,
    "start_time": "2023-09-19T16:42:09.799Z"
   },
   {
    "duration": 1120,
    "start_time": "2023-09-19T16:42:09.829Z"
   },
   {
    "duration": 101,
    "start_time": "2023-09-19T16:42:10.951Z"
   },
   {
    "duration": 58,
    "start_time": "2023-09-19T16:42:11.054Z"
   },
   {
    "duration": 79,
    "start_time": "2023-09-19T16:42:11.114Z"
   },
   {
    "duration": 1336,
    "start_time": "2023-09-19T16:43:06.863Z"
   },
   {
    "duration": 49,
    "start_time": "2023-09-19T16:43:08.200Z"
   },
   {
    "duration": 37,
    "start_time": "2023-09-19T16:43:08.250Z"
   },
   {
    "duration": 652,
    "start_time": "2023-09-19T16:43:08.289Z"
   },
   {
    "duration": 14,
    "start_time": "2023-09-19T16:43:08.943Z"
   },
   {
    "duration": 7,
    "start_time": "2023-09-19T16:43:08.958Z"
   },
   {
    "duration": 102,
    "start_time": "2023-09-19T16:43:08.967Z"
   },
   {
    "duration": 22,
    "start_time": "2023-09-19T16:43:09.070Z"
   },
   {
    "duration": 981,
    "start_time": "2023-09-19T16:43:09.094Z"
   },
   {
    "duration": 5,
    "start_time": "2023-09-19T16:43:10.078Z"
   },
   {
    "duration": 42,
    "start_time": "2023-09-19T16:43:10.085Z"
   },
   {
    "duration": 1417,
    "start_time": "2023-09-19T16:43:10.128Z"
   },
   {
    "duration": 101,
    "start_time": "2023-09-19T16:43:11.549Z"
   },
   {
    "duration": 140,
    "start_time": "2023-09-19T16:43:11.652Z"
   },
   {
    "duration": 72,
    "start_time": "2023-09-19T16:43:11.793Z"
   },
   {
    "duration": 35,
    "start_time": "2023-09-19T16:43:43.115Z"
   },
   {
    "duration": 6,
    "start_time": "2023-09-19T16:44:39.675Z"
   },
   {
    "duration": 1292,
    "start_time": "2023-09-19T16:44:41.858Z"
   },
   {
    "duration": 1319,
    "start_time": "2023-09-19T16:47:04.427Z"
   },
   {
    "duration": 6,
    "start_time": "2023-09-19T16:47:08.147Z"
   },
   {
    "duration": 1204,
    "start_time": "2023-09-19T16:47:09.355Z"
   },
   {
    "duration": 29,
    "start_time": "2023-09-19T16:47:32.839Z"
   },
   {
    "duration": 3,
    "start_time": "2023-09-19T16:48:14.379Z"
   },
   {
    "duration": 1218,
    "start_time": "2023-09-19T16:49:39.335Z"
   },
   {
    "duration": 47,
    "start_time": "2023-09-19T16:49:45.099Z"
   },
   {
    "duration": 35,
    "start_time": "2023-09-19T16:50:01.020Z"
   },
   {
    "duration": 1094,
    "start_time": "2023-09-19T16:50:49.155Z"
   },
   {
    "duration": 1287,
    "start_time": "2023-09-19T16:50:50.859Z"
   },
   {
    "duration": 7,
    "start_time": "2023-09-20T05:09:22.686Z"
   },
   {
    "duration": 1443,
    "start_time": "2023-09-20T05:10:17.195Z"
   },
   {
    "duration": 120,
    "start_time": "2023-09-20T05:10:18.640Z"
   },
   {
    "duration": 35,
    "start_time": "2023-09-20T05:10:18.761Z"
   },
   {
    "duration": 621,
    "start_time": "2023-09-20T05:10:18.798Z"
   },
   {
    "duration": 14,
    "start_time": "2023-09-20T05:10:19.421Z"
   },
   {
    "duration": 17,
    "start_time": "2023-09-20T05:10:19.436Z"
   },
   {
    "duration": 75,
    "start_time": "2023-09-20T05:10:19.455Z"
   },
   {
    "duration": 20,
    "start_time": "2023-09-20T05:10:19.531Z"
   },
   {
    "duration": 1012,
    "start_time": "2023-09-20T05:10:19.552Z"
   },
   {
    "duration": 5,
    "start_time": "2023-09-20T05:10:20.567Z"
   },
   {
    "duration": 13,
    "start_time": "2023-09-20T05:10:20.574Z"
   },
   {
    "duration": 1267,
    "start_time": "2023-09-20T05:10:20.588Z"
   },
   {
    "duration": 203,
    "start_time": "2023-09-20T05:10:21.857Z"
   },
   {
    "duration": 26,
    "start_time": "2023-09-20T05:10:22.061Z"
   },
   {
    "duration": 64,
    "start_time": "2023-09-20T05:10:22.088Z"
   },
   {
    "duration": 54,
    "start_time": "2023-09-20T05:10:22.154Z"
   },
   {
    "duration": 3,
    "start_time": "2023-09-20T05:10:22.209Z"
   },
   {
    "duration": 88,
    "start_time": "2023-09-20T05:10:22.213Z"
   },
   {
    "duration": 0,
    "start_time": "2023-09-20T05:10:22.302Z"
   },
   {
    "duration": 82,
    "start_time": "2023-09-20T05:11:49.761Z"
   },
   {
    "duration": 3,
    "start_time": "2023-09-20T05:12:02.413Z"
   },
   {
    "duration": 99,
    "start_time": "2023-09-20T05:12:09.526Z"
   },
   {
    "duration": 7127,
    "start_time": "2023-09-20T05:12:28.506Z"
   },
   {
    "duration": 5,
    "start_time": "2023-09-20T05:14:03.105Z"
   },
   {
    "duration": 3,
    "start_time": "2023-09-20T05:15:08.917Z"
   },
   {
    "duration": 4,
    "start_time": "2023-09-20T05:15:34.104Z"
   },
   {
    "duration": 3,
    "start_time": "2023-09-20T05:15:59.749Z"
   },
   {
    "duration": 3,
    "start_time": "2023-09-20T05:16:04.686Z"
   },
   {
    "duration": 3,
    "start_time": "2023-09-20T05:16:06.095Z"
   },
   {
    "duration": 14893,
    "start_time": "2023-09-20T05:16:07.584Z"
   },
   {
    "duration": 5,
    "start_time": "2023-09-20T05:16:22.479Z"
   },
   {
    "duration": 7,
    "start_time": "2023-09-20T05:16:22.498Z"
   },
   {
    "duration": 3,
    "start_time": "2023-09-20T05:17:32.668Z"
   },
   {
    "duration": 4,
    "start_time": "2023-09-20T05:17:36.085Z"
   },
   {
    "duration": 49766,
    "start_time": "2023-09-20T05:17:37.447Z"
   },
   {
    "duration": 4,
    "start_time": "2023-09-20T05:18:27.214Z"
   },
   {
    "duration": 34,
    "start_time": "2023-09-20T05:18:27.219Z"
   },
   {
    "duration": 3,
    "start_time": "2023-09-20T05:19:33.053Z"
   },
   {
    "duration": 3,
    "start_time": "2023-09-20T05:19:34.737Z"
   },
   {
    "duration": 47210,
    "start_time": "2023-09-20T05:19:35.934Z"
   },
   {
    "duration": 4,
    "start_time": "2023-09-20T05:20:23.146Z"
   },
   {
    "duration": 33,
    "start_time": "2023-09-20T05:20:23.152Z"
   },
   {
    "duration": 3,
    "start_time": "2023-09-20T05:21:48.584Z"
   },
   {
    "duration": 3,
    "start_time": "2023-09-20T05:21:51.905Z"
   },
   {
    "duration": 63639,
    "start_time": "2023-09-20T05:21:53.154Z"
   },
   {
    "duration": 4,
    "start_time": "2023-09-20T05:22:56.795Z"
   },
   {
    "duration": 6,
    "start_time": "2023-09-20T05:22:56.800Z"
   },
   {
    "duration": 2,
    "start_time": "2023-09-20T05:24:15.396Z"
   },
   {
    "duration": 3,
    "start_time": "2023-09-20T05:24:16.991Z"
   },
   {
    "duration": 34212,
    "start_time": "2023-09-20T05:24:18.112Z"
   },
   {
    "duration": 4,
    "start_time": "2023-09-20T05:24:52.326Z"
   },
   {
    "duration": 19,
    "start_time": "2023-09-20T05:24:52.331Z"
   },
   {
    "duration": 3,
    "start_time": "2023-09-20T05:25:58.848Z"
   },
   {
    "duration": 3,
    "start_time": "2023-09-20T05:26:01.961Z"
   },
   {
    "duration": 45665,
    "start_time": "2023-09-20T05:26:02.913Z"
   },
   {
    "duration": 4,
    "start_time": "2023-09-20T05:26:48.581Z"
   },
   {
    "duration": 5,
    "start_time": "2023-09-20T05:26:48.586Z"
   },
   {
    "duration": 2,
    "start_time": "2023-09-20T05:28:16.565Z"
   },
   {
    "duration": 3,
    "start_time": "2023-09-20T05:28:17.719Z"
   },
   {
    "duration": 238174,
    "start_time": "2023-09-20T05:28:18.910Z"
   },
   {
    "duration": 4,
    "start_time": "2023-09-20T05:32:17.086Z"
   },
   {
    "duration": 11,
    "start_time": "2023-09-20T05:32:17.091Z"
   },
   {
    "duration": 2,
    "start_time": "2023-09-20T05:34:02.164Z"
   },
   {
    "duration": 3,
    "start_time": "2023-09-20T05:34:03.796Z"
   },
   {
    "duration": 13803,
    "start_time": "2023-09-20T05:34:04.826Z"
   },
   {
    "duration": 5,
    "start_time": "2023-09-20T05:34:18.631Z"
   },
   {
    "duration": 16,
    "start_time": "2023-09-20T05:34:18.637Z"
   },
   {
    "duration": 3,
    "start_time": "2023-09-20T05:35:12.570Z"
   },
   {
    "duration": 3,
    "start_time": "2023-09-20T05:35:15.423Z"
   },
   {
    "duration": 34013,
    "start_time": "2023-09-20T05:35:16.658Z"
   },
   {
    "duration": 5,
    "start_time": "2023-09-20T05:35:50.673Z"
   },
   {
    "duration": 17,
    "start_time": "2023-09-20T05:35:50.679Z"
   },
   {
    "duration": 4,
    "start_time": "2023-09-20T05:37:15.981Z"
   },
   {
    "duration": 3,
    "start_time": "2023-09-20T05:37:17.738Z"
   },
   {
    "duration": 48217,
    "start_time": "2023-09-20T05:37:18.952Z"
   },
   {
    "duration": 5,
    "start_time": "2023-09-20T05:38:07.171Z"
   },
   {
    "duration": 5,
    "start_time": "2023-09-20T05:38:07.177Z"
   },
   {
    "duration": 3,
    "start_time": "2023-09-20T05:38:37.235Z"
   },
   {
    "duration": 2,
    "start_time": "2023-09-20T05:39:02.722Z"
   },
   {
    "duration": 3,
    "start_time": "2023-09-20T05:39:04.334Z"
   },
   {
    "duration": 529780,
    "start_time": "2023-09-20T05:39:05.476Z"
   },
   {
    "duration": 3,
    "start_time": "2023-09-20T05:47:55.258Z"
   },
   {
    "duration": 15,
    "start_time": "2023-09-20T05:47:55.263Z"
   },
   {
    "duration": 3,
    "start_time": "2023-09-20T05:51:33.498Z"
   },
   {
    "duration": 3,
    "start_time": "2023-09-20T05:51:34.840Z"
   },
   {
    "duration": 3,
    "start_time": "2023-09-20T05:51:35.704Z"
   },
   {
    "duration": 11226,
    "start_time": "2023-09-20T05:51:36.460Z"
   },
   {
    "duration": 5,
    "start_time": "2023-09-20T05:51:47.688Z"
   },
   {
    "duration": 60,
    "start_time": "2023-09-20T05:51:47.694Z"
   },
   {
    "duration": 3,
    "start_time": "2023-09-20T05:53:22.985Z"
   },
   {
    "duration": 3,
    "start_time": "2023-09-20T05:53:25.206Z"
   },
   {
    "duration": 235748,
    "start_time": "2023-09-20T05:53:26.222Z"
   },
   {
    "duration": 4,
    "start_time": "2023-09-20T05:57:21.972Z"
   },
   {
    "duration": 32,
    "start_time": "2023-09-20T05:57:21.978Z"
   },
   {
    "duration": 3,
    "start_time": "2023-09-20T05:58:21.911Z"
   },
   {
    "duration": 2,
    "start_time": "2023-09-20T05:58:23.463Z"
   },
   {
    "duration": 23931,
    "start_time": "2023-09-20T05:58:24.358Z"
   },
   {
    "duration": 4,
    "start_time": "2023-09-20T05:58:48.291Z"
   },
   {
    "duration": 25,
    "start_time": "2023-09-20T05:58:48.296Z"
   },
   {
    "duration": 2,
    "start_time": "2023-09-20T05:59:39.174Z"
   },
   {
    "duration": 3,
    "start_time": "2023-09-20T05:59:40.598Z"
   },
   {
    "duration": 62418,
    "start_time": "2023-09-20T05:59:41.478Z"
   },
   {
    "duration": 4,
    "start_time": "2023-09-20T06:00:43.898Z"
   },
   {
    "duration": 5,
    "start_time": "2023-09-20T06:02:34.637Z"
   },
   {
    "duration": 63757,
    "start_time": "2023-09-20T06:02:47.547Z"
   },
   {
    "duration": 3,
    "start_time": "2023-09-20T06:03:51.306Z"
   },
   {
    "duration": 38,
    "start_time": "2023-09-20T06:03:51.311Z"
   },
   {
    "duration": 25,
    "start_time": "2023-09-20T06:03:51.351Z"
   },
   {
    "duration": 0,
    "start_time": "2023-09-20T06:03:51.377Z"
   },
   {
    "duration": 3,
    "start_time": "2023-09-20T06:06:45.885Z"
   },
   {
    "duration": 2,
    "start_time": "2023-09-20T06:06:47.580Z"
   },
   {
    "duration": 65816,
    "start_time": "2023-09-20T06:06:48.862Z"
   },
   {
    "duration": 4,
    "start_time": "2023-09-20T06:07:54.680Z"
   },
   {
    "duration": 8,
    "start_time": "2023-09-20T06:07:54.686Z"
   },
   {
    "duration": 3,
    "start_time": "2023-09-20T06:09:01.647Z"
   },
   {
    "duration": 3,
    "start_time": "2023-09-20T06:09:04.517Z"
   },
   {
    "duration": 2505,
    "start_time": "2023-09-20T06:09:05.377Z"
   },
   {
    "duration": 4,
    "start_time": "2023-09-20T06:09:07.884Z"
   },
   {
    "duration": 4,
    "start_time": "2023-09-20T06:09:10.324Z"
   },
   {
    "duration": 3,
    "start_time": "2023-09-20T06:10:42.180Z"
   },
   {
    "duration": 3,
    "start_time": "2023-09-20T06:10:43.718Z"
   },
   {
    "duration": 4192,
    "start_time": "2023-09-20T06:10:44.697Z"
   },
   {
    "duration": 4,
    "start_time": "2023-09-20T06:10:48.891Z"
   },
   {
    "duration": 3,
    "start_time": "2023-09-20T06:11:09.869Z"
   },
   {
    "duration": 3,
    "start_time": "2023-09-20T06:11:11.303Z"
   },
   {
    "duration": 870,
    "start_time": "2023-09-20T06:11:12.464Z"
   },
   {
    "duration": 4,
    "start_time": "2023-09-20T06:11:13.336Z"
   },
   {
    "duration": 4,
    "start_time": "2023-09-20T06:11:15.072Z"
   },
   {
    "duration": 3,
    "start_time": "2023-09-20T06:11:34.787Z"
   },
   {
    "duration": 3,
    "start_time": "2023-09-20T06:11:36.157Z"
   },
   {
    "duration": 3302,
    "start_time": "2023-09-20T06:11:37.172Z"
   },
   {
    "duration": 4,
    "start_time": "2023-09-20T06:11:40.477Z"
   },
   {
    "duration": 27,
    "start_time": "2023-09-20T06:11:40.482Z"
   },
   {
    "duration": 3,
    "start_time": "2023-09-20T06:11:57.148Z"
   },
   {
    "duration": 2,
    "start_time": "2023-09-20T06:11:58.469Z"
   },
   {
    "duration": 11869,
    "start_time": "2023-09-20T06:11:59.422Z"
   },
   {
    "duration": 4,
    "start_time": "2023-09-20T06:12:11.292Z"
   },
   {
    "duration": 16,
    "start_time": "2023-09-20T06:12:11.297Z"
   },
   {
    "duration": 1356,
    "start_time": "2023-09-20T06:15:14.241Z"
   },
   {
    "duration": 49,
    "start_time": "2023-09-20T06:15:15.598Z"
   },
   {
    "duration": 36,
    "start_time": "2023-09-20T06:15:15.649Z"
   },
   {
    "duration": 723,
    "start_time": "2023-09-20T06:15:15.687Z"
   },
   {
    "duration": 14,
    "start_time": "2023-09-20T06:15:16.412Z"
   },
   {
    "duration": 6,
    "start_time": "2023-09-20T06:15:16.428Z"
   },
   {
    "duration": 80,
    "start_time": "2023-09-20T06:15:16.449Z"
   },
   {
    "duration": 19,
    "start_time": "2023-09-20T06:15:16.530Z"
   },
   {
    "duration": 993,
    "start_time": "2023-09-20T06:15:16.551Z"
   },
   {
    "duration": 5,
    "start_time": "2023-09-20T06:15:17.547Z"
   },
   {
    "duration": 16,
    "start_time": "2023-09-20T06:15:17.553Z"
   },
   {
    "duration": 1184,
    "start_time": "2023-09-20T06:15:17.570Z"
   },
   {
    "duration": 106,
    "start_time": "2023-09-20T06:15:18.756Z"
   },
   {
    "duration": 103,
    "start_time": "2023-09-20T06:15:18.864Z"
   },
   {
    "duration": 48,
    "start_time": "2023-09-20T06:15:18.969Z"
   },
   {
    "duration": 83,
    "start_time": "2023-09-20T06:15:19.018Z"
   },
   {
    "duration": 3,
    "start_time": "2023-09-20T06:15:19.102Z"
   },
   {
    "duration": 13,
    "start_time": "2023-09-20T06:15:19.106Z"
   },
   {
    "duration": 4076,
    "start_time": "2023-09-20T06:15:19.121Z"
   },
   {
    "duration": 5,
    "start_time": "2023-09-20T06:15:23.199Z"
   },
   {
    "duration": 30,
    "start_time": "2023-09-20T06:15:23.205Z"
   },
   {
    "duration": 3,
    "start_time": "2023-09-20T06:19:50.503Z"
   },
   {
    "duration": 3,
    "start_time": "2023-09-20T06:19:52.482Z"
   },
   {
    "duration": 466880,
    "start_time": "2023-09-20T06:27:22.549Z"
   },
   {
    "duration": 4,
    "start_time": "2023-09-20T06:35:09.431Z"
   },
   {
    "duration": 26,
    "start_time": "2023-09-20T06:35:09.437Z"
   },
   {
    "duration": 3,
    "start_time": "2023-09-20T06:40:53.497Z"
   },
   {
    "duration": 3,
    "start_time": "2023-09-20T06:40:54.545Z"
   },
   {
    "duration": 67898,
    "start_time": "2023-09-20T06:40:55.709Z"
   },
   {
    "duration": 4,
    "start_time": "2023-09-20T06:42:03.609Z"
   },
   {
    "duration": 30,
    "start_time": "2023-09-20T06:42:03.614Z"
   },
   {
    "duration": 4,
    "start_time": "2023-09-20T06:45:17.356Z"
   },
   {
    "duration": 4,
    "start_time": "2023-09-20T06:45:18.567Z"
   },
   {
    "duration": 4,
    "start_time": "2023-09-20T06:45:19.547Z"
   },
   {
    "duration": 48999,
    "start_time": "2023-09-20T06:45:20.560Z"
   },
   {
    "duration": 4,
    "start_time": "2023-09-20T06:46:09.560Z"
   },
   {
    "duration": 5,
    "start_time": "2023-09-20T06:46:09.565Z"
   },
   {
    "duration": 3,
    "start_time": "2023-09-20T06:47:07.910Z"
   },
   {
    "duration": 3,
    "start_time": "2023-09-20T06:47:09.312Z"
   },
   {
    "duration": 1571,
    "start_time": "2023-09-20T06:47:10.384Z"
   },
   {
    "duration": 5,
    "start_time": "2023-09-20T06:47:11.957Z"
   },
   {
    "duration": 4,
    "start_time": "2023-09-20T06:47:13.984Z"
   },
   {
    "duration": 3,
    "start_time": "2023-09-20T06:47:31.787Z"
   },
   {
    "duration": 3,
    "start_time": "2023-09-20T06:47:33.082Z"
   },
   {
    "duration": 15477,
    "start_time": "2023-09-20T06:47:33.924Z"
   },
   {
    "duration": 4,
    "start_time": "2023-09-20T06:47:49.403Z"
   },
   {
    "duration": 5,
    "start_time": "2023-09-20T06:47:49.409Z"
   },
   {
    "duration": 3,
    "start_time": "2023-09-20T06:48:22.096Z"
   },
   {
    "duration": 3,
    "start_time": "2023-09-20T06:48:33.884Z"
   },
   {
    "duration": 3,
    "start_time": "2023-09-20T06:48:35.145Z"
   },
   {
    "duration": 22051,
    "start_time": "2023-09-20T06:48:36.242Z"
   },
   {
    "duration": 4,
    "start_time": "2023-09-20T06:48:58.295Z"
   },
   {
    "duration": 32,
    "start_time": "2023-09-20T06:48:58.301Z"
   },
   {
    "duration": 3,
    "start_time": "2023-09-20T06:49:32.202Z"
   },
   {
    "duration": 4,
    "start_time": "2023-09-20T06:49:33.897Z"
   },
   {
    "duration": 36887,
    "start_time": "2023-09-20T06:49:34.912Z"
   },
   {
    "duration": 5,
    "start_time": "2023-09-20T06:50:11.801Z"
   },
   {
    "duration": 15,
    "start_time": "2023-09-20T06:50:11.808Z"
   },
   {
    "duration": 4,
    "start_time": "2023-09-20T06:51:00.602Z"
   },
   {
    "duration": 4,
    "start_time": "2023-09-20T06:51:02.101Z"
   },
   {
    "duration": 183657,
    "start_time": "2023-09-20T06:51:03.220Z"
   },
   {
    "duration": 4,
    "start_time": "2023-09-20T06:54:06.879Z"
   },
   {
    "duration": 27,
    "start_time": "2023-09-20T06:54:06.884Z"
   },
   {
    "duration": 3,
    "start_time": "2023-09-20T06:55:22.333Z"
   },
   {
    "duration": 3,
    "start_time": "2023-09-20T06:55:23.772Z"
   },
   {
    "duration": 22103,
    "start_time": "2023-09-20T06:55:24.816Z"
   },
   {
    "duration": 4,
    "start_time": "2023-09-20T06:55:46.921Z"
   },
   {
    "duration": 60,
    "start_time": "2023-09-20T06:55:46.926Z"
   },
   {
    "duration": 3,
    "start_time": "2023-09-20T06:56:06.210Z"
   },
   {
    "duration": 3,
    "start_time": "2023-09-20T06:56:07.569Z"
   },
   {
    "duration": 25755,
    "start_time": "2023-09-20T06:56:08.385Z"
   },
   {
    "duration": 7,
    "start_time": "2023-09-20T06:56:34.142Z"
   },
   {
    "duration": 14,
    "start_time": "2023-09-20T06:56:34.155Z"
   },
   {
    "duration": 3,
    "start_time": "2023-09-20T06:56:52.162Z"
   },
   {
    "duration": 3,
    "start_time": "2023-09-20T06:56:53.515Z"
   },
   {
    "duration": 261473,
    "start_time": "2023-09-20T06:56:54.423Z"
   },
   {
    "duration": 5,
    "start_time": "2023-09-20T07:01:15.899Z"
   },
   {
    "duration": 6,
    "start_time": "2023-09-20T07:01:15.906Z"
   },
   {
    "duration": 4,
    "start_time": "2023-09-20T07:04:19.188Z"
   },
   {
    "duration": 13,
    "start_time": "2023-09-20T07:04:20.747Z"
   },
   {
    "duration": 1813,
    "start_time": "2023-09-20T07:04:22.719Z"
   },
   {
    "duration": 4,
    "start_time": "2023-09-20T07:04:24.534Z"
   },
   {
    "duration": 3,
    "start_time": "2023-09-20T07:04:26.389Z"
   },
   {
    "duration": 3,
    "start_time": "2023-09-20T07:04:32.690Z"
   },
   {
    "duration": 3,
    "start_time": "2023-09-20T07:04:36.726Z"
   },
   {
    "duration": 3,
    "start_time": "2023-09-20T07:04:38.003Z"
   },
   {
    "duration": 17217,
    "start_time": "2023-09-20T07:04:38.963Z"
   },
   {
    "duration": 5,
    "start_time": "2023-09-20T07:04:56.182Z"
   },
   {
    "duration": 17,
    "start_time": "2023-09-20T07:04:56.189Z"
   },
   {
    "duration": 105,
    "start_time": "2023-09-20T07:47:27.096Z"
   },
   {
    "duration": 22,
    "start_time": "2023-09-20T07:49:33.966Z"
   },
   {
    "duration": 3,
    "start_time": "2023-09-20T07:51:12.947Z"
   },
   {
    "duration": 5,
    "start_time": "2023-09-20T07:51:26.013Z"
   },
   {
    "duration": 8,
    "start_time": "2023-09-20T07:51:43.794Z"
   },
   {
    "duration": 4,
    "start_time": "2023-09-20T07:51:51.466Z"
   },
   {
    "duration": 118,
    "start_time": "2023-09-20T07:52:08.634Z"
   },
   {
    "duration": 3,
    "start_time": "2023-09-20T07:52:51.305Z"
   },
   {
    "duration": 89,
    "start_time": "2023-09-20T07:53:00.520Z"
   },
   {
    "duration": 3,
    "start_time": "2023-09-20T07:53:27.375Z"
   },
   {
    "duration": 3667,
    "start_time": "2023-09-20T07:53:52.993Z"
   },
   {
    "duration": 86,
    "start_time": "2023-09-20T07:54:04.805Z"
   },
   {
    "duration": 4,
    "start_time": "2023-09-20T07:54:54.241Z"
   },
   {
    "duration": 4,
    "start_time": "2023-09-20T07:56:05.921Z"
   },
   {
    "duration": 21,
    "start_time": "2023-09-20T07:56:08.362Z"
   },
   {
    "duration": 4,
    "start_time": "2023-09-20T07:57:33.290Z"
   },
   {
    "duration": 2,
    "start_time": "2023-09-20T07:57:52.684Z"
   },
   {
    "duration": 5,
    "start_time": "2023-09-20T07:57:59.364Z"
   },
   {
    "duration": 300052,
    "start_time": "2023-09-20T07:58:35.013Z"
   },
   {
    "duration": 0,
    "start_time": "2023-09-20T08:03:35.067Z"
   },
   {
    "duration": 253438,
    "start_time": "2023-09-20T08:04:38.016Z"
   },
   {
    "duration": 4,
    "start_time": "2023-09-20T08:13:08.118Z"
   },
   {
    "duration": 3103595,
    "start_time": "2023-09-20T08:14:51.864Z"
   },
   {
    "duration": 4,
    "start_time": "2023-09-20T09:06:35.461Z"
   },
   {
    "duration": 537323,
    "start_time": "2023-09-20T09:10:00.440Z"
   },
   {
    "duration": 4,
    "start_time": "2023-09-20T09:18:57.764Z"
   },
   {
    "duration": 1722,
    "start_time": "2023-09-20T09:31:24.850Z"
   },
   {
    "duration": 5,
    "start_time": "2023-09-20T09:31:30.883Z"
   },
   {
    "duration": 10,
    "start_time": "2023-09-20T09:32:17.302Z"
   },
   {
    "duration": 366,
    "start_time": "2023-09-20T09:43:12.797Z"
   },
   {
    "duration": 16711,
    "start_time": "2023-09-20T09:43:33.171Z"
   },
   {
    "duration": 10,
    "start_time": "2023-09-20T09:43:55.063Z"
   },
   {
    "duration": 10,
    "start_time": "2023-09-20T09:43:57.461Z"
   },
   {
    "duration": 6,
    "start_time": "2023-09-20T09:44:17.491Z"
   },
   {
    "duration": 3,
    "start_time": "2023-09-20T09:44:23.323Z"
   },
   {
    "duration": 4,
    "start_time": "2023-09-20T09:44:56.923Z"
   },
   {
    "duration": 503,
    "start_time": "2023-09-20T09:50:37.476Z"
   },
   {
    "duration": 944,
    "start_time": "2023-09-20T09:50:59.608Z"
   },
   {
    "duration": 391,
    "start_time": "2023-09-20T09:56:50.673Z"
   },
   {
    "duration": 1717,
    "start_time": "2023-09-20T10:08:23.133Z"
   },
   {
    "duration": 18479,
    "start_time": "2023-09-20T10:08:39.192Z"
   },
   {
    "duration": 3,
    "start_time": "2023-09-20T10:10:14.295Z"
   },
   {
    "duration": 2952,
    "start_time": "2023-09-20T10:10:25.002Z"
   },
   {
    "duration": 7,
    "start_time": "2023-09-20T10:28:07.802Z"
   },
   {
    "duration": 5,
    "start_time": "2023-09-20T10:30:18.903Z"
   },
   {
    "duration": 12,
    "start_time": "2023-09-20T10:30:41.883Z"
   },
   {
    "duration": 6,
    "start_time": "2023-09-20T10:31:16.163Z"
   },
   {
    "duration": 7,
    "start_time": "2023-09-20T10:31:32.483Z"
   },
   {
    "duration": 27,
    "start_time": "2023-09-20T10:35:57.883Z"
   },
   {
    "duration": 63,
    "start_time": "2023-09-20T10:36:41.188Z"
   },
   {
    "duration": 12,
    "start_time": "2023-09-20T10:37:49.139Z"
   },
   {
    "duration": 4,
    "start_time": "2023-09-20T10:38:19.678Z"
   },
   {
    "duration": 5,
    "start_time": "2023-09-20T10:38:21.286Z"
   },
   {
    "duration": 5,
    "start_time": "2023-09-20T10:38:22.561Z"
   },
   {
    "duration": 12,
    "start_time": "2023-09-20T10:39:37.364Z"
   },
   {
    "duration": 5,
    "start_time": "2023-09-20T10:39:54.689Z"
   },
   {
    "duration": 10,
    "start_time": "2023-09-20T10:46:33.288Z"
   },
   {
    "duration": 15,
    "start_time": "2023-09-20T10:46:54.929Z"
   },
   {
    "duration": 9,
    "start_time": "2023-09-20T10:48:09.796Z"
   },
   {
    "duration": 5,
    "start_time": "2023-09-20T10:48:12.735Z"
   },
   {
    "duration": 3,
    "start_time": "2023-09-20T10:54:46.430Z"
   },
   {
    "duration": 3,
    "start_time": "2023-09-20T10:55:11.773Z"
   },
   {
    "duration": 3,
    "start_time": "2023-09-20T10:56:11.307Z"
   },
   {
    "duration": 1424,
    "start_time": "2023-09-20T11:21:56.473Z"
   },
   {
    "duration": 48,
    "start_time": "2023-09-20T11:21:57.898Z"
   },
   {
    "duration": 43,
    "start_time": "2023-09-20T11:21:57.948Z"
   },
   {
    "duration": 727,
    "start_time": "2023-09-20T11:21:57.992Z"
   },
   {
    "duration": 14,
    "start_time": "2023-09-20T11:21:58.722Z"
   },
   {
    "duration": 18,
    "start_time": "2023-09-20T11:21:58.737Z"
   },
   {
    "duration": 9,
    "start_time": "2023-09-20T11:21:58.756Z"
   },
   {
    "duration": 9,
    "start_time": "2023-09-20T11:21:58.766Z"
   },
   {
    "duration": 985,
    "start_time": "2023-09-20T11:21:58.777Z"
   },
   {
    "duration": 5,
    "start_time": "2023-09-20T11:21:59.764Z"
   },
   {
    "duration": 8,
    "start_time": "2023-09-20T11:21:59.771Z"
   },
   {
    "duration": 2169,
    "start_time": "2023-09-20T11:21:59.780Z"
   },
   {
    "duration": 23,
    "start_time": "2023-09-20T11:22:01.953Z"
   },
   {
    "duration": 18,
    "start_time": "2023-09-20T11:22:02.057Z"
   },
   {
    "duration": 189,
    "start_time": "2023-09-20T11:22:02.077Z"
   },
   {
    "duration": 122,
    "start_time": "2023-09-20T11:22:02.267Z"
   },
   {
    "duration": 162,
    "start_time": "2023-09-20T11:22:02.390Z"
   },
   {
    "duration": 47,
    "start_time": "2023-09-20T11:22:02.554Z"
   },
   {
    "duration": 16603,
    "start_time": "2023-09-20T11:22:02.603Z"
   },
   {
    "duration": 5,
    "start_time": "2023-09-20T11:22:19.208Z"
   },
   {
    "duration": 15,
    "start_time": "2023-09-20T11:22:19.215Z"
   },
   {
    "duration": 33,
    "start_time": "2023-09-20T11:22:19.232Z"
   },
   {
    "duration": 26,
    "start_time": "2023-09-20T11:22:19.267Z"
   },
   {
    "duration": 41,
    "start_time": "2023-09-20T11:22:19.295Z"
   },
   {
    "duration": 34,
    "start_time": "2023-09-20T11:22:19.337Z"
   },
   {
    "duration": 1884,
    "start_time": "2023-09-20T11:22:19.373Z"
   },
   {
    "duration": 7,
    "start_time": "2023-09-20T11:22:21.259Z"
   },
   {
    "duration": 488,
    "start_time": "2023-09-20T11:22:21.267Z"
   },
   {
    "duration": 1698,
    "start_time": "2023-09-20T11:22:21.757Z"
   },
   {
    "duration": 6,
    "start_time": "2023-09-20T11:22:23.464Z"
   },
   {
    "duration": 23,
    "start_time": "2023-09-20T11:22:23.472Z"
   },
   {
    "duration": 971,
    "start_time": "2023-09-20T11:22:23.496Z"
   },
   {
    "duration": 7186,
    "start_time": "2023-09-20T11:22:24.469Z"
   },
   {
    "duration": 3298,
    "start_time": "2023-09-20T11:22:31.657Z"
   },
   {
    "duration": 92,
    "start_time": "2023-09-20T11:22:34.957Z"
   },
   {
    "duration": 102,
    "start_time": "2023-09-20T11:22:35.051Z"
   },
   {
    "duration": 59,
    "start_time": "2023-09-20T11:22:35.155Z"
   },
   {
    "duration": 52,
    "start_time": "2023-09-20T11:22:35.216Z"
   },
   {
    "duration": 32,
    "start_time": "2023-09-20T11:22:35.270Z"
   },
   {
    "duration": 44,
    "start_time": "2023-09-20T11:22:35.303Z"
   },
   {
    "duration": 1519,
    "start_time": "2023-09-20T12:52:48.176Z"
   },
   {
    "duration": 136,
    "start_time": "2023-09-20T12:52:49.697Z"
   },
   {
    "duration": 38,
    "start_time": "2023-09-20T12:52:49.834Z"
   },
   {
    "duration": 675,
    "start_time": "2023-09-20T12:52:49.873Z"
   },
   {
    "duration": 14,
    "start_time": "2023-09-20T12:52:50.551Z"
   },
   {
    "duration": 293,
    "start_time": "2023-09-20T12:52:50.566Z"
   },
   {
    "duration": 259,
    "start_time": "2023-09-20T12:52:50.861Z"
   },
   {
    "duration": 95,
    "start_time": "2023-09-20T12:52:51.122Z"
   },
   {
    "duration": 1035,
    "start_time": "2023-09-20T12:52:51.219Z"
   },
   {
    "duration": 5,
    "start_time": "2023-09-20T12:52:52.255Z"
   },
   {
    "duration": 27,
    "start_time": "2023-09-20T12:52:52.261Z"
   },
   {
    "duration": 34,
    "start_time": "2023-09-20T12:52:52.289Z"
   },
   {
    "duration": 6,
    "start_time": "2023-09-20T12:52:52.327Z"
   },
   {
    "duration": 1050,
    "start_time": "2023-09-20T12:52:58.901Z"
   },
   {
    "duration": 1165,
    "start_time": "2023-09-20T12:53:49.786Z"
   },
   {
    "duration": 1397,
    "start_time": "2023-09-20T12:58:44.706Z"
   },
   {
    "duration": 45,
    "start_time": "2023-09-20T12:58:46.105Z"
   },
   {
    "duration": 35,
    "start_time": "2023-09-20T12:58:46.151Z"
   },
   {
    "duration": 668,
    "start_time": "2023-09-20T12:58:46.188Z"
   },
   {
    "duration": 12,
    "start_time": "2023-09-20T12:58:46.858Z"
   },
   {
    "duration": 12,
    "start_time": "2023-09-20T12:58:46.872Z"
   },
   {
    "duration": 11,
    "start_time": "2023-09-20T12:58:46.886Z"
   },
   {
    "duration": 12,
    "start_time": "2023-09-20T12:58:46.899Z"
   },
   {
    "duration": 962,
    "start_time": "2023-09-20T12:58:46.912Z"
   },
   {
    "duration": 5,
    "start_time": "2023-09-20T12:58:47.875Z"
   },
   {
    "duration": 39,
    "start_time": "2023-09-20T12:58:47.881Z"
   },
   {
    "duration": 40,
    "start_time": "2023-09-20T12:58:47.922Z"
   },
   {
    "duration": 6,
    "start_time": "2023-09-20T12:58:47.963Z"
   },
   {
    "duration": 1179,
    "start_time": "2023-09-20T12:58:47.971Z"
   },
   {
    "duration": 4,
    "start_time": "2023-09-20T13:00:54.186Z"
   },
   {
    "duration": 3,
    "start_time": "2023-09-20T13:00:59.784Z"
   },
   {
    "duration": 680,
    "start_time": "2023-09-20T13:01:01.237Z"
   },
   {
    "duration": 5,
    "start_time": "2023-09-20T13:01:03.746Z"
   },
   {
    "duration": 4,
    "start_time": "2023-09-20T13:01:07.386Z"
   },
   {
    "duration": 3,
    "start_time": "2023-09-20T13:01:30.838Z"
   },
   {
    "duration": 688,
    "start_time": "2023-09-20T13:01:31.956Z"
   },
   {
    "duration": 4,
    "start_time": "2023-09-20T13:01:35.096Z"
   },
   {
    "duration": 4,
    "start_time": "2023-09-20T13:01:36.996Z"
   },
   {
    "duration": 3,
    "start_time": "2023-09-20T13:02:18.810Z"
   },
   {
    "duration": 47,
    "start_time": "2023-09-20T13:02:32.094Z"
   },
   {
    "duration": 1409,
    "start_time": "2023-09-20T13:02:36.506Z"
   },
   {
    "duration": 46,
    "start_time": "2023-09-20T13:02:37.917Z"
   },
   {
    "duration": 36,
    "start_time": "2023-09-20T13:02:37.965Z"
   },
   {
    "duration": 695,
    "start_time": "2023-09-20T13:02:38.003Z"
   },
   {
    "duration": 14,
    "start_time": "2023-09-20T13:02:38.700Z"
   },
   {
    "duration": 17,
    "start_time": "2023-09-20T13:02:38.715Z"
   },
   {
    "duration": 23,
    "start_time": "2023-09-20T13:02:38.744Z"
   },
   {
    "duration": 20,
    "start_time": "2023-09-20T13:02:38.768Z"
   },
   {
    "duration": 961,
    "start_time": "2023-09-20T13:02:38.789Z"
   },
   {
    "duration": 5,
    "start_time": "2023-09-20T13:02:39.751Z"
   },
   {
    "duration": 9,
    "start_time": "2023-09-20T13:02:39.757Z"
   },
   {
    "duration": 1083,
    "start_time": "2023-09-20T13:02:39.767Z"
   },
   {
    "duration": 234,
    "start_time": "2023-09-20T13:02:40.852Z"
   },
   {
    "duration": 88,
    "start_time": "2023-09-20T13:02:41.089Z"
   },
   {
    "duration": 3,
    "start_time": "2023-09-20T13:02:41.179Z"
   },
   {
    "duration": 41,
    "start_time": "2023-09-20T13:02:41.183Z"
   },
   {
    "duration": 16296,
    "start_time": "2023-09-20T13:02:41.226Z"
   },
   {
    "duration": 6,
    "start_time": "2023-09-20T13:02:57.524Z"
   },
   {
    "duration": 16,
    "start_time": "2023-09-20T13:02:57.531Z"
   },
   {
    "duration": 4,
    "start_time": "2023-09-20T13:12:50.124Z"
   },
   {
    "duration": 3,
    "start_time": "2023-09-20T13:12:51.245Z"
   },
   {
    "duration": 16695,
    "start_time": "2023-09-20T13:12:52.525Z"
   },
   {
    "duration": 3,
    "start_time": "2023-09-20T13:13:09.222Z"
   },
   {
    "duration": 9,
    "start_time": "2023-09-20T13:13:09.227Z"
   },
   {
    "duration": 2,
    "start_time": "2023-09-20T13:13:45.569Z"
   },
   {
    "duration": 5,
    "start_time": "2023-09-20T13:13:49.994Z"
   },
   {
    "duration": 7,
    "start_time": "2023-09-20T13:13:53.030Z"
   },
   {
    "duration": 2,
    "start_time": "2023-09-20T13:13:56.947Z"
   },
   {
    "duration": 1847,
    "start_time": "2023-09-20T13:13:59.899Z"
   },
   {
    "duration": 4,
    "start_time": "2023-09-20T13:14:04.818Z"
   },
   {
    "duration": 150,
    "start_time": "2023-09-20T13:23:21.198Z"
   },
   {
    "duration": 2482,
    "start_time": "2023-09-20T13:23:37.064Z"
   },
   {
    "duration": 4105,
    "start_time": "2023-09-20T13:23:39.548Z"
   },
   {
    "duration": 24785,
    "start_time": "2023-09-20T13:23:58.062Z"
   },
   {
    "duration": 4702,
    "start_time": "2023-09-20T13:24:22.850Z"
   },
   {
    "duration": 7,
    "start_time": "2023-09-20T13:25:47.808Z"
   },
   {
    "duration": 5,
    "start_time": "2023-09-20T13:25:52.689Z"
   },
   {
    "duration": 5,
    "start_time": "2023-09-20T13:26:46.292Z"
   },
   {
    "duration": 4,
    "start_time": "2023-09-20T13:26:48.661Z"
   },
   {
    "duration": 10,
    "start_time": "2023-09-20T13:26:55.151Z"
   },
   {
    "duration": 5,
    "start_time": "2023-09-20T13:27:02.591Z"
   },
   {
    "duration": 5,
    "start_time": "2023-09-20T13:27:03.900Z"
   },
   {
    "duration": 1333,
    "start_time": "2023-09-20T13:28:34.659Z"
   },
   {
    "duration": 48,
    "start_time": "2023-09-20T13:28:35.994Z"
   },
   {
    "duration": 33,
    "start_time": "2023-09-20T13:28:36.043Z"
   },
   {
    "duration": 704,
    "start_time": "2023-09-20T13:28:36.078Z"
   },
   {
    "duration": 14,
    "start_time": "2023-09-20T13:28:36.785Z"
   },
   {
    "duration": 21,
    "start_time": "2023-09-20T13:28:36.800Z"
   },
   {
    "duration": 28,
    "start_time": "2023-09-20T13:28:36.822Z"
   },
   {
    "duration": 22,
    "start_time": "2023-09-20T13:28:36.852Z"
   },
   {
    "duration": 1062,
    "start_time": "2023-09-20T13:28:36.876Z"
   },
   {
    "duration": 5,
    "start_time": "2023-09-20T13:28:37.940Z"
   },
   {
    "duration": 14,
    "start_time": "2023-09-20T13:28:37.946Z"
   },
   {
    "duration": 1284,
    "start_time": "2023-09-20T13:28:37.961Z"
   },
   {
    "duration": 148,
    "start_time": "2023-09-20T13:28:39.247Z"
   },
   {
    "duration": 79,
    "start_time": "2023-09-20T13:28:39.398Z"
   },
   {
    "duration": 2,
    "start_time": "2023-09-20T13:28:39.479Z"
   },
   {
    "duration": 9,
    "start_time": "2023-09-20T13:28:39.485Z"
   },
   {
    "duration": 16610,
    "start_time": "2023-09-20T13:28:39.495Z"
   },
   {
    "duration": 5,
    "start_time": "2023-09-20T13:28:56.106Z"
   },
   {
    "duration": 30,
    "start_time": "2023-09-20T13:28:56.112Z"
   },
   {
    "duration": 21,
    "start_time": "2023-09-20T13:28:56.143Z"
   },
   {
    "duration": 20,
    "start_time": "2023-09-20T13:28:56.165Z"
   },
   {
    "duration": 15,
    "start_time": "2023-09-20T13:28:56.186Z"
   },
   {
    "duration": 11,
    "start_time": "2023-09-20T13:28:56.202Z"
   },
   {
    "duration": 1846,
    "start_time": "2023-09-20T13:28:56.214Z"
   },
   {
    "duration": 4,
    "start_time": "2023-09-20T13:28:58.062Z"
   },
   {
    "duration": 280,
    "start_time": "2023-09-20T13:28:58.068Z"
   },
   {
    "duration": 2495,
    "start_time": "2023-09-20T13:28:58.350Z"
   },
   {
    "duration": 3405,
    "start_time": "2023-09-20T13:29:00.847Z"
   },
   {
    "duration": 191,
    "start_time": "2023-09-20T13:29:04.254Z"
   },
   {
    "duration": 5,
    "start_time": "2023-09-20T13:29:04.446Z"
   },
   {
    "duration": 10,
    "start_time": "2023-09-20T13:29:04.452Z"
   },
   {
    "duration": 12,
    "start_time": "2023-09-20T13:29:04.464Z"
   },
   {
    "duration": 3,
    "start_time": "2023-09-20T13:29:04.478Z"
   },
   {
    "duration": 5,
    "start_time": "2023-09-20T13:29:04.483Z"
   },
   {
    "duration": 1515,
    "start_time": "2023-09-20T13:31:02.110Z"
   },
   {
    "duration": 49,
    "start_time": "2023-09-20T13:31:03.627Z"
   },
   {
    "duration": 37,
    "start_time": "2023-09-20T13:31:03.678Z"
   },
   {
    "duration": 801,
    "start_time": "2023-09-20T13:31:03.717Z"
   },
   {
    "duration": 14,
    "start_time": "2023-09-20T13:31:04.519Z"
   },
   {
    "duration": 8,
    "start_time": "2023-09-20T13:31:04.545Z"
   },
   {
    "duration": 9,
    "start_time": "2023-09-20T13:31:04.555Z"
   },
   {
    "duration": 10,
    "start_time": "2023-09-20T13:31:04.566Z"
   },
   {
    "duration": 1136,
    "start_time": "2023-09-20T13:31:04.578Z"
   },
   {
    "duration": 5,
    "start_time": "2023-09-20T13:31:05.716Z"
   },
   {
    "duration": 19,
    "start_time": "2023-09-20T13:31:05.723Z"
   },
   {
    "duration": 1206,
    "start_time": "2023-09-20T13:31:05.744Z"
   },
   {
    "duration": 229,
    "start_time": "2023-09-20T13:31:06.952Z"
   },
   {
    "duration": 73,
    "start_time": "2023-09-20T13:31:07.183Z"
   },
   {
    "duration": 2,
    "start_time": "2023-09-20T13:31:07.258Z"
   },
   {
    "duration": 11,
    "start_time": "2023-09-20T13:31:07.261Z"
   },
   {
    "duration": 16443,
    "start_time": "2023-09-20T13:31:07.273Z"
   },
   {
    "duration": 5,
    "start_time": "2023-09-20T13:31:23.718Z"
   },
   {
    "duration": 33,
    "start_time": "2023-09-20T13:31:23.724Z"
   },
   {
    "duration": 25,
    "start_time": "2023-09-20T13:31:23.759Z"
   },
   {
    "duration": 22,
    "start_time": "2023-09-20T13:31:23.786Z"
   },
   {
    "duration": 48,
    "start_time": "2023-09-20T13:31:23.809Z"
   },
   {
    "duration": 21,
    "start_time": "2023-09-20T13:31:23.858Z"
   },
   {
    "duration": 1584,
    "start_time": "2023-09-20T13:31:23.881Z"
   },
   {
    "duration": 77,
    "start_time": "2023-09-20T13:31:25.467Z"
   },
   {
    "duration": 303,
    "start_time": "2023-09-20T13:31:25.546Z"
   },
   {
    "duration": 2498,
    "start_time": "2023-09-20T13:31:25.851Z"
   },
   {
    "duration": 4298,
    "start_time": "2023-09-20T13:31:28.355Z"
   },
   {
    "duration": 97,
    "start_time": "2023-09-20T13:31:32.654Z"
   },
   {
    "duration": 94,
    "start_time": "2023-09-20T13:31:32.754Z"
   },
   {
    "duration": 4,
    "start_time": "2023-09-20T13:31:32.850Z"
   },
   {
    "duration": 11,
    "start_time": "2023-09-20T13:31:32.855Z"
   },
   {
    "duration": 7,
    "start_time": "2023-09-20T13:31:32.867Z"
   },
   {
    "duration": 15,
    "start_time": "2023-09-20T13:31:32.875Z"
   },
   {
    "duration": 1734,
    "start_time": "2023-09-21T09:38:50.602Z"
   },
   {
    "duration": 121,
    "start_time": "2023-09-21T09:38:52.339Z"
   },
   {
    "duration": 42,
    "start_time": "2023-09-21T09:38:52.462Z"
   },
   {
    "duration": 843,
    "start_time": "2023-09-21T09:38:52.505Z"
   },
   {
    "duration": 20,
    "start_time": "2023-09-21T09:38:53.350Z"
   },
   {
    "duration": 8,
    "start_time": "2023-09-21T09:38:53.372Z"
   },
   {
    "duration": 23,
    "start_time": "2023-09-21T09:38:53.381Z"
   },
   {
    "duration": 11,
    "start_time": "2023-09-21T09:38:53.407Z"
   },
   {
    "duration": 1174,
    "start_time": "2023-09-21T09:38:53.420Z"
   },
   {
    "duration": 6,
    "start_time": "2023-09-21T09:38:54.596Z"
   },
   {
    "duration": 42,
    "start_time": "2023-09-21T09:38:54.604Z"
   },
   {
    "duration": 1700,
    "start_time": "2023-09-21T09:38:54.648Z"
   },
   {
    "duration": 152,
    "start_time": "2023-09-21T09:38:56.351Z"
   },
   {
    "duration": 81,
    "start_time": "2023-09-21T09:38:56.506Z"
   },
   {
    "duration": 4,
    "start_time": "2023-09-21T09:38:56.588Z"
   },
   {
    "duration": 20,
    "start_time": "2023-09-21T09:38:56.594Z"
   },
   {
    "duration": 19639,
    "start_time": "2023-09-21T09:38:56.616Z"
   },
   {
    "duration": 6,
    "start_time": "2023-09-21T09:39:16.256Z"
   },
   {
    "duration": 30,
    "start_time": "2023-09-21T09:39:16.264Z"
   },
   {
    "duration": 22,
    "start_time": "2023-09-21T09:39:16.295Z"
   },
   {
    "duration": 18,
    "start_time": "2023-09-21T09:39:16.319Z"
   },
   {
    "duration": 37,
    "start_time": "2023-09-21T09:39:16.339Z"
   },
   {
    "duration": 20,
    "start_time": "2023-09-21T09:39:16.378Z"
   },
   {
    "duration": 2149,
    "start_time": "2023-09-21T09:39:16.399Z"
   },
   {
    "duration": 6,
    "start_time": "2023-09-21T09:39:18.550Z"
   },
   {
    "duration": 390,
    "start_time": "2023-09-21T09:39:18.557Z"
   },
   {
    "duration": 2698,
    "start_time": "2023-09-21T09:39:18.949Z"
   },
   {
    "duration": 4200,
    "start_time": "2023-09-21T09:39:21.650Z"
   },
   {
    "duration": 95,
    "start_time": "2023-09-21T09:39:25.853Z"
   },
   {
    "duration": 99,
    "start_time": "2023-09-21T09:39:25.951Z"
   },
   {
    "duration": 20,
    "start_time": "2023-09-21T09:39:26.052Z"
   },
   {
    "duration": 47,
    "start_time": "2023-09-21T09:39:26.074Z"
   },
   {
    "duration": 12,
    "start_time": "2023-09-21T09:39:26.123Z"
   },
   {
    "duration": 28,
    "start_time": "2023-09-21T09:39:26.137Z"
   },
   {
    "duration": 5,
    "start_time": "2023-09-21T09:40:52.375Z"
   },
   {
    "duration": 6,
    "start_time": "2023-09-21T09:42:16.187Z"
   },
   {
    "duration": 6,
    "start_time": "2023-09-21T09:42:18.378Z"
   },
   {
    "duration": 2482,
    "start_time": "2023-09-21T09:42:20.667Z"
   },
   {
    "duration": 4,
    "start_time": "2023-09-21T09:42:41.455Z"
   },
   {
    "duration": 79,
    "start_time": "2023-09-21T09:42:41.462Z"
   },
   {
    "duration": 40,
    "start_time": "2023-09-21T09:42:41.543Z"
   },
   {
    "duration": 730,
    "start_time": "2023-09-21T09:42:41.586Z"
   },
   {
    "duration": 14,
    "start_time": "2023-09-21T09:42:42.318Z"
   },
   {
    "duration": 150,
    "start_time": "2023-09-21T09:42:42.347Z"
   },
   {
    "duration": 33,
    "start_time": "2023-09-21T09:42:42.498Z"
   },
   {
    "duration": 9,
    "start_time": "2023-09-21T09:42:42.533Z"
   },
   {
    "duration": 1226,
    "start_time": "2023-09-21T09:42:42.544Z"
   },
   {
    "duration": 6,
    "start_time": "2023-09-21T09:42:43.772Z"
   },
   {
    "duration": 22,
    "start_time": "2023-09-21T09:42:43.780Z"
   },
   {
    "duration": 2345,
    "start_time": "2023-09-21T09:42:43.805Z"
   },
   {
    "duration": 138,
    "start_time": "2023-09-21T09:42:46.157Z"
   },
   {
    "duration": 91,
    "start_time": "2023-09-21T09:42:46.297Z"
   },
   {
    "duration": 3,
    "start_time": "2023-09-21T09:42:46.390Z"
   },
   {
    "duration": 47,
    "start_time": "2023-09-21T09:42:46.395Z"
   },
   {
    "duration": 19788,
    "start_time": "2023-09-21T09:42:46.444Z"
   },
   {
    "duration": 5,
    "start_time": "2023-09-21T09:43:06.234Z"
   },
   {
    "duration": 8,
    "start_time": "2023-09-21T09:43:06.247Z"
   },
   {
    "duration": 7,
    "start_time": "2023-09-21T09:43:06.257Z"
   },
   {
    "duration": 36,
    "start_time": "2023-09-21T09:43:06.266Z"
   },
   {
    "duration": 8,
    "start_time": "2023-09-21T09:43:06.304Z"
   },
   {
    "duration": 15,
    "start_time": "2023-09-21T09:43:06.314Z"
   },
   {
    "duration": 2315,
    "start_time": "2023-09-21T09:43:06.332Z"
   },
   {
    "duration": 6,
    "start_time": "2023-09-21T09:43:08.650Z"
   },
   {
    "duration": 2593,
    "start_time": "2023-09-21T09:43:08.657Z"
   },
   {
    "duration": 4300,
    "start_time": "2023-09-21T09:43:11.253Z"
   },
   {
    "duration": 2894,
    "start_time": "2023-09-21T09:43:15.557Z"
   },
   {
    "duration": 93,
    "start_time": "2023-09-21T09:43:18.454Z"
   },
   {
    "duration": 8,
    "start_time": "2023-09-21T09:43:18.550Z"
   },
   {
    "duration": 5,
    "start_time": "2023-09-21T09:43:18.561Z"
   },
   {
    "duration": 87,
    "start_time": "2023-09-21T09:43:18.569Z"
   },
   {
    "duration": 8,
    "start_time": "2023-09-21T09:43:18.658Z"
   },
   {
    "duration": 20,
    "start_time": "2023-09-21T09:43:18.667Z"
   },
   {
    "duration": 1752,
    "start_time": "2023-09-21T09:44:47.754Z"
   },
   {
    "duration": 53,
    "start_time": "2023-09-21T09:44:49.509Z"
   },
   {
    "duration": 52,
    "start_time": "2023-09-21T09:44:49.564Z"
   },
   {
    "duration": 871,
    "start_time": "2023-09-21T09:44:49.618Z"
   },
   {
    "duration": 17,
    "start_time": "2023-09-21T09:44:50.492Z"
   },
   {
    "duration": 15,
    "start_time": "2023-09-21T09:44:50.511Z"
   },
   {
    "duration": 182,
    "start_time": "2023-09-21T09:44:50.528Z"
   },
   {
    "duration": 153,
    "start_time": "2023-09-21T09:44:50.713Z"
   },
   {
    "duration": 1226,
    "start_time": "2023-09-21T09:44:50.868Z"
   },
   {
    "duration": 9,
    "start_time": "2023-09-21T09:44:52.096Z"
   },
   {
    "duration": 36,
    "start_time": "2023-09-21T09:44:52.107Z"
   },
   {
    "duration": 27537,
    "start_time": "2023-09-21T09:45:09.815Z"
   },
   {
    "duration": 23536,
    "start_time": "2023-09-21T09:47:55.546Z"
   },
   {
    "duration": 57,
    "start_time": "2023-09-21T09:48:30.406Z"
   },
   {
    "duration": 1800,
    "start_time": "2023-09-21T09:48:34.579Z"
   },
   {
    "duration": 51,
    "start_time": "2023-09-21T09:48:36.381Z"
   },
   {
    "duration": 43,
    "start_time": "2023-09-21T09:48:36.434Z"
   },
   {
    "duration": 878,
    "start_time": "2023-09-21T09:48:36.480Z"
   },
   {
    "duration": 19,
    "start_time": "2023-09-21T09:48:37.359Z"
   },
   {
    "duration": 40,
    "start_time": "2023-09-21T09:48:37.380Z"
   },
   {
    "duration": 46,
    "start_time": "2023-09-21T09:48:37.422Z"
   },
   {
    "duration": 20,
    "start_time": "2023-09-21T09:48:37.470Z"
   },
   {
    "duration": 1205,
    "start_time": "2023-09-21T09:48:37.493Z"
   },
   {
    "duration": 8,
    "start_time": "2023-09-21T09:48:38.702Z"
   },
   {
    "duration": 28,
    "start_time": "2023-09-21T09:48:38.712Z"
   },
   {
    "duration": 45515,
    "start_time": "2023-09-21T09:48:38.742Z"
   },
   {
    "duration": 0,
    "start_time": "2023-09-21T09:49:24.260Z"
   },
   {
    "duration": 0,
    "start_time": "2023-09-21T09:49:24.262Z"
   },
   {
    "duration": 0,
    "start_time": "2023-09-21T09:49:24.263Z"
   },
   {
    "duration": 0,
    "start_time": "2023-09-21T09:49:24.264Z"
   },
   {
    "duration": 0,
    "start_time": "2023-09-21T09:49:24.266Z"
   },
   {
    "duration": 0,
    "start_time": "2023-09-21T09:49:24.267Z"
   },
   {
    "duration": 0,
    "start_time": "2023-09-21T09:49:24.269Z"
   },
   {
    "duration": 0,
    "start_time": "2023-09-21T09:49:24.271Z"
   },
   {
    "duration": 0,
    "start_time": "2023-09-21T09:49:24.273Z"
   },
   {
    "duration": 0,
    "start_time": "2023-09-21T09:49:24.275Z"
   },
   {
    "duration": 0,
    "start_time": "2023-09-21T09:49:24.276Z"
   },
   {
    "duration": 1487,
    "start_time": "2023-09-21T09:49:33.394Z"
   },
   {
    "duration": 51,
    "start_time": "2023-09-21T09:49:34.883Z"
   },
   {
    "duration": 41,
    "start_time": "2023-09-21T09:49:34.936Z"
   },
   {
    "duration": 861,
    "start_time": "2023-09-21T09:49:34.979Z"
   },
   {
    "duration": 18,
    "start_time": "2023-09-21T09:49:35.842Z"
   },
   {
    "duration": 23,
    "start_time": "2023-09-21T09:49:35.861Z"
   },
   {
    "duration": 22,
    "start_time": "2023-09-21T09:49:35.886Z"
   },
   {
    "duration": 32,
    "start_time": "2023-09-21T09:49:35.910Z"
   },
   {
    "duration": 1138,
    "start_time": "2023-09-21T09:49:35.944Z"
   },
   {
    "duration": 6,
    "start_time": "2023-09-21T09:49:37.084Z"
   },
   {
    "duration": 15,
    "start_time": "2023-09-21T09:49:37.092Z"
   },
   {
    "duration": 82316,
    "start_time": "2023-09-21T09:49:48.036Z"
   },
   {
    "duration": 1803,
    "start_time": "2023-09-21T09:51:49.547Z"
   },
   {
    "duration": 52,
    "start_time": "2023-09-21T09:51:51.353Z"
   },
   {
    "duration": 56,
    "start_time": "2023-09-21T09:51:51.406Z"
   },
   {
    "duration": 842,
    "start_time": "2023-09-21T09:51:51.465Z"
   },
   {
    "duration": 15,
    "start_time": "2023-09-21T09:51:52.309Z"
   },
   {
    "duration": 37,
    "start_time": "2023-09-21T09:51:52.325Z"
   },
   {
    "duration": 41,
    "start_time": "2023-09-21T09:51:52.364Z"
   },
   {
    "duration": 47,
    "start_time": "2023-09-21T09:51:52.407Z"
   },
   {
    "duration": 1194,
    "start_time": "2023-09-21T09:51:52.456Z"
   },
   {
    "duration": 8,
    "start_time": "2023-09-21T09:51:53.653Z"
   },
   {
    "duration": 30,
    "start_time": "2023-09-21T09:51:53.663Z"
   },
   {
    "duration": 122438,
    "start_time": "2023-09-21T09:52:15.426Z"
   },
   {
    "duration": 37373,
    "start_time": "2023-09-21T09:54:54.775Z"
   },
   {
    "duration": 6,
    "start_time": "2023-09-21T09:58:53.903Z"
   },
   {
    "duration": 24674,
    "start_time": "2023-09-21T09:59:19.275Z"
   },
   {
    "duration": 2255,
    "start_time": "2023-09-21T10:00:03.555Z"
   },
   {
    "duration": 52,
    "start_time": "2023-09-21T10:00:05.812Z"
   },
   {
    "duration": 63,
    "start_time": "2023-09-21T10:00:05.866Z"
   },
   {
    "duration": 878,
    "start_time": "2023-09-21T10:00:05.931Z"
   },
   {
    "duration": 17,
    "start_time": "2023-09-21T10:00:06.811Z"
   },
   {
    "duration": 21,
    "start_time": "2023-09-21T10:00:06.830Z"
   },
   {
    "duration": 19,
    "start_time": "2023-09-21T10:00:06.853Z"
   },
   {
    "duration": 8,
    "start_time": "2023-09-21T10:00:06.874Z"
   },
   {
    "duration": 1218,
    "start_time": "2023-09-21T10:00:06.884Z"
   },
   {
    "duration": 8,
    "start_time": "2023-09-21T10:00:08.103Z"
   },
   {
    "duration": 26,
    "start_time": "2023-09-21T10:00:08.113Z"
   },
   {
    "duration": 21988,
    "start_time": "2023-09-21T10:00:34.959Z"
   },
   {
    "duration": 1680,
    "start_time": "2023-09-21T10:01:32.106Z"
   },
   {
    "duration": 57,
    "start_time": "2023-09-21T10:01:33.788Z"
   },
   {
    "duration": 46,
    "start_time": "2023-09-21T10:01:33.847Z"
   },
   {
    "duration": 857,
    "start_time": "2023-09-21T10:01:33.895Z"
   },
   {
    "duration": 16,
    "start_time": "2023-09-21T10:01:34.754Z"
   },
   {
    "duration": 57,
    "start_time": "2023-09-21T10:01:34.772Z"
   },
   {
    "duration": 28,
    "start_time": "2023-09-21T10:01:34.831Z"
   },
   {
    "duration": 14,
    "start_time": "2023-09-21T10:01:34.861Z"
   },
   {
    "duration": 1238,
    "start_time": "2023-09-21T10:01:34.876Z"
   },
   {
    "duration": 8,
    "start_time": "2023-09-21T10:01:36.116Z"
   },
   {
    "duration": 39,
    "start_time": "2023-09-21T10:01:36.126Z"
   },
   {
    "duration": 251655,
    "start_time": "2023-09-21T10:01:36.506Z"
   },
   {
    "duration": 85,
    "start_time": "2023-09-21T10:07:42.741Z"
   },
   {
    "duration": 1859,
    "start_time": "2023-09-21T10:07:49.090Z"
   },
   {
    "duration": 59,
    "start_time": "2023-09-21T10:07:50.953Z"
   },
   {
    "duration": 52,
    "start_time": "2023-09-21T10:07:51.014Z"
   },
   {
    "duration": 889,
    "start_time": "2023-09-21T10:07:51.069Z"
   },
   {
    "duration": 24,
    "start_time": "2023-09-21T10:07:51.961Z"
   },
   {
    "duration": 15,
    "start_time": "2023-09-21T10:07:51.987Z"
   },
   {
    "duration": 37,
    "start_time": "2023-09-21T10:07:52.004Z"
   },
   {
    "duration": 35,
    "start_time": "2023-09-21T10:07:52.043Z"
   },
   {
    "duration": 1298,
    "start_time": "2023-09-21T10:07:52.080Z"
   },
   {
    "duration": 5,
    "start_time": "2023-09-21T10:07:53.380Z"
   },
   {
    "duration": 34,
    "start_time": "2023-09-21T10:07:53.387Z"
   },
   {
    "duration": 245342,
    "start_time": "2023-09-21T10:07:53.423Z"
   },
   {
    "duration": 2264,
    "start_time": "2023-09-21T10:13:02.155Z"
   },
   {
    "duration": 51,
    "start_time": "2023-09-21T10:13:04.421Z"
   },
   {
    "duration": 42,
    "start_time": "2023-09-21T10:13:04.474Z"
   },
   {
    "duration": 867,
    "start_time": "2023-09-21T10:13:04.518Z"
   },
   {
    "duration": 21,
    "start_time": "2023-09-21T10:13:05.389Z"
   },
   {
    "duration": 28,
    "start_time": "2023-09-21T10:13:05.413Z"
   },
   {
    "duration": 32,
    "start_time": "2023-09-21T10:13:05.444Z"
   },
   {
    "duration": 33,
    "start_time": "2023-09-21T10:13:05.478Z"
   },
   {
    "duration": 1232,
    "start_time": "2023-09-21T10:13:05.514Z"
   },
   {
    "duration": 8,
    "start_time": "2023-09-21T10:13:06.748Z"
   },
   {
    "duration": 58,
    "start_time": "2023-09-21T10:13:06.758Z"
   },
   {
    "duration": 165735,
    "start_time": "2023-09-21T10:13:06.818Z"
   },
   {
    "duration": 1756,
    "start_time": "2023-09-21T10:20:01.225Z"
   },
   {
    "duration": 52,
    "start_time": "2023-09-21T10:20:02.983Z"
   },
   {
    "duration": 299,
    "start_time": "2023-09-21T10:20:03.037Z"
   },
   {
    "duration": 874,
    "start_time": "2023-09-21T10:20:03.338Z"
   },
   {
    "duration": 32,
    "start_time": "2023-09-21T10:20:04.215Z"
   },
   {
    "duration": 11,
    "start_time": "2023-09-21T10:20:04.249Z"
   },
   {
    "duration": 30,
    "start_time": "2023-09-21T10:20:04.262Z"
   },
   {
    "duration": 22,
    "start_time": "2023-09-21T10:20:04.294Z"
   },
   {
    "duration": 1223,
    "start_time": "2023-09-21T10:20:04.319Z"
   },
   {
    "duration": 9,
    "start_time": "2023-09-21T10:20:05.546Z"
   },
   {
    "duration": 66,
    "start_time": "2023-09-21T10:20:05.558Z"
   },
   {
    "duration": 330634,
    "start_time": "2023-09-21T10:20:05.626Z"
   },
   {
    "duration": 1506,
    "start_time": "2023-09-21T10:28:12.183Z"
   },
   {
    "duration": 52,
    "start_time": "2023-09-21T10:28:13.691Z"
   },
   {
    "duration": 43,
    "start_time": "2023-09-21T10:28:13.745Z"
   },
   {
    "duration": 820,
    "start_time": "2023-09-21T10:28:13.790Z"
   },
   {
    "duration": 17,
    "start_time": "2023-09-21T10:28:14.614Z"
   },
   {
    "duration": 11,
    "start_time": "2023-09-21T10:28:14.646Z"
   },
   {
    "duration": 21,
    "start_time": "2023-09-21T10:28:14.658Z"
   },
   {
    "duration": 10,
    "start_time": "2023-09-21T10:28:14.681Z"
   },
   {
    "duration": 1230,
    "start_time": "2023-09-21T10:28:14.692Z"
   },
   {
    "duration": 6,
    "start_time": "2023-09-21T10:28:15.923Z"
   },
   {
    "duration": 75,
    "start_time": "2023-09-21T10:28:15.931Z"
   },
   {
    "duration": 243924,
    "start_time": "2023-09-21T10:28:21.124Z"
   },
   {
    "duration": 1948,
    "start_time": "2023-09-21T10:33:32.239Z"
   },
   {
    "duration": 52,
    "start_time": "2023-09-21T10:33:34.190Z"
   },
   {
    "duration": 104,
    "start_time": "2023-09-21T10:33:34.244Z"
   },
   {
    "duration": 803,
    "start_time": "2023-09-21T10:33:34.350Z"
   },
   {
    "duration": 16,
    "start_time": "2023-09-21T10:33:35.155Z"
   },
   {
    "duration": 180,
    "start_time": "2023-09-21T10:33:35.173Z"
   },
   {
    "duration": 20,
    "start_time": "2023-09-21T10:33:35.356Z"
   },
   {
    "duration": 27,
    "start_time": "2023-09-21T10:33:35.378Z"
   },
   {
    "duration": 1201,
    "start_time": "2023-09-21T10:33:35.407Z"
   },
   {
    "duration": 6,
    "start_time": "2023-09-21T10:33:36.610Z"
   },
   {
    "duration": 32,
    "start_time": "2023-09-21T10:33:36.618Z"
   },
   {
    "duration": 2319,
    "start_time": "2023-09-21T10:33:37.040Z"
   },
   {
    "duration": 11641,
    "start_time": "2023-09-21T10:33:58.913Z"
   },
   {
    "duration": 1704,
    "start_time": "2023-09-21T10:34:37.876Z"
   },
   {
    "duration": 51,
    "start_time": "2023-09-21T10:34:39.582Z"
   },
   {
    "duration": 43,
    "start_time": "2023-09-21T10:34:39.635Z"
   },
   {
    "duration": 826,
    "start_time": "2023-09-21T10:34:39.680Z"
   },
   {
    "duration": 16,
    "start_time": "2023-09-21T10:34:40.509Z"
   },
   {
    "duration": 24,
    "start_time": "2023-09-21T10:34:40.527Z"
   },
   {
    "duration": 31,
    "start_time": "2023-09-21T10:34:40.554Z"
   },
   {
    "duration": 17,
    "start_time": "2023-09-21T10:34:40.587Z"
   },
   {
    "duration": 1167,
    "start_time": "2023-09-21T10:34:40.607Z"
   },
   {
    "duration": 6,
    "start_time": "2023-09-21T10:34:41.775Z"
   },
   {
    "duration": 20,
    "start_time": "2023-09-21T10:34:41.783Z"
   },
   {
    "duration": 13146,
    "start_time": "2023-09-21T10:34:41.806Z"
   },
   {
    "duration": 4,
    "start_time": "2023-09-21T10:35:10.216Z"
   },
   {
    "duration": 78,
    "start_time": "2023-09-21T10:35:10.232Z"
   },
   {
    "duration": 39,
    "start_time": "2023-09-21T10:35:10.312Z"
   },
   {
    "duration": 697,
    "start_time": "2023-09-21T10:35:10.353Z"
   },
   {
    "duration": 14,
    "start_time": "2023-09-21T10:35:11.051Z"
   },
   {
    "duration": 7,
    "start_time": "2023-09-21T10:35:11.067Z"
   },
   {
    "duration": 9,
    "start_time": "2023-09-21T10:35:11.075Z"
   },
   {
    "duration": 15,
    "start_time": "2023-09-21T10:35:11.085Z"
   },
   {
    "duration": 1236,
    "start_time": "2023-09-21T10:35:11.102Z"
   },
   {
    "duration": 9,
    "start_time": "2023-09-21T10:35:12.340Z"
   },
   {
    "duration": 14,
    "start_time": "2023-09-21T10:35:12.351Z"
   },
   {
    "duration": 12083,
    "start_time": "2023-09-21T10:35:12.367Z"
   },
   {
    "duration": 154,
    "start_time": "2023-09-21T10:35:24.453Z"
   },
   {
    "duration": 82,
    "start_time": "2023-09-21T10:35:24.609Z"
   },
   {
    "duration": 3,
    "start_time": "2023-09-21T10:35:24.694Z"
   },
   {
    "duration": 60,
    "start_time": "2023-09-21T10:35:24.699Z"
   },
   {
    "duration": 19487,
    "start_time": "2023-09-21T10:35:24.762Z"
   },
   {
    "duration": 6,
    "start_time": "2023-09-21T10:35:44.251Z"
   },
   {
    "duration": 15,
    "start_time": "2023-09-21T10:35:44.259Z"
   },
   {
    "duration": 9,
    "start_time": "2023-09-21T10:35:44.277Z"
   },
   {
    "duration": 8,
    "start_time": "2023-09-21T10:35:44.287Z"
   },
   {
    "duration": 22,
    "start_time": "2023-09-21T10:35:44.297Z"
   },
   {
    "duration": 15,
    "start_time": "2023-09-21T10:35:44.321Z"
   },
   {
    "duration": 2424,
    "start_time": "2023-09-21T10:35:44.339Z"
   },
   {
    "duration": 7,
    "start_time": "2023-09-21T10:35:46.766Z"
   },
   {
    "duration": 1289,
    "start_time": "2023-09-21T10:35:46.775Z"
   },
   {
    "duration": 7500,
    "start_time": "2023-09-21T10:35:48.066Z"
   },
   {
    "duration": 5581,
    "start_time": "2023-09-21T10:35:55.568Z"
   },
   {
    "duration": 99,
    "start_time": "2023-09-21T10:36:01.152Z"
   },
   {
    "duration": 112,
    "start_time": "2023-09-21T10:36:01.254Z"
   },
   {
    "duration": 56,
    "start_time": "2023-09-21T10:36:01.368Z"
   },
   {
    "duration": 66,
    "start_time": "2023-09-21T10:36:01.426Z"
   },
   {
    "duration": 86,
    "start_time": "2023-09-21T10:36:01.494Z"
   },
   {
    "duration": 172,
    "start_time": "2023-09-21T10:36:01.583Z"
   },
   {
    "duration": 33,
    "start_time": "2023-09-21T10:37:45.880Z"
   },
   {
    "duration": 2995,
    "start_time": "2023-09-21T10:39:29.895Z"
   },
   {
    "duration": 0,
    "start_time": "2023-09-21T10:39:32.893Z"
   },
   {
    "duration": 0,
    "start_time": "2023-09-21T10:39:32.895Z"
   },
   {
    "duration": 0,
    "start_time": "2023-09-21T10:39:32.897Z"
   },
   {
    "duration": 0,
    "start_time": "2023-09-21T10:39:32.898Z"
   },
   {
    "duration": 0,
    "start_time": "2023-09-21T10:39:32.900Z"
   },
   {
    "duration": 0,
    "start_time": "2023-09-21T10:39:32.901Z"
   },
   {
    "duration": 0,
    "start_time": "2023-09-21T10:39:32.903Z"
   },
   {
    "duration": 0,
    "start_time": "2023-09-21T10:39:32.904Z"
   },
   {
    "duration": 0,
    "start_time": "2023-09-21T10:39:32.906Z"
   },
   {
    "duration": 0,
    "start_time": "2023-09-21T10:39:32.907Z"
   },
   {
    "duration": 0,
    "start_time": "2023-09-21T10:39:32.909Z"
   },
   {
    "duration": 0,
    "start_time": "2023-09-21T10:39:32.910Z"
   },
   {
    "duration": 0,
    "start_time": "2023-09-21T10:39:32.911Z"
   },
   {
    "duration": 0,
    "start_time": "2023-09-21T10:39:32.948Z"
   },
   {
    "duration": 0,
    "start_time": "2023-09-21T10:39:32.950Z"
   },
   {
    "duration": 0,
    "start_time": "2023-09-21T10:39:32.951Z"
   },
   {
    "duration": 0,
    "start_time": "2023-09-21T10:39:32.953Z"
   },
   {
    "duration": 0,
    "start_time": "2023-09-21T10:39:32.954Z"
   },
   {
    "duration": 0,
    "start_time": "2023-09-21T10:39:32.956Z"
   },
   {
    "duration": 0,
    "start_time": "2023-09-21T10:39:32.957Z"
   },
   {
    "duration": 0,
    "start_time": "2023-09-21T10:39:32.959Z"
   },
   {
    "duration": 0,
    "start_time": "2023-09-21T10:39:32.960Z"
   },
   {
    "duration": 4,
    "start_time": "2023-09-21T10:39:35.800Z"
   },
   {
    "duration": 176,
    "start_time": "2023-09-21T10:39:35.812Z"
   },
   {
    "duration": 123,
    "start_time": "2023-09-21T10:39:35.991Z"
   },
   {
    "duration": 673,
    "start_time": "2023-09-21T10:39:36.116Z"
   },
   {
    "duration": 14,
    "start_time": "2023-09-21T10:39:36.791Z"
   },
   {
    "duration": 14,
    "start_time": "2023-09-21T10:39:36.807Z"
   },
   {
    "duration": 24,
    "start_time": "2023-09-21T10:39:36.823Z"
   },
   {
    "duration": 10,
    "start_time": "2023-09-21T10:39:36.848Z"
   },
   {
    "duration": 1115,
    "start_time": "2023-09-21T10:39:36.860Z"
   },
   {
    "duration": 6,
    "start_time": "2023-09-21T10:39:37.977Z"
   },
   {
    "duration": 30,
    "start_time": "2023-09-21T10:39:37.985Z"
   },
   {
    "duration": 83742,
    "start_time": "2023-09-21T10:39:38.017Z"
   },
   {
    "duration": 138,
    "start_time": "2023-09-21T10:41:01.848Z"
   },
   {
    "duration": 89,
    "start_time": "2023-09-21T10:41:01.988Z"
   },
   {
    "duration": 64,
    "start_time": "2023-09-21T10:41:02.080Z"
   },
   {
    "duration": 61,
    "start_time": "2023-09-21T10:41:02.148Z"
   },
   {
    "duration": 20403,
    "start_time": "2023-09-21T10:41:02.212Z"
   },
   {
    "duration": 6,
    "start_time": "2023-09-21T10:41:22.616Z"
   },
   {
    "duration": 23,
    "start_time": "2023-09-21T10:41:22.625Z"
   },
   {
    "duration": 10,
    "start_time": "2023-09-21T10:41:22.650Z"
   },
   {
    "duration": 19,
    "start_time": "2023-09-21T10:41:22.662Z"
   },
   {
    "duration": 19,
    "start_time": "2023-09-21T10:41:22.683Z"
   },
   {
    "duration": 29,
    "start_time": "2023-09-21T10:41:22.704Z"
   },
   {
    "duration": 2122,
    "start_time": "2023-09-21T10:41:22.735Z"
   },
   {
    "duration": 5,
    "start_time": "2023-09-21T10:41:24.859Z"
   },
   {
    "duration": 482,
    "start_time": "2023-09-21T10:41:24.866Z"
   },
   {
    "duration": 2399,
    "start_time": "2023-09-21T10:41:25.351Z"
   },
   {
    "duration": 2699,
    "start_time": "2023-09-21T10:41:27.752Z"
   },
   {
    "duration": 95,
    "start_time": "2023-09-21T10:41:30.452Z"
   },
   {
    "duration": 101,
    "start_time": "2023-09-21T10:41:30.550Z"
   },
   {
    "duration": 31,
    "start_time": "2023-09-21T10:41:30.653Z"
   },
   {
    "duration": 43,
    "start_time": "2023-09-21T10:41:30.686Z"
   },
   {
    "duration": 29,
    "start_time": "2023-09-21T10:41:30.731Z"
   },
   {
    "duration": 41,
    "start_time": "2023-09-21T10:41:30.762Z"
   },
   {
    "duration": 1534,
    "start_time": "2023-09-21T10:41:43.069Z"
   },
   {
    "duration": 64,
    "start_time": "2023-09-21T10:41:44.606Z"
   },
   {
    "duration": 42,
    "start_time": "2023-09-21T10:41:44.671Z"
   },
   {
    "duration": 879,
    "start_time": "2023-09-21T10:41:44.715Z"
   },
   {
    "duration": 20,
    "start_time": "2023-09-21T10:41:45.597Z"
   },
   {
    "duration": 27,
    "start_time": "2023-09-21T10:41:45.620Z"
   },
   {
    "duration": 25,
    "start_time": "2023-09-21T10:41:45.650Z"
   },
   {
    "duration": 21,
    "start_time": "2023-09-21T10:41:45.677Z"
   },
   {
    "duration": 1218,
    "start_time": "2023-09-21T10:41:45.700Z"
   },
   {
    "duration": 8,
    "start_time": "2023-09-21T10:41:46.920Z"
   },
   {
    "duration": 45,
    "start_time": "2023-09-21T10:41:46.930Z"
   },
   {
    "duration": 91069,
    "start_time": "2023-09-21T10:41:46.978Z"
   },
   {
    "duration": 1675,
    "start_time": "2023-09-21T10:44:32.677Z"
   },
   {
    "duration": 53,
    "start_time": "2023-09-21T10:44:34.355Z"
   },
   {
    "duration": 52,
    "start_time": "2023-09-21T10:44:34.410Z"
   },
   {
    "duration": 825,
    "start_time": "2023-09-21T10:44:34.465Z"
   },
   {
    "duration": 15,
    "start_time": "2023-09-21T10:44:35.293Z"
   },
   {
    "duration": 20,
    "start_time": "2023-09-21T10:44:35.310Z"
   },
   {
    "duration": 18,
    "start_time": "2023-09-21T10:44:35.331Z"
   },
   {
    "duration": 11,
    "start_time": "2023-09-21T10:44:35.351Z"
   },
   {
    "duration": 1200,
    "start_time": "2023-09-21T10:44:35.365Z"
   },
   {
    "duration": 6,
    "start_time": "2023-09-21T10:44:36.567Z"
   },
   {
    "duration": 71,
    "start_time": "2023-09-21T10:44:36.574Z"
   },
   {
    "duration": 2311,
    "start_time": "2023-09-21T10:44:36.647Z"
   },
   {
    "duration": 150,
    "start_time": "2023-09-21T10:44:39.047Z"
   },
   {
    "duration": 85,
    "start_time": "2023-09-21T10:44:39.200Z"
   },
   {
    "duration": 3,
    "start_time": "2023-09-21T10:44:39.287Z"
   },
   {
    "duration": 16,
    "start_time": "2023-09-21T10:44:39.292Z"
   },
   {
    "duration": 19557,
    "start_time": "2023-09-21T10:44:39.310Z"
   },
   {
    "duration": 6,
    "start_time": "2023-09-21T10:44:58.868Z"
   },
   {
    "duration": 29,
    "start_time": "2023-09-21T10:44:58.875Z"
   },
   {
    "duration": 16,
    "start_time": "2023-09-21T10:44:58.906Z"
   },
   {
    "duration": 16,
    "start_time": "2023-09-21T10:44:58.923Z"
   },
   {
    "duration": 32,
    "start_time": "2023-09-21T10:44:58.941Z"
   },
   {
    "duration": 44,
    "start_time": "2023-09-21T10:44:58.975Z"
   },
   {
    "duration": 2127,
    "start_time": "2023-09-21T10:44:59.022Z"
   },
   {
    "duration": 6,
    "start_time": "2023-09-21T10:45:01.150Z"
   },
   {
    "duration": 593,
    "start_time": "2023-09-21T10:45:01.158Z"
   },
   {
    "duration": 4401,
    "start_time": "2023-09-21T10:45:01.753Z"
   },
   {
    "duration": 5099,
    "start_time": "2023-09-21T10:45:06.157Z"
   },
   {
    "duration": 12,
    "start_time": "2023-09-21T10:45:11.348Z"
   },
   {
    "duration": 12,
    "start_time": "2023-09-21T10:45:11.447Z"
   },
   {
    "duration": 15,
    "start_time": "2023-09-21T10:45:11.460Z"
   },
   {
    "duration": 14,
    "start_time": "2023-09-21T10:45:11.477Z"
   },
   {
    "duration": 5,
    "start_time": "2023-09-21T10:45:11.493Z"
   },
   {
    "duration": 21,
    "start_time": "2023-09-21T10:45:11.500Z"
   },
   {
    "duration": 3,
    "start_time": "2023-09-21T10:50:40.436Z"
   },
   {
    "duration": 4,
    "start_time": "2023-09-21T10:50:44.320Z"
   },
   {
    "duration": 1657,
    "start_time": "2023-09-21T10:51:10.598Z"
   },
   {
    "duration": 52,
    "start_time": "2023-09-21T10:51:12.257Z"
   },
   {
    "duration": 44,
    "start_time": "2023-09-21T10:51:12.311Z"
   },
   {
    "duration": 826,
    "start_time": "2023-09-21T10:51:12.356Z"
   },
   {
    "duration": 18,
    "start_time": "2023-09-21T10:51:13.184Z"
   },
   {
    "duration": 10,
    "start_time": "2023-09-21T10:51:13.204Z"
   },
   {
    "duration": 31,
    "start_time": "2023-09-21T10:51:13.216Z"
   },
   {
    "duration": 9,
    "start_time": "2023-09-21T10:51:13.249Z"
   },
   {
    "duration": 1202,
    "start_time": "2023-09-21T10:51:13.260Z"
   },
   {
    "duration": 6,
    "start_time": "2023-09-21T10:51:14.464Z"
   },
   {
    "duration": 277,
    "start_time": "2023-09-21T10:51:14.471Z"
   },
   {
    "duration": 0,
    "start_time": "2023-09-21T10:51:14.750Z"
   },
   {
    "duration": 0,
    "start_time": "2023-09-21T10:51:14.752Z"
   },
   {
    "duration": 0,
    "start_time": "2023-09-21T10:51:14.753Z"
   },
   {
    "duration": 11,
    "start_time": "2023-09-21T10:51:17.163Z"
   },
   {
    "duration": 4,
    "start_time": "2023-09-21T10:51:22.495Z"
   },
   {
    "duration": 5,
    "start_time": "2023-09-21T10:51:23.725Z"
   },
   {
    "duration": 9,
    "start_time": "2023-09-21T10:51:29.695Z"
   },
   {
    "duration": 3,
    "start_time": "2023-09-21T10:51:37.698Z"
   },
   {
    "duration": 50,
    "start_time": "2023-09-21T10:51:37.704Z"
   },
   {
    "duration": 37,
    "start_time": "2023-09-21T10:51:37.756Z"
   },
   {
    "duration": 715,
    "start_time": "2023-09-21T10:51:37.796Z"
   },
   {
    "duration": 14,
    "start_time": "2023-09-21T10:51:38.513Z"
   },
   {
    "duration": 19,
    "start_time": "2023-09-21T10:51:38.530Z"
   },
   {
    "duration": 9,
    "start_time": "2023-09-21T10:51:38.551Z"
   },
   {
    "duration": 8,
    "start_time": "2023-09-21T10:51:38.562Z"
   },
   {
    "duration": 1293,
    "start_time": "2023-09-21T10:51:38.572Z"
   },
   {
    "duration": 7,
    "start_time": "2023-09-21T10:51:39.868Z"
   },
   {
    "duration": 46,
    "start_time": "2023-09-21T10:51:39.878Z"
   },
   {
    "duration": 0,
    "start_time": "2023-09-21T10:51:39.928Z"
   },
   {
    "duration": 0,
    "start_time": "2023-09-21T10:51:39.930Z"
   },
   {
    "duration": 0,
    "start_time": "2023-09-21T10:51:39.933Z"
   },
   {
    "duration": 1541,
    "start_time": "2023-09-21T10:52:50.037Z"
   },
   {
    "duration": 53,
    "start_time": "2023-09-21T10:52:51.580Z"
   },
   {
    "duration": 42,
    "start_time": "2023-09-21T10:52:51.634Z"
   },
   {
    "duration": 855,
    "start_time": "2023-09-21T10:52:51.679Z"
   },
   {
    "duration": 31,
    "start_time": "2023-09-21T10:52:52.536Z"
   },
   {
    "duration": 21,
    "start_time": "2023-09-21T10:52:52.570Z"
   },
   {
    "duration": 33,
    "start_time": "2023-09-21T10:52:52.594Z"
   },
   {
    "duration": 23,
    "start_time": "2023-09-21T10:52:52.630Z"
   },
   {
    "duration": 1188,
    "start_time": "2023-09-21T10:52:52.654Z"
   },
   {
    "duration": 6,
    "start_time": "2023-09-21T10:52:53.844Z"
   },
   {
    "duration": 23,
    "start_time": "2023-09-21T10:52:53.851Z"
   },
   {
    "duration": 1977,
    "start_time": "2023-09-21T10:52:53.876Z"
   },
   {
    "duration": 227,
    "start_time": "2023-09-21T10:52:55.855Z"
   },
   {
    "duration": 93,
    "start_time": "2023-09-21T10:52:56.084Z"
   },
   {
    "duration": 4,
    "start_time": "2023-09-21T10:52:56.178Z"
   },
   {
    "duration": 8,
    "start_time": "2023-09-21T10:52:56.183Z"
   },
   {
    "duration": 317978,
    "start_time": "2023-09-21T10:52:57.945Z"
   },
   {
    "duration": 5,
    "start_time": "2023-09-21T10:58:15.926Z"
   },
   {
    "duration": 23,
    "start_time": "2023-09-21T10:58:15.933Z"
   },
   {
    "duration": 3,
    "start_time": "2023-09-21T11:01:44.936Z"
   },
   {
    "duration": 4,
    "start_time": "2023-09-21T11:01:50.539Z"
   },
   {
    "duration": 195591,
    "start_time": "2023-09-21T11:01:50.933Z"
   },
   {
    "duration": 4,
    "start_time": "2023-09-21T11:05:06.526Z"
   },
   {
    "duration": 28,
    "start_time": "2023-09-21T11:05:06.531Z"
   },
   {
    "duration": 3,
    "start_time": "2023-09-21T11:14:43.393Z"
   },
   {
    "duration": 6,
    "start_time": "2023-09-21T11:14:45.414Z"
   },
   {
    "duration": 72807,
    "start_time": "2023-09-21T11:14:46.529Z"
   },
   {
    "duration": 10,
    "start_time": "2023-09-21T11:15:59.338Z"
   },
   {
    "duration": 33,
    "start_time": "2023-09-21T11:15:59.350Z"
   },
   {
    "duration": 5,
    "start_time": "2023-09-21T11:17:16.114Z"
   },
   {
    "duration": 72131,
    "start_time": "2023-09-21T11:17:17.225Z"
   },
   {
    "duration": 5,
    "start_time": "2023-09-21T11:18:29.358Z"
   },
   {
    "duration": 11,
    "start_time": "2023-09-21T11:18:29.365Z"
   },
   {
    "duration": 3,
    "start_time": "2023-09-21T11:28:23.971Z"
   },
   {
    "duration": 4,
    "start_time": "2023-09-21T11:28:25.433Z"
   },
   {
    "duration": 8674,
    "start_time": "2023-09-21T11:28:26.473Z"
   },
   {
    "duration": 5,
    "start_time": "2023-09-21T11:28:35.149Z"
   },
   {
    "duration": 37,
    "start_time": "2023-09-21T11:28:35.155Z"
   },
   {
    "duration": 3,
    "start_time": "2023-09-21T11:29:04.956Z"
   },
   {
    "duration": 4,
    "start_time": "2023-09-21T11:29:06.415Z"
   },
   {
    "duration": 1160,
    "start_time": "2023-09-21T11:29:07.435Z"
   },
   {
    "duration": 5,
    "start_time": "2023-09-21T11:29:08.597Z"
   },
   {
    "duration": 4,
    "start_time": "2023-09-21T11:29:11.244Z"
   },
   {
    "duration": 4,
    "start_time": "2023-09-21T11:29:30.591Z"
   },
   {
    "duration": 3,
    "start_time": "2023-09-21T11:29:37.315Z"
   },
   {
    "duration": 3,
    "start_time": "2023-09-21T11:29:52.339Z"
   },
   {
    "duration": 4,
    "start_time": "2023-09-21T11:29:53.615Z"
   },
   {
    "duration": 141864,
    "start_time": "2023-09-21T11:29:56.615Z"
   },
   {
    "duration": 4,
    "start_time": "2023-09-21T11:32:18.481Z"
   },
   {
    "duration": 14,
    "start_time": "2023-09-21T11:32:18.487Z"
   },
   {
    "duration": 3,
    "start_time": "2023-09-21T11:42:11.398Z"
   },
   {
    "duration": 3,
    "start_time": "2023-09-21T11:42:13.990Z"
   },
   {
    "duration": 11096,
    "start_time": "2023-09-21T11:42:15.090Z"
   },
   {
    "duration": 5,
    "start_time": "2023-09-21T11:42:26.188Z"
   },
   {
    "duration": 25,
    "start_time": "2023-09-21T11:42:26.195Z"
   },
   {
    "duration": 3,
    "start_time": "2023-09-21T11:42:52.990Z"
   },
   {
    "duration": 5,
    "start_time": "2023-09-21T11:42:55.310Z"
   },
   {
    "duration": 158127,
    "start_time": "2023-09-21T11:42:56.494Z"
   },
   {
    "duration": 5,
    "start_time": "2023-09-21T11:45:34.623Z"
   },
   {
    "duration": 30,
    "start_time": "2023-09-21T11:45:34.629Z"
   },
   {
    "duration": 3,
    "start_time": "2023-09-21T11:49:42.974Z"
   },
   {
    "duration": 4,
    "start_time": "2023-09-21T11:49:44.925Z"
   },
   {
    "duration": 151000,
    "start_time": "2023-09-21T11:49:45.965Z"
   },
   {
    "duration": 4,
    "start_time": "2023-09-21T11:52:16.967Z"
   },
   {
    "duration": 34,
    "start_time": "2023-09-21T11:52:16.973Z"
   },
   {
    "duration": 3,
    "start_time": "2023-09-21T11:57:08.527Z"
   },
   {
    "duration": 152065,
    "start_time": "2023-09-21T11:57:11.111Z"
   },
   {
    "duration": 5,
    "start_time": "2023-09-21T11:59:43.179Z"
   },
   {
    "duration": 28,
    "start_time": "2023-09-21T11:59:43.185Z"
   },
   {
    "duration": 4,
    "start_time": "2023-09-21T12:00:40.718Z"
   },
   {
    "duration": 4,
    "start_time": "2023-09-21T12:00:49.491Z"
   },
   {
    "duration": 64511,
    "start_time": "2023-09-21T12:00:50.319Z"
   },
   {
    "duration": 5,
    "start_time": "2023-09-21T12:01:54.832Z"
   },
   {
    "duration": 11,
    "start_time": "2023-09-21T12:01:54.839Z"
   },
   {
    "duration": 5,
    "start_time": "2023-09-21T12:28:36.124Z"
   },
   {
    "duration": 3,
    "start_time": "2023-09-21T12:46:38.070Z"
   },
   {
    "duration": 3,
    "start_time": "2023-09-21T12:46:59.278Z"
   },
   {
    "duration": 4,
    "start_time": "2023-09-21T12:47:01.246Z"
   },
   {
    "duration": 5,
    "start_time": "2023-09-21T12:47:41.022Z"
   },
   {
    "duration": 9,
    "start_time": "2023-09-21T12:47:43.549Z"
   },
   {
    "duration": 143,
    "start_time": "2023-09-21T12:47:47.020Z"
   },
   {
    "duration": 4,
    "start_time": "2023-09-21T12:47:57.927Z"
   },
   {
    "duration": 6,
    "start_time": "2023-09-21T12:47:59.088Z"
   },
   {
    "duration": 5,
    "start_time": "2023-09-21T12:48:00.838Z"
   },
   {
    "duration": 5,
    "start_time": "2023-09-21T12:48:02.887Z"
   },
   {
    "duration": 3,
    "start_time": "2023-09-21T12:48:04.923Z"
   },
   {
    "duration": 116,
    "start_time": "2023-09-21T12:48:05.768Z"
   },
   {
    "duration": 5,
    "start_time": "2023-09-21T12:49:08.174Z"
   },
   {
    "duration": 6,
    "start_time": "2023-09-21T12:49:10.138Z"
   },
   {
    "duration": 7,
    "start_time": "2023-09-21T12:49:13.361Z"
   },
   {
    "duration": 7,
    "start_time": "2023-09-21T12:49:15.358Z"
   },
   {
    "duration": 38,
    "start_time": "2023-09-21T12:49:16.127Z"
   },
   {
    "duration": 4,
    "start_time": "2023-09-21T12:49:26.838Z"
   },
   {
    "duration": 5,
    "start_time": "2023-09-21T12:49:41.026Z"
   },
   {
    "duration": 5,
    "start_time": "2023-09-21T12:49:43.785Z"
   },
   {
    "duration": 24,
    "start_time": "2023-09-21T12:49:46.559Z"
   },
   {
    "duration": 1660,
    "start_time": "2023-09-21T12:50:10.949Z"
   },
   {
    "duration": 51,
    "start_time": "2023-09-21T12:50:12.612Z"
   },
   {
    "duration": 42,
    "start_time": "2023-09-21T12:50:12.665Z"
   },
   {
    "duration": 834,
    "start_time": "2023-09-21T12:50:12.709Z"
   },
   {
    "duration": 15,
    "start_time": "2023-09-21T12:50:13.547Z"
   },
   {
    "duration": 106,
    "start_time": "2023-09-21T12:50:13.563Z"
   },
   {
    "duration": 33,
    "start_time": "2023-09-21T12:50:13.671Z"
   },
   {
    "duration": 114,
    "start_time": "2023-09-21T12:50:13.706Z"
   },
   {
    "duration": 1196,
    "start_time": "2023-09-21T12:50:13.822Z"
   },
   {
    "duration": 5,
    "start_time": "2023-09-21T12:50:15.020Z"
   },
   {
    "duration": 108,
    "start_time": "2023-09-21T12:50:15.028Z"
   },
   {
    "duration": 2410,
    "start_time": "2023-09-21T12:50:15.138Z"
   },
   {
    "duration": 153,
    "start_time": "2023-09-21T12:50:17.551Z"
   },
   {
    "duration": 85,
    "start_time": "2023-09-21T12:50:17.707Z"
   },
   {
    "duration": 4,
    "start_time": "2023-09-21T12:50:17.794Z"
   },
   {
    "duration": 23,
    "start_time": "2023-09-21T12:50:17.800Z"
   },
   {
    "duration": 62375,
    "start_time": "2023-09-21T12:50:17.826Z"
   },
   {
    "duration": 5,
    "start_time": "2023-09-21T12:51:20.203Z"
   },
   {
    "duration": 82,
    "start_time": "2023-09-21T12:51:20.210Z"
   },
   {
    "duration": 15,
    "start_time": "2023-09-21T12:51:20.293Z"
   },
   {
    "duration": 162,
    "start_time": "2023-09-21T12:51:20.311Z"
   },
   {
    "duration": 3,
    "start_time": "2023-09-21T12:51:31.768Z"
   },
   {
    "duration": 4,
    "start_time": "2023-09-21T12:51:33.330Z"
   },
   {
    "duration": 5,
    "start_time": "2023-09-21T12:51:41.113Z"
   },
   {
    "duration": 5,
    "start_time": "2023-09-21T12:51:43.609Z"
   },
   {
    "duration": 3,
    "start_time": "2023-09-21T12:51:46.728Z"
   },
   {
    "duration": 110,
    "start_time": "2023-09-21T12:51:47.568Z"
   },
   {
    "duration": 5,
    "start_time": "2023-09-21T12:52:17.970Z"
   },
   {
    "duration": 4,
    "start_time": "2023-09-21T12:52:22.038Z"
   },
   {
    "duration": 6,
    "start_time": "2023-09-21T12:52:24.136Z"
   },
   {
    "duration": 3,
    "start_time": "2023-09-21T12:52:26.356Z"
   },
   {
    "duration": 23,
    "start_time": "2023-09-21T12:52:27.172Z"
   },
   {
    "duration": 5,
    "start_time": "2023-09-21T12:53:10.551Z"
   },
   {
    "duration": 6,
    "start_time": "2023-09-21T12:53:14.210Z"
   },
   {
    "duration": 70,
    "start_time": "2023-09-21T12:53:32.949Z"
   },
   {
    "duration": 8,
    "start_time": "2023-09-21T12:53:35.628Z"
   },
   {
    "duration": 1621,
    "start_time": "2023-09-21T12:53:44.527Z"
   },
   {
    "duration": 56,
    "start_time": "2023-09-21T12:53:46.150Z"
   },
   {
    "duration": 47,
    "start_time": "2023-09-21T12:53:46.208Z"
   },
   {
    "duration": 832,
    "start_time": "2023-09-21T12:53:46.257Z"
   },
   {
    "duration": 16,
    "start_time": "2023-09-21T12:53:47.091Z"
   },
   {
    "duration": 7,
    "start_time": "2023-09-21T12:53:47.108Z"
   },
   {
    "duration": 31,
    "start_time": "2023-09-21T12:53:47.117Z"
   },
   {
    "duration": 44,
    "start_time": "2023-09-21T12:53:47.150Z"
   },
   {
    "duration": 1162,
    "start_time": "2023-09-21T12:53:47.196Z"
   },
   {
    "duration": 5,
    "start_time": "2023-09-21T12:53:48.360Z"
   },
   {
    "duration": 38,
    "start_time": "2023-09-21T12:53:48.367Z"
   },
   {
    "duration": 1850,
    "start_time": "2023-09-21T12:53:48.407Z"
   },
   {
    "duration": 152,
    "start_time": "2023-09-21T12:53:50.348Z"
   },
   {
    "duration": 87,
    "start_time": "2023-09-21T12:53:50.503Z"
   },
   {
    "duration": 18,
    "start_time": "2023-09-21T12:53:50.592Z"
   },
   {
    "duration": 131,
    "start_time": "2023-09-21T12:53:50.612Z"
   },
   {
    "duration": 60802,
    "start_time": "2023-09-21T12:53:50.745Z"
   },
   {
    "duration": 5,
    "start_time": "2023-09-21T12:54:51.549Z"
   },
   {
    "duration": 39,
    "start_time": "2023-09-21T12:54:51.556Z"
   },
   {
    "duration": 60,
    "start_time": "2023-09-21T12:54:51.596Z"
   },
   {
    "duration": 26,
    "start_time": "2023-09-21T12:54:51.658Z"
   },
   {
    "duration": 37,
    "start_time": "2023-09-21T12:54:51.686Z"
   },
   {
    "duration": 34,
    "start_time": "2023-09-21T12:54:51.724Z"
   },
   {
    "duration": 5,
    "start_time": "2023-09-21T12:55:23.749Z"
   },
   {
    "duration": 2,
    "start_time": "2023-09-21T12:55:29.297Z"
   },
   {
    "duration": 245,
    "start_time": "2023-09-21T12:55:30.328Z"
   },
   {
    "duration": 5,
    "start_time": "2023-09-21T12:55:57.869Z"
   },
   {
    "duration": 6,
    "start_time": "2023-09-21T12:56:02.125Z"
   },
   {
    "duration": 3,
    "start_time": "2023-09-21T12:56:05.259Z"
   },
   {
    "duration": 23,
    "start_time": "2023-09-21T12:56:06.377Z"
   },
   {
    "duration": 1558,
    "start_time": "2023-09-21T12:56:24.921Z"
   },
   {
    "duration": 54,
    "start_time": "2023-09-21T12:56:26.481Z"
   },
   {
    "duration": 42,
    "start_time": "2023-09-21T12:56:26.537Z"
   },
   {
    "duration": 807,
    "start_time": "2023-09-21T12:56:26.581Z"
   },
   {
    "duration": 16,
    "start_time": "2023-09-21T12:56:27.391Z"
   },
   {
    "duration": 14,
    "start_time": "2023-09-21T12:56:27.409Z"
   },
   {
    "duration": 26,
    "start_time": "2023-09-21T12:56:27.425Z"
   },
   {
    "duration": 25,
    "start_time": "2023-09-21T12:56:27.452Z"
   },
   {
    "duration": 1163,
    "start_time": "2023-09-21T12:56:27.479Z"
   },
   {
    "duration": 7,
    "start_time": "2023-09-21T12:56:28.646Z"
   },
   {
    "duration": 15,
    "start_time": "2023-09-21T12:56:28.655Z"
   },
   {
    "duration": 1979,
    "start_time": "2023-09-21T12:56:28.671Z"
   },
   {
    "duration": 147,
    "start_time": "2023-09-21T12:56:30.652Z"
   },
   {
    "duration": 84,
    "start_time": "2023-09-21T12:56:30.800Z"
   },
   {
    "duration": 3,
    "start_time": "2023-09-21T12:56:30.886Z"
   },
   {
    "duration": 36,
    "start_time": "2023-09-21T12:56:30.891Z"
   },
   {
    "duration": 60616,
    "start_time": "2023-09-21T12:56:30.928Z"
   },
   {
    "duration": 5,
    "start_time": "2023-09-21T12:57:31.547Z"
   },
   {
    "duration": 101,
    "start_time": "2023-09-21T12:57:31.553Z"
   },
   {
    "duration": 180,
    "start_time": "2023-09-21T12:57:31.655Z"
   },
   {
    "duration": 82,
    "start_time": "2023-09-21T12:57:31.838Z"
   },
   {
    "duration": 56,
    "start_time": "2023-09-21T12:57:31.922Z"
   },
   {
    "duration": 177,
    "start_time": "2023-09-21T12:57:31.980Z"
   },
   {
    "duration": 72,
    "start_time": "2023-09-21T12:57:32.159Z"
   },
   {
    "duration": 276,
    "start_time": "2023-09-21T12:57:32.233Z"
   },
   {
    "duration": 0,
    "start_time": "2023-09-21T12:57:32.511Z"
   },
   {
    "duration": 0,
    "start_time": "2023-09-21T12:57:32.513Z"
   },
   {
    "duration": 0,
    "start_time": "2023-09-21T12:57:32.514Z"
   },
   {
    "duration": 0,
    "start_time": "2023-09-21T12:57:32.516Z"
   },
   {
    "duration": 0,
    "start_time": "2023-09-21T12:57:32.518Z"
   },
   {
    "duration": 0,
    "start_time": "2023-09-21T12:57:32.519Z"
   },
   {
    "duration": 0,
    "start_time": "2023-09-21T12:57:32.520Z"
   },
   {
    "duration": 0,
    "start_time": "2023-09-21T12:57:32.521Z"
   },
   {
    "duration": 0,
    "start_time": "2023-09-21T12:57:32.522Z"
   },
   {
    "duration": 0,
    "start_time": "2023-09-21T12:57:32.546Z"
   },
   {
    "duration": 5,
    "start_time": "2023-09-21T13:04:01.137Z"
   },
   {
    "duration": 6,
    "start_time": "2023-09-21T13:04:04.839Z"
   },
   {
    "duration": 3,
    "start_time": "2023-09-21T13:04:06.839Z"
   },
   {
    "duration": 18,
    "start_time": "2023-09-21T13:04:07.727Z"
   },
   {
    "duration": 5,
    "start_time": "2023-09-21T13:05:19.800Z"
   },
   {
    "duration": 5,
    "start_time": "2023-09-21T13:05:23.086Z"
   },
   {
    "duration": 27,
    "start_time": "2023-09-21T13:05:27.271Z"
   },
   {
    "duration": 5,
    "start_time": "2023-09-21T13:06:02.906Z"
   },
   {
    "duration": 5,
    "start_time": "2023-09-21T13:06:05.970Z"
   },
   {
    "duration": 5,
    "start_time": "2023-09-21T13:06:09.702Z"
   },
   {
    "duration": 5,
    "start_time": "2023-09-21T13:06:16.861Z"
   },
   {
    "duration": 2,
    "start_time": "2023-09-21T13:06:19.942Z"
   },
   {
    "duration": 24,
    "start_time": "2023-09-21T13:06:20.881Z"
   },
   {
    "duration": 28,
    "start_time": "2023-09-21T13:06:45.073Z"
   },
   {
    "duration": 7,
    "start_time": "2023-09-21T13:06:49.190Z"
   },
   {
    "duration": 31,
    "start_time": "2023-09-21T13:06:59.019Z"
   },
   {
    "duration": 10773,
    "start_time": "2023-09-21T13:16:08.039Z"
   },
   {
    "duration": 5,
    "start_time": "2023-09-21T13:16:38.910Z"
   },
   {
    "duration": 71,
    "start_time": "2023-09-21T13:16:38.918Z"
   },
   {
    "duration": 44,
    "start_time": "2023-09-21T13:16:38.992Z"
   },
   {
    "duration": 863,
    "start_time": "2023-09-21T13:16:39.038Z"
   },
   {
    "duration": 16,
    "start_time": "2023-09-21T13:16:39.903Z"
   },
   {
    "duration": 27,
    "start_time": "2023-09-21T13:16:39.921Z"
   },
   {
    "duration": 16,
    "start_time": "2023-09-21T13:16:39.950Z"
   },
   {
    "duration": 45,
    "start_time": "2023-09-21T13:16:39.969Z"
   },
   {
    "duration": 1210,
    "start_time": "2023-09-21T13:16:40.016Z"
   },
   {
    "duration": 251,
    "start_time": "2023-09-21T13:16:44.290Z"
   },
   {
    "duration": 5,
    "start_time": "2023-09-21T13:17:25.298Z"
   },
   {
    "duration": 69,
    "start_time": "2023-09-21T13:17:25.306Z"
   },
   {
    "duration": 35,
    "start_time": "2023-09-21T13:17:25.377Z"
   },
   {
    "duration": 725,
    "start_time": "2023-09-21T13:17:25.415Z"
   },
   {
    "duration": 14,
    "start_time": "2023-09-21T13:17:26.147Z"
   },
   {
    "duration": 14,
    "start_time": "2023-09-21T13:17:26.163Z"
   },
   {
    "duration": 20,
    "start_time": "2023-09-21T13:17:26.178Z"
   },
   {
    "duration": 46,
    "start_time": "2023-09-21T13:17:26.200Z"
   },
   {
    "duration": 1096,
    "start_time": "2023-09-21T13:17:26.248Z"
   },
   {
    "duration": 261,
    "start_time": "2023-09-21T13:17:39.154Z"
   },
   {
    "duration": 82,
    "start_time": "2023-09-21T13:22:16.198Z"
   },
   {
    "duration": 306,
    "start_time": "2023-09-21T13:22:26.428Z"
   },
   {
    "duration": 310,
    "start_time": "2023-09-21T13:22:42.671Z"
   },
   {
    "duration": 300,
    "start_time": "2023-09-21T13:26:19.078Z"
   },
   {
    "duration": 1131,
    "start_time": "2023-09-21T13:30:38.908Z"
   },
   {
    "duration": 1096,
    "start_time": "2023-09-21T13:32:24.308Z"
   },
   {
    "duration": 1247,
    "start_time": "2023-09-21T13:32:55.208Z"
   },
   {
    "duration": 1102,
    "start_time": "2023-09-21T13:33:53.790Z"
   },
   {
    "duration": 1138,
    "start_time": "2023-09-21T13:34:30.781Z"
   },
   {
    "duration": 1469,
    "start_time": "2023-09-21T13:35:44.182Z"
   },
   {
    "duration": 1207,
    "start_time": "2023-09-21T13:36:03.221Z"
   },
   {
    "duration": 1328,
    "start_time": "2023-09-21T13:39:08.307Z"
   },
   {
    "duration": 13,
    "start_time": "2023-09-21T14:56:34.201Z"
   },
   {
    "duration": 9,
    "start_time": "2023-09-21T14:57:09.074Z"
   },
   {
    "duration": 5,
    "start_time": "2023-09-21T15:02:12.734Z"
   },
   {
    "duration": 4,
    "start_time": "2023-09-21T15:02:20.740Z"
   },
   {
    "duration": 69,
    "start_time": "2023-09-21T15:02:20.746Z"
   },
   {
    "duration": 41,
    "start_time": "2023-09-21T15:02:20.817Z"
   },
   {
    "duration": 701,
    "start_time": "2023-09-21T15:02:20.860Z"
   },
   {
    "duration": 14,
    "start_time": "2023-09-21T15:02:21.563Z"
   },
   {
    "duration": 23,
    "start_time": "2023-09-21T15:02:21.578Z"
   },
   {
    "duration": 18,
    "start_time": "2023-09-21T15:02:21.603Z"
   },
   {
    "duration": 38,
    "start_time": "2023-09-21T15:02:21.623Z"
   },
   {
    "duration": 1280,
    "start_time": "2023-09-21T15:02:21.663Z"
   },
   {
    "duration": 296,
    "start_time": "2023-09-21T15:02:22.945Z"
   },
   {
    "duration": 7,
    "start_time": "2023-09-21T15:02:23.247Z"
   },
   {
    "duration": 8,
    "start_time": "2023-09-21T15:02:25.552Z"
   },
   {
    "duration": 10,
    "start_time": "2023-09-21T15:02:56.682Z"
   },
   {
    "duration": 2249,
    "start_time": "2023-09-21T15:05:56.498Z"
   },
   {
    "duration": 1614,
    "start_time": "2023-09-21T15:06:54.015Z"
   },
   {
    "duration": 52,
    "start_time": "2023-09-21T15:06:55.632Z"
   },
   {
    "duration": 40,
    "start_time": "2023-09-21T15:06:55.686Z"
   },
   {
    "duration": 805,
    "start_time": "2023-09-21T15:06:55.727Z"
   },
   {
    "duration": 22,
    "start_time": "2023-09-21T15:06:56.534Z"
   },
   {
    "duration": 8,
    "start_time": "2023-09-21T15:06:56.558Z"
   },
   {
    "duration": 19,
    "start_time": "2023-09-21T15:06:56.568Z"
   },
   {
    "duration": 22,
    "start_time": "2023-09-21T15:06:56.589Z"
   },
   {
    "duration": 1256,
    "start_time": "2023-09-21T15:06:56.613Z"
   },
   {
    "duration": 289,
    "start_time": "2023-09-21T15:06:57.872Z"
   },
   {
    "duration": 8,
    "start_time": "2023-09-21T15:06:58.163Z"
   },
   {
    "duration": 14,
    "start_time": "2023-09-21T15:06:58.173Z"
   },
   {
    "duration": 32,
    "start_time": "2023-09-21T15:06:58.189Z"
   },
   {
    "duration": 79291,
    "start_time": "2023-09-21T15:07:15.261Z"
   },
   {
    "duration": 15545,
    "start_time": "2023-09-21T15:09:13.414Z"
   },
   {
    "duration": 5,
    "start_time": "2023-09-21T15:10:02.562Z"
   },
   {
    "duration": 14721,
    "start_time": "2023-09-21T15:10:05.834Z"
   },
   {
    "duration": 38,
    "start_time": "2023-09-21T15:10:52.103Z"
   },
   {
    "duration": 5,
    "start_time": "2023-09-21T15:11:45.509Z"
   },
   {
    "duration": 1555,
    "start_time": "2023-09-21T15:12:06.240Z"
   },
   {
    "duration": 52,
    "start_time": "2023-09-21T15:12:07.797Z"
   },
   {
    "duration": 39,
    "start_time": "2023-09-21T15:12:07.851Z"
   },
   {
    "duration": 836,
    "start_time": "2023-09-21T15:12:07.892Z"
   },
   {
    "duration": 26,
    "start_time": "2023-09-21T15:12:08.730Z"
   },
   {
    "duration": 8,
    "start_time": "2023-09-21T15:12:08.758Z"
   },
   {
    "duration": 18,
    "start_time": "2023-09-21T15:12:08.768Z"
   },
   {
    "duration": 10,
    "start_time": "2023-09-21T15:12:08.788Z"
   },
   {
    "duration": 1393,
    "start_time": "2023-09-21T15:12:08.800Z"
   },
   {
    "duration": 308,
    "start_time": "2023-09-21T15:12:10.195Z"
   },
   {
    "duration": 8,
    "start_time": "2023-09-21T15:12:10.505Z"
   },
   {
    "duration": 5,
    "start_time": "2023-09-21T15:12:10.515Z"
   },
   {
    "duration": 50,
    "start_time": "2023-09-21T15:12:10.521Z"
   },
   {
    "duration": 26,
    "start_time": "2023-09-21T15:12:10.574Z"
   },
   {
    "duration": 13254,
    "start_time": "2023-09-21T15:12:10.603Z"
   },
   {
    "duration": 236,
    "start_time": "2023-09-21T15:12:23.952Z"
   },
   {
    "duration": 97,
    "start_time": "2023-09-21T15:12:24.190Z"
   },
   {
    "duration": 4,
    "start_time": "2023-09-21T15:12:24.290Z"
   },
   {
    "duration": 43,
    "start_time": "2023-09-21T15:12:24.295Z"
   },
   {
    "duration": 61159,
    "start_time": "2023-09-21T15:12:24.340Z"
   },
   {
    "duration": 7,
    "start_time": "2023-09-21T15:13:25.500Z"
   },
   {
    "duration": 13,
    "start_time": "2023-09-21T15:13:25.508Z"
   },
   {
    "duration": 22,
    "start_time": "2023-09-21T15:13:25.524Z"
   },
   {
    "duration": 46,
    "start_time": "2023-09-21T15:13:25.548Z"
   },
   {
    "duration": 35,
    "start_time": "2023-09-21T15:13:25.597Z"
   },
   {
    "duration": 13,
    "start_time": "2023-09-21T15:13:25.634Z"
   },
   {
    "duration": 19,
    "start_time": "2023-09-21T15:13:25.649Z"
   },
   {
    "duration": 280,
    "start_time": "2023-09-21T15:13:25.670Z"
   },
   {
    "duration": 0,
    "start_time": "2023-09-21T15:13:25.952Z"
   },
   {
    "duration": 0,
    "start_time": "2023-09-21T15:13:25.954Z"
   },
   {
    "duration": 0,
    "start_time": "2023-09-21T15:13:25.955Z"
   },
   {
    "duration": 0,
    "start_time": "2023-09-21T15:13:25.957Z"
   },
   {
    "duration": 0,
    "start_time": "2023-09-21T15:13:25.958Z"
   },
   {
    "duration": 0,
    "start_time": "2023-09-21T15:13:25.960Z"
   },
   {
    "duration": 0,
    "start_time": "2023-09-21T15:13:25.961Z"
   },
   {
    "duration": 0,
    "start_time": "2023-09-21T15:13:25.962Z"
   },
   {
    "duration": 0,
    "start_time": "2023-09-21T15:13:25.963Z"
   },
   {
    "duration": 0,
    "start_time": "2023-09-21T15:13:25.964Z"
   },
   {
    "duration": 352,
    "start_time": "2023-09-21T15:14:12.100Z"
   },
   {
    "duration": 2809,
    "start_time": "2023-09-21T15:14:17.540Z"
   },
   {
    "duration": 3198,
    "start_time": "2023-09-21T15:14:20.352Z"
   },
   {
    "duration": 9,
    "start_time": "2023-09-21T15:14:34.879Z"
   },
   {
    "duration": 6,
    "start_time": "2023-09-21T15:14:36.619Z"
   },
   {
    "duration": 4,
    "start_time": "2023-09-21T15:14:38.619Z"
   },
   {
    "duration": 10,
    "start_time": "2023-09-21T15:14:42.587Z"
   },
   {
    "duration": 6,
    "start_time": "2023-09-21T15:14:44.439Z"
   },
   {
    "duration": 5,
    "start_time": "2023-09-21T15:14:45.527Z"
   },
   {
    "duration": 5,
    "start_time": "2023-09-21T15:15:27.867Z"
   },
   {
    "duration": 6,
    "start_time": "2023-09-21T15:15:31.363Z"
   },
   {
    "duration": 3,
    "start_time": "2023-09-21T15:15:33.047Z"
   },
   {
    "duration": 1780,
    "start_time": "2023-09-21T15:15:33.868Z"
   },
   {
    "duration": 4,
    "start_time": "2023-09-21T15:15:36.767Z"
   },
   {
    "duration": 4,
    "start_time": "2023-09-21T15:15:53.659Z"
   },
   {
    "duration": 5,
    "start_time": "2023-09-21T15:21:36.348Z"
   },
   {
    "duration": 1678,
    "start_time": "2023-09-21T15:21:39.191Z"
   },
   {
    "duration": 4,
    "start_time": "2023-09-21T15:21:43.449Z"
   },
   {
    "duration": 5,
    "start_time": "2023-09-21T15:22:12.576Z"
   },
   {
    "duration": 5,
    "start_time": "2023-09-21T15:22:18.069Z"
   },
   {
    "duration": 28,
    "start_time": "2023-09-21T15:22:20.448Z"
   },
   {
    "duration": 5,
    "start_time": "2023-09-21T15:23:00.091Z"
   },
   {
    "duration": 15,
    "start_time": "2023-09-21T15:23:15.600Z"
   },
   {
    "duration": 15,
    "start_time": "2023-09-21T15:23:21.409Z"
   },
   {
    "duration": 1495,
    "start_time": "2023-09-21T15:24:35.300Z"
   },
   {
    "duration": 53,
    "start_time": "2023-09-21T15:24:36.798Z"
   },
   {
    "duration": 41,
    "start_time": "2023-09-21T15:24:36.853Z"
   },
   {
    "duration": 792,
    "start_time": "2023-09-21T15:24:36.896Z"
   },
   {
    "duration": 15,
    "start_time": "2023-09-21T15:24:37.690Z"
   },
   {
    "duration": 10,
    "start_time": "2023-09-21T15:24:37.707Z"
   },
   {
    "duration": 20,
    "start_time": "2023-09-21T15:24:37.718Z"
   },
   {
    "duration": 28,
    "start_time": "2023-09-21T15:24:37.739Z"
   },
   {
    "duration": 1196,
    "start_time": "2023-09-21T15:24:37.769Z"
   },
   {
    "duration": 305,
    "start_time": "2023-09-21T15:24:38.969Z"
   },
   {
    "duration": 9,
    "start_time": "2023-09-21T15:24:39.276Z"
   },
   {
    "duration": 13,
    "start_time": "2023-09-21T15:24:39.287Z"
   },
   {
    "duration": 19,
    "start_time": "2023-09-21T15:24:39.302Z"
   },
   {
    "duration": 33,
    "start_time": "2023-09-21T15:24:39.323Z"
   },
   {
    "duration": 12491,
    "start_time": "2023-09-21T15:24:39.357Z"
   },
   {
    "duration": 202,
    "start_time": "2023-09-21T15:24:51.850Z"
   },
   {
    "duration": 100,
    "start_time": "2023-09-21T15:24:52.054Z"
   },
   {
    "duration": 3,
    "start_time": "2023-09-21T15:24:52.156Z"
   },
   {
    "duration": 21,
    "start_time": "2023-09-21T15:24:52.161Z"
   },
   {
    "duration": 60404,
    "start_time": "2023-09-21T15:24:52.183Z"
   },
   {
    "duration": 5,
    "start_time": "2023-09-21T15:25:52.589Z"
   },
   {
    "duration": 15,
    "start_time": "2023-09-21T15:25:52.596Z"
   },
   {
    "duration": 4,
    "start_time": "2023-09-21T15:25:52.613Z"
   },
   {
    "duration": 28,
    "start_time": "2023-09-21T15:25:52.618Z"
   },
   {
    "duration": 34,
    "start_time": "2023-09-21T15:25:52.648Z"
   },
   {
    "duration": 20,
    "start_time": "2023-09-21T15:25:52.683Z"
   },
   {
    "duration": 34,
    "start_time": "2023-09-21T15:25:52.705Z"
   },
   {
    "duration": 260,
    "start_time": "2023-09-21T15:25:52.742Z"
   },
   {
    "duration": 0,
    "start_time": "2023-09-21T15:25:53.004Z"
   },
   {
    "duration": 0,
    "start_time": "2023-09-21T15:25:53.006Z"
   },
   {
    "duration": 0,
    "start_time": "2023-09-21T15:25:53.007Z"
   },
   {
    "duration": 0,
    "start_time": "2023-09-21T15:25:53.008Z"
   },
   {
    "duration": 0,
    "start_time": "2023-09-21T15:25:53.010Z"
   },
   {
    "duration": 0,
    "start_time": "2023-09-21T15:25:53.011Z"
   },
   {
    "duration": 0,
    "start_time": "2023-09-21T15:25:53.013Z"
   },
   {
    "duration": 0,
    "start_time": "2023-09-21T15:25:53.014Z"
   },
   {
    "duration": 0,
    "start_time": "2023-09-21T15:25:53.016Z"
   },
   {
    "duration": 0,
    "start_time": "2023-09-21T15:25:53.018Z"
   },
   {
    "duration": 6,
    "start_time": "2023-09-21T15:27:55.248Z"
   },
   {
    "duration": 5,
    "start_time": "2023-09-21T15:27:57.868Z"
   },
   {
    "duration": 6,
    "start_time": "2023-09-21T15:28:04.768Z"
   },
   {
    "duration": 24,
    "start_time": "2023-09-21T15:28:07.560Z"
   },
   {
    "duration": 241,
    "start_time": "2023-09-22T07:38:26.959Z"
   },
   {
    "duration": 17,
    "start_time": "2023-09-22T07:39:50.288Z"
   },
   {
    "duration": 6,
    "start_time": "2023-09-22T07:39:56.892Z"
   },
   {
    "duration": 101,
    "start_time": "2023-09-22T07:40:01.098Z"
   },
   {
    "duration": 20,
    "start_time": "2023-09-22T07:40:13.083Z"
   },
   {
    "duration": 2499,
    "start_time": "2023-09-22T07:40:20.709Z"
   },
   {
    "duration": 236,
    "start_time": "2023-09-22T07:40:23.211Z"
   },
   {
    "duration": 76,
    "start_time": "2023-09-22T07:40:23.449Z"
   },
   {
    "duration": 1110,
    "start_time": "2023-09-22T07:40:23.528Z"
   },
   {
    "duration": 30,
    "start_time": "2023-09-22T07:40:24.640Z"
   },
   {
    "duration": 77,
    "start_time": "2023-09-22T07:40:24.673Z"
   },
   {
    "duration": 28,
    "start_time": "2023-09-22T07:40:24.754Z"
   },
   {
    "duration": 22,
    "start_time": "2023-09-22T07:40:24.784Z"
   },
   {
    "duration": 1846,
    "start_time": "2023-09-22T07:40:24.808Z"
   },
   {
    "duration": 488,
    "start_time": "2023-09-22T07:40:26.673Z"
   },
   {
    "duration": 10,
    "start_time": "2023-09-22T07:40:27.163Z"
   },
   {
    "duration": 35,
    "start_time": "2023-09-22T07:40:27.178Z"
   },
   {
    "duration": 24,
    "start_time": "2023-09-22T07:40:27.215Z"
   },
   {
    "duration": 43,
    "start_time": "2023-09-22T07:40:27.247Z"
   },
   {
    "duration": 55343,
    "start_time": "2023-09-22T07:40:27.294Z"
   },
   {
    "duration": 308,
    "start_time": "2023-09-22T07:41:22.645Z"
   },
   {
    "duration": 156,
    "start_time": "2023-09-22T07:41:22.955Z"
   },
   {
    "duration": 3,
    "start_time": "2023-09-22T07:41:23.112Z"
   },
   {
    "duration": 14,
    "start_time": "2023-09-22T07:41:23.127Z"
   },
   {
    "duration": 2392,
    "start_time": "2023-09-22T07:52:37.649Z"
   },
   {
    "duration": 74,
    "start_time": "2023-09-22T07:52:40.047Z"
   },
   {
    "duration": 80,
    "start_time": "2023-09-22T07:52:40.123Z"
   },
   {
    "duration": 1189,
    "start_time": "2023-09-22T07:52:40.206Z"
   },
   {
    "duration": 24,
    "start_time": "2023-09-22T07:52:41.398Z"
   },
   {
    "duration": 9,
    "start_time": "2023-09-22T07:52:41.427Z"
   },
   {
    "duration": 44,
    "start_time": "2023-09-22T07:52:41.438Z"
   },
   {
    "duration": 24,
    "start_time": "2023-09-22T07:52:41.485Z"
   },
   {
    "duration": 1844,
    "start_time": "2023-09-22T07:52:41.511Z"
   },
   {
    "duration": 471,
    "start_time": "2023-09-22T07:52:43.359Z"
   },
   {
    "duration": 13,
    "start_time": "2023-09-22T07:52:43.833Z"
   },
   {
    "duration": 36,
    "start_time": "2023-09-22T07:52:43.851Z"
   },
   {
    "duration": 106,
    "start_time": "2023-09-22T07:52:43.890Z"
   },
   {
    "duration": 103,
    "start_time": "2023-09-22T07:52:43.998Z"
   },
   {
    "duration": 32407,
    "start_time": "2023-09-22T07:52:44.110Z"
   },
   {
    "duration": 294,
    "start_time": "2023-09-22T07:53:16.534Z"
   },
   {
    "duration": 125,
    "start_time": "2023-09-22T07:53:16.831Z"
   },
   {
    "duration": 5,
    "start_time": "2023-09-22T07:53:16.959Z"
   },
   {
    "duration": 126,
    "start_time": "2023-09-22T07:53:16.966Z"
   },
   {
    "duration": 7200,
    "start_time": "2023-09-22T07:53:17.094Z"
   },
   {
    "duration": 7,
    "start_time": "2023-09-22T07:53:24.305Z"
   },
   {
    "duration": 9,
    "start_time": "2023-09-22T07:53:24.314Z"
   },
   {
    "duration": 11,
    "start_time": "2023-09-22T07:55:07.510Z"
   },
   {
    "duration": 12,
    "start_time": "2023-09-22T07:55:32.577Z"
   },
   {
    "duration": 220,
    "start_time": "2023-09-22T07:55:35.320Z"
   },
   {
    "duration": 155,
    "start_time": "2023-09-22T07:57:52.567Z"
   },
   {
    "duration": 9,
    "start_time": "2023-09-22T07:58:51.971Z"
   },
   {
    "duration": 17,
    "start_time": "2023-09-22T07:58:58.124Z"
   },
   {
    "duration": 43,
    "start_time": "2023-09-22T07:59:00.113Z"
   },
   {
    "duration": 211,
    "start_time": "2023-09-22T08:06:41.089Z"
   },
   {
    "duration": 193,
    "start_time": "2023-09-22T08:06:48.781Z"
   },
   {
    "duration": 15,
    "start_time": "2023-09-22T08:07:01.397Z"
   },
   {
    "duration": 190,
    "start_time": "2023-09-22T08:08:32.066Z"
   },
   {
    "duration": 19,
    "start_time": "2023-09-22T08:08:53.023Z"
   },
   {
    "duration": 232,
    "start_time": "2023-09-22T08:11:15.275Z"
   },
   {
    "duration": 181,
    "start_time": "2023-09-22T08:11:26.051Z"
   },
   {
    "duration": 212,
    "start_time": "2023-09-22T08:15:56.366Z"
   },
   {
    "duration": 194,
    "start_time": "2023-09-22T08:16:10.252Z"
   },
   {
    "duration": 115,
    "start_time": "2023-09-22T08:16:38.141Z"
   },
   {
    "duration": 117,
    "start_time": "2023-09-22T08:21:20.244Z"
   },
   {
    "duration": 128,
    "start_time": "2023-09-22T08:22:07.356Z"
   },
   {
    "duration": 5,
    "start_time": "2023-09-22T08:27:47.755Z"
   },
   {
    "duration": 6,
    "start_time": "2023-09-22T08:42:28.261Z"
   },
   {
    "duration": 11,
    "start_time": "2023-09-22T08:43:29.088Z"
   },
   {
    "duration": 16,
    "start_time": "2023-09-22T08:43:40.404Z"
   },
   {
    "duration": 16,
    "start_time": "2023-09-22T08:44:06.119Z"
   },
   {
    "duration": 14,
    "start_time": "2023-09-22T08:47:16.397Z"
   },
   {
    "duration": 14,
    "start_time": "2023-09-22T08:47:40.091Z"
   },
   {
    "duration": 14,
    "start_time": "2023-09-22T09:04:05.763Z"
   },
   {
    "duration": 1743,
    "start_time": "2023-09-22T10:19:05.690Z"
   },
   {
    "duration": 52,
    "start_time": "2023-09-22T10:19:07.435Z"
   },
   {
    "duration": 48,
    "start_time": "2023-09-22T10:19:07.523Z"
   },
   {
    "duration": 806,
    "start_time": "2023-09-22T10:19:07.572Z"
   },
   {
    "duration": 15,
    "start_time": "2023-09-22T10:19:08.381Z"
   },
   {
    "duration": 57,
    "start_time": "2023-09-22T10:19:08.398Z"
   },
   {
    "duration": 59,
    "start_time": "2023-09-22T10:19:08.457Z"
   },
   {
    "duration": 28,
    "start_time": "2023-09-22T10:19:08.518Z"
   },
   {
    "duration": 1198,
    "start_time": "2023-09-22T10:19:08.548Z"
   },
   {
    "duration": 265,
    "start_time": "2023-09-22T10:19:09.748Z"
   },
   {
    "duration": 10,
    "start_time": "2023-09-22T10:19:10.015Z"
   },
   {
    "duration": 33,
    "start_time": "2023-09-22T10:19:10.027Z"
   },
   {
    "duration": 36,
    "start_time": "2023-09-22T10:19:10.062Z"
   },
   {
    "duration": 50,
    "start_time": "2023-09-22T10:19:10.101Z"
   },
   {
    "duration": 12782,
    "start_time": "2023-09-22T10:19:10.152Z"
   },
   {
    "duration": 301,
    "start_time": "2023-09-22T10:19:22.937Z"
   },
   {
    "duration": 89,
    "start_time": "2023-09-22T10:19:23.240Z"
   },
   {
    "duration": 59,
    "start_time": "2023-09-22T10:19:23.331Z"
   },
   {
    "duration": 27,
    "start_time": "2023-09-22T10:19:23.392Z"
   },
   {
    "duration": 5028,
    "start_time": "2023-09-22T10:19:23.420Z"
   },
   {
    "duration": 5,
    "start_time": "2023-09-22T10:19:28.450Z"
   },
   {
    "duration": 146,
    "start_time": "2023-09-22T10:19:28.457Z"
   },
   {
    "duration": 8,
    "start_time": "2023-09-22T10:19:35.748Z"
   },
   {
    "duration": 5,
    "start_time": "2023-09-22T10:19:48.137Z"
   },
   {
    "duration": 295,
    "start_time": "2023-09-22T10:19:50.428Z"
   },
   {
    "duration": 8,
    "start_time": "2023-09-22T10:20:30.019Z"
   },
   {
    "duration": 5,
    "start_time": "2023-09-22T10:20:35.529Z"
   },
   {
    "duration": 125,
    "start_time": "2023-09-22T10:20:37.928Z"
   },
   {
    "duration": 6,
    "start_time": "2023-09-22T10:24:21.315Z"
   },
   {
    "duration": 8,
    "start_time": "2023-09-22T10:24:25.682Z"
   },
   {
    "duration": 1453,
    "start_time": "2023-09-22T10:24:27.884Z"
   },
   {
    "duration": 9,
    "start_time": "2023-09-22T10:25:45.905Z"
   },
   {
    "duration": 6,
    "start_time": "2023-09-22T10:25:50.659Z"
   },
   {
    "duration": 1319,
    "start_time": "2023-09-22T10:25:52.626Z"
   },
   {
    "duration": 4,
    "start_time": "2023-09-22T10:26:06.603Z"
   },
   {
    "duration": 7,
    "start_time": "2023-09-22T10:35:11.921Z"
   },
   {
    "duration": 6,
    "start_time": "2023-09-22T10:35:15.754Z"
   },
   {
    "duration": 1138,
    "start_time": "2023-09-22T10:35:17.705Z"
   },
   {
    "duration": 3,
    "start_time": "2023-09-22T10:35:57.343Z"
   },
   {
    "duration": 1403,
    "start_time": "2023-09-22T10:35:58.423Z"
   },
   {
    "duration": 33,
    "start_time": "2023-09-22T10:37:25.063Z"
   },
   {
    "duration": 338236,
    "start_time": "2023-09-22T10:37:38.903Z"
   },
   {
    "duration": 4,
    "start_time": "2023-09-22T10:43:17.141Z"
   },
   {
    "duration": 927578,
    "start_time": "2023-09-22T10:50:08.370Z"
   },
   {
    "duration": 76,
    "start_time": "2023-09-22T11:05:35.950Z"
   },
   {
    "duration": 48,
    "start_time": "2023-09-22T11:05:36.027Z"
   },
   {
    "duration": 16,
    "start_time": "2023-09-22T11:05:36.077Z"
   },
   {
    "duration": 84027,
    "start_time": "2023-09-22T11:13:39.715Z"
   },
   {
    "duration": 5,
    "start_time": "2023-09-22T11:15:13.559Z"
   },
   {
    "duration": 6,
    "start_time": "2023-09-22T11:15:47.143Z"
   },
   {
    "duration": 7,
    "start_time": "2023-09-22T11:15:50.972Z"
   },
   {
    "duration": 5,
    "start_time": "2023-09-22T11:15:53.700Z"
   },
   {
    "duration": 13672,
    "start_time": "2023-09-22T11:15:55.775Z"
   },
   {
    "duration": 5,
    "start_time": "2023-09-22T11:16:19.710Z"
   },
   {
    "duration": 14042,
    "start_time": "2023-09-22T11:16:38.285Z"
   },
   {
    "duration": 4,
    "start_time": "2023-09-22T11:16:52.330Z"
   },
   {
    "duration": 1538,
    "start_time": "2023-09-22T11:17:15.915Z"
   },
   {
    "duration": 52,
    "start_time": "2023-09-22T11:17:17.455Z"
   },
   {
    "duration": 42,
    "start_time": "2023-09-22T11:17:17.509Z"
   },
   {
    "duration": 742,
    "start_time": "2023-09-22T11:17:17.553Z"
   },
   {
    "duration": 15,
    "start_time": "2023-09-22T11:17:18.297Z"
   },
   {
    "duration": 7,
    "start_time": "2023-09-22T11:17:18.325Z"
   },
   {
    "duration": 16,
    "start_time": "2023-09-22T11:17:18.334Z"
   },
   {
    "duration": 30,
    "start_time": "2023-09-22T11:17:18.351Z"
   },
   {
    "duration": 1188,
    "start_time": "2023-09-22T11:17:18.382Z"
   },
   {
    "duration": 281,
    "start_time": "2023-09-22T11:17:19.572Z"
   },
   {
    "duration": 8,
    "start_time": "2023-09-22T11:17:19.854Z"
   },
   {
    "duration": 21,
    "start_time": "2023-09-22T11:17:19.863Z"
   },
   {
    "duration": 13,
    "start_time": "2023-09-22T11:17:19.886Z"
   },
   {
    "duration": 33,
    "start_time": "2023-09-22T11:17:19.902Z"
   },
   {
    "duration": 12494,
    "start_time": "2023-09-22T11:17:19.936Z"
   },
   {
    "duration": 282,
    "start_time": "2023-09-22T11:17:32.432Z"
   },
   {
    "duration": 139,
    "start_time": "2023-09-22T11:17:32.716Z"
   },
   {
    "duration": 226,
    "start_time": "2023-09-22T11:17:32.857Z"
   },
   {
    "duration": 182,
    "start_time": "2023-09-22T11:17:33.085Z"
   },
   {
    "duration": 5026,
    "start_time": "2023-09-22T11:17:33.269Z"
   },
   {
    "duration": 6,
    "start_time": "2023-09-22T11:17:38.297Z"
   },
   {
    "duration": 29,
    "start_time": "2023-09-22T11:17:38.304Z"
   },
   {
    "duration": 7,
    "start_time": "2023-09-22T11:17:38.335Z"
   },
   {
    "duration": 41,
    "start_time": "2023-09-22T11:17:38.343Z"
   },
   {
    "duration": 13763,
    "start_time": "2023-09-22T11:17:38.386Z"
   },
   {
    "duration": 5,
    "start_time": "2023-09-22T11:17:52.224Z"
   },
   {
    "duration": 394,
    "start_time": "2023-09-22T11:17:52.231Z"
   },
   {
    "duration": 2896,
    "start_time": "2023-09-22T11:17:52.627Z"
   },
   {
    "duration": 3199,
    "start_time": "2023-09-22T11:17:55.526Z"
   },
   {
    "duration": 98,
    "start_time": "2023-09-22T11:17:58.733Z"
   },
   {
    "duration": 11,
    "start_time": "2023-09-22T11:17:58.833Z"
   },
   {
    "duration": 8,
    "start_time": "2023-09-22T11:17:58.846Z"
   },
   {
    "duration": 17,
    "start_time": "2023-09-22T11:17:58.855Z"
   },
   {
    "duration": 5,
    "start_time": "2023-09-22T11:17:58.874Z"
   },
   {
    "duration": 15,
    "start_time": "2023-09-22T11:17:58.881Z"
   },
   {
    "duration": 304715,
    "start_time": "2023-09-22T11:19:02.122Z"
   },
   {
    "duration": 4,
    "start_time": "2023-09-22T11:24:06.839Z"
   },
   {
    "duration": 56368,
    "start_time": "2023-09-22T11:25:31.066Z"
   },
   {
    "duration": 5,
    "start_time": "2023-09-22T11:26:27.436Z"
   },
   {
    "duration": 10515,
    "start_time": "2023-09-22T11:27:15.019Z"
   },
   {
    "duration": 5,
    "start_time": "2023-09-22T11:27:25.536Z"
   },
   {
    "duration": 28911,
    "start_time": "2023-09-22T11:28:00.732Z"
   },
   {
    "duration": 6,
    "start_time": "2023-09-22T11:28:29.645Z"
   },
   {
    "duration": 6,
    "start_time": "2023-09-22T11:29:18.777Z"
   },
   {
    "duration": 1228,
    "start_time": "2023-09-22T11:29:43.016Z"
   },
   {
    "duration": 5,
    "start_time": "2023-09-22T11:29:48.999Z"
   },
   {
    "duration": 1340,
    "start_time": "2023-09-22T11:29:55.397Z"
   },
   {
    "duration": 5,
    "start_time": "2023-09-22T11:29:59.878Z"
   },
   {
    "duration": 7,
    "start_time": "2023-09-22T11:30:11.240Z"
   },
   {
    "duration": 5,
    "start_time": "2023-09-22T11:30:16.279Z"
   },
   {
    "duration": 1267,
    "start_time": "2023-09-22T11:30:18.666Z"
   },
   {
    "duration": 4,
    "start_time": "2023-09-22T11:30:24.087Z"
   },
   {
    "duration": 6,
    "start_time": "2023-09-22T11:31:39.866Z"
   },
   {
    "duration": 5,
    "start_time": "2023-09-22T11:31:43.929Z"
   },
   {
    "duration": 1389,
    "start_time": "2023-09-22T11:31:46.357Z"
   },
   {
    "duration": 4,
    "start_time": "2023-09-22T11:31:57.371Z"
   },
   {
    "duration": 318,
    "start_time": "2023-09-22T11:32:02.015Z"
   },
   {
    "duration": 25260,
    "start_time": "2023-09-22T11:32:35.965Z"
   },
   {
    "duration": 3306,
    "start_time": "2023-09-22T11:33:01.228Z"
   },
   {
    "duration": 7,
    "start_time": "2023-09-22T11:33:17.197Z"
   },
   {
    "duration": 10,
    "start_time": "2023-09-22T11:33:55.905Z"
   },
   {
    "duration": 9,
    "start_time": "2023-09-22T11:34:14.915Z"
   },
   {
    "duration": 5,
    "start_time": "2023-09-22T11:35:08.909Z"
   },
   {
    "duration": 4,
    "start_time": "2023-09-22T11:35:11.080Z"
   },
   {
    "duration": 11,
    "start_time": "2023-09-22T11:35:13.244Z"
   },
   {
    "duration": 7,
    "start_time": "2023-09-22T11:35:16.025Z"
   },
   {
    "duration": 4,
    "start_time": "2023-09-22T11:35:17.244Z"
   },
   {
    "duration": 15,
    "start_time": "2023-09-22T11:36:43.137Z"
   },
   {
    "duration": 4,
    "start_time": "2023-09-22T11:40:43.169Z"
   },
   {
    "duration": 4,
    "start_time": "2023-09-22T11:40:56.035Z"
   },
   {
    "duration": 54409,
    "start_time": "2023-09-22T11:40:57.635Z"
   },
   {
    "duration": 4,
    "start_time": "2023-09-22T11:41:52.046Z"
   },
   {
    "duration": 24,
    "start_time": "2023-09-22T11:41:52.052Z"
   },
   {
    "duration": 5,
    "start_time": "2023-09-22T11:47:09.095Z"
   },
   {
    "duration": 11985,
    "start_time": "2023-09-22T11:47:12.439Z"
   },
   {
    "duration": 286,
    "start_time": "2023-09-22T11:49:52.543Z"
   },
   {
    "duration": 5,
    "start_time": "2023-09-22T11:52:54.258Z"
   },
   {
    "duration": 7,
    "start_time": "2023-09-22T11:56:22.043Z"
   },
   {
    "duration": 7,
    "start_time": "2023-09-22T11:56:23.590Z"
   },
   {
    "duration": 5,
    "start_time": "2023-09-22T11:56:26.043Z"
   },
   {
    "duration": 1264,
    "start_time": "2023-09-22T11:56:28.181Z"
   },
   {
    "duration": 6,
    "start_time": "2023-09-22T11:57:22.333Z"
   },
   {
    "duration": 6,
    "start_time": "2023-09-22T11:57:25.913Z"
   },
   {
    "duration": 821,
    "start_time": "2023-09-22T11:57:27.721Z"
   },
   {
    "duration": 8,
    "start_time": "2023-09-22T11:57:58.189Z"
   },
   {
    "duration": 6,
    "start_time": "2023-09-22T11:58:06.433Z"
   },
   {
    "duration": 4,
    "start_time": "2023-09-22T11:58:09.033Z"
   },
   {
    "duration": 1456,
    "start_time": "2023-09-22T11:58:10.979Z"
   },
   {
    "duration": 5,
    "start_time": "2023-09-22T11:58:16.092Z"
   },
   {
    "duration": 1397,
    "start_time": "2023-09-22T12:07:08.083Z"
   },
   {
    "duration": 50,
    "start_time": "2023-09-22T12:07:09.483Z"
   },
   {
    "duration": 37,
    "start_time": "2023-09-22T12:07:09.535Z"
   },
   {
    "duration": 743,
    "start_time": "2023-09-22T12:07:09.574Z"
   },
   {
    "duration": 17,
    "start_time": "2023-09-22T12:07:10.318Z"
   },
   {
    "duration": 212,
    "start_time": "2023-09-22T12:07:10.337Z"
   },
   {
    "duration": 93,
    "start_time": "2023-09-22T12:07:10.551Z"
   },
   {
    "duration": 76,
    "start_time": "2023-09-22T12:07:10.645Z"
   },
   {
    "duration": 1222,
    "start_time": "2023-09-22T12:07:10.723Z"
   },
   {
    "duration": 262,
    "start_time": "2023-09-22T12:07:11.948Z"
   },
   {
    "duration": 14,
    "start_time": "2023-09-22T12:07:12.213Z"
   },
   {
    "duration": 15,
    "start_time": "2023-09-22T12:07:12.229Z"
   },
   {
    "duration": 35,
    "start_time": "2023-09-22T12:07:12.245Z"
   },
   {
    "duration": 11648,
    "start_time": "2023-09-22T12:07:12.282Z"
   },
   {
    "duration": 303,
    "start_time": "2023-09-22T12:07:23.933Z"
   },
   {
    "duration": 63,
    "start_time": "2023-09-22T12:07:24.238Z"
   },
   {
    "duration": 34,
    "start_time": "2023-09-22T12:07:24.302Z"
   },
   {
    "duration": 27,
    "start_time": "2023-09-22T12:07:24.337Z"
   },
   {
    "duration": 53706,
    "start_time": "2023-09-22T12:07:24.365Z"
   },
   {
    "duration": 5,
    "start_time": "2023-09-22T12:08:18.073Z"
   },
   {
    "duration": 7,
    "start_time": "2023-09-22T12:08:18.080Z"
   },
   {
    "duration": 21,
    "start_time": "2023-09-22T12:08:18.089Z"
   },
   {
    "duration": 132,
    "start_time": "2023-09-22T12:08:18.112Z"
   },
   {
    "duration": 1796,
    "start_time": "2023-09-22T12:08:18.246Z"
   },
   {
    "duration": 5,
    "start_time": "2023-09-22T12:08:20.044Z"
   },
   {
    "duration": 380,
    "start_time": "2023-09-22T12:08:20.050Z"
   },
   {
    "duration": 2800,
    "start_time": "2023-09-22T12:08:20.432Z"
   },
   {
    "duration": 3585,
    "start_time": "2023-09-22T12:08:23.239Z"
   },
   {
    "duration": 98,
    "start_time": "2023-09-22T12:08:26.827Z"
   },
   {
    "duration": 17,
    "start_time": "2023-09-22T12:08:26.927Z"
   },
   {
    "duration": 11,
    "start_time": "2023-09-22T12:08:26.946Z"
   },
   {
    "duration": 22,
    "start_time": "2023-09-22T12:08:26.958Z"
   },
   {
    "duration": 6,
    "start_time": "2023-09-22T12:08:26.982Z"
   },
   {
    "duration": 5,
    "start_time": "2023-09-22T12:08:26.989Z"
   },
   {
    "duration": 34221,
    "start_time": "2023-09-22T12:11:49.894Z"
   },
   {
    "duration": 202581,
    "start_time": "2023-09-22T12:12:42.853Z"
   },
   {
    "duration": 113,
    "start_time": "2023-09-22T12:17:08.366Z"
   },
   {
    "duration": 66,
    "start_time": "2023-09-22T12:17:09.358Z"
   },
   {
    "duration": 3,
    "start_time": "2023-09-22T12:17:14.705Z"
   },
   {
    "duration": 3,
    "start_time": "2023-09-22T12:17:17.470Z"
   },
   {
    "duration": 53691,
    "start_time": "2023-09-22T12:17:18.119Z"
   },
   {
    "duration": 4,
    "start_time": "2023-09-22T12:18:11.813Z"
   },
   {
    "duration": 77,
    "start_time": "2023-09-22T12:18:11.824Z"
   },
   {
    "duration": 6,
    "start_time": "2023-09-22T12:18:20.417Z"
   },
   {
    "duration": 6,
    "start_time": "2023-09-22T12:18:23.070Z"
   },
   {
    "duration": 1635,
    "start_time": "2023-09-22T12:18:25.714Z"
   },
   {
    "duration": 5,
    "start_time": "2023-09-22T12:18:31.367Z"
   },
   {
    "duration": 146,
    "start_time": "2023-09-22T12:19:05.883Z"
   },
   {
    "duration": 1846,
    "start_time": "2023-09-22T12:19:33.182Z"
   },
   {
    "duration": 1540,
    "start_time": "2023-09-22T12:19:58.876Z"
   },
   {
    "duration": 51,
    "start_time": "2023-09-22T12:20:00.418Z"
   },
   {
    "duration": 145,
    "start_time": "2023-09-22T12:20:00.470Z"
   },
   {
    "duration": 906,
    "start_time": "2023-09-22T12:20:00.618Z"
   },
   {
    "duration": 15,
    "start_time": "2023-09-22T12:20:01.525Z"
   },
   {
    "duration": 105,
    "start_time": "2023-09-22T12:20:01.542Z"
   },
   {
    "duration": 74,
    "start_time": "2023-09-22T12:20:01.649Z"
   },
   {
    "duration": 51,
    "start_time": "2023-09-22T12:20:01.725Z"
   },
   {
    "duration": 1236,
    "start_time": "2023-09-22T12:20:01.778Z"
   },
   {
    "duration": 279,
    "start_time": "2023-09-22T12:20:03.016Z"
   },
   {
    "duration": 7,
    "start_time": "2023-09-22T12:20:03.297Z"
   },
   {
    "duration": 81,
    "start_time": "2023-09-22T12:20:03.306Z"
   },
   {
    "duration": 35,
    "start_time": "2023-09-22T12:20:03.389Z"
   },
   {
    "duration": 1704,
    "start_time": "2023-09-22T12:20:03.426Z"
   },
   {
    "duration": 283,
    "start_time": "2023-09-22T12:20:05.132Z"
   },
   {
    "duration": 61,
    "start_time": "2023-09-22T12:20:05.424Z"
   },
   {
    "duration": 3,
    "start_time": "2023-09-22T12:20:05.486Z"
   },
   {
    "duration": 44,
    "start_time": "2023-09-22T12:20:05.490Z"
   },
   {
    "duration": 53976,
    "start_time": "2023-09-22T12:20:05.536Z"
   },
   {
    "duration": 5,
    "start_time": "2023-09-22T12:20:59.514Z"
   },
   {
    "duration": 36,
    "start_time": "2023-09-22T12:20:59.524Z"
   },
   {
    "duration": 30,
    "start_time": "2023-09-22T12:20:59.561Z"
   },
   {
    "duration": 37,
    "start_time": "2023-09-22T12:20:59.593Z"
   },
   {
    "duration": 1617,
    "start_time": "2023-09-22T12:20:59.633Z"
   },
   {
    "duration": 5,
    "start_time": "2023-09-22T12:21:01.324Z"
   },
   {
    "duration": 398,
    "start_time": "2023-09-22T12:21:01.331Z"
   },
   {
    "duration": 2594,
    "start_time": "2023-09-22T12:21:01.731Z"
   },
   {
    "duration": 3599,
    "start_time": "2023-09-22T12:21:04.334Z"
   },
   {
    "duration": 99,
    "start_time": "2023-09-22T12:21:08.026Z"
   },
   {
    "duration": 7,
    "start_time": "2023-09-22T12:21:08.127Z"
   },
   {
    "duration": 70,
    "start_time": "2023-09-22T12:21:08.136Z"
   },
   {
    "duration": 16,
    "start_time": "2023-09-22T12:21:08.207Z"
   },
   {
    "duration": 16,
    "start_time": "2023-09-22T12:21:08.225Z"
   },
   {
    "duration": 21,
    "start_time": "2023-09-22T12:21:08.242Z"
   },
   {
    "duration": 2269,
    "start_time": "2023-09-23T16:34:25.802Z"
   },
   {
    "duration": 417,
    "start_time": "2023-09-23T16:34:28.082Z"
   },
   {
    "duration": 59,
    "start_time": "2023-09-23T16:34:28.504Z"
   },
   {
    "duration": 1255,
    "start_time": "2023-09-23T16:34:28.577Z"
   },
   {
    "duration": 23,
    "start_time": "2023-09-23T16:34:29.835Z"
   },
   {
    "duration": 14,
    "start_time": "2023-09-23T16:34:29.871Z"
   },
   {
    "duration": 36,
    "start_time": "2023-09-23T16:34:29.891Z"
   },
   {
    "duration": 18,
    "start_time": "2023-09-23T16:34:29.935Z"
   },
   {
    "duration": 1642,
    "start_time": "2023-09-23T16:34:29.955Z"
   },
   {
    "duration": 342,
    "start_time": "2023-09-23T16:34:31.601Z"
   },
   {
    "duration": 20,
    "start_time": "2023-09-23T16:34:31.945Z"
   },
   {
    "duration": 37,
    "start_time": "2023-09-23T16:34:31.973Z"
   },
   {
    "duration": 27,
    "start_time": "2023-09-23T16:34:32.012Z"
   },
   {
    "duration": 48,
    "start_time": "2023-09-23T16:34:32.042Z"
   },
   {
    "duration": 13703,
    "start_time": "2023-09-23T16:34:32.093Z"
   },
   {
    "duration": 220,
    "start_time": "2023-09-23T16:34:45.812Z"
   },
   {
    "duration": 93,
    "start_time": "2023-09-23T16:34:46.034Z"
   },
   {
    "duration": 6,
    "start_time": "2023-09-23T16:34:46.129Z"
   },
   {
    "duration": 16,
    "start_time": "2023-09-23T16:34:46.162Z"
   },
   {
    "duration": 1992,
    "start_time": "2023-09-23T19:11:07.387Z"
   },
   {
    "duration": 312,
    "start_time": "2023-09-23T19:11:09.381Z"
   },
   {
    "duration": 36,
    "start_time": "2023-09-23T19:11:09.695Z"
   },
   {
    "duration": 806,
    "start_time": "2023-09-23T19:11:09.733Z"
   },
   {
    "duration": 18,
    "start_time": "2023-09-23T19:11:10.541Z"
   },
   {
    "duration": 17,
    "start_time": "2023-09-23T19:11:10.560Z"
   },
   {
    "duration": 14,
    "start_time": "2023-09-23T19:11:10.578Z"
   },
   {
    "duration": 7,
    "start_time": "2023-09-23T19:11:10.594Z"
   },
   {
    "duration": 1201,
    "start_time": "2023-09-23T19:11:10.603Z"
   },
   {
    "duration": 299,
    "start_time": "2023-09-23T19:11:11.806Z"
   },
   {
    "duration": 3,
    "start_time": "2023-09-23T19:11:12.106Z"
   },
   {
    "duration": 37,
    "start_time": "2023-09-23T19:11:12.110Z"
   },
   {
    "duration": 30,
    "start_time": "2023-09-23T19:11:12.149Z"
   },
   {
    "duration": 27,
    "start_time": "2023-09-23T19:11:12.183Z"
   },
   {
    "duration": 18676,
    "start_time": "2023-09-23T19:11:12.211Z"
   },
   {
    "duration": 184,
    "start_time": "2023-09-23T19:11:30.950Z"
   },
   {
    "duration": 88,
    "start_time": "2023-09-23T19:11:31.136Z"
   },
   {
    "duration": 3,
    "start_time": "2023-09-23T19:11:31.225Z"
   },
   {
    "duration": 58,
    "start_time": "2023-09-23T19:11:31.229Z"
   },
   {
    "duration": 59693,
    "start_time": "2023-09-23T19:11:31.288Z"
   },
   {
    "duration": 7,
    "start_time": "2023-09-23T19:12:30.994Z"
   },
   {
    "duration": 60,
    "start_time": "2023-09-23T19:12:31.003Z"
   },
   {
    "duration": 6,
    "start_time": "2023-09-23T19:12:48.204Z"
   },
   {
    "duration": 5,
    "start_time": "2023-09-23T19:12:52.036Z"
   },
   {
    "duration": 6158,
    "start_time": "2023-09-23T19:12:54.333Z"
   },
   {
    "duration": 6,
    "start_time": "2023-09-23T19:13:07.496Z"
   },
   {
    "duration": 4801,
    "start_time": "2023-09-23T19:13:24.101Z"
   },
   {
    "duration": 31537,
    "start_time": "2023-09-23T19:13:48.241Z"
   },
   {
    "duration": 3094,
    "start_time": "2023-09-23T19:14:19.784Z"
   },
   {
    "duration": 92,
    "start_time": "2023-09-23T19:14:22.888Z"
   },
   {
    "duration": 8,
    "start_time": "2023-09-23T19:14:22.981Z"
   },
   {
    "duration": 73,
    "start_time": "2023-09-23T19:14:22.991Z"
   },
   {
    "duration": 3,
    "start_time": "2023-09-23T19:14:29.004Z"
   },
   {
    "duration": 7,
    "start_time": "2023-09-23T19:14:30.884Z"
   },
   {
    "duration": 8,
    "start_time": "2023-09-23T19:14:37.494Z"
   },
   {
    "duration": 11,
    "start_time": "2023-09-23T19:14:43.712Z"
   },
   {
    "duration": 5,
    "start_time": "2023-09-23T19:14:45.842Z"
   },
   {
    "duration": 6,
    "start_time": "2023-09-23T19:14:47.290Z"
   },
   {
    "duration": 7,
    "start_time": "2023-09-23T19:33:48.908Z"
   },
   {
    "duration": 5,
    "start_time": "2023-09-23T19:33:52.616Z"
   },
   {
    "duration": 4534,
    "start_time": "2023-09-23T19:33:54.429Z"
   },
   {
    "duration": 7,
    "start_time": "2023-09-23T19:34:12.988Z"
   },
   {
    "duration": 0,
    "start_time": "2023-09-23T19:54:52.983Z"
   },
   {
    "duration": 4,
    "start_time": "2023-09-23T19:55:11.023Z"
   },
   {
    "duration": 68,
    "start_time": "2023-09-23T19:55:11.030Z"
   },
   {
    "duration": 38,
    "start_time": "2023-09-23T19:55:11.100Z"
   },
   {
    "duration": 716,
    "start_time": "2023-09-23T19:55:11.140Z"
   },
   {
    "duration": 13,
    "start_time": "2023-09-23T19:55:11.859Z"
   },
   {
    "duration": 17,
    "start_time": "2023-09-23T19:55:11.874Z"
   },
   {
    "duration": 13,
    "start_time": "2023-09-23T19:55:11.893Z"
   },
   {
    "duration": 7,
    "start_time": "2023-09-23T19:55:11.907Z"
   },
   {
    "duration": 1099,
    "start_time": "2023-09-23T19:55:11.916Z"
   },
   {
    "duration": 272,
    "start_time": "2023-09-23T19:55:13.016Z"
   },
   {
    "duration": 2,
    "start_time": "2023-09-23T19:55:13.290Z"
   },
   {
    "duration": 16,
    "start_time": "2023-09-23T19:55:13.294Z"
   },
   {
    "duration": 8,
    "start_time": "2023-09-23T19:55:13.312Z"
   },
   {
    "duration": 13,
    "start_time": "2023-09-23T19:55:13.322Z"
   },
   {
    "duration": 692046,
    "start_time": "2023-09-23T19:55:34.925Z"
   },
   {
    "duration": 169519,
    "start_time": "2023-09-23T20:07:25.571Z"
   },
   {
    "duration": 173136,
    "start_time": "2023-09-23T20:10:35.147Z"
   },
   {
    "duration": 300635,
    "start_time": "2023-09-23T20:13:49.429Z"
   },
   {
    "duration": 61488,
    "start_time": "2023-09-23T20:19:05.996Z"
   },
   {
    "duration": 216868,
    "start_time": "2023-09-23T20:20:24.134Z"
   },
   {
    "duration": 90095,
    "start_time": "2023-09-23T20:25:20.410Z"
   },
   {
    "duration": 146899,
    "start_time": "2023-09-23T20:27:29.572Z"
   },
   {
    "duration": 73356,
    "start_time": "2023-09-23T20:30:44.013Z"
   },
   {
    "duration": 51281,
    "start_time": "2023-09-23T20:32:33.281Z"
   },
   {
    "duration": 47702,
    "start_time": "2023-09-23T20:33:46.866Z"
   },
   {
    "duration": 37721,
    "start_time": "2023-09-23T20:34:55.546Z"
   },
   {
    "duration": 107247,
    "start_time": "2023-09-23T20:36:03.720Z"
   },
   {
    "duration": 79597,
    "start_time": "2023-09-23T20:38:17.988Z"
   },
   {
    "duration": 154170,
    "start_time": "2023-09-23T20:40:11.809Z"
   },
   {
    "duration": 180686,
    "start_time": "2023-09-23T20:43:33.065Z"
   },
   {
    "duration": 160801,
    "start_time": "2023-09-23T20:50:29.563Z"
   },
   {
    "duration": 28330,
    "start_time": "2023-09-23T20:54:22.532Z"
   },
   {
    "duration": 84342,
    "start_time": "2023-09-23T20:55:14.312Z"
   },
   {
    "duration": 42122,
    "start_time": "2023-09-23T20:57:05.238Z"
   },
   {
    "duration": 7100,
    "start_time": "2023-09-23T21:02:13.159Z"
   },
   {
    "duration": 4269,
    "start_time": "2023-09-23T21:02:22.698Z"
   },
   {
    "duration": 155,
    "start_time": "2023-09-23T21:02:32.975Z"
   },
   {
    "duration": 98,
    "start_time": "2023-09-23T21:02:35.154Z"
   },
   {
    "duration": 4385,
    "start_time": "2023-09-23T21:03:05.220Z"
   },
   {
    "duration": 2381,
    "start_time": "2023-09-23T21:03:22.192Z"
   },
   {
    "duration": 2576,
    "start_time": "2023-09-23T21:04:29.128Z"
   },
   {
    "duration": 183,
    "start_time": "2023-09-23T21:04:36.007Z"
   },
   {
    "duration": 111,
    "start_time": "2023-09-23T21:04:37.093Z"
   },
   {
    "duration": 3,
    "start_time": "2023-09-23T21:04:41.803Z"
   },
   {
    "duration": 11,
    "start_time": "2023-09-23T21:06:36.977Z"
   },
   {
    "duration": 7,
    "start_time": "2023-09-23T21:06:43.530Z"
   },
   {
    "duration": 220308,
    "start_time": "2023-09-23T21:06:45.067Z"
   },
   {
    "duration": 6,
    "start_time": "2023-09-23T21:10:25.378Z"
   },
   {
    "duration": 8,
    "start_time": "2023-09-23T21:10:25.385Z"
   },
   {
    "duration": 4,
    "start_time": "2023-09-23T21:18:30.027Z"
   },
   {
    "duration": 4,
    "start_time": "2023-09-23T21:18:33.233Z"
   },
   {
    "duration": 172456,
    "start_time": "2023-09-23T21:18:34.529Z"
   },
   {
    "duration": 5,
    "start_time": "2023-09-23T21:21:26.987Z"
   },
   {
    "duration": 16,
    "start_time": "2023-09-23T21:21:26.994Z"
   },
   {
    "duration": 3,
    "start_time": "2023-09-23T21:36:52.336Z"
   },
   {
    "duration": 5,
    "start_time": "2023-09-23T21:36:56.108Z"
   },
   {
    "duration": 901,
    "start_time": "2023-09-23T21:36:57.268Z"
   },
   {
    "duration": 4,
    "start_time": "2023-09-23T21:36:58.172Z"
   },
   {
    "duration": 4,
    "start_time": "2023-09-23T21:37:01.675Z"
   },
   {
    "duration": 3,
    "start_time": "2023-09-23T21:37:23.205Z"
   },
   {
    "duration": 4,
    "start_time": "2023-09-23T21:37:27.521Z"
   },
   {
    "duration": 8744,
    "start_time": "2023-09-23T21:37:28.710Z"
   },
   {
    "duration": 6,
    "start_time": "2023-09-23T21:37:37.458Z"
   },
   {
    "duration": 14,
    "start_time": "2023-09-23T21:37:37.466Z"
   },
   {
    "duration": 3,
    "start_time": "2023-09-23T21:38:06.368Z"
   },
   {
    "duration": 3,
    "start_time": "2023-09-23T21:38:08.499Z"
   },
   {
    "duration": 47483,
    "start_time": "2023-09-23T21:38:09.407Z"
   },
   {
    "duration": 4,
    "start_time": "2023-09-23T21:38:56.892Z"
   },
   {
    "duration": 26,
    "start_time": "2023-09-23T21:38:56.897Z"
   },
   {
    "duration": 13261758,
    "start_time": "2023-09-23T21:40:51.915Z"
   },
   {
    "duration": 9,
    "start_time": "2023-09-24T01:21:53.675Z"
   },
   {
    "duration": 10,
    "start_time": "2023-09-24T05:36:47.902Z"
   },
   {
    "duration": 1849,
    "start_time": "2023-09-24T05:40:41.905Z"
   },
   {
    "duration": 124,
    "start_time": "2023-09-24T05:40:43.756Z"
   },
   {
    "duration": 42,
    "start_time": "2023-09-24T05:40:43.882Z"
   },
   {
    "duration": 888,
    "start_time": "2023-09-24T05:40:43.926Z"
   },
   {
    "duration": 20,
    "start_time": "2023-09-24T05:40:44.816Z"
   },
   {
    "duration": 19,
    "start_time": "2023-09-24T05:40:44.838Z"
   },
   {
    "duration": 10,
    "start_time": "2023-09-24T05:40:44.859Z"
   },
   {
    "duration": 10,
    "start_time": "2023-09-24T05:40:44.871Z"
   },
   {
    "duration": 1280,
    "start_time": "2023-09-24T05:40:44.882Z"
   },
   {
    "duration": 288,
    "start_time": "2023-09-24T05:40:46.165Z"
   },
   {
    "duration": 2,
    "start_time": "2023-09-24T05:40:46.455Z"
   },
   {
    "duration": 11,
    "start_time": "2023-09-24T05:40:46.459Z"
   },
   {
    "duration": 9,
    "start_time": "2023-09-24T05:40:46.472Z"
   },
   {
    "duration": 149,
    "start_time": "2023-09-24T05:40:46.482Z"
   },
   {
    "duration": 0,
    "start_time": "2023-09-24T05:40:46.633Z"
   },
   {
    "duration": 0,
    "start_time": "2023-09-24T05:40:46.634Z"
   },
   {
    "duration": 0,
    "start_time": "2023-09-24T05:40:46.636Z"
   },
   {
    "duration": 0,
    "start_time": "2023-09-24T05:40:46.637Z"
   },
   {
    "duration": 0,
    "start_time": "2023-09-24T05:40:46.638Z"
   },
   {
    "duration": 0,
    "start_time": "2023-09-24T05:40:46.640Z"
   },
   {
    "duration": 0,
    "start_time": "2023-09-24T05:40:46.641Z"
   },
   {
    "duration": 0,
    "start_time": "2023-09-24T05:40:46.642Z"
   },
   {
    "duration": 0,
    "start_time": "2023-09-24T05:40:46.643Z"
   },
   {
    "duration": 0,
    "start_time": "2023-09-24T05:40:46.645Z"
   },
   {
    "duration": 0,
    "start_time": "2023-09-24T05:40:46.646Z"
   },
   {
    "duration": 0,
    "start_time": "2023-09-24T05:40:46.647Z"
   },
   {
    "duration": 0,
    "start_time": "2023-09-24T05:40:46.648Z"
   },
   {
    "duration": 0,
    "start_time": "2023-09-24T05:40:46.649Z"
   },
   {
    "duration": 0,
    "start_time": "2023-09-24T05:40:46.650Z"
   },
   {
    "duration": 0,
    "start_time": "2023-09-24T05:40:46.652Z"
   },
   {
    "duration": 0,
    "start_time": "2023-09-24T05:40:46.653Z"
   },
   {
    "duration": 0,
    "start_time": "2023-09-24T05:40:46.654Z"
   },
   {
    "duration": 0,
    "start_time": "2023-09-24T05:40:46.655Z"
   },
   {
    "duration": 0,
    "start_time": "2023-09-24T05:40:46.656Z"
   },
   {
    "duration": 0,
    "start_time": "2023-09-24T05:40:46.658Z"
   },
   {
    "duration": 4,
    "start_time": "2023-09-24T05:41:15.130Z"
   },
   {
    "duration": 186,
    "start_time": "2023-09-24T05:41:15.136Z"
   },
   {
    "duration": 37,
    "start_time": "2023-09-24T05:41:15.324Z"
   },
   {
    "duration": 699,
    "start_time": "2023-09-24T05:41:15.362Z"
   },
   {
    "duration": 12,
    "start_time": "2023-09-24T05:41:16.064Z"
   },
   {
    "duration": 6,
    "start_time": "2023-09-24T05:41:16.078Z"
   },
   {
    "duration": 7,
    "start_time": "2023-09-24T05:41:16.102Z"
   },
   {
    "duration": 9,
    "start_time": "2023-09-24T05:41:16.110Z"
   },
   {
    "duration": 1262,
    "start_time": "2023-09-24T05:41:16.120Z"
   },
   {
    "duration": 290,
    "start_time": "2023-09-24T05:41:17.384Z"
   },
   {
    "duration": 2,
    "start_time": "2023-09-24T05:41:17.675Z"
   },
   {
    "duration": 27,
    "start_time": "2023-09-24T05:41:17.679Z"
   },
   {
    "duration": 13,
    "start_time": "2023-09-24T05:41:17.708Z"
   },
   {
    "duration": 14,
    "start_time": "2023-09-24T05:41:17.724Z"
   },
   {
    "duration": 0,
    "start_time": "2023-09-24T05:41:17.739Z"
   },
   {
    "duration": 0,
    "start_time": "2023-09-24T05:41:17.740Z"
   },
   {
    "duration": 0,
    "start_time": "2023-09-24T05:41:17.741Z"
   },
   {
    "duration": 0,
    "start_time": "2023-09-24T05:41:17.742Z"
   },
   {
    "duration": 0,
    "start_time": "2023-09-24T05:41:17.744Z"
   },
   {
    "duration": 0,
    "start_time": "2023-09-24T05:41:17.745Z"
   },
   {
    "duration": 0,
    "start_time": "2023-09-24T05:41:17.746Z"
   },
   {
    "duration": 0,
    "start_time": "2023-09-24T05:41:17.747Z"
   },
   {
    "duration": 6,
    "start_time": "2023-09-24T05:42:05.138Z"
   },
   {
    "duration": 6,
    "start_time": "2023-09-24T05:42:07.828Z"
   },
   {
    "duration": 1847,
    "start_time": "2023-09-24T05:42:10.662Z"
   },
   {
    "duration": 127,
    "start_time": "2023-09-24T05:42:20.739Z"
   },
   {
    "duration": 71,
    "start_time": "2023-09-24T05:42:21.684Z"
   },
   {
    "duration": 3,
    "start_time": "2023-09-24T05:42:31.584Z"
   },
   {
    "duration": 10,
    "start_time": "2023-09-24T05:42:35.742Z"
   },
   {
    "duration": 4,
    "start_time": "2023-09-24T05:42:36.888Z"
   },
   {
    "duration": 4634,
    "start_time": "2023-09-24T05:42:38.105Z"
   },
   {
    "duration": 6,
    "start_time": "2023-09-24T05:42:42.741Z"
   },
   {
    "duration": 30,
    "start_time": "2023-09-24T05:42:42.748Z"
   },
   {
    "duration": 7,
    "start_time": "2023-09-24T05:42:52.409Z"
   },
   {
    "duration": 5,
    "start_time": "2023-09-24T05:42:56.146Z"
   },
   {
    "duration": 18,
    "start_time": "2023-09-24T05:42:59.792Z"
   },
   {
    "duration": 6,
    "start_time": "2023-09-24T05:48:40.846Z"
   },
   {
    "duration": 5,
    "start_time": "2023-09-24T05:48:43.020Z"
   },
   {
    "duration": 20,
    "start_time": "2023-09-24T05:48:45.243Z"
   },
   {
    "duration": 6,
    "start_time": "2023-09-24T05:50:21.783Z"
   },
   {
    "duration": 5,
    "start_time": "2023-09-24T05:50:30.340Z"
   },
   {
    "duration": 19,
    "start_time": "2023-09-24T05:50:32.595Z"
   },
   {
    "duration": 6,
    "start_time": "2023-09-24T05:51:50.966Z"
   },
   {
    "duration": 5,
    "start_time": "2023-09-24T05:51:54.006Z"
   },
   {
    "duration": 30,
    "start_time": "2023-09-24T05:51:55.255Z"
   },
   {
    "duration": 6,
    "start_time": "2023-09-24T06:07:07.321Z"
   },
   {
    "duration": 5,
    "start_time": "2023-09-24T06:07:11.449Z"
   },
   {
    "duration": 19,
    "start_time": "2023-09-24T06:07:15.237Z"
   },
   {
    "duration": 7,
    "start_time": "2023-09-24T06:17:04.579Z"
   },
   {
    "duration": 5,
    "start_time": "2023-09-24T06:17:12.879Z"
   },
   {
    "duration": 260,
    "start_time": "2023-09-24T06:17:15.265Z"
   },
   {
    "duration": 6,
    "start_time": "2023-09-24T06:29:32.699Z"
   },
   {
    "duration": 5,
    "start_time": "2023-09-24T06:30:03.429Z"
   },
   {
    "duration": 1632,
    "start_time": "2023-09-24T06:30:04.587Z"
   },
   {
    "duration": 5,
    "start_time": "2023-09-24T06:30:54.038Z"
   },
   {
    "duration": 110,
    "start_time": "2023-09-24T06:31:32.144Z"
   },
   {
    "duration": 6,
    "start_time": "2023-09-24T06:32:06.913Z"
   },
   {
    "duration": 4,
    "start_time": "2023-09-24T06:32:09.668Z"
   },
   {
    "duration": 1549,
    "start_time": "2023-09-24T06:32:10.858Z"
   },
   {
    "duration": 4,
    "start_time": "2023-09-24T06:32:19.275Z"
   },
   {
    "duration": 8,
    "start_time": "2023-09-24T06:32:56.454Z"
   },
   {
    "duration": 5,
    "start_time": "2023-09-24T06:33:04.143Z"
   },
   {
    "duration": 1084,
    "start_time": "2023-09-24T06:33:06.317Z"
   },
   {
    "duration": 6,
    "start_time": "2023-09-24T06:50:22.218Z"
   },
   {
    "duration": 6,
    "start_time": "2023-09-24T06:50:24.208Z"
   },
   {
    "duration": 6,
    "start_time": "2023-09-24T06:50:47.790Z"
   },
   {
    "duration": 5,
    "start_time": "2023-09-24T06:50:49.117Z"
   },
   {
    "duration": 6,
    "start_time": "2023-09-24T06:51:38.015Z"
   },
   {
    "duration": 5,
    "start_time": "2023-09-24T06:51:48.956Z"
   },
   {
    "duration": 1400,
    "start_time": "2023-09-24T06:51:51.217Z"
   },
   {
    "duration": 5,
    "start_time": "2023-09-24T06:52:23.450Z"
   },
   {
    "duration": 5,
    "start_time": "2023-09-24T07:09:17.241Z"
   },
   {
    "duration": 5,
    "start_time": "2023-09-24T07:09:23.532Z"
   },
   {
    "duration": 77,
    "start_time": "2023-09-24T07:09:26.551Z"
   },
   {
    "duration": 5,
    "start_time": "2023-09-24T07:10:19.412Z"
   },
   {
    "duration": 1276,
    "start_time": "2023-09-24T07:10:23.839Z"
   },
   {
    "duration": 5,
    "start_time": "2023-09-24T07:10:34.305Z"
   },
   {
    "duration": 6,
    "start_time": "2023-09-24T07:11:00.375Z"
   },
   {
    "duration": 5,
    "start_time": "2023-09-24T07:11:07.350Z"
   },
   {
    "duration": 1170,
    "start_time": "2023-09-24T07:11:09.450Z"
   },
   {
    "duration": 5,
    "start_time": "2023-09-24T07:11:39.218Z"
   },
   {
    "duration": 1487,
    "start_time": "2023-09-24T07:11:47.120Z"
   },
   {
    "duration": 5,
    "start_time": "2023-09-24T07:12:12.428Z"
   },
   {
    "duration": 5,
    "start_time": "2023-09-24T07:13:48.396Z"
   },
   {
    "duration": 5,
    "start_time": "2023-09-24T07:13:52.256Z"
   },
   {
    "duration": 1391,
    "start_time": "2023-09-24T07:13:54.029Z"
   },
   {
    "duration": 4,
    "start_time": "2023-09-24T07:14:08.138Z"
   },
   {
    "duration": 7,
    "start_time": "2023-09-24T07:14:19.867Z"
   },
   {
    "duration": 983,
    "start_time": "2023-09-24T07:14:26.918Z"
   },
   {
    "duration": 5,
    "start_time": "2023-09-24T07:15:37.031Z"
   },
   {
    "duration": 1086,
    "start_time": "2023-09-24T07:15:40.025Z"
   },
   {
    "duration": 6,
    "start_time": "2023-09-24T07:16:29.201Z"
   },
   {
    "duration": 1423,
    "start_time": "2023-09-24T07:16:33.392Z"
   },
   {
    "duration": 7,
    "start_time": "2023-09-24T07:18:51.769Z"
   },
   {
    "duration": 1557,
    "start_time": "2023-09-24T07:18:55.444Z"
   },
   {
    "duration": 5,
    "start_time": "2023-09-24T07:19:42.731Z"
   },
   {
    "duration": 2453,
    "start_time": "2023-09-24T07:19:46.755Z"
   },
   {
    "duration": 6,
    "start_time": "2023-09-24T07:20:34.782Z"
   },
   {
    "duration": 2749,
    "start_time": "2023-09-24T07:20:38.598Z"
   },
   {
    "duration": 8,
    "start_time": "2023-09-24T07:35:24.629Z"
   },
   {
    "duration": 2035,
    "start_time": "2023-09-24T07:35:32.074Z"
   },
   {
    "duration": 6,
    "start_time": "2023-09-24T07:36:07.568Z"
   },
   {
    "duration": 2201,
    "start_time": "2023-09-24T07:36:50.107Z"
   },
   {
    "duration": 29,
    "start_time": "2023-09-24T07:37:38.663Z"
   },
   {
    "duration": 563374,
    "start_time": "2023-09-24T07:37:47.548Z"
   },
   {
    "duration": 6,
    "start_time": "2023-09-24T07:53:14.584Z"
   },
   {
    "duration": 6367,
    "start_time": "2023-09-24T07:53:56.636Z"
   },
   {
    "duration": 4,
    "start_time": "2023-09-24T07:54:07.974Z"
   },
   {
    "duration": 87,
    "start_time": "2023-09-24T07:54:38.857Z"
   },
   {
    "duration": 6415,
    "start_time": "2023-09-24T07:54:42.505Z"
   },
   {
    "duration": 5,
    "start_time": "2023-09-24T07:55:13.883Z"
   },
   {
    "duration": 3775,
    "start_time": "2023-09-24T07:55:17.651Z"
   },
   {
    "duration": 6,
    "start_time": "2023-09-24T07:56:00.963Z"
   },
   {
    "duration": 6541,
    "start_time": "2023-09-24T07:56:05.476Z"
   },
   {
    "duration": 5,
    "start_time": "2023-09-24T08:14:43.024Z"
   },
   {
    "duration": 14819,
    "start_time": "2023-09-24T08:14:47.592Z"
   },
   {
    "duration": 4,
    "start_time": "2023-09-24T08:15:16.906Z"
   },
   {
    "duration": 5,
    "start_time": "2023-09-24T08:16:03.430Z"
   },
   {
    "duration": 6232,
    "start_time": "2023-09-24T08:16:07.184Z"
   },
   {
    "duration": 6,
    "start_time": "2023-09-24T08:17:20.932Z"
   },
   {
    "duration": 5337,
    "start_time": "2023-09-24T08:17:24.586Z"
   },
   {
    "duration": 7,
    "start_time": "2023-09-24T08:17:44.306Z"
   },
   {
    "duration": 6392,
    "start_time": "2023-09-24T08:17:49.418Z"
   },
   {
    "duration": 79,
    "start_time": "2023-09-24T08:27:23.683Z"
   },
   {
    "duration": 6,
    "start_time": "2023-09-24T08:27:51.069Z"
   },
   {
    "duration": 4706,
    "start_time": "2023-09-24T08:27:54.205Z"
   },
   {
    "duration": 6,
    "start_time": "2023-09-24T08:28:34.368Z"
   },
   {
    "duration": 7136,
    "start_time": "2023-09-24T08:28:40.371Z"
   },
   {
    "duration": 6,
    "start_time": "2023-09-24T08:29:50.150Z"
   },
   {
    "duration": 6721,
    "start_time": "2023-09-24T08:29:53.297Z"
   },
   {
    "duration": 5,
    "start_time": "2023-09-24T08:30:45.518Z"
   },
   {
    "duration": 8512,
    "start_time": "2023-09-24T08:30:49.401Z"
   },
   {
    "duration": 6,
    "start_time": "2023-09-24T08:31:36.261Z"
   },
   {
    "duration": 5,
    "start_time": "2023-09-24T08:31:54.296Z"
   },
   {
    "duration": 6098,
    "start_time": "2023-09-24T08:32:00.621Z"
   },
   {
    "duration": 5,
    "start_time": "2023-09-24T08:32:29.128Z"
   },
   {
    "duration": 6010,
    "start_time": "2023-09-24T08:32:33.007Z"
   },
   {
    "duration": 4,
    "start_time": "2023-09-24T08:32:48.649Z"
   },
   {
    "duration": 6,
    "start_time": "2023-09-24T09:33:39.889Z"
   },
   {
    "duration": 40,
    "start_time": "2023-09-24T09:33:43.585Z"
   },
   {
    "duration": 6,
    "start_time": "2023-09-24T09:35:00.543Z"
   },
   {
    "duration": 32,
    "start_time": "2023-09-24T09:35:04.045Z"
   },
   {
    "duration": 97,
    "start_time": "2023-09-24T09:54:55.131Z"
   },
   {
    "duration": 3,
    "start_time": "2023-09-24T10:04:57.393Z"
   },
   {
    "duration": 3,
    "start_time": "2023-09-24T10:11:49.746Z"
   },
   {
    "duration": 5,
    "start_time": "2023-09-24T10:14:02.854Z"
   },
   {
    "duration": 6,
    "start_time": "2023-09-24T10:14:05.886Z"
   },
   {
    "duration": 10363,
    "start_time": "2023-09-24T10:14:10.351Z"
   },
   {
    "duration": 6,
    "start_time": "2023-09-24T10:14:25.949Z"
   },
   {
    "duration": 8,
    "start_time": "2023-09-24T10:15:02.501Z"
   },
   {
    "duration": 7576,
    "start_time": "2023-09-24T10:15:30.536Z"
   },
   {
    "duration": 4,
    "start_time": "2023-09-24T10:15:43.183Z"
   },
   {
    "duration": 13,
    "start_time": "2023-09-24T10:17:07.701Z"
   },
   {
    "duration": 6,
    "start_time": "2023-09-24T10:17:14.076Z"
   },
   {
    "duration": 7414,
    "start_time": "2023-09-24T10:17:15.617Z"
   },
   {
    "duration": 5,
    "start_time": "2023-09-24T10:17:23.033Z"
   },
   {
    "duration": 6,
    "start_time": "2023-09-24T10:18:28.240Z"
   },
   {
    "duration": 5,
    "start_time": "2023-09-24T10:19:31.803Z"
   },
   {
    "duration": 609308,
    "start_time": "2023-09-24T10:20:36.715Z"
   },
   {
    "duration": 0,
    "start_time": "2023-09-24T10:30:46.025Z"
   },
   {
    "duration": 0,
    "start_time": "2023-09-24T10:30:46.026Z"
   },
   {
    "duration": 6,
    "start_time": "2023-09-24T10:30:51.261Z"
   },
   {
    "duration": 31,
    "start_time": "2023-09-24T10:30:54.555Z"
   },
   {
    "duration": 26,
    "start_time": "2023-09-24T10:31:46.080Z"
   },
   {
    "duration": 22,
    "start_time": "2023-09-24T10:31:48.117Z"
   },
   {
    "duration": 6,
    "start_time": "2023-09-24T10:31:58.875Z"
   },
   {
    "duration": 1495695,
    "start_time": "2023-09-24T10:32:06.438Z"
   },
   {
    "duration": 5,
    "start_time": "2023-09-24T10:57:02.136Z"
   },
   {
    "duration": 6,
    "start_time": "2023-09-24T10:59:49.454Z"
   },
   {
    "duration": 1933,
    "start_time": "2023-09-24T11:00:07.092Z"
   },
   {
    "duration": 2669,
    "start_time": "2023-09-24T11:00:23.537Z"
   },
   {
    "duration": 6,
    "start_time": "2023-09-24T11:00:33.864Z"
   },
   {
    "duration": 26237,
    "start_time": "2023-09-24T11:00:56.094Z"
   },
   {
    "duration": 4,
    "start_time": "2023-09-24T11:01:53.744Z"
   },
   {
    "duration": 2812,
    "start_time": "2023-09-24T11:02:22.619Z"
   },
   {
    "duration": 6,
    "start_time": "2023-09-24T11:02:25.853Z"
   },
   {
    "duration": 4,
    "start_time": "2023-09-24T11:03:29.791Z"
   },
   {
    "duration": 4,
    "start_time": "2023-09-24T11:03:32.291Z"
   },
   {
    "duration": 59127,
    "start_time": "2023-09-24T11:03:33.242Z"
   },
   {
    "duration": 5,
    "start_time": "2023-09-24T11:04:32.372Z"
   },
   {
    "duration": 108,
    "start_time": "2023-09-24T11:04:32.379Z"
   },
   {
    "duration": 1893,
    "start_time": "2023-09-24T11:05:20.739Z"
   },
   {
    "duration": 53,
    "start_time": "2023-09-24T11:05:22.634Z"
   },
   {
    "duration": 53,
    "start_time": "2023-09-24T11:05:22.689Z"
   },
   {
    "duration": 942,
    "start_time": "2023-09-24T11:05:22.745Z"
   },
   {
    "duration": 35,
    "start_time": "2023-09-24T11:05:23.689Z"
   },
   {
    "duration": 8,
    "start_time": "2023-09-24T11:05:23.726Z"
   },
   {
    "duration": 18,
    "start_time": "2023-09-24T11:05:23.736Z"
   },
   {
    "duration": 17,
    "start_time": "2023-09-24T11:05:23.756Z"
   },
   {
    "duration": 1512,
    "start_time": "2023-09-24T11:05:23.774Z"
   },
   {
    "duration": 335,
    "start_time": "2023-09-24T11:05:25.290Z"
   },
   {
    "duration": 3,
    "start_time": "2023-09-24T11:05:25.626Z"
   },
   {
    "duration": 199,
    "start_time": "2023-09-24T11:05:25.631Z"
   },
   {
    "duration": 108,
    "start_time": "2023-09-24T11:05:25.832Z"
   },
   {
    "duration": 27,
    "start_time": "2023-09-24T11:05:25.942Z"
   },
   {
    "duration": 3953,
    "start_time": "2023-09-24T11:05:25.971Z"
   },
   {
    "duration": 233,
    "start_time": "2023-09-24T11:05:29.927Z"
   },
   {
    "duration": 96,
    "start_time": "2023-09-24T11:05:30.162Z"
   },
   {
    "duration": 4,
    "start_time": "2023-09-24T11:05:30.259Z"
   },
   {
    "duration": 119,
    "start_time": "2023-09-24T11:05:30.264Z"
   },
   {
    "duration": 59701,
    "start_time": "2023-09-24T11:05:30.384Z"
   },
   {
    "duration": 15,
    "start_time": "2023-09-24T11:06:30.087Z"
   },
   {
    "duration": 88,
    "start_time": "2023-09-24T11:06:30.105Z"
   },
   {
    "duration": 113,
    "start_time": "2023-09-24T11:06:30.195Z"
   },
   {
    "duration": 40,
    "start_time": "2023-09-24T11:06:30.311Z"
   },
   {
    "duration": 106,
    "start_time": "2023-09-24T11:06:30.353Z"
   },
   {
    "duration": 3641,
    "start_time": "2023-09-24T11:06:30.461Z"
   },
   {
    "duration": 6,
    "start_time": "2023-09-24T11:06:34.105Z"
   },
   {
    "duration": 613,
    "start_time": "2023-09-24T11:06:34.117Z"
   },
   {
    "duration": 3672,
    "start_time": "2023-09-24T11:06:34.733Z"
   },
   {
    "duration": 2894,
    "start_time": "2023-09-24T11:06:38.409Z"
   },
   {
    "duration": 100,
    "start_time": "2023-09-24T11:06:41.306Z"
   },
   {
    "duration": 7,
    "start_time": "2023-09-24T11:06:41.409Z"
   },
   {
    "duration": 15,
    "start_time": "2023-09-24T11:06:41.418Z"
   },
   {
    "duration": 17,
    "start_time": "2023-09-24T11:06:41.435Z"
   },
   {
    "duration": 9,
    "start_time": "2023-09-24T11:06:41.503Z"
   },
   {
    "duration": 14,
    "start_time": "2023-09-24T11:06:41.515Z"
   }
  ],
  "kernelspec": {
   "display_name": "Python 3 (ipykernel)",
   "language": "python",
   "name": "python3"
  },
  "language_info": {
   "codemirror_mode": {
    "name": "ipython",
    "version": 3
   },
   "file_extension": ".py",
   "mimetype": "text/x-python",
   "name": "python",
   "nbconvert_exporter": "python",
   "pygments_lexer": "ipython3",
   "version": "3.9.5"
  },
  "toc": {
   "base_numbering": 1,
   "nav_menu": {},
   "number_sections": true,
   "sideBar": true,
   "skip_h1_title": true,
   "title_cell": "Содержание",
   "title_sidebar": "Contents",
   "toc_cell": true,
   "toc_position": {},
   "toc_section_display": true,
   "toc_window_display": false
  }
 },
 "nbformat": 4,
 "nbformat_minor": 2
}
