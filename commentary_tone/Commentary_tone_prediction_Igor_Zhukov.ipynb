{
 "cells": [
  {
   "cell_type": "markdown",
   "metadata": {
    "toc": true
   },
   "source": [
    "<h1>Содержание<span class=\"tocSkip\"></span></h1>\n",
    "<div class=\"toc\"><ul class=\"toc-item\"><li><span><a href=\"#Подготовка\" data-toc-modified-id=\"Подготовка-1\"><span class=\"toc-item-num\">1&nbsp;&nbsp;</span>Подготовка</a></span><ul class=\"toc-item\"><li><span><a href=\"#Загрузим-необходимые-библиотеки\" data-toc-modified-id=\"Загрузим-необходимые-библиотеки-1.1\"><span class=\"toc-item-num\">1.1&nbsp;&nbsp;</span>Загрузим необходимые библиотеки</a></span></li><li><span><a href=\"#Загрузим-данные\" data-toc-modified-id=\"Загрузим-данные-1.2\"><span class=\"toc-item-num\">1.2&nbsp;&nbsp;</span>Загрузим данные</a></span></li><li><span><a href=\"#Изучим-данные-и-определим,-какая-обработка-потребуется\" data-toc-modified-id=\"Изучим-данные-и-определим,-какая-обработка-потребуется-1.3\"><span class=\"toc-item-num\">1.3&nbsp;&nbsp;</span>Изучим данные и определим, какая обработка потребуется</a></span><ul class=\"toc-item\"><li><span><a href=\"#Изучим-общую-информацию\" data-toc-modified-id=\"Изучим-общую-информацию-1.3.1\"><span class=\"toc-item-num\">1.3.1&nbsp;&nbsp;</span>Изучим общую информацию</a></span></li><li><span><a href=\"#Изучим-сбалансированность-целевого-признака\" data-toc-modified-id=\"Изучим-сбалансированность-целевого-признака-1.3.2\"><span class=\"toc-item-num\">1.3.2&nbsp;&nbsp;</span>Изучим сбалансированность целевого признака</a></span></li></ul></li><li><span><a href=\"#Выводы-по-результатам-исследования-данных\" data-toc-modified-id=\"Выводы-по-результатам-исследования-данных-1.4\"><span class=\"toc-item-num\">1.4&nbsp;&nbsp;</span>Выводы по результатам исследования данных</a></span></li><li><span><a href=\"#Проведем-подготовку-данных-для-моделирования\" data-toc-modified-id=\"Проведем-подготовку-данных-для-моделирования-1.5\"><span class=\"toc-item-num\">1.5&nbsp;&nbsp;</span>Проведем подготовку данных для моделирования</a></span><ul class=\"toc-item\"><li><span><a href=\"#Реиндексируем-массив-data\" data-toc-modified-id=\"Реиндексируем-массив-data-1.5.1\"><span class=\"toc-item-num\">1.5.1&nbsp;&nbsp;</span>Реиндексируем массив <code>data</code></a></span></li><li><span><a href=\"#Объявим-функцию-lemm_and_clear-для-очистки-и-лемматизации-выражений\" data-toc-modified-id=\"Объявим-функцию-lemm_and_clear-для-очистки-и-лемматизации-выражений-1.5.2\"><span class=\"toc-item-num\">1.5.2&nbsp;&nbsp;</span>Объявим функцию <code>lemm_and_clear</code> для очистки и лемматизации выражений</a></span></li><li><span><a href=\"#Проверим-работу-функции:\" data-toc-modified-id=\"Проверим-работу-функции:-1.5.3\"><span class=\"toc-item-num\">1.5.3&nbsp;&nbsp;</span>Проверим работу функции:</a></span></li><li><span><a href=\"#Лемматизируем-и-очистим-комментарии\" data-toc-modified-id=\"Лемматизируем-и-очистим-комментарии-1.5.4\"><span class=\"toc-item-num\">1.5.4&nbsp;&nbsp;</span>Лемматизируем и очистим комментарии</a></span></li><li><span><a href=\"#Сохраним-лемматизированные-данные-на-диске-в-файле-lemm_data.csv\" data-toc-modified-id=\"Сохраним-лемматизированные-данные-на-диске-в-файле-lemm_data.csv-1.5.5\"><span class=\"toc-item-num\">1.5.5&nbsp;&nbsp;</span>Сохраним лемматизированные данные на диске в файле <code>lemm_data.csv</code></a></span></li><li><span><a href=\"#Восстановим-данные-с-диска\" data-toc-modified-id=\"Восстановим-данные-с-диска-1.5.6\"><span class=\"toc-item-num\">1.5.6&nbsp;&nbsp;</span>Восстановим данные с диска</a></span></li><li><span><a href=\"#Загрузим-перечень-не-значащих-слов-для-английского-языка\" data-toc-modified-id=\"Загрузим-перечень-не-значащих-слов-для-английского-языка-1.5.7\"><span class=\"toc-item-num\">1.5.7&nbsp;&nbsp;</span>Загрузим перечень не значащих слов для английского языка</a></span></li><li><span><a href=\"#Создадим-из-data-корпус-из-лемматизированных-фраз-и-массив-целевого-признака\" data-toc-modified-id=\"Создадим-из-data-корпус-из-лемматизированных-фраз-и-массив-целевого-признака-1.5.8\"><span class=\"toc-item-num\">1.5.8&nbsp;&nbsp;</span>Создадим из <code>data</code> корпус из лемматизированных фраз и массив целевого признака</a></span></li><li><span><a href=\"#Разделим-корпус-и-массив-целевого-признака-на-обучающую-и-тестовую-выборки\" data-toc-modified-id=\"Разделим-корпус-и-массив-целевого-признака-на-обучающую-и-тестовую-выборки-1.5.9\"><span class=\"toc-item-num\">1.5.9&nbsp;&nbsp;</span>Разделим корпус и массив целевого признака на обучающую и тестовую выборки</a></span></li></ul></li><li><span><a href=\"#Заключение-по-результатам-обработки-исходных-данных-и-подготовке-признаков-для-моделирования\" data-toc-modified-id=\"Заключение-по-результатам-обработки-исходных-данных-и-подготовке-признаков-для-моделирования-1.6\"><span class=\"toc-item-num\">1.6&nbsp;&nbsp;</span>Заключение по результатам обработки исходных данных и подготовке признаков для моделирования</a></span></li></ul></li><li><span><a href=\"#Обучение\" data-toc-modified-id=\"Обучение-2\"><span class=\"toc-item-num\">2&nbsp;&nbsp;</span>Обучение</a></span><ul class=\"toc-item\"><li><span><a href=\"#Обучим-и-протестируем-модель-LogisticRegression-методом-кросс-валидации\" data-toc-modified-id=\"Обучим-и-протестируем-модель-LogisticRegression-методом-кросс-валидации-2.1\"><span class=\"toc-item-num\">2.1&nbsp;&nbsp;</span>Обучим и протестируем модель <code>LogisticRegression</code> методом <code>кросс-валидации</code></a></span><ul class=\"toc-item\"><li><span><a href=\"#Зададим-неизменяемые-гиперпараметры-модели\" data-toc-modified-id=\"Зададим-неизменяемые-гиперпараметры-модели-2.1.1\"><span class=\"toc-item-num\">2.1.1&nbsp;&nbsp;</span>Зададим неизменяемые гиперпараметры модели</a></span></li><li><span><a href=\"#Зададим-векторайзер\" data-toc-modified-id=\"Зададим-векторайзер-2.1.2\"><span class=\"toc-item-num\">2.1.2&nbsp;&nbsp;</span>Зададим векторайзер</a></span></li><li><span><a href=\"#Объявим-шаги,-которые-будут-исполняться-в-Pipline\" data-toc-modified-id=\"Объявим-шаги,-которые-будут-исполняться-в-Pipline-2.1.3\"><span class=\"toc-item-num\">2.1.3&nbsp;&nbsp;</span>Объявим шаги, которые будут исполняться в <code>Pipline</code></a></span></li><li><span><a href=\"#Зададим-диапазоны-гиперпараметров-для-поиска-оптимальной-метрики-f1-методом-кросс-валидации\" data-toc-modified-id=\"Зададим-диапазоны-гиперпараметров-для-поиска-оптимальной-метрики-f1-методом-кросс-валидации-2.1.4\"><span class=\"toc-item-num\">2.1.4&nbsp;&nbsp;</span>Зададим диапазоны гиперпараметров для поиска оптимальной метрики <code>f1</code> методом <code>кросс-валидации</code></a></span></li><li><span><a href=\"#Объявим-функцию-поиска-оптимальных-гиперпараметров\" data-toc-modified-id=\"Объявим-функцию-поиска-оптимальных-гиперпараметров-2.1.5\"><span class=\"toc-item-num\">2.1.5&nbsp;&nbsp;</span>Объявим функцию поиска оптимальных гиперпараметров</a></span></li><li><span><a href=\"#Проведем-поиск-оптимальных-гиперпараметров\" data-toc-modified-id=\"Проведем-поиск-оптимальных-гиперпараметров-2.1.6\"><span class=\"toc-item-num\">2.1.6&nbsp;&nbsp;</span>Проведем поиск оптимальных гиперпараметров</a></span></li></ul></li><li><span><a href=\"#Обучим-и-протестируем-модель-SGDClassifier-методом-кросс-валидации\" data-toc-modified-id=\"Обучим-и-протестируем-модель-SGDClassifier-методом-кросс-валидации-2.2\"><span class=\"toc-item-num\">2.2&nbsp;&nbsp;</span>Обучим и протестируем модель <code>SGDClassifier</code> методом <code>кросс-валидации</code></a></span><ul class=\"toc-item\"><li><span><a href=\"#Зададим-неизменяемые-гиперпараметры-модели\" data-toc-modified-id=\"Зададим-неизменяемые-гиперпараметры-модели-2.2.1\"><span class=\"toc-item-num\">2.2.1&nbsp;&nbsp;</span>Зададим неизменяемые гиперпараметры модели</a></span></li><li><span><a href=\"#Объявим-шаги,-которые-будут-исполняться-в-Pipline\" data-toc-modified-id=\"Объявим-шаги,-которые-будут-исполняться-в-Pipline-2.2.2\"><span class=\"toc-item-num\">2.2.2&nbsp;&nbsp;</span>Объявим шаги, которые будут исполняться в <code>Pipline</code></a></span></li><li><span><a href=\"#Зададим-диапазоны-гиперпараметров-для-поиска-оптимальнлй-метрики-f1-методом-кросс-валидации\" data-toc-modified-id=\"Зададим-диапазоны-гиперпараметров-для-поиска-оптимальнлй-метрики-f1-методом-кросс-валидации-2.2.3\"><span class=\"toc-item-num\">2.2.3&nbsp;&nbsp;</span>Зададим диапазоны гиперпараметров для поиска оптимальнлй метрики <code>f1</code> методом <code>кросс-валидации</code></a></span></li><li><span><a href=\"#Объявим-функцию-поиска-оптимальных-гиперпараметров\" data-toc-modified-id=\"Объявим-функцию-поиска-оптимальных-гиперпараметров-2.2.4\"><span class=\"toc-item-num\">2.2.4&nbsp;&nbsp;</span>Объявим функцию поиска оптимальных гиперпараметров</a></span></li><li><span><a href=\"#Проведем-поиск-оптимальных-гиперпараметров\" data-toc-modified-id=\"Проведем-поиск-оптимальных-гиперпараметров-2.2.5\"><span class=\"toc-item-num\">2.2.5&nbsp;&nbsp;</span>Проведем поиск оптимальных гиперпараметров</a></span></li></ul></li><li><span><a href=\"#Обучим,-подберем-гиперпараметры-и-протестируем-методом-кросс-валидации--модель-RandomForestClassifier\" data-toc-modified-id=\"Обучим,-подберем-гиперпараметры-и-протестируем-методом-кросс-валидации--модель-RandomForestClassifier-2.3\"><span class=\"toc-item-num\">2.3&nbsp;&nbsp;</span>Обучим, подберем гиперпараметры и протестируем методом <code>кросс-валидации</code>  модель <code>RandomForestClassifier</code></a></span><ul class=\"toc-item\"><li><span><a href=\"#Зададим-неизменяемые-гиперпараметры-модели\" data-toc-modified-id=\"Зададим-неизменяемые-гиперпараметры-модели-2.3.1\"><span class=\"toc-item-num\">2.3.1&nbsp;&nbsp;</span>Зададим неизменяемые гиперпараметры модели</a></span></li><li><span><a href=\"#Объявим-шаги,-которые-будут-исполняться-в-Pipline\" data-toc-modified-id=\"Объявим-шаги,-которые-будут-исполняться-в-Pipline-2.3.2\"><span class=\"toc-item-num\">2.3.2&nbsp;&nbsp;</span>Объявим шаги, которые будут исполняться в <code>Pipline</code></a></span></li><li><span><a href=\"#Зададим-диапазоны-гиперпараметров-для-поиска-оптимальнлй-метрики-f1-методом-кросс-валидации\" data-toc-modified-id=\"Зададим-диапазоны-гиперпараметров-для-поиска-оптимальнлй-метрики-f1-методом-кросс-валидации-2.3.3\"><span class=\"toc-item-num\">2.3.3&nbsp;&nbsp;</span>Зададим диапазоны гиперпараметров для поиска оптимальнлй метрики <code>f1</code> методом <code>кросс-валидации</code></a></span></li><li><span><a href=\"#Объявим-функцию-поиска-оптимальных-гиперпараметров\" data-toc-modified-id=\"Объявим-функцию-поиска-оптимальных-гиперпараметров-2.3.4\"><span class=\"toc-item-num\">2.3.4&nbsp;&nbsp;</span>Объявим функцию поиска оптимальных гиперпараметров</a></span></li><li><span><a href=\"#Проведем-поиск-оптимальных-гиперпараметров\" data-toc-modified-id=\"Проведем-поиск-оптимальных-гиперпараметров-2.3.5\"><span class=\"toc-item-num\">2.3.5&nbsp;&nbsp;</span>Проведем поиск оптимальных гиперпараметров</a></span></li></ul></li><li><span><a href=\"#Обучим,-подберем-гиперпараметры-и-протестируем-методом-кросс-валидации-модель-LGBMClassifier\" data-toc-modified-id=\"Обучим,-подберем-гиперпараметры-и-протестируем-методом-кросс-валидации-модель-LGBMClassifier-2.4\"><span class=\"toc-item-num\">2.4&nbsp;&nbsp;</span>Обучим, подберем гиперпараметры и протестируем методом <code>кросс-валидации</code> модель <code>LGBMClassifier</code></a></span><ul class=\"toc-item\"><li><span><a href=\"#Зададим-неизменяемые-гиперпараметры-модели\" data-toc-modified-id=\"Зададим-неизменяемые-гиперпараметры-модели-2.4.1\"><span class=\"toc-item-num\">2.4.1&nbsp;&nbsp;</span>Зададим неизменяемые гиперпараметры модели</a></span></li><li><span><a href=\"#Зададим-векторайзер\" data-toc-modified-id=\"Зададим-векторайзер-2.4.2\"><span class=\"toc-item-num\">2.4.2&nbsp;&nbsp;</span>Зададим векторайзер</a></span></li><li><span><a href=\"#Объявим-шаги,-которые-будут-исполняться-в-Pipline\" data-toc-modified-id=\"Объявим-шаги,-которые-будут-исполняться-в-Pipline-2.4.3\"><span class=\"toc-item-num\">2.4.3&nbsp;&nbsp;</span>Объявим шаги, которые будут исполняться в <code>Pipline</code></a></span></li><li><span><a href=\"#Зададим-диапазоны-гиперпараметров-для-поиска-оптимальнлй-метрики-f1-методом-кросс-валидации\" data-toc-modified-id=\"Зададим-диапазоны-гиперпараметров-для-поиска-оптимальнлй-метрики-f1-методом-кросс-валидации-2.4.4\"><span class=\"toc-item-num\">2.4.4&nbsp;&nbsp;</span>Зададим диапазоны гиперпараметров для поиска оптимальнлй метрики <code>f1</code> методом <code>кросс-валидации</code></a></span></li><li><span><a href=\"#Объявим-функцию-поиска-оптимальных-гиперпараметров\" data-toc-modified-id=\"Объявим-функцию-поиска-оптимальных-гиперпараметров-2.4.5\"><span class=\"toc-item-num\">2.4.5&nbsp;&nbsp;</span>Объявим функцию поиска оптимальных гиперпараметров</a></span></li><li><span><a href=\"#Проведем-поиск-оптимальных-гиперпараметров\" data-toc-modified-id=\"Проведем-поиск-оптимальных-гиперпараметров-2.4.6\"><span class=\"toc-item-num\">2.4.6&nbsp;&nbsp;</span>Проведем поиск оптимальных гиперпараметров</a></span></li></ul></li><li><span><a href=\"#Выводы-по-результатам-обучения-и-проверки-методом-кросс-валидации-моделей-LogisticClassifier,-SGDClassifier,-RandomForestClassifier-и-LGBMClasifier\" data-toc-modified-id=\"Выводы-по-результатам-обучения-и-проверки-методом-кросс-валидации-моделей-LogisticClassifier,-SGDClassifier,-RandomForestClassifier-и-LGBMClasifier-2.5\"><span class=\"toc-item-num\">2.5&nbsp;&nbsp;</span>Выводы по результатам обучения и проверки методом <code>кросс-валидации</code> моделей <code>LogisticClassifier</code>, <code>SGDClassifier</code>, <code>RandomForestClassifier</code> и <code>LGBMClasifier</code></a></span></li><li><span><a href=\"#Тестирование-выбранной-модели\" data-toc-modified-id=\"Тестирование-выбранной-модели-2.6\"><span class=\"toc-item-num\">2.6&nbsp;&nbsp;</span>Тестирование выбранной модели</a></span><ul class=\"toc-item\"><li><span><a href=\"#Создадим-наборы-признаков-для-обучающей-и-тестовой-выборок\" data-toc-modified-id=\"Создадим-наборы-признаков-для-обучающей-и-тестовой-выборок-2.6.1\"><span class=\"toc-item-num\">2.6.1&nbsp;&nbsp;</span>Создадим наборы признаков для <code>обучающей</code> и <code>тестовой</code> выборок</a></span><ul class=\"toc-item\"><li><span><a href=\"#Зададим-найденные-при-обучении-моделей-оптимальные-гиперпараметры-параметры-для-модели,-создающей-векторы-из-корпуса\" data-toc-modified-id=\"Зададим-найденные-при-обучении-моделей-оптимальные-гиперпараметры-параметры-для-модели,-создающей-векторы-из-корпуса-2.6.1.1\"><span class=\"toc-item-num\">2.6.1.1&nbsp;&nbsp;</span>Зададим найденные при обучении моделей оптимальные гиперпараметры параметры для модели, создающей векторы из корпуса</a></span></li><li><span><a href=\"#Обучим-модель-на-обучающем-корпусе-и-создадим-набор-признаков-в-обучающей-и-тестовой-выборках\" data-toc-modified-id=\"Обучим-модель-на-обучающем-корпусе-и-создадим-набор-признаков-в-обучающей-и-тестовой-выборках-2.6.1.2\"><span class=\"toc-item-num\">2.6.1.2&nbsp;&nbsp;</span>Обучим модель на <code>обучающем</code> корпусе и создадим набор признаков в <code>обучающей</code> и <code>тестовой</code> выборках</a></span></li></ul></li><li><span><a href=\"#Тестирование-на-тестовой-выборке\" data-toc-modified-id=\"Тестирование-на-тестовой-выборке-2.6.2\"><span class=\"toc-item-num\">2.6.2&nbsp;&nbsp;</span>Тестирование на тестовой выборке</a></span></li><li><span><a href=\"#Проверка-скорости-обучения-и-скорости-предсказаний-модели-LGBMClasifier-на-обучающей-выборке\" data-toc-modified-id=\"Проверка-скорости-обучения-и-скорости-предсказаний-модели-LGBMClasifier-на-обучающей-выборке-2.6.3\"><span class=\"toc-item-num\">2.6.3&nbsp;&nbsp;</span>Проверка скорости обучения и скорости предсказаний модели <code>LGBMClasifier</code> на <strong>обучающей</strong> выборке</a></span></li><li><span><a href=\"#Проверка-модели-на-адекватность-путем-сравнения-метрики-f1-прогноза,-полученного-на-тестовой-выборке,-с-прогнозом,-состоящим-из-единиц-(все-комментарии-токсичные)\" data-toc-modified-id=\"Проверка-модели-на-адекватность-путем-сравнения-метрики-f1-прогноза,-полученного-на-тестовой-выборке,-с-прогнозом,-состоящим-из-единиц-(все-комментарии-токсичные)-2.6.4\"><span class=\"toc-item-num\">2.6.4&nbsp;&nbsp;</span>Проверка модели на адекватность путем сравнения метрики <code>f1</code> прогноза, полученного на тестовой выборке, с прогнозом, состоящим из единиц (все комментарии токсичные)</a></span></li></ul></li><li><span><a href=\"#Выводы-по-результатам-тестирования-модели\" data-toc-modified-id=\"Выводы-по-результатам-тестирования-модели-2.7\"><span class=\"toc-item-num\">2.7&nbsp;&nbsp;</span>Выводы по результатам тестирования модели</a></span></li></ul></li><li><span><a href=\"#Выводы\" data-toc-modified-id=\"Выводы-3\"><span class=\"toc-item-num\">3&nbsp;&nbsp;</span>Выводы</a></span></li><li><span><a href=\"#Чек-лист-проверки\" data-toc-modified-id=\"Чек-лист-проверки-4\"><span class=\"toc-item-num\">4&nbsp;&nbsp;</span>Чек-лист проверки</a></span></li></ul></div>"
   ]
  },
  {
   "cell_type": "markdown",
   "metadata": {},
   "source": [
    "# Проект для «Викишоп»"
   ]
  },
  {
   "cell_type": "markdown",
   "metadata": {},
   "source": [
    "Интернет-магазин «Викишоп» запускает новый сервис. Теперь пользователи могут редактировать и дополнять описания товаров, как в вики-сообществах. То есть клиенты предлагают свои правки и комментируют изменения других. Магазину нужен инструмент, который будет искать токсичные комментарии и отправлять их на модерацию. \n",
    "\n",
    "Обучите модель классифицировать комментарии на позитивные и негативные. В вашем распоряжении набор данных с разметкой о токсичности правок.\n",
    "\n",
    "Постройте модель со значением метрики качества *F1* не меньше 0.75. \n",
    "\n",
    "**Инструкция по выполнению проекта**\n",
    "\n",
    "1. Загрузите и подготовьте данные.\n",
    "2. Обучите разные модели. \n",
    "3. Сделайте выводы.\n",
    "\n",
    "Для выполнения проекта применять *BERT* необязательно, но вы можете попробовать.\n",
    "\n",
    "**Описание данных**\n",
    "\n",
    "Данные находятся в файле `toxic_comments.csv`. Столбец *text* в нём содержит текст комментария, а *toxic* — целевой признак."
   ]
  },
  {
   "cell_type": "markdown",
   "metadata": {},
   "source": [
    "## Подготовка"
   ]
  },
  {
   "cell_type": "markdown",
   "metadata": {},
   "source": [
    "### Загрузим необходимые библиотеки"
   ]
  },
  {
   "cell_type": "code",
   "execution_count": 15,
   "metadata": {},
   "outputs": [],
   "source": [
    "# !pip install -U pip setuptools wheel\n",
    "# !pip install -U spacy\n",
    "# !spacy validate\n",
    "# !spacy -m download en_core_web_trf"
   ]
  },
  {
   "cell_type": "markdown",
   "metadata": {},
   "source": [
    "  "
   ]
  },
  {
   "cell_type": "code",
   "execution_count": 16,
   "metadata": {},
   "outputs": [],
   "source": [
    "import pandas as pd\n",
    "import numpy as np\n",
    "import nltk\n",
    "from nltk.corpus import stopwords as stopwords\n",
    "\n",
    "\n",
    "from sklearn.feature_extraction.text import TfidfVectorizer\n",
    "\n",
    "import re\n",
    "import os\n",
    "import spacy\n",
    "\n",
    "from sklearn.linear_model import LogisticRegression, SGDClassifier\n",
    "from sklearn.ensemble import RandomForestClassifier\n",
    "from lightgbm import LGBMClassifier\n",
    "from sklearn.dummy import DummyClassifier\n",
    "\n",
    "from sklearn.pipeline import Pipeline\n",
    "\n",
    "from sklearn.model_selection import (train_test_split,\n",
    "                                     GridSearchCV)\n",
    "from sklearn.metrics import classification_report, f1_score\n",
    "\n",
    "from tqdm import tqdm"
   ]
  },
  {
   "cell_type": "markdown",
   "metadata": {},
   "source": [
    "### Загрузим данные"
   ]
  },
  {
   "cell_type": "code",
   "execution_count": 17,
   "metadata": {},
   "outputs": [
    {
     "name": "stdout",
     "output_type": "stream",
     "text": [
      "Loaded: /home/beerbear/Загрузки/Lemmatization/toxic_comments.csv\n"
     ]
    }
   ],
   "source": [
    "path_1 = '/datasets/toxic_comments.csv'\n",
    "path_2 = 'https://code.s3.yandex.net/datasets/toxic_comments.csv'\n",
    "path_3 = '/home/beerbear/Загрузки/Lemmatization/toxic_comments.csv'\n",
    "\n",
    "\n",
    "if os.path.exists(path_1):\n",
    "    data = pd.read_csv(path_1, index_col=[0])\n",
    "    print('Loaded:', path_1)\n",
    "\n",
    "elif os.path.exists(path_2):\n",
    "    data = pd.read_csv(path_2, index_col=[0])\n",
    "    print('Loaded:', path_2)\n",
    "\n",
    "elif os.path.exists(path_3):\n",
    "    data = pd.read_csv(path_3, index_col=[0])\n",
    "    print('Loaded:', path_3)\n",
    "    \n",
    "\n",
    "else:\n",
    "    print('Файл не найден, проверьте путь')\n",
    "    "
   ]
  },
  {
   "cell_type": "markdown",
   "metadata": {},
   "source": [
    "### Изучим данные и определим, какая обработка потребуется"
   ]
  },
  {
   "cell_type": "markdown",
   "metadata": {},
   "source": [
    "#### Изучим общую информацию"
   ]
  },
  {
   "cell_type": "code",
   "execution_count": 18,
   "metadata": {},
   "outputs": [
    {
     "name": "stdout",
     "output_type": "stream",
     "text": [
      "<class 'pandas.core.frame.DataFrame'>\n",
      "Int64Index: 159292 entries, 0 to 159450\n",
      "Data columns (total 2 columns):\n",
      " #   Column  Non-Null Count   Dtype \n",
      "---  ------  --------------   ----- \n",
      " 0   text    159292 non-null  object\n",
      " 1   toxic   159292 non-null  int64 \n",
      "dtypes: int64(1), object(1)\n",
      "memory usage: 3.6+ MB\n"
     ]
    },
    {
     "data": {
      "text/plain": [
       "None"
      ]
     },
     "metadata": {},
     "output_type": "display_data"
    },
    {
     "data": {
      "text/html": [
       "<div>\n",
       "<style scoped>\n",
       "    .dataframe tbody tr th:only-of-type {\n",
       "        vertical-align: middle;\n",
       "    }\n",
       "\n",
       "    .dataframe tbody tr th {\n",
       "        vertical-align: top;\n",
       "    }\n",
       "\n",
       "    .dataframe thead th {\n",
       "        text-align: right;\n",
       "    }\n",
       "</style>\n",
       "<table border=\"1\" class=\"dataframe\">\n",
       "  <thead>\n",
       "    <tr style=\"text-align: right;\">\n",
       "      <th></th>\n",
       "      <th>text</th>\n",
       "      <th>toxic</th>\n",
       "    </tr>\n",
       "  </thead>\n",
       "  <tbody>\n",
       "    <tr>\n",
       "      <th>0</th>\n",
       "      <td>Explanation\\nWhy the edits made under my usern...</td>\n",
       "      <td>0</td>\n",
       "    </tr>\n",
       "    <tr>\n",
       "      <th>1</th>\n",
       "      <td>D'aww! He matches this background colour I'm s...</td>\n",
       "      <td>0</td>\n",
       "    </tr>\n",
       "    <tr>\n",
       "      <th>2</th>\n",
       "      <td>Hey man, I'm really not trying to edit war. It...</td>\n",
       "      <td>0</td>\n",
       "    </tr>\n",
       "  </tbody>\n",
       "</table>\n",
       "</div>"
      ],
      "text/plain": [
       "                                                text  toxic\n",
       "0  Explanation\\nWhy the edits made under my usern...      0\n",
       "1  D'aww! He matches this background colour I'm s...      0\n",
       "2  Hey man, I'm really not trying to edit war. It...      0"
      ]
     },
     "metadata": {},
     "output_type": "display_data"
    },
    {
     "data": {
      "text/html": [
       "<div>\n",
       "<style scoped>\n",
       "    .dataframe tbody tr th:only-of-type {\n",
       "        vertical-align: middle;\n",
       "    }\n",
       "\n",
       "    .dataframe tbody tr th {\n",
       "        vertical-align: top;\n",
       "    }\n",
       "\n",
       "    .dataframe thead th {\n",
       "        text-align: right;\n",
       "    }\n",
       "</style>\n",
       "<table border=\"1\" class=\"dataframe\">\n",
       "  <thead>\n",
       "    <tr style=\"text-align: right;\">\n",
       "      <th></th>\n",
       "      <th>text</th>\n",
       "      <th>toxic</th>\n",
       "    </tr>\n",
       "  </thead>\n",
       "  <tbody>\n",
       "    <tr>\n",
       "      <th>159448</th>\n",
       "      <td>Spitzer \\n\\nUmm, theres no actual article for ...</td>\n",
       "      <td>0</td>\n",
       "    </tr>\n",
       "    <tr>\n",
       "      <th>159449</th>\n",
       "      <td>And it looks like it was actually you who put ...</td>\n",
       "      <td>0</td>\n",
       "    </tr>\n",
       "    <tr>\n",
       "      <th>159450</th>\n",
       "      <td>\"\\nAnd ... I really don't think you understand...</td>\n",
       "      <td>0</td>\n",
       "    </tr>\n",
       "  </tbody>\n",
       "</table>\n",
       "</div>"
      ],
      "text/plain": [
       "                                                     text  toxic\n",
       "159448  Spitzer \\n\\nUmm, theres no actual article for ...      0\n",
       "159449  And it looks like it was actually you who put ...      0\n",
       "159450  \"\\nAnd ... I really don't think you understand...      0"
      ]
     },
     "metadata": {},
     "output_type": "display_data"
    },
    {
     "name": "stdout",
     "output_type": "stream",
     "text": [
      "Дубликатов: 0\n"
     ]
    },
    {
     "data": {
      "text/html": [
       "<div>\n",
       "<style scoped>\n",
       "    .dataframe tbody tr th:only-of-type {\n",
       "        vertical-align: middle;\n",
       "    }\n",
       "\n",
       "    .dataframe tbody tr th {\n",
       "        vertical-align: top;\n",
       "    }\n",
       "\n",
       "    .dataframe thead th {\n",
       "        text-align: right;\n",
       "    }\n",
       "</style>\n",
       "<table border=\"1\" class=\"dataframe\">\n",
       "  <thead>\n",
       "    <tr style=\"text-align: right;\">\n",
       "      <th></th>\n",
       "      <th>toxic</th>\n",
       "    </tr>\n",
       "  </thead>\n",
       "  <tbody>\n",
       "    <tr>\n",
       "      <th>count</th>\n",
       "      <td>159292.000000</td>\n",
       "    </tr>\n",
       "    <tr>\n",
       "      <th>mean</th>\n",
       "      <td>0.101612</td>\n",
       "    </tr>\n",
       "    <tr>\n",
       "      <th>std</th>\n",
       "      <td>0.302139</td>\n",
       "    </tr>\n",
       "    <tr>\n",
       "      <th>min</th>\n",
       "      <td>0.000000</td>\n",
       "    </tr>\n",
       "    <tr>\n",
       "      <th>25%</th>\n",
       "      <td>0.000000</td>\n",
       "    </tr>\n",
       "    <tr>\n",
       "      <th>50%</th>\n",
       "      <td>0.000000</td>\n",
       "    </tr>\n",
       "    <tr>\n",
       "      <th>75%</th>\n",
       "      <td>0.000000</td>\n",
       "    </tr>\n",
       "    <tr>\n",
       "      <th>max</th>\n",
       "      <td>1.000000</td>\n",
       "    </tr>\n",
       "  </tbody>\n",
       "</table>\n",
       "</div>"
      ],
      "text/plain": [
       "               toxic\n",
       "count  159292.000000\n",
       "mean        0.101612\n",
       "std         0.302139\n",
       "min         0.000000\n",
       "25%         0.000000\n",
       "50%         0.000000\n",
       "75%         0.000000\n",
       "max         1.000000"
      ]
     },
     "metadata": {},
     "output_type": "display_data"
    },
    {
     "name": "stdout",
     "output_type": "stream",
     "text": [
      "Максимальное значение индекса: 159450\n",
      "Количество уникальных индексов: 159292\n",
      "Значения столбца toxic: [0 1]\n"
     ]
    }
   ],
   "source": [
    "display(data.info())\n",
    "display(data.head(3))\n",
    "display(data.tail(3))\n",
    "print('Дубликатов:', data.duplicated().sum())\n",
    "display(data.describe())\n",
    "print('Максимальное значение индекса:', data.index.max())\n",
    "print('Количество уникальных индексов:', data.index.nunique())\n",
    "print('Значения столбца toxic:', data['toxic'].unique())"
   ]
  },
  {
   "cell_type": "markdown",
   "metadata": {},
   "source": [
    "#### Изучим сбалансированность целевого признака"
   ]
  },
  {
   "cell_type": "code",
   "execution_count": 19,
   "metadata": {},
   "outputs": [
    {
     "name": "stdout",
     "output_type": "stream",
     "text": [
      "Доля токсичных комментариев: 0.10161213369158527\n"
     ]
    }
   ],
   "source": [
    "print('Доля токсичных комментариев:',\n",
    "    data['toxic'].mean())"
   ]
  },
  {
   "cell_type": "markdown",
   "metadata": {},
   "source": [
    "### Выводы по результатам исследования данных"
   ]
  },
  {
   "cell_type": "markdown",
   "metadata": {},
   "source": [
    "- в таблице **159292** объекта, один столбец с текстовыми выражениями и один столбец с **целевым** признаком `toxic`, который принимает значения `0` и `1`\n",
    "- в индексе есть пропущенные значения, **реиндексируем** `data` для удобства дальнейшей обработки\n",
    "- язык текстовых выражений - **английский**, имеются знаки препинания и символы, выражения не лемматизированы, требуется **лемматизация** и **очистка**\n",
    "- дубликаты **отсутствуют**\n",
    "- токсичные выражения составляют всего **10%** выборки, выборка **не сбалансирована**, что нужно будет учитывать при обучении"
   ]
  },
  {
   "cell_type": "markdown",
   "metadata": {},
   "source": [
    "### Проведем подготовку данных для моделирования"
   ]
  },
  {
   "cell_type": "markdown",
   "metadata": {},
   "source": [
    "#### Реиндексируем массив `data`"
   ]
  },
  {
   "cell_type": "code",
   "execution_count": 20,
   "metadata": {},
   "outputs": [],
   "source": [
    "data = data.reset_index(drop = True)"
   ]
  },
  {
   "cell_type": "code",
   "execution_count": 21,
   "metadata": {},
   "outputs": [
    {
     "data": {
      "text/html": [
       "<div>\n",
       "<style scoped>\n",
       "    .dataframe tbody tr th:only-of-type {\n",
       "        vertical-align: middle;\n",
       "    }\n",
       "\n",
       "    .dataframe tbody tr th {\n",
       "        vertical-align: top;\n",
       "    }\n",
       "\n",
       "    .dataframe thead th {\n",
       "        text-align: right;\n",
       "    }\n",
       "</style>\n",
       "<table border=\"1\" class=\"dataframe\">\n",
       "  <thead>\n",
       "    <tr style=\"text-align: right;\">\n",
       "      <th></th>\n",
       "      <th>text</th>\n",
       "      <th>toxic</th>\n",
       "    </tr>\n",
       "  </thead>\n",
       "  <tbody>\n",
       "    <tr>\n",
       "      <th>159290</th>\n",
       "      <td>And it looks like it was actually you who put ...</td>\n",
       "      <td>0</td>\n",
       "    </tr>\n",
       "    <tr>\n",
       "      <th>159291</th>\n",
       "      <td>\"\\nAnd ... I really don't think you understand...</td>\n",
       "      <td>0</td>\n",
       "    </tr>\n",
       "  </tbody>\n",
       "</table>\n",
       "</div>"
      ],
      "text/plain": [
       "                                                     text  toxic\n",
       "159290  And it looks like it was actually you who put ...      0\n",
       "159291  \"\\nAnd ... I really don't think you understand...      0"
      ]
     },
     "execution_count": 21,
     "metadata": {},
     "output_type": "execute_result"
    }
   ],
   "source": [
    "data.tail(2)"
   ]
  },
  {
   "cell_type": "markdown",
   "metadata": {},
   "source": [
    "- проведено **реиндексирование** датасета `data`"
   ]
  },
  {
   "cell_type": "markdown",
   "metadata": {},
   "source": [
    "#### Объявим функцию `lemm_and_clear` для очистки и лемматизации выражений"
   ]
  },
  {
   "cell_type": "code",
   "execution_count": 22,
   "metadata": {},
   "outputs": [],
   "source": [
    "nlp = spacy.load(\"en_core_web_sm\")"
   ]
  },
  {
   "cell_type": "code",
   "execution_count": 23,
   "metadata": {},
   "outputs": [],
   "source": [
    "def lemm_and_clear(text):\n",
    "    \n",
    "    # лемматизируем текст\n",
    "    \n",
    "    doc = nlp(text)\n",
    "    text = ' '.join([token.lemma_ for token in doc])\n",
    "\n",
    "    \n",
    "    # удалим небуквенные символы и лишние пробелы\n",
    "     \n",
    "    text = re.sub(r'[^a-zA-Z]', ' ', text)\n",
    "    text = re.sub(r'   ', ' ', text)\n",
    "    text = re.sub(r'   ', ' ', text)\n",
    "    text = re.sub(r'  ', ' ', text)\n",
    "    text = re.sub(r'  ', ' ', text)\n",
    "    \n",
    "   #  удалим пробелы в начале строки\n",
    "   \n",
    "    if text[0] == ' ':\n",
    "        text = text[1:len(text)]\n",
    "        \n",
    "    return text"
   ]
  },
  {
   "cell_type": "markdown",
   "metadata": {},
   "source": [
    "#### Проверим работу функции:"
   ]
  },
  {
   "cell_type": "code",
   "execution_count": 24,
   "metadata": {},
   "outputs": [
    {
     "data": {
      "text/plain": [
       "'you should be ashamed of yourself go work the stripe bat be hang on their foot for good'"
      ]
     },
     "execution_count": 24,
     "metadata": {},
     "output_type": "execute_result"
    }
   ],
   "source": [
    "lemm_and_clear(' You should  ?  be ashamed of yourself went worked, \\\n",
    "               The striped bats are hanging on their feet for best ')"
   ]
  },
  {
   "cell_type": "code",
   "execution_count": 25,
   "metadata": {},
   "outputs": [
    {
     "data": {
      "text/plain": [
       "'\"\\nAnd ... I really don\\'t think you understand.  I came here and my idea was bad right away.  What kind of community goes \"\"you have bad ideas\"\" go away, instead of helping rewrite them.   \"'"
      ]
     },
     "execution_count": 25,
     "metadata": {},
     "output_type": "execute_result"
    }
   ],
   "source": [
    "data.loc[len(data) - 1, 'text']"
   ]
  },
  {
   "cell_type": "code",
   "execution_count": 26,
   "metadata": {},
   "outputs": [
    {
     "data": {
      "text/plain": [
       "'and I really do n t think you understand I come here and my idea be bad right away what kind of community go you have bad idea go away instead of helping rewrite they '"
      ]
     },
     "execution_count": 26,
     "metadata": {},
     "output_type": "execute_result"
    }
   ],
   "source": [
    "lemm_and_clear(data.loc[len(data) - 1,'text'])"
   ]
  },
  {
   "cell_type": "markdown",
   "metadata": {},
   "source": [
    "- проверка показала корректную **лемматизацию** и **очистку** комментариев"
   ]
  },
  {
   "cell_type": "markdown",
   "metadata": {},
   "source": [
    "####  Лемматизируем и очистим комментарии"
   ]
  },
  {
   "cell_type": "code",
   "execution_count": 27,
   "metadata": {},
   "outputs": [],
   "source": [
    "tqdm.pandas()"
   ]
  },
  {
   "cell_type": "markdown",
   "metadata": {},
   "source": [
    "процесс занимает около 40 минут, поэтому файл создан один раз и записан на диск, потом читается с диска"
   ]
  },
  {
   "cell_type": "code",
   "execution_count": 28,
   "metadata": {},
   "outputs": [
    {
     "name": "stderr",
     "output_type": "stream",
     "text": [
      "100%|███████████████████████████████████| 159292/159292 [37:27<00:00, 70.88it/s]\n"
     ]
    }
   ],
   "source": [
    "data['lemm'] = data[\n",
    "    'text'].str.lower().progress_apply(\n",
    "    lemm_and_clear)"
   ]
  },
  {
   "cell_type": "code",
   "execution_count": 29,
   "metadata": {},
   "outputs": [
    {
     "data": {
      "text/html": [
       "<div>\n",
       "<style scoped>\n",
       "    .dataframe tbody tr th:only-of-type {\n",
       "        vertical-align: middle;\n",
       "    }\n",
       "\n",
       "    .dataframe tbody tr th {\n",
       "        vertical-align: top;\n",
       "    }\n",
       "\n",
       "    .dataframe thead th {\n",
       "        text-align: right;\n",
       "    }\n",
       "</style>\n",
       "<table border=\"1\" class=\"dataframe\">\n",
       "  <thead>\n",
       "    <tr style=\"text-align: right;\">\n",
       "      <th></th>\n",
       "      <th>text</th>\n",
       "      <th>toxic</th>\n",
       "      <th>lemm</th>\n",
       "    </tr>\n",
       "  </thead>\n",
       "  <tbody>\n",
       "    <tr>\n",
       "      <th>0</th>\n",
       "      <td>Explanation\\nWhy the edits made under my usern...</td>\n",
       "      <td>0</td>\n",
       "      <td>explanation why the edit make under my usernam...</td>\n",
       "    </tr>\n",
       "    <tr>\n",
       "      <th>1</th>\n",
       "      <td>D'aww! He matches this background colour I'm s...</td>\n",
       "      <td>0</td>\n",
       "      <td>d aww he match this background colour I be see...</td>\n",
       "    </tr>\n",
       "  </tbody>\n",
       "</table>\n",
       "</div>"
      ],
      "text/plain": [
       "                                                text  toxic  \\\n",
       "0  Explanation\\nWhy the edits made under my usern...      0   \n",
       "1  D'aww! He matches this background colour I'm s...      0   \n",
       "\n",
       "                                                lemm  \n",
       "0  explanation why the edit make under my usernam...  \n",
       "1  d aww he match this background colour I be see...  "
      ]
     },
     "metadata": {},
     "output_type": "display_data"
    },
    {
     "data": {
      "text/html": [
       "<div>\n",
       "<style scoped>\n",
       "    .dataframe tbody tr th:only-of-type {\n",
       "        vertical-align: middle;\n",
       "    }\n",
       "\n",
       "    .dataframe tbody tr th {\n",
       "        vertical-align: top;\n",
       "    }\n",
       "\n",
       "    .dataframe thead th {\n",
       "        text-align: right;\n",
       "    }\n",
       "</style>\n",
       "<table border=\"1\" class=\"dataframe\">\n",
       "  <thead>\n",
       "    <tr style=\"text-align: right;\">\n",
       "      <th></th>\n",
       "      <th>text</th>\n",
       "      <th>toxic</th>\n",
       "      <th>lemm</th>\n",
       "    </tr>\n",
       "  </thead>\n",
       "  <tbody>\n",
       "    <tr>\n",
       "      <th>159290</th>\n",
       "      <td>And it looks like it was actually you who put ...</td>\n",
       "      <td>0</td>\n",
       "      <td>and it look like it be actually you who put on...</td>\n",
       "    </tr>\n",
       "    <tr>\n",
       "      <th>159291</th>\n",
       "      <td>\"\\nAnd ... I really don't think you understand...</td>\n",
       "      <td>0</td>\n",
       "      <td>and I really do n t think you understand I com...</td>\n",
       "    </tr>\n",
       "  </tbody>\n",
       "</table>\n",
       "</div>"
      ],
      "text/plain": [
       "                                                     text  toxic  \\\n",
       "159290  And it looks like it was actually you who put ...      0   \n",
       "159291  \"\\nAnd ... I really don't think you understand...      0   \n",
       "\n",
       "                                                     lemm  \n",
       "159290  and it look like it be actually you who put on...  \n",
       "159291  and I really do n t think you understand I com...  "
      ]
     },
     "metadata": {},
     "output_type": "display_data"
    },
    {
     "data": {
      "text/plain": [
       "(159292, 3)"
      ]
     },
     "metadata": {},
     "output_type": "display_data"
    }
   ],
   "source": [
    "display(data.head(2), data.tail(2), data.shape)"
   ]
  },
  {
   "cell_type": "markdown",
   "metadata": {},
   "source": [
    "- комментарии **лемматизированы** и **очищены**"
   ]
  },
  {
   "cell_type": "markdown",
   "metadata": {},
   "source": [
    "#### Сохраним лемматизированные данные на диске в файле `lemm_data.csv`"
   ]
  },
  {
   "cell_type": "code",
   "execution_count": 30,
   "metadata": {},
   "outputs": [],
   "source": [
    "data.to_csv('lemm_data.csv', index = True)"
   ]
  },
  {
   "cell_type": "markdown",
   "metadata": {},
   "source": [
    "#### Восстановим данные с диска "
   ]
  },
  {
   "cell_type": "code",
   "execution_count": 31,
   "metadata": {
    "scrolled": true
   },
   "outputs": [
    {
     "name": "stdout",
     "output_type": "stream",
     "text": [
      "Loaded: lemm_data.csv\n"
     ]
    }
   ],
   "source": [
    "path_1 = 'lemm_data.csv'\n",
    "path_2 = '/home/beerbear/lemm_data.csv'\n",
    "path_3 = '/home/beerbear/Загрузки/Lemmatization/lemm_data.csv'\n",
    "\n",
    "\n",
    "if os.path.exists(path_1):\n",
    "    data = pd.read_csv(path_1, index_col=[0])\n",
    "    print('Loaded:', path_1)\n",
    "\n",
    "elif os.path.exists(path_2):\n",
    "    data = pd.read_csv(path_2, index_col=[0])\n",
    "    print('Loaded:', path_2)\n",
    "    \n",
    "elif os.path.exists(path_3):\n",
    "    data = pd.read_csv(path_3, index_col=[0])\n",
    "    print('Loaded:', path_3)\n",
    "\n",
    "else:\n",
    "    print('Файл не найден, проверьте путь')\n",
    "    "
   ]
  },
  {
   "cell_type": "code",
   "execution_count": 32,
   "metadata": {},
   "outputs": [
    {
     "data": {
      "text/html": [
       "<div>\n",
       "<style scoped>\n",
       "    .dataframe tbody tr th:only-of-type {\n",
       "        vertical-align: middle;\n",
       "    }\n",
       "\n",
       "    .dataframe tbody tr th {\n",
       "        vertical-align: top;\n",
       "    }\n",
       "\n",
       "    .dataframe thead th {\n",
       "        text-align: right;\n",
       "    }\n",
       "</style>\n",
       "<table border=\"1\" class=\"dataframe\">\n",
       "  <thead>\n",
       "    <tr style=\"text-align: right;\">\n",
       "      <th></th>\n",
       "      <th>text</th>\n",
       "      <th>toxic</th>\n",
       "      <th>lemm</th>\n",
       "    </tr>\n",
       "  </thead>\n",
       "  <tbody>\n",
       "    <tr>\n",
       "      <th>0</th>\n",
       "      <td>Explanation\\nWhy the edits made under my usern...</td>\n",
       "      <td>0</td>\n",
       "      <td>explanation why the edit make under my usernam...</td>\n",
       "    </tr>\n",
       "    <tr>\n",
       "      <th>1</th>\n",
       "      <td>D'aww! He matches this background colour I'm s...</td>\n",
       "      <td>0</td>\n",
       "      <td>d aww he match this background colour I be see...</td>\n",
       "    </tr>\n",
       "  </tbody>\n",
       "</table>\n",
       "</div>"
      ],
      "text/plain": [
       "                                                text  toxic  \\\n",
       "0  Explanation\\nWhy the edits made under my usern...      0   \n",
       "1  D'aww! He matches this background colour I'm s...      0   \n",
       "\n",
       "                                                lemm  \n",
       "0  explanation why the edit make under my usernam...  \n",
       "1  d aww he match this background colour I be see...  "
      ]
     },
     "metadata": {},
     "output_type": "display_data"
    },
    {
     "data": {
      "text/html": [
       "<div>\n",
       "<style scoped>\n",
       "    .dataframe tbody tr th:only-of-type {\n",
       "        vertical-align: middle;\n",
       "    }\n",
       "\n",
       "    .dataframe tbody tr th {\n",
       "        vertical-align: top;\n",
       "    }\n",
       "\n",
       "    .dataframe thead th {\n",
       "        text-align: right;\n",
       "    }\n",
       "</style>\n",
       "<table border=\"1\" class=\"dataframe\">\n",
       "  <thead>\n",
       "    <tr style=\"text-align: right;\">\n",
       "      <th></th>\n",
       "      <th>text</th>\n",
       "      <th>toxic</th>\n",
       "      <th>lemm</th>\n",
       "    </tr>\n",
       "  </thead>\n",
       "  <tbody>\n",
       "    <tr>\n",
       "      <th>159290</th>\n",
       "      <td>And it looks like it was actually you who put ...</td>\n",
       "      <td>0</td>\n",
       "      <td>and it look like it be actually you who put on...</td>\n",
       "    </tr>\n",
       "    <tr>\n",
       "      <th>159291</th>\n",
       "      <td>\"\\nAnd ... I really don't think you understand...</td>\n",
       "      <td>0</td>\n",
       "      <td>and I really do n t think you understand I com...</td>\n",
       "    </tr>\n",
       "  </tbody>\n",
       "</table>\n",
       "</div>"
      ],
      "text/plain": [
       "                                                     text  toxic  \\\n",
       "159290  And it looks like it was actually you who put ...      0   \n",
       "159291  \"\\nAnd ... I really don't think you understand...      0   \n",
       "\n",
       "                                                     lemm  \n",
       "159290  and it look like it be actually you who put on...  \n",
       "159291  and I really do n t think you understand I com...  "
      ]
     },
     "metadata": {},
     "output_type": "display_data"
    },
    {
     "data": {
      "text/plain": [
       "(159292, 3)"
      ]
     },
     "metadata": {},
     "output_type": "display_data"
    }
   ],
   "source": [
    "display(data.head(2), data.tail(2), data.shape)"
   ]
  },
  {
   "cell_type": "markdown",
   "metadata": {},
   "source": [
    "- создан и записан на диск датасет `lemm_data`, содержащий **лемматизированные и очищенные** от символов комментарии пользователей и целевой признак"
   ]
  },
  {
   "cell_type": "markdown",
   "metadata": {},
   "source": [
    "#### Загрузим перечень не значащих слов для английского языка"
   ]
  },
  {
   "cell_type": "code",
   "execution_count": 33,
   "metadata": {
    "scrolled": false
   },
   "outputs": [
    {
     "name": "stderr",
     "output_type": "stream",
     "text": [
      "[nltk_data] Downloading package stopwords to\n",
      "[nltk_data]     /home/beerbear/nltk_data...\n",
      "[nltk_data]   Package stopwords is already up-to-date!\n"
     ]
    }
   ],
   "source": [
    "nltk.download('stopwords')\n",
    "stopwords = set(stopwords.words('english'))"
   ]
  },
  {
   "cell_type": "markdown",
   "metadata": {},
   "source": [
    "#### Создадим из `data` корпус из лемматизированных фраз и массив целевого признака"
   ]
  },
  {
   "cell_type": "code",
   "execution_count": 34,
   "metadata": {},
   "outputs": [],
   "source": [
    "corpus = data['lemm'].values.astype('U')\n",
    "target = data['toxic']"
   ]
  },
  {
   "cell_type": "code",
   "execution_count": 35,
   "metadata": {},
   "outputs": [
    {
     "data": {
      "text/plain": [
       "'explanation why the edit make under my username hardcore metallica fan be revert they be n t vandalism just closure on some gas after I vote at new york dolls fac and please do n t remove the template from the talk page since I be retire now '"
      ]
     },
     "metadata": {},
     "output_type": "display_data"
    },
    {
     "data": {
      "text/plain": [
       "'and I really do n t think you understand I come here and my idea be bad right away what kind of community go you have bad idea go away instead of helping rewrite they '"
      ]
     },
     "metadata": {},
     "output_type": "display_data"
    },
    {
     "data": {
      "text/plain": [
       "(159292,)"
      ]
     },
     "metadata": {},
     "output_type": "display_data"
    },
    {
     "data": {
      "text/plain": [
       "0    0\n",
       "1    0\n",
       "Name: toxic, dtype: int64"
      ]
     },
     "metadata": {},
     "output_type": "display_data"
    },
    {
     "data": {
      "text/plain": [
       "159290    0\n",
       "159291    0\n",
       "Name: toxic, dtype: int64"
      ]
     },
     "metadata": {},
     "output_type": "display_data"
    },
    {
     "data": {
      "text/plain": [
       "(159292,)"
      ]
     },
     "metadata": {},
     "output_type": "display_data"
    }
   ],
   "source": [
    "display(corpus[0], corpus[len(corpus)-1], corpus.shape)\n",
    "display(target.head(2), target.tail(2), target.shape)"
   ]
  },
  {
   "cell_type": "code",
   "execution_count": 36,
   "metadata": {},
   "outputs": [],
   "source": [
    "del data"
   ]
  },
  {
   "cell_type": "markdown",
   "metadata": {},
   "source": [
    "- из датафрейма `data` **созданы** корпус **лемматизированных и очищенных** комментариев и массив **целевого** признака"
   ]
  },
  {
   "cell_type": "markdown",
   "metadata": {},
   "source": [
    "  "
   ]
  },
  {
   "cell_type": "markdown",
   "metadata": {},
   "source": [
    "#### Разделим корпус и массив целевого признака на обучающую и тестовую выборки"
   ]
  },
  {
   "cell_type": "code",
   "execution_count": 37,
   "metadata": {},
   "outputs": [],
   "source": [
    "corpus_train, corpus_test, \\\n",
    "target_train, target_test = train_test_split(corpus, target,\n",
    "    random_state = 270923,\n",
    "    shuffle = True,\n",
    "    test_size = 0.25)"
   ]
  },
  {
   "cell_type": "code",
   "execution_count": 38,
   "metadata": {},
   "outputs": [
    {
     "name": "stdout",
     "output_type": "stream",
     "text": [
      "(119469,) 0.75\n",
      "(39823,) 0.25\n",
      "(119469,)\n",
      "(39823,)\n"
     ]
    }
   ],
   "source": [
    "print(corpus_train.shape, round(target_train.shape[0]/corpus.shape[0], 2))\n",
    "print(corpus_test.shape, round(target_test.shape[0]/corpus.shape[0], 2))\n",
    "print(target_train.shape)\n",
    "print(target_test.shape)"
   ]
  },
  {
   "cell_type": "code",
   "execution_count": 39,
   "metadata": {},
   "outputs": [],
   "source": [
    "del corpus"
   ]
  },
  {
   "cell_type": "markdown",
   "metadata": {},
   "source": [
    "### Заключение по результатам обработки исходных данных и подготовке признаков для моделирования"
   ]
  },
  {
   "cell_type": "markdown",
   "metadata": {},
   "source": [
    "- созданы **корпуса лемматизированных и очищенных фраз** для создания обучающей и тестовой выборок признаков для обучения и тестирования моделей, а таже обучающая и тестовая выборки **целевого** признака\n",
    "- размер **обучающей** выборки 75% от датасета, размер **тестовой** - 25%"
   ]
  },
  {
   "cell_type": "markdown",
   "metadata": {},
   "source": [
    "## Обучение"
   ]
  },
  {
   "cell_type": "markdown",
   "metadata": {},
   "source": [
    "### Обучим и протестируем модель `LogisticRegression` методом `кросс-валидации`"
   ]
  },
  {
   "cell_type": "markdown",
   "metadata": {},
   "source": [
    "#### Зададим неизменяемые гиперпараметры модели"
   ]
  },
  {
   "cell_type": "code",
   "execution_count": 40,
   "metadata": {},
   "outputs": [],
   "source": [
    "lr_model = LogisticRegression(\n",
    "    solver = 'lbfgs', # 'lbfgs', на saga уходит в вечность, 1 шаг 74 минуты\n",
    "    penalty= 'l2', #'elasticnet', для saga\n",
    "    warm_start = True,\n",
    "    random_state = 270923,\n",
    "    class_weight = 'balanced',\n",
    "    n_jobs = -1, \n",
    "    max_iter = 1000)"
   ]
  },
  {
   "cell_type": "markdown",
   "metadata": {},
   "source": [
    "#### Зададим векторайзер"
   ]
  },
  {
   "cell_type": "code",
   "execution_count": 41,
   "metadata": {},
   "outputs": [],
   "source": [
    "count_tf_idf = TfidfVectorizer(stop_words=stopwords)"
   ]
  },
  {
   "cell_type": "markdown",
   "metadata": {},
   "source": [
    "#### Объявим шаги, которые будут исполняться в `Pipline`"
   ]
  },
  {
   "cell_type": "code",
   "execution_count": 42,
   "metadata": {},
   "outputs": [],
   "source": [
    "lr_pipe = Pipeline(steps=[\n",
    "   (\"vectorizer\", count_tf_idf),\n",
    "   (\"estimator\", lr_model)])"
   ]
  },
  {
   "cell_type": "markdown",
   "metadata": {},
   "source": [
    "#### Зададим диапазоны гиперпараметров для поиска оптимальной метрики `f1` методом `кросс-валидации`"
   ]
  },
  {
   "cell_type": "code",
   "execution_count": 43,
   "metadata": {},
   "outputs": [],
   "source": [
    "lr_param_grid = {\n",
    "    \"vectorizer__min_df\": [1], # 1, 2, 6],\n",
    "    #\"estimator__l1_ratio\": [0.1, 0.15, 0.5],\n",
    "    \"estimator__C\": [7.2] # 1 - 10\n",
    "}"
   ]
  },
  {
   "cell_type": "markdown",
   "metadata": {},
   "source": [
    "#### Объявим функцию поиска оптимальных гиперпараметров"
   ]
  },
  {
   "cell_type": "code",
   "execution_count": 44,
   "metadata": {
    "scrolled": true
   },
   "outputs": [],
   "source": [
    "lr_search = GridSearchCV(\n",
    "    lr_pipe, \n",
    "    lr_param_grid,\n",
    "    n_jobs= -1,\n",
    "    scoring = 'f1',\n",
    "    cv = 5,\n",
    "    verbose = 10\n",
    ")"
   ]
  },
  {
   "cell_type": "markdown",
   "metadata": {},
   "source": [
    "#### Проведем поиск оптимальных гиперпараметров"
   ]
  },
  {
   "cell_type": "code",
   "execution_count": 45,
   "metadata": {
    "scrolled": true
   },
   "outputs": [
    {
     "name": "stdout",
     "output_type": "stream",
     "text": [
      "Fitting 5 folds for each of 1 candidates, totalling 5 fits\n"
     ]
    },
    {
     "name": "stderr",
     "output_type": "stream",
     "text": [
      "[Parallel(n_jobs=-1)]: Using backend LokyBackend with 8 concurrent workers.\n",
      "[Parallel(n_jobs=-1)]: Done   2 out of   5 | elapsed:   52.9s remaining:  1.3min\n",
      "[Parallel(n_jobs=-1)]: Done   3 out of   5 | elapsed:   54.2s remaining:   36.2s\n",
      "[Parallel(n_jobs=-1)]: Done   5 out of   5 | elapsed:   58.1s remaining:    0.0s\n",
      "[Parallel(n_jobs=-1)]: Done   5 out of   5 | elapsed:   58.1s finished\n"
     ]
    },
    {
     "data": {
      "text/plain": [
       "GridSearchCV(cv=5,\n",
       "             estimator=Pipeline(steps=[('vectorizer',\n",
       "                                        TfidfVectorizer(stop_words={'a',\n",
       "                                                                    'about',\n",
       "                                                                    'above',\n",
       "                                                                    'after',\n",
       "                                                                    'again',\n",
       "                                                                    'against',\n",
       "                                                                    'ain',\n",
       "                                                                    'all', 'am',\n",
       "                                                                    'an', 'and',\n",
       "                                                                    'any',\n",
       "                                                                    'are',\n",
       "                                                                    'aren',\n",
       "                                                                    \"aren't\",\n",
       "                                                                    'as', 'at',\n",
       "                                                                    'be',\n",
       "                                                                    'because',\n",
       "                                                                    'been',\n",
       "                                                                    'before',\n",
       "                                                                    'being',\n",
       "                                                                    'below',\n",
       "                                                                    'between',\n",
       "                                                                    'both',\n",
       "                                                                    'but', 'by',\n",
       "                                                                    'can',\n",
       "                                                                    'couldn',\n",
       "                                                                    \"couldn't\", ...})),\n",
       "                                       ('estimator',\n",
       "                                        LogisticRegression(class_weight='balanced',\n",
       "                                                           max_iter=1000,\n",
       "                                                           n_jobs=-1,\n",
       "                                                           random_state=270923,\n",
       "                                                           warm_start=True))]),\n",
       "             n_jobs=-1,\n",
       "             param_grid={'estimator__C': [7.2], 'vectorizer__min_df': [1]},\n",
       "             scoring='f1', verbose=10)"
      ]
     },
     "execution_count": 45,
     "metadata": {},
     "output_type": "execute_result"
    }
   ],
   "source": [
    "lr_search.fit(corpus_train, target_train)"
   ]
  },
  {
   "cell_type": "code",
   "execution_count": 46,
   "metadata": {},
   "outputs": [
    {
     "name": "stdout",
     "output_type": "stream",
     "text": [
      "\n",
      "Лучшее полученное методом кросс-валидации \n",
      " значение метрики f1 = 0.7645: найдено при следующих параметрах\n",
      "{'estimator__C': 7.2, 'vectorizer__min_df': 1}\n"
     ]
    }
   ],
   "source": [
    "print(\"\\nЛучшее полученное методом кросс-валидации \\n \\\n",
    "значение метрики f1 = %0.4f:\" % lr_search.best_score_,\n",
    "\"найдено при следующих параметрах\")\n",
    "print(lr_search.best_params_)"
   ]
  },
  {
   "cell_type": "markdown",
   "metadata": {},
   "source": [
    "- полученное методом кросс-валидации значение метрики `f1` модели `LogisticRegression` составляет **0.7645**, модель **соответствует** требованиям задания (значение метрики `f1` должно быть не хуже 0.75)"
   ]
  },
  {
   "cell_type": "markdown",
   "metadata": {},
   "source": [
    "### Обучим и протестируем модель `SGDClassifier` методом `кросс-валидации`"
   ]
  },
  {
   "cell_type": "markdown",
   "metadata": {},
   "source": [
    "#### Зададим неизменяемые гиперпараметры модели"
   ]
  },
  {
   "cell_type": "code",
   "execution_count": 47,
   "metadata": {},
   "outputs": [],
   "source": [
    "sgd_model = SGDClassifier(\n",
    "    warm_start = True,\n",
    "    penalty = 'elasticnet',\n",
    "    random_state = 270923,\n",
    "    class_weight = 'balanced',\n",
    "    n_jobs = -1, \n",
    "    max_iter = 2000,\n",
    "    early_stopping=True,)\n",
    "    #tol = 0.00001)"
   ]
  },
  {
   "cell_type": "markdown",
   "metadata": {},
   "source": [
    "#### Объявим шаги, которые будут исполняться в `Pipline`"
   ]
  },
  {
   "cell_type": "code",
   "execution_count": 48,
   "metadata": {},
   "outputs": [],
   "source": [
    "sgd_pipe = Pipeline(steps=[\n",
    "   (\"vectorizer\", count_tf_idf),\n",
    "   (\"estimator\", sgd_model)])"
   ]
  },
  {
   "cell_type": "markdown",
   "metadata": {},
   "source": [
    "#### Зададим диапазоны гиперпараметров для поиска оптимальнлй метрики `f1` методом `кросс-валидации`"
   ]
  },
  {
   "cell_type": "code",
   "execution_count": 49,
   "metadata": {},
   "outputs": [],
   "source": [
    "sgd_param_grid = {\n",
    "    \"vectorizer__min_df\": [3], # 2, 3, 6],\n",
    "    \"estimator__l1_ratio\": [0.64], # 0.1 - 1.0\n",
    "    #\"estimator__C\": [7.2] # 1 - 10\n",
    "}"
   ]
  },
  {
   "cell_type": "markdown",
   "metadata": {},
   "source": [
    "#### Объявим функцию поиска оптимальных гиперпараметров"
   ]
  },
  {
   "cell_type": "code",
   "execution_count": 50,
   "metadata": {
    "scrolled": true
   },
   "outputs": [],
   "source": [
    "sgd_search = GridSearchCV(\n",
    "    sgd_pipe, \n",
    "    sgd_param_grid,\n",
    "    n_jobs=-1,\n",
    "    scoring = 'f1',\n",
    "    cv = 5,\n",
    "    verbose = 10\n",
    ")"
   ]
  },
  {
   "cell_type": "markdown",
   "metadata": {},
   "source": [
    "#### Проведем поиск оптимальных гиперпараметров"
   ]
  },
  {
   "cell_type": "code",
   "execution_count": 51,
   "metadata": {
    "scrolled": true
   },
   "outputs": [
    {
     "name": "stdout",
     "output_type": "stream",
     "text": [
      "Fitting 5 folds for each of 1 candidates, totalling 5 fits\n"
     ]
    },
    {
     "name": "stderr",
     "output_type": "stream",
     "text": [
      "[Parallel(n_jobs=-1)]: Using backend LokyBackend with 8 concurrent workers.\n",
      "[Parallel(n_jobs=-1)]: Done   2 out of   5 | elapsed:   15.5s remaining:   23.3s\n",
      "[Parallel(n_jobs=-1)]: Done   3 out of   5 | elapsed:   16.4s remaining:   10.9s\n",
      "[Parallel(n_jobs=-1)]: Done   5 out of   5 | elapsed:   17.3s remaining:    0.0s\n",
      "[Parallel(n_jobs=-1)]: Done   5 out of   5 | elapsed:   17.3s finished\n"
     ]
    },
    {
     "data": {
      "text/plain": [
       "GridSearchCV(cv=5,\n",
       "             estimator=Pipeline(steps=[('vectorizer',\n",
       "                                        TfidfVectorizer(stop_words={'a',\n",
       "                                                                    'about',\n",
       "                                                                    'above',\n",
       "                                                                    'after',\n",
       "                                                                    'again',\n",
       "                                                                    'against',\n",
       "                                                                    'ain',\n",
       "                                                                    'all', 'am',\n",
       "                                                                    'an', 'and',\n",
       "                                                                    'any',\n",
       "                                                                    'are',\n",
       "                                                                    'aren',\n",
       "                                                                    \"aren't\",\n",
       "                                                                    'as', 'at',\n",
       "                                                                    'be',\n",
       "                                                                    'because',\n",
       "                                                                    'been',\n",
       "                                                                    'before',\n",
       "                                                                    'being',\n",
       "                                                                    'below',\n",
       "                                                                    'between',\n",
       "                                                                    'both',\n",
       "                                                                    'but', 'by',\n",
       "                                                                    'can',\n",
       "                                                                    'couldn',\n",
       "                                                                    \"couldn't\", ...})),\n",
       "                                       ('estimator',\n",
       "                                        SGDClassifier(class_weight='balanced',\n",
       "                                                      early_stopping=True,\n",
       "                                                      max_iter=2000, n_jobs=-1,\n",
       "                                                      penalty='elasticnet',\n",
       "                                                      random_state=270923,\n",
       "                                                      warm_start=True))]),\n",
       "             n_jobs=-1,\n",
       "             param_grid={'estimator__l1_ratio': [0.64],\n",
       "                         'vectorizer__min_df': [3]},\n",
       "             scoring='f1', verbose=10)"
      ]
     },
     "execution_count": 51,
     "metadata": {},
     "output_type": "execute_result"
    }
   ],
   "source": [
    "sgd_search.fit(corpus_train, target_train)"
   ]
  },
  {
   "cell_type": "code",
   "execution_count": 52,
   "metadata": {
    "scrolled": true
   },
   "outputs": [
    {
     "name": "stdout",
     "output_type": "stream",
     "text": [
      "\n",
      "Лучшее полученное методом кросс-валидации \n",
      " значение метрики f1 =0.7448: найдено при следующих параметрах\n",
      "{'estimator__l1_ratio': 0.64, 'vectorizer__min_df': 3}\n"
     ]
    }
   ],
   "source": [
    "print(\"\\nЛучшее полученное методом кросс-валидации \\n \\\n",
    "значение метрики f1 =%0.4f:\" % sgd_search.best_score_,\n",
    "\"найдено при следующих параметрах\")\n",
    "print(sgd_search.best_params_)"
   ]
  },
  {
   "cell_type": "markdown",
   "metadata": {},
   "source": [
    "- полученное методом кросс-валидации значение метрики `f1` модели `SGDClassifier` составляет **0.7448**, модель **не соответствует** требованиям задания (значение метрики `f1` должно быть не хуже 0.75),  модель `SGDClassifier` исключается из дальнейшего тестирования"
   ]
  },
  {
   "cell_type": "markdown",
   "metadata": {},
   "source": [
    "### Обучим, подберем гиперпараметры и протестируем методом `кросс-валидации`  модель `RandomForestClassifier`"
   ]
  },
  {
   "cell_type": "markdown",
   "metadata": {},
   "source": [
    "#### Зададим неизменяемые гиперпараметры модели"
   ]
  },
  {
   "cell_type": "code",
   "execution_count": 53,
   "metadata": {},
   "outputs": [],
   "source": [
    "rfc_model = RandomForestClassifier(\n",
    "    random_state = 270923,\n",
    "    n_jobs = -1,\n",
    "    class_weight = 'balanced')           "
   ]
  },
  {
   "cell_type": "markdown",
   "metadata": {},
   "source": [
    "#### Объявим шаги, которые будут исполняться в `Pipline`"
   ]
  },
  {
   "cell_type": "code",
   "execution_count": 54,
   "metadata": {},
   "outputs": [],
   "source": [
    "rfc_pipe = Pipeline(steps=[\n",
    "   (\"vectorizer\", count_tf_idf),\n",
    "   (\"estimator\", rfc_model)])"
   ]
  },
  {
   "cell_type": "markdown",
   "metadata": {},
   "source": [
    "#### Зададим диапазоны гиперпараметров для поиска оптимальнлй метрики `f1` методом `кросс-валидации`"
   ]
  },
  {
   "cell_type": "code",
   "execution_count": 55,
   "metadata": {},
   "outputs": [],
   "source": [
    "rfc_param_grid = {\n",
    "        'vectorizer__min_df': [7], # 1 - 10\n",
    "        'estimator__n_estimators': [200], # 150 [1 - 350], после 100 улучшение несущественное\n",
    "        'estimator__max_depth': [400], # 400 [1 - 500],\n",
    "        'estimator__min_samples_leaf': [1], #19   [1 - 30]\n",
    "        'estimator__min_samples_split': [57] #57 [2 - 50]\n",
    "    }"
   ]
  },
  {
   "cell_type": "markdown",
   "metadata": {},
   "source": [
    "#### Объявим функцию поиска оптимальных гиперпараметров"
   ]
  },
  {
   "cell_type": "code",
   "execution_count": 56,
   "metadata": {},
   "outputs": [],
   "source": [
    "rfc_search = GridSearchCV(\n",
    "                 rfc_pipe, \n",
    "                 rfc_param_grid, \n",
    "                 cv = 5, \n",
    "                 n_jobs = -1,\n",
    "                 scoring = 'f1',\n",
    "                 verbose = 10)"
   ]
  },
  {
   "cell_type": "markdown",
   "metadata": {},
   "source": [
    "#### Проведем поиск оптимальных гиперпараметров"
   ]
  },
  {
   "cell_type": "code",
   "execution_count": 57,
   "metadata": {
    "scrolled": true
   },
   "outputs": [
    {
     "name": "stdout",
     "output_type": "stream",
     "text": [
      "Fitting 5 folds for each of 1 candidates, totalling 5 fits\n"
     ]
    },
    {
     "name": "stderr",
     "output_type": "stream",
     "text": [
      "[Parallel(n_jobs=-1)]: Using backend LokyBackend with 8 concurrent workers.\n"
     ]
    },
    {
     "name": "stdout",
     "output_type": "stream",
     "text": [
      "[CV] estimator__C=7.2, vectorizer__min_df=1 ..........................\n",
      "[CV]  estimator__C=7.2, vectorizer__min_df=1, score=0.752, total=  48.5s\n",
      "[CV] estimator__l1_ratio=0.64, vectorizer__min_df=3 ..................\n",
      "[CV]  estimator__l1_ratio=0.64, vectorizer__min_df=3, score=0.739, total=  15.1s\n",
      "[CV] estimator__l1_ratio=0.64, vectorizer__min_df=3 ..................\n",
      "[CV]  estimator__l1_ratio=0.64, vectorizer__min_df=3, score=0.753, total=  13.6s\n",
      "[CV] estimator__l1_ratio=0.64, vectorizer__min_df=3 ..................\n",
      "[CV]  estimator__l1_ratio=0.64, vectorizer__min_df=3, score=0.747, total=  14.5s\n"
     ]
    },
    {
     "name": "stderr",
     "output_type": "stream",
     "text": [
      "[Parallel(n_jobs=-1)]: Done   2 out of   5 | elapsed:  4.7min remaining:  7.1min\n",
      "[Parallel(n_jobs=-1)]: Done   3 out of   5 | elapsed:  4.8min remaining:  3.2min\n",
      "[Parallel(n_jobs=-1)]: Done   5 out of   5 | elapsed:  4.8min remaining:    0.0s\n",
      "[Parallel(n_jobs=-1)]: Done   5 out of   5 | elapsed:  4.8min finished\n"
     ]
    },
    {
     "data": {
      "text/plain": [
       "GridSearchCV(cv=5,\n",
       "             estimator=Pipeline(steps=[('vectorizer',\n",
       "                                        TfidfVectorizer(stop_words={'a',\n",
       "                                                                    'about',\n",
       "                                                                    'above',\n",
       "                                                                    'after',\n",
       "                                                                    'again',\n",
       "                                                                    'against',\n",
       "                                                                    'ain',\n",
       "                                                                    'all', 'am',\n",
       "                                                                    'an', 'and',\n",
       "                                                                    'any',\n",
       "                                                                    'are',\n",
       "                                                                    'aren',\n",
       "                                                                    \"aren't\",\n",
       "                                                                    'as', 'at',\n",
       "                                                                    'be',\n",
       "                                                                    'because',\n",
       "                                                                    'been',\n",
       "                                                                    'before',\n",
       "                                                                    'being',\n",
       "                                                                    'below',\n",
       "                                                                    'between',\n",
       "                                                                    'both',\n",
       "                                                                    'but', 'by',\n",
       "                                                                    'can',\n",
       "                                                                    'couldn',\n",
       "                                                                    \"couldn't\", ...})),\n",
       "                                       ('estimator',\n",
       "                                        RandomForestClassifier(class_weight='balanced',\n",
       "                                                               n_jobs=-1,\n",
       "                                                               random_state=270923))]),\n",
       "             n_jobs=-1,\n",
       "             param_grid={'estimator__max_depth': [400],\n",
       "                         'estimator__min_samples_leaf': [1],\n",
       "                         'estimator__min_samples_split': [57],\n",
       "                         'estimator__n_estimators': [200],\n",
       "                         'vectorizer__min_df': [7]},\n",
       "             scoring='f1', verbose=10)"
      ]
     },
     "execution_count": 57,
     "metadata": {},
     "output_type": "execute_result"
    }
   ],
   "source": [
    "rfc_search.fit(corpus_train, target_train)"
   ]
  },
  {
   "cell_type": "code",
   "execution_count": 58,
   "metadata": {
    "scrolled": true
   },
   "outputs": [
    {
     "name": "stdout",
     "output_type": "stream",
     "text": [
      "\n",
      "Лучшее полученное методом кросс-валидации \n",
      " значение метрики f1 = 0.7236: найдено при следующих параметрах\n",
      "{'estimator__max_depth': 400, 'estimator__min_samples_leaf': 1, 'estimator__min_samples_split': 57, 'estimator__n_estimators': 200, 'vectorizer__min_df': 7}\n"
     ]
    }
   ],
   "source": [
    "print(\"\\nЛучшее полученное методом кросс-валидации \\n \\\n",
    "значение метрики f1 = %0.4f:\" % rfc_search.best_score_,\n",
    "\"найдено при следующих параметрах\")\n",
    "print(rfc_search.best_params_)"
   ]
  },
  {
   "cell_type": "markdown",
   "metadata": {},
   "source": [
    "- **наилучшее** полученное методом кросс-валидации значение метрики `f1` модели `RandomForestClassifier` составляет **0.7236**, что **не соответствует** требованиям задания, модель `RandomForestClassifier` исключается из дальнейшего тестирования"
   ]
  },
  {
   "cell_type": "markdown",
   "metadata": {},
   "source": [
    "   "
   ]
  },
  {
   "cell_type": "markdown",
   "metadata": {},
   "source": [
    "### Обучим, подберем гиперпараметры и протестируем методом `кросс-валидации` модель `LGBMClassifier`"
   ]
  },
  {
   "cell_type": "markdown",
   "metadata": {},
   "source": [
    "#### Зададим неизменяемые гиперпараметры модели"
   ]
  },
  {
   "cell_type": "code",
   "execution_count": 59,
   "metadata": {},
   "outputs": [],
   "source": [
    "lgb_model = LGBMClassifier(\n",
    "    random_state = 270923,\n",
    "    n_jobs = -1,\n",
    "    verbose = -1,\n",
    "    class_weight = 'balanced',\n",
    "    force_row_wise=True)"
   ]
  },
  {
   "cell_type": "markdown",
   "metadata": {},
   "source": [
    "#### Зададим векторайзер"
   ]
  },
  {
   "cell_type": "code",
   "execution_count": 60,
   "metadata": {},
   "outputs": [],
   "source": [
    "count_tf_idf = TfidfVectorizer(stop_words=stopwords)"
   ]
  },
  {
   "cell_type": "markdown",
   "metadata": {},
   "source": [
    "#### Объявим шаги, которые будут исполняться в `Pipline`"
   ]
  },
  {
   "cell_type": "code",
   "execution_count": 61,
   "metadata": {},
   "outputs": [],
   "source": [
    "lgb_pipe = Pipeline(steps=[\n",
    "   (\"vectorizer\", count_tf_idf),\n",
    "   (\"estimator\", lgb_model)])"
   ]
  },
  {
   "cell_type": "markdown",
   "metadata": {},
   "source": [
    "#### Зададим диапазоны гиперпараметров для поиска оптимальнлй метрики `f1` методом `кросс-валидации`"
   ]
  },
  {
   "cell_type": "code",
   "execution_count": 62,
   "metadata": {},
   "outputs": [],
   "source": [
    "lgb_param_grid = {\n",
    "        'vectorizer__min_df': [1], # 1, [1-10],\n",
    "        'estimator__learning_rate': [0.5],   # 0.5 [0.01 - 0.9]\n",
    "        'estimator__n_estimators': [150], # 110 [1 - 350],\n",
    "        'estimator__max_depth': [30], # 30 [2 - 100],\n",
    "        'estimator__num_leaves': [50], # 50 [2 - 75]\n",
    "    }"
   ]
  },
  {
   "cell_type": "markdown",
   "metadata": {},
   "source": [
    "#### Объявим функцию поиска оптимальных гиперпараметров"
   ]
  },
  {
   "cell_type": "code",
   "execution_count": 63,
   "metadata": {},
   "outputs": [],
   "source": [
    "lgb_search = GridSearchCV(\n",
    "                 lgb_pipe, \n",
    "                 lgb_param_grid, \n",
    "                 cv = 5, \n",
    "                 n_jobs = -1,\n",
    "                 scoring = 'f1',\n",
    "                 verbose = 10)"
   ]
  },
  {
   "cell_type": "markdown",
   "metadata": {},
   "source": [
    "#### Проведем поиск оптимальных гиперпараметров"
   ]
  },
  {
   "cell_type": "code",
   "execution_count": 64,
   "metadata": {
    "scrolled": true
   },
   "outputs": [
    {
     "name": "stdout",
     "output_type": "stream",
     "text": [
      "Fitting 5 folds for each of 1 candidates, totalling 5 fits\n"
     ]
    },
    {
     "name": "stderr",
     "output_type": "stream",
     "text": [
      "[Parallel(n_jobs=-1)]: Using backend LokyBackend with 8 concurrent workers.\n"
     ]
    },
    {
     "name": "stdout",
     "output_type": "stream",
     "text": [
      "[CV] estimator__max_depth=400, estimator__min_samples_leaf=1, estimator__min_samples_split=57, estimator__n_estimators=200, vectorizer__min_df=7 \n",
      "[CV]  estimator__max_depth=400, estimator__min_samples_leaf=1, estimator__min_samples_split=57, estimator__n_estimators=200, vectorizer__min_df=7, score=0.717, total= 4.7min\n",
      "[CV] estimator__learning_rate=0.5, estimator__max_depth=30, estimator__n_estimators=150, estimator__num_leaves=50, vectorizer__min_df=1 \n",
      "[CV]  estimator__learning_rate=0.5, estimator__max_depth=30, estimator__n_estimators=150, estimator__num_leaves=50, vectorizer__min_df=1, score=0.776, total=13.3min\n"
     ]
    },
    {
     "name": "stderr",
     "output_type": "stream",
     "text": [
      "[Parallel(n_jobs=-1)]: Done   2 out of   5 | elapsed: 14.3min remaining: 21.5min\n"
     ]
    },
    {
     "name": "stdout",
     "output_type": "stream",
     "text": [
      "[CV] estimator__C=7.2, vectorizer__min_df=1 ..........................\n",
      "[CV]  estimator__C=7.2, vectorizer__min_df=1, score=0.768, total=  50.4s\n",
      "[CV] estimator__l1_ratio=0.64, vectorizer__min_df=3 ..................\n",
      "[CV]  estimator__l1_ratio=0.64, vectorizer__min_df=3, score=0.741, total=  12.9s\n",
      "[CV] estimator__max_depth=400, estimator__min_samples_leaf=1, estimator__min_samples_split=57, estimator__n_estimators=200, vectorizer__min_df=7 \n",
      "[CV]  estimator__max_depth=400, estimator__min_samples_leaf=1, estimator__min_samples_split=57, estimator__n_estimators=200, vectorizer__min_df=7, score=0.710, total= 4.8min\n",
      "[CV] estimator__learning_rate=0.5, estimator__max_depth=30, estimator__n_estimators=150, estimator__num_leaves=50, vectorizer__min_df=1 \n",
      "[CV]  estimator__learning_rate=0.5, estimator__max_depth=30, estimator__n_estimators=150, estimator__num_leaves=50, vectorizer__min_df=1, score=0.770, total=14.3min\n"
     ]
    },
    {
     "name": "stderr",
     "output_type": "stream",
     "text": [
      "[Parallel(n_jobs=-1)]: Done   3 out of   5 | elapsed: 14.3min remaining:  9.6min\n"
     ]
    },
    {
     "name": "stdout",
     "output_type": "stream",
     "text": [
      "[CV] estimator__C=7.2, vectorizer__min_df=1 ..........................\n",
      "[CV]  estimator__C=7.2, vectorizer__min_df=1, score=0.762, total=  51.9s\n",
      "[CV] estimator__max_depth=400, estimator__min_samples_leaf=1, estimator__min_samples_split=57, estimator__n_estimators=200, vectorizer__min_df=7 \n",
      "[CV]  estimator__max_depth=400, estimator__min_samples_leaf=1, estimator__min_samples_split=57, estimator__n_estimators=200, vectorizer__min_df=7, score=0.737, total= 4.8min\n",
      "[CV] estimator__learning_rate=0.5, estimator__max_depth=30, estimator__n_estimators=150, estimator__num_leaves=50, vectorizer__min_df=1 \n",
      "[CV]  estimator__learning_rate=0.5, estimator__max_depth=30, estimator__n_estimators=150, estimator__num_leaves=50, vectorizer__min_df=1, score=0.755, total=14.7min\n"
     ]
    },
    {
     "name": "stderr",
     "output_type": "stream",
     "text": [
      "[Parallel(n_jobs=-1)]: Done   5 out of   5 | elapsed: 14.7min remaining:    0.0s\n",
      "[Parallel(n_jobs=-1)]: Done   5 out of   5 | elapsed: 14.7min finished\n"
     ]
    },
    {
     "data": {
      "text/plain": [
       "GridSearchCV(cv=5,\n",
       "             estimator=Pipeline(steps=[('vectorizer',\n",
       "                                        TfidfVectorizer(stop_words={'a',\n",
       "                                                                    'about',\n",
       "                                                                    'above',\n",
       "                                                                    'after',\n",
       "                                                                    'again',\n",
       "                                                                    'against',\n",
       "                                                                    'ain',\n",
       "                                                                    'all', 'am',\n",
       "                                                                    'an', 'and',\n",
       "                                                                    'any',\n",
       "                                                                    'are',\n",
       "                                                                    'aren',\n",
       "                                                                    \"aren't\",\n",
       "                                                                    'as', 'at',\n",
       "                                                                    'be',\n",
       "                                                                    'because',\n",
       "                                                                    'been',\n",
       "                                                                    'before',\n",
       "                                                                    'being',\n",
       "                                                                    'below',\n",
       "                                                                    'between',\n",
       "                                                                    'both',\n",
       "                                                                    'but', 'by',\n",
       "                                                                    'can',\n",
       "                                                                    'couldn',\n",
       "                                                                    \"couldn't\", ...})),\n",
       "                                       ('estimator',\n",
       "                                        LGBMClassifier(class_weight='balanced',\n",
       "                                                       force_row_wise=True,\n",
       "                                                       n_jobs=-1,\n",
       "                                                       random_state=270923,\n",
       "                                                       verbose=-1))]),\n",
       "             n_jobs=-1,\n",
       "             param_grid={'estimator__learning_rate': [0.5],\n",
       "                         'estimator__max_depth': [30],\n",
       "                         'estimator__n_estimators': [150],\n",
       "                         'estimator__num_leaves': [50],\n",
       "                         'vectorizer__min_df': [1]},\n",
       "             scoring='f1', verbose=10)"
      ]
     },
     "execution_count": 64,
     "metadata": {},
     "output_type": "execute_result"
    }
   ],
   "source": [
    "lgb_search.fit(corpus_train, target_train)"
   ]
  },
  {
   "cell_type": "code",
   "execution_count": 65,
   "metadata": {
    "scrolled": true
   },
   "outputs": [
    {
     "name": "stdout",
     "output_type": "stream",
     "text": [
      "\n",
      "Лучшее полученное методом кросс-валидации \n",
      " значение метрики f1 = 0.7670: найдено при следующих параметрах\n",
      "{'estimator__learning_rate': 0.5, 'estimator__max_depth': 30, 'estimator__n_estimators': 150, 'estimator__num_leaves': 50, 'vectorizer__min_df': 1}\n"
     ]
    }
   ],
   "source": [
    "print(\"\\nЛучшее полученное методом кросс-валидации \\n \\\n",
    "значение метрики f1 = %0.4f:\" % lgb_search.best_score_,\n",
    "\"найдено при следующих параметрах\")\n",
    "print(lgb_search.best_params_)"
   ]
  },
  {
   "cell_type": "markdown",
   "metadata": {},
   "source": [
    "- полученное методом кросс-валидации значение метрики `f1` модели `LGBMClassifier` составляет **0.7670**, что **соответствует** требованиям задания и **превосходит** остальные модели"
   ]
  },
  {
   "cell_type": "markdown",
   "metadata": {},
   "source": [
    "### Выводы по результатам обучения и проверки методом `кросс-валидации` моделей `LogisticClassifier`, `SGDClassifier`, `RandomForestClassifier` и `LGBMClasifier`"
   ]
  },
  {
   "cell_type": "markdown",
   "metadata": {},
   "source": [
    "- по результатам обучения и проверки методом кросс-валидации моделей `LogisticClassifier`, `SGDClassifier`,  `RandomForestClassifier` и `LGBMClasifier` наилучший результат метрики: `f1` = **0.7670** продемонстрировала модель `LGBMClasifier`\n",
    "\n",
    "- модель `LGBMClasifier` **рекомендуется для тестирования** с целью проверки её возможности использования для определения **тональности** комментариев"
   ]
  },
  {
   "cell_type": "markdown",
   "metadata": {},
   "source": [
    "- **гиперпараметры** модели `LGBMClasifier`, при которых достигнуты указанные значения метрики `f1`:\n",
    "    - `class_weight` ='balanced',\n",
    "    - `learning_rate` = 0.5,\n",
    "    - `max_depth` = 30,\n",
    "    - `n_estimators` = 150,\n",
    "    - `num_leaves` = 50"
   ]
  },
  {
   "cell_type": "markdown",
   "metadata": {},
   "source": [
    "  "
   ]
  },
  {
   "cell_type": "markdown",
   "metadata": {},
   "source": [
    "### Тестирование выбранной модели"
   ]
  },
  {
   "cell_type": "markdown",
   "metadata": {},
   "source": [
    "#### Создадим наборы признаков для `обучающей` и `тестовой` выборок"
   ]
  },
  {
   "cell_type": "markdown",
   "metadata": {},
   "source": [
    "##### Зададим найденные при обучении моделей оптимальные гиперпараметры параметры для модели, создающей векторы из корпуса"
   ]
  },
  {
   "cell_type": "code",
   "execution_count": 66,
   "metadata": {},
   "outputs": [],
   "source": [
    "count_tf_idf = TfidfVectorizer(stop_words=stopwords, min_df = 1)"
   ]
  },
  {
   "cell_type": "markdown",
   "metadata": {},
   "source": [
    "##### Обучим модель на `обучающем` корпусе и создадим набор признаков в `обучающей` и `тестовой` выборках"
   ]
  },
  {
   "cell_type": "code",
   "execution_count": 67,
   "metadata": {},
   "outputs": [],
   "source": [
    "features_train = count_tf_idf.fit_transform(corpus_train)\n",
    "\n",
    "features_test = count_tf_idf.transform(corpus_test)"
   ]
  },
  {
   "cell_type": "code",
   "execution_count": 68,
   "metadata": {},
   "outputs": [
    {
     "name": "stdout",
     "output_type": "stream",
     "text": [
      "(119469, 129130) 0.75\n",
      "(39823, 129130) 0.25\n"
     ]
    }
   ],
   "source": [
    "print(features_train.shape, round(\n",
    "    features_train.shape[0]/target.shape[0], 2))\n",
    "print(features_test.shape, round(\n",
    "    features_test.shape[0]/target.shape[0], 2))"
   ]
  },
  {
   "cell_type": "markdown",
   "metadata": {},
   "source": [
    "- для проведения тестирования созданы **обучающая** и **тестовая** выборки признаков для обучения моделей в пропорциях 75% и 25% от исходного массива данных"
   ]
  },
  {
   "cell_type": "markdown",
   "metadata": {},
   "source": [
    "#### Тестирование на тестовой выборке"
   ]
  },
  {
   "cell_type": "code",
   "execution_count": 69,
   "metadata": {},
   "outputs": [],
   "source": [
    "lgbmc_model = LGBMClassifier(\n",
    "    random_state = 270923,\n",
    "    n_jobs = -1,\n",
    "    verbose = -1,\n",
    "    class_weight = 'balanced',\n",
    "    force_row_wise=True,\n",
    "    \n",
    "    learning_rate=0.5,\n",
    "    max_depth=30,\n",
    "    n_estimators=150,\n",
    "    num_leaves=50,\n",
    "    )"
   ]
  },
  {
   "cell_type": "code",
   "execution_count": 70,
   "metadata": {},
   "outputs": [
    {
     "data": {
      "text/plain": [
       "LGBMClassifier(class_weight='balanced', force_row_wise=True, learning_rate=0.5,\n",
       "               max_depth=30, n_estimators=150, n_jobs=-1, num_leaves=50,\n",
       "               random_state=270923, verbose=-1)"
      ]
     },
     "execution_count": 70,
     "metadata": {},
     "output_type": "execute_result"
    }
   ],
   "source": [
    "lgbmc_model.fit(features_train, target_train)"
   ]
  },
  {
   "cell_type": "code",
   "execution_count": 71,
   "metadata": {
    "scrolled": true
   },
   "outputs": [],
   "source": [
    "lgbmc_predictions_test = lgbmc_model.predict(features_test)"
   ]
  },
  {
   "cell_type": "code",
   "execution_count": 72,
   "metadata": {},
   "outputs": [
    {
     "name": "stdout",
     "output_type": "stream",
     "text": [
      "\n",
      "Значение метрики f1 на тестовой выборке: 0.7744 \n",
      "\n"
     ]
    }
   ],
   "source": [
    "lgbmc_f1_score = f1_score(target_test, lgbmc_predictions_test)\n",
    "print(\"\\nЗначение метрики f1 на тестовой выборке: %0.4f\" % lgbmc_f1_score, '\\n')"
   ]
  },
  {
   "cell_type": "code",
   "execution_count": 73,
   "metadata": {
    "scrolled": false
   },
   "outputs": [
    {
     "name": "stdout",
     "output_type": "stream",
     "text": [
      "              precision    recall  f1-score   support\n",
      "\n",
      "           0       0.98      0.97      0.97     35729\n",
      "           1       0.76      0.79      0.77      4094\n",
      "\n",
      "    accuracy                           0.95     39823\n",
      "   macro avg       0.87      0.88      0.87     39823\n",
      "weighted avg       0.95      0.95      0.95     39823\n",
      "\n"
     ]
    }
   ],
   "source": [
    "print(classification_report(target_test, lgbmc_predictions_test))"
   ]
  },
  {
   "cell_type": "markdown",
   "metadata": {},
   "source": [
    "- по результатам тестирования на `тестовой` выборке модель `LGBMClasifier` показала значение метрики `f1` = **0.7744**, что соответствует требованиям задания `f1` не менее 0.75\n",
    "- по результатам тестирования на `тестовой` выборке модель `LGBMClasifier` показала следующие результаты полноты и правильности предсказаний:\n",
    "    - модель **правильно** предсказала **79%** всех токсичных комментариев, при этом **правильность** предсказания (токсичный или нет) составила **76%**\n",
    "    - модель **правильно** предсказала **97%** не токсичных комментариев с точностью определения **98%**"
   ]
  },
  {
   "cell_type": "markdown",
   "metadata": {},
   "source": [
    "#### Проверка скорости обучения и скорости предсказаний модели `LGBMClasifier` на **обучающей** выборке"
   ]
  },
  {
   "cell_type": "code",
   "execution_count": 74,
   "metadata": {
    "scrolled": true
   },
   "outputs": [
    {
     "name": "stdout",
     "output_type": "stream",
     "text": [
      "[CV] estimator__C=7.2, vectorizer__min_df=1 ..........................\n",
      "[CV]  estimator__C=7.2, vectorizer__min_df=1, score=0.766, total=  51.8s\n",
      "[CV] estimator__l1_ratio=0.64, vectorizer__min_df=3 ..................\n",
      "[CV]  estimator__l1_ratio=0.64, vectorizer__min_df=3, score=0.745, total=  14.2s\n",
      "[CV] estimator__max_depth=400, estimator__min_samples_leaf=1, estimator__min_samples_split=57, estimator__n_estimators=200, vectorizer__min_df=7 \n",
      "[CV]  estimator__max_depth=400, estimator__min_samples_leaf=1, estimator__min_samples_split=57, estimator__n_estimators=200, vectorizer__min_df=7, score=0.727, total= 4.8min\n",
      "[CV] estimator__learning_rate=0.5, estimator__max_depth=30, estimator__n_estimators=150, estimator__num_leaves=50, vectorizer__min_df=1 \n",
      "[CV]  estimator__learning_rate=0.5, estimator__max_depth=30, estimator__n_estimators=150, estimator__num_leaves=50, vectorizer__min_df=1, score=0.768, total=14.3min\n",
      "[CV] estimator__C=7.2, vectorizer__min_df=1 ..........................\n",
      "[CV]  estimator__C=7.2, vectorizer__min_df=1, score=0.774, total=  55.3s\n",
      "[CV] estimator__max_depth=400, estimator__min_samples_leaf=1, estimator__min_samples_split=57, estimator__n_estimators=200, vectorizer__min_df=7 \n",
      "[CV]  estimator__max_depth=400, estimator__min_samples_leaf=1, estimator__min_samples_split=57, estimator__n_estimators=200, vectorizer__min_df=7, score=0.727, total= 4.7min\n",
      "[CV] estimator__learning_rate=0.5, estimator__max_depth=30, estimator__n_estimators=150, estimator__num_leaves=50, vectorizer__min_df=1 \n",
      "[CV]  estimator__learning_rate=0.5, estimator__max_depth=30, estimator__n_estimators=150, estimator__num_leaves=50, vectorizer__min_df=1, score=0.766, total=14.7min\n",
      "28.3 s ± 258 ms per loop (mean ± std. dev. of 7 runs, 1 loop each)\n"
     ]
    }
   ],
   "source": [
    "%%timeit\n",
    "lgbmc_model.fit(features_train, target_train)"
   ]
  },
  {
   "cell_type": "code",
   "execution_count": 75,
   "metadata": {
    "scrolled": false
   },
   "outputs": [
    {
     "name": "stdout",
     "output_type": "stream",
     "text": [
      "2.99 s ± 19.7 ms per loop (mean ± std. dev. of 7 runs, 1 loop each)\n"
     ]
    }
   ],
   "source": [
    "%%timeit\n",
    "lgbmc_predictions_train = lgbmc_model.predict(features_train)"
   ]
  },
  {
   "cell_type": "markdown",
   "metadata": {},
   "source": [
    "- средняя скорость обучения модели `LGBMClasifier` на **обучающей** выборке составляет около 40 секунд\n",
    "- средняя скорость предсказания модели `LGBMClasifier` на **обучающей** выборке составляет 3 секунды\n",
    "\n",
    "- модель `LGBMClasifier` **может** быть использования для определения тональности комментариев в реальном времени"
   ]
  },
  {
   "cell_type": "markdown",
   "metadata": {},
   "source": [
    "#### Проверка модели на адекватность путем сравнения метрики `f1` прогноза, полученного на тестовой выборке, с прогнозом, состоящим из единиц (все комментарии токсичные)"
   ]
  },
  {
   "cell_type": "code",
   "execution_count": 76,
   "metadata": {},
   "outputs": [],
   "source": [
    "dummy_model = DummyClassifier(strategy = 'constant', constant = 1)"
   ]
  },
  {
   "cell_type": "code",
   "execution_count": 77,
   "metadata": {
    "scrolled": true
   },
   "outputs": [
    {
     "name": "stdout",
     "output_type": "stream",
     "text": [
      "Метрика f1 фиктивной модели: 0.19\n"
     ]
    }
   ],
   "source": [
    "dummy_model.fit(features_train, target_train)\n",
    "dummy_predict = dummy_model.predict(features_test)\n",
    "f1_dummy = f1_score(target_test, dummy_predict)\n",
    "print(\"Метрика f1 фиктивной модели: %0.2f\" % f1_dummy)"
   ]
  },
  {
   "cell_type": "markdown",
   "metadata": {},
   "source": [
    "- метрика `f1` модели `LGBMClasifier` на **тестовой** выборке составляет **0.77**, наилучшая метрика **фиктивной** модели составляет **0.19**, модель `LGBMClasifier` **адекватна**"
   ]
  },
  {
   "cell_type": "markdown",
   "metadata": {},
   "source": [
    "### Выводы по результатам тестирования модели"
   ]
  },
  {
   "cell_type": "markdown",
   "metadata": {},
   "source": [
    "- по результатам тестирования на `тестовой` выборке модель `LGBMClasifier` показала значение метрики `f1` = **0.77**, что соответствует требованиям задания `f1` не менее 0.75\n",
    "- по результатам тестирования на `тестовой` выборке модель `LGBMClasifier` показала следующие результаты полноты и правильности предсказаний:\n",
    "    - модель **правильно** предсказала **80%** всех токсичных комментариев, при этом **правильность** предсказания (токсичный или нет) составила **75%**\n",
    "    - модель **правильно** предсказала **97%** не токсичных комментариев с точностью определения **98%**"
   ]
  },
  {
   "cell_type": "markdown",
   "metadata": {},
   "source": [
    "- средняя скорость обучения модели `LGBMClasifier` на **обучающей** выборке составляет 1 минуту 40 секунд\n",
    "- средняя скорость предсказания модели `LGBMClasifier` на **обучающей** выборке составляет 0.7 секунды\n",
    "\n",
    "- модель `LGBMClasifier` **может** быть использования для определения тональности комментариев в реальном времени"
   ]
  },
  {
   "cell_type": "markdown",
   "metadata": {},
   "source": [
    "- метрика `f1` модели `LGBMClasifier` на **тестовой** выборке составляет **0.77**, наилучшая метрика **фиктивной** модели составляет **0.19**, модель `LGBMClasifier` **адекватна**"
   ]
  },
  {
   "cell_type": "markdown",
   "metadata": {},
   "source": [
    "## Выводы"
   ]
  },
  {
   "cell_type": "markdown",
   "metadata": {},
   "source": [
    "- **Модель** `LGBMClasifier` со следующими **гиперпарметрами**:\n",
    "\n",
    "    - `class_weight` = `balanced`,\n",
    "    - `learning_rate` = 0.5,\n",
    "    - `max_depth` = 30,\n",
    "    - `min_child_samples` = 2,\n",
    "    - `n_estimators` = 150,\n",
    "    - `num_leaves` = 50\n",
    "    \n",
    "**рекомендуется** для оперативного прогнозирования тональности комметариев интернет-магазина «Викишоп» "
   ]
  },
  {
   "cell_type": "markdown",
   "metadata": {},
   "source": [
    "   "
   ]
  }
 ],
 "metadata": {
  "ExecuteTimeLog": [
   {
    "duration": 2168,
    "start_time": "2023-09-27T06:58:58.717Z"
   },
   {
    "duration": 121,
    "start_time": "2023-09-27T06:59:03.112Z"
   },
   {
    "duration": 2764,
    "start_time": "2023-09-27T07:00:06.349Z"
   },
   {
    "duration": 284,
    "start_time": "2023-09-27T07:01:41.252Z"
   },
   {
    "duration": 234,
    "start_time": "2023-09-27T07:02:04.067Z"
   },
   {
    "duration": 251,
    "start_time": "2023-09-27T07:02:28.519Z"
   },
   {
    "duration": 265,
    "start_time": "2023-09-27T07:02:52.650Z"
   },
   {
    "duration": 9,
    "start_time": "2023-09-27T07:04:58.139Z"
   },
   {
    "duration": 5,
    "start_time": "2023-09-27T07:13:06.364Z"
   },
   {
    "duration": 5,
    "start_time": "2023-09-27T07:13:31.785Z"
   },
   {
    "duration": 4,
    "start_time": "2023-09-27T07:13:58.316Z"
   },
   {
    "duration": 146,
    "start_time": "2023-09-27T07:25:41.305Z"
   },
   {
    "duration": 13,
    "start_time": "2023-09-27T07:26:16.738Z"
   },
   {
    "duration": 55,
    "start_time": "2023-09-27T07:29:32.703Z"
   },
   {
    "duration": 2339,
    "start_time": "2023-09-27T09:28:26.183Z"
   },
   {
    "duration": 4,
    "start_time": "2023-09-27T09:28:51.256Z"
   },
   {
    "duration": 8,
    "start_time": "2023-09-27T09:29:07.240Z"
   },
   {
    "duration": 7,
    "start_time": "2023-09-27T09:32:15.727Z"
   },
   {
    "duration": 1222,
    "start_time": "2023-09-27T09:33:46.231Z"
   },
   {
    "duration": 27,
    "start_time": "2023-09-27T09:35:12.639Z"
   },
   {
    "duration": 79624,
    "start_time": "2023-09-27T09:36:49.573Z"
   },
   {
    "duration": 12,
    "start_time": "2023-09-27T09:38:24.437Z"
   },
   {
    "duration": 7,
    "start_time": "2023-09-27T09:44:08.408Z"
   },
   {
    "duration": 99904,
    "start_time": "2023-09-27T09:44:21.527Z"
   },
   {
    "duration": 0,
    "start_time": "2023-09-27T09:46:01.433Z"
   },
   {
    "duration": 7,
    "start_time": "2023-09-27T09:46:04.509Z"
   },
   {
    "duration": 61946,
    "start_time": "2023-09-27T09:46:05.876Z"
   },
   {
    "duration": 6,
    "start_time": "2023-09-27T09:48:32.016Z"
   },
   {
    "duration": 21465,
    "start_time": "2023-09-27T09:49:00.574Z"
   },
   {
    "duration": 5,
    "start_time": "2023-09-27T09:51:17.582Z"
   },
   {
    "duration": 486115,
    "start_time": "2023-09-27T09:51:20.243Z"
   },
   {
    "duration": 40852,
    "start_time": "2023-09-27T09:59:40.624Z"
   },
   {
    "duration": 74,
    "start_time": "2023-09-27T10:01:10.599Z"
   },
   {
    "duration": 9850,
    "start_time": "2023-09-27T10:01:21.843Z"
   },
   {
    "duration": 13,
    "start_time": "2023-09-27T10:02:36.224Z"
   },
   {
    "duration": 10,
    "start_time": "2023-09-27T10:03:33.510Z"
   },
   {
    "duration": 18950,
    "start_time": "2023-09-27T10:06:18.382Z"
   },
   {
    "duration": 5,
    "start_time": "2023-09-27T10:06:52.873Z"
   },
   {
    "duration": 9,
    "start_time": "2023-09-27T10:09:12.364Z"
   },
   {
    "duration": 11,
    "start_time": "2023-09-27T10:09:14.270Z"
   },
   {
    "duration": 31,
    "start_time": "2023-09-27T10:09:20.068Z"
   },
   {
    "duration": 4,
    "start_time": "2023-09-27T10:09:27.741Z"
   },
   {
    "duration": 477435,
    "start_time": "2023-09-27T10:09:40.034Z"
   },
   {
    "duration": 16,
    "start_time": "2023-09-27T10:17:37.472Z"
   },
   {
    "duration": 223,
    "start_time": "2023-09-27T10:23:33.544Z"
   },
   {
    "duration": 105,
    "start_time": "2023-09-27T10:24:13.579Z"
   },
   {
    "duration": 11,
    "start_time": "2023-09-27T10:24:26.267Z"
   },
   {
    "duration": 4,
    "start_time": "2023-09-27T10:31:39.682Z"
   },
   {
    "duration": 1270,
    "start_time": "2023-09-27T10:31:47.302Z"
   },
   {
    "duration": 310,
    "start_time": "2023-09-27T10:31:52.037Z"
   },
   {
    "duration": 4,
    "start_time": "2023-09-27T10:31:54.903Z"
   },
   {
    "duration": 22,
    "start_time": "2023-09-27T10:31:59.562Z"
   },
   {
    "duration": 42,
    "start_time": "2023-09-27T10:32:02.003Z"
   },
   {
    "duration": 4,
    "start_time": "2023-09-27T10:32:08.082Z"
   },
   {
    "duration": 711742,
    "start_time": "2023-09-27T10:32:12.443Z"
   },
   {
    "duration": 0,
    "start_time": "2023-09-27T10:44:04.188Z"
   },
   {
    "duration": 0,
    "start_time": "2023-09-27T10:44:04.189Z"
   },
   {
    "duration": 0,
    "start_time": "2023-09-27T10:44:04.191Z"
   },
   {
    "duration": 0,
    "start_time": "2023-09-27T10:44:04.192Z"
   },
   {
    "duration": 4,
    "start_time": "2023-09-27T10:44:04.784Z"
   },
   {
    "duration": 19335,
    "start_time": "2023-09-27T10:44:06.204Z"
   },
   {
    "duration": 18728,
    "start_time": "2023-09-27T10:44:38.364Z"
   },
   {
    "duration": 9,
    "start_time": "2023-09-27T10:44:59.404Z"
   },
   {
    "duration": 4,
    "start_time": "2023-09-27T10:45:29.736Z"
   },
   {
    "duration": 6,
    "start_time": "2023-09-27T10:45:35.372Z"
   },
   {
    "duration": 18538,
    "start_time": "2023-09-27T10:45:36.830Z"
   },
   {
    "duration": 6,
    "start_time": "2023-09-27T10:45:56.984Z"
   },
   {
    "duration": 4,
    "start_time": "2023-09-27T10:48:17.402Z"
   },
   {
    "duration": 18158,
    "start_time": "2023-09-27T10:48:24.285Z"
   },
   {
    "duration": 5,
    "start_time": "2023-09-27T10:48:44.334Z"
   },
   {
    "duration": 4,
    "start_time": "2023-09-27T10:49:28.892Z"
   },
   {
    "duration": 4,
    "start_time": "2023-09-27T10:49:35.201Z"
   },
   {
    "duration": 4487,
    "start_time": "2023-09-27T10:49:41.240Z"
   },
   {
    "duration": 5,
    "start_time": "2023-09-27T10:49:49.060Z"
   },
   {
    "duration": 1172,
    "start_time": "2023-09-27T10:50:27.062Z"
   },
   {
    "duration": 302,
    "start_time": "2023-09-27T10:50:30.054Z"
   },
   {
    "duration": 4,
    "start_time": "2023-09-27T10:50:32.487Z"
   },
   {
    "duration": 28,
    "start_time": "2023-09-27T10:50:34.689Z"
   },
   {
    "duration": 24,
    "start_time": "2023-09-27T10:50:37.182Z"
   },
   {
    "duration": 5,
    "start_time": "2023-09-27T10:50:51.762Z"
   },
   {
    "duration": 940945,
    "start_time": "2023-09-27T10:50:54.342Z"
   },
   {
    "duration": 31,
    "start_time": "2023-09-27T11:06:35.290Z"
   },
   {
    "duration": 214,
    "start_time": "2023-09-27T11:06:35.325Z"
   },
   {
    "duration": 105,
    "start_time": "2023-09-27T11:06:35.541Z"
   },
   {
    "duration": 10,
    "start_time": "2023-09-27T11:06:35.648Z"
   },
   {
    "duration": 1622,
    "start_time": "2023-09-27T11:37:01.034Z"
   },
   {
    "duration": 209,
    "start_time": "2023-09-27T11:44:37.689Z"
   },
   {
    "duration": 13,
    "start_time": "2023-09-27T11:45:27.663Z"
   },
   {
    "duration": 14,
    "start_time": "2023-09-27T11:45:42.394Z"
   },
   {
    "duration": 4,
    "start_time": "2023-09-27T11:47:29.296Z"
   },
   {
    "duration": 4,
    "start_time": "2023-09-27T11:47:38.984Z"
   },
   {
    "duration": 6,
    "start_time": "2023-09-27T11:47:46.401Z"
   },
   {
    "duration": 12,
    "start_time": "2023-09-27T11:50:36.534Z"
   },
   {
    "duration": 9,
    "start_time": "2023-09-27T11:52:16.970Z"
   },
   {
    "duration": 25,
    "start_time": "2023-09-27T12:01:32.102Z"
   },
   {
    "duration": 8,
    "start_time": "2023-09-27T12:01:42.147Z"
   },
   {
    "duration": 4,
    "start_time": "2023-09-27T12:02:07.193Z"
   },
   {
    "duration": 60,
    "start_time": "2023-09-27T12:02:48.551Z"
   },
   {
    "duration": 14,
    "start_time": "2023-09-27T12:03:22.610Z"
   },
   {
    "duration": 4,
    "start_time": "2023-09-27T12:12:41.996Z"
   },
   {
    "duration": 5218,
    "start_time": "2023-09-27T12:14:06.595Z"
   },
   {
    "duration": 8,
    "start_time": "2023-09-27T12:14:36.736Z"
   },
   {
    "duration": 1025559,
    "start_time": "2023-09-27T12:15:13.089Z"
   },
   {
    "duration": 255,
    "start_time": "2023-09-27T12:32:18.660Z"
   },
   {
    "duration": 175,
    "start_time": "2023-09-27T12:32:18.928Z"
   },
   {
    "duration": 18,
    "start_time": "2023-09-27T12:32:19.105Z"
   },
   {
    "duration": 9,
    "start_time": "2023-09-27T12:32:21.859Z"
   },
   {
    "duration": 5304,
    "start_time": "2023-09-27T12:32:26.261Z"
   },
   {
    "duration": 5,
    "start_time": "2023-09-27T12:32:31.567Z"
   },
   {
    "duration": 22,
    "start_time": "2023-09-27T12:32:39.999Z"
   },
   {
    "duration": 115,
    "start_time": "2023-09-27T12:32:41.354Z"
   },
   {
    "duration": 4994,
    "start_time": "2023-09-27T12:32:51.268Z"
   },
   {
    "duration": 5,
    "start_time": "2023-09-27T12:32:58.062Z"
   },
   {
    "duration": 23,
    "start_time": "2023-09-27T12:33:22.879Z"
   },
   {
    "duration": 4,
    "start_time": "2023-09-27T12:33:32.249Z"
   },
   {
    "duration": 20,
    "start_time": "2023-09-27T12:33:43.250Z"
   },
   {
    "duration": 6,
    "start_time": "2023-09-27T12:33:51.711Z"
   },
   {
    "duration": 7,
    "start_time": "2023-09-27T13:03:14.629Z"
   },
   {
    "duration": 10,
    "start_time": "2023-09-27T13:07:09.346Z"
   },
   {
    "duration": 113,
    "start_time": "2023-09-27T13:07:18.543Z"
   },
   {
    "duration": 9,
    "start_time": "2023-09-27T13:07:20.436Z"
   },
   {
    "duration": 16,
    "start_time": "2023-09-27T13:09:18.662Z"
   },
   {
    "duration": 5,
    "start_time": "2023-09-27T13:09:21.160Z"
   },
   {
    "duration": 4,
    "start_time": "2023-09-27T13:09:22.748Z"
   },
   {
    "duration": 111,
    "start_time": "2023-09-27T13:12:05.125Z"
   },
   {
    "duration": 13,
    "start_time": "2023-09-27T13:12:13.270Z"
   },
   {
    "duration": 18,
    "start_time": "2023-09-27T13:12:27.036Z"
   },
   {
    "duration": 16,
    "start_time": "2023-09-27T13:12:52.835Z"
   },
   {
    "duration": 12,
    "start_time": "2023-09-27T13:14:52.948Z"
   },
   {
    "duration": 4,
    "start_time": "2023-09-27T13:16:01.089Z"
   },
   {
    "duration": 1220,
    "start_time": "2023-09-27T13:16:01.095Z"
   },
   {
    "duration": 330,
    "start_time": "2023-09-27T13:16:02.318Z"
   },
   {
    "duration": 5,
    "start_time": "2023-09-27T13:16:02.651Z"
   },
   {
    "duration": 230,
    "start_time": "2023-09-27T13:16:02.658Z"
   },
   {
    "duration": 43,
    "start_time": "2023-09-27T13:16:02.890Z"
   },
   {
    "duration": 110,
    "start_time": "2023-09-27T13:16:02.934Z"
   },
   {
    "duration": 5,
    "start_time": "2023-09-27T13:16:03.046Z"
   },
   {
    "duration": 4,
    "start_time": "2023-09-27T13:16:26.140Z"
   },
   {
    "duration": 1152,
    "start_time": "2023-09-27T13:16:26.148Z"
   },
   {
    "duration": 287,
    "start_time": "2023-09-27T13:16:27.302Z"
   },
   {
    "duration": 4,
    "start_time": "2023-09-27T13:16:27.591Z"
   },
   {
    "duration": 33,
    "start_time": "2023-09-27T13:16:33.191Z"
   },
   {
    "duration": 43,
    "start_time": "2023-09-27T13:16:34.138Z"
   },
   {
    "duration": 5,
    "start_time": "2023-09-27T13:16:35.350Z"
   },
   {
    "duration": 4,
    "start_time": "2023-09-27T13:17:14.792Z"
   },
   {
    "duration": 1166,
    "start_time": "2023-09-27T13:17:14.797Z"
   },
   {
    "duration": 298,
    "start_time": "2023-09-27T13:17:15.965Z"
   },
   {
    "duration": 4,
    "start_time": "2023-09-27T13:17:16.265Z"
   },
   {
    "duration": 4,
    "start_time": "2023-09-27T13:17:24.056Z"
   },
   {
    "duration": 4,
    "start_time": "2023-09-27T13:19:17.756Z"
   },
   {
    "duration": 3,
    "start_time": "2023-09-27T13:19:19.161Z"
   },
   {
    "duration": 1404,
    "start_time": "2023-09-27T13:19:21.770Z"
   },
   {
    "duration": 3,
    "start_time": "2023-09-27T13:19:48.502Z"
   },
   {
    "duration": 4,
    "start_time": "2023-09-27T13:19:49.537Z"
   },
   {
    "duration": 4892,
    "start_time": "2023-09-27T13:20:10.933Z"
   },
   {
    "duration": 3266,
    "start_time": "2023-09-27T13:20:15.827Z"
   },
   {
    "duration": 305,
    "start_time": "2023-09-27T13:20:19.095Z"
   },
   {
    "duration": 22,
    "start_time": "2023-09-27T13:20:19.402Z"
   },
   {
    "duration": 40,
    "start_time": "2023-09-27T13:20:19.426Z"
   },
   {
    "duration": 3,
    "start_time": "2023-09-27T13:20:24.293Z"
   },
   {
    "duration": 62,
    "start_time": "2023-09-27T13:20:25.501Z"
   },
   {
    "duration": 2337,
    "start_time": "2023-09-27T13:20:28.105Z"
   },
   {
    "duration": 5,
    "start_time": "2023-09-27T13:21:37.735Z"
   },
   {
    "duration": 4,
    "start_time": "2023-09-27T13:21:39.162Z"
   },
   {
    "duration": 35226,
    "start_time": "2023-09-27T13:21:41.034Z"
   },
   {
    "duration": 0,
    "start_time": "2023-09-27T13:22:16.263Z"
   },
   {
    "duration": 243,
    "start_time": "2023-09-27T13:22:21.332Z"
   },
   {
    "duration": 10,
    "start_time": "2023-09-27T13:22:22.780Z"
   },
   {
    "duration": 2577753,
    "start_time": "2023-09-27T13:22:28.244Z"
   },
   {
    "duration": 354,
    "start_time": "2023-09-27T14:05:26.000Z"
   },
   {
    "duration": 220,
    "start_time": "2023-09-27T14:17:19.227Z"
   },
   {
    "duration": 9,
    "start_time": "2023-09-27T14:17:20.295Z"
   },
   {
    "duration": 13,
    "start_time": "2023-09-27T14:17:34.755Z"
   },
   {
    "duration": 258,
    "start_time": "2023-09-27T14:17:40.547Z"
   },
   {
    "duration": 40,
    "start_time": "2023-09-27T14:17:42.836Z"
   },
   {
    "duration": 5,
    "start_time": "2023-09-27T14:17:44.035Z"
   },
   {
    "duration": 5,
    "start_time": "2023-09-27T14:17:45.380Z"
   },
   {
    "duration": 48,
    "start_time": "2023-09-27T14:17:48.076Z"
   },
   {
    "duration": 13,
    "start_time": "2023-09-27T14:17:49.503Z"
   },
   {
    "duration": 3,
    "start_time": "2023-09-27T14:17:55.274Z"
   },
   {
    "duration": 224,
    "start_time": "2023-09-27T14:17:56.925Z"
   },
   {
    "duration": 29,
    "start_time": "2023-09-27T14:17:58.535Z"
   },
   {
    "duration": 8,
    "start_time": "2023-09-27T14:18:25.935Z"
   },
   {
    "duration": 12,
    "start_time": "2023-09-27T14:18:36.791Z"
   },
   {
    "duration": 3,
    "start_time": "2023-09-27T14:18:53.976Z"
   },
   {
    "duration": 14,
    "start_time": "2023-09-27T14:18:57.892Z"
   },
   {
    "duration": 14,
    "start_time": "2023-09-27T14:19:26.455Z"
   },
   {
    "duration": 13288,
    "start_time": "2023-09-27T14:20:02.920Z"
   },
   {
    "duration": 4,
    "start_time": "2023-09-27T14:21:56.699Z"
   },
   {
    "duration": 158,
    "start_time": "2023-09-27T14:22:35.325Z"
   },
   {
    "duration": 204,
    "start_time": "2023-09-27T14:23:09.451Z"
   },
   {
    "duration": 303,
    "start_time": "2023-09-27T14:24:57.496Z"
   },
   {
    "duration": 510,
    "start_time": "2023-09-27T14:24:59.347Z"
   },
   {
    "duration": 268,
    "start_time": "2023-09-27T14:25:00.677Z"
   },
   {
    "duration": 383,
    "start_time": "2023-09-27T14:25:02.296Z"
   },
   {
    "duration": 349,
    "start_time": "2023-09-27T14:25:13.352Z"
   },
   {
    "duration": 13,
    "start_time": "2023-09-27T14:25:16.053Z"
   },
   {
    "duration": 2697,
    "start_time": "2023-09-27T14:28:58.033Z"
   },
   {
    "duration": 227,
    "start_time": "2023-09-27T14:32:06.895Z"
   },
   {
    "duration": 5432,
    "start_time": "2023-09-27T14:32:08.596Z"
   },
   {
    "duration": 38,
    "start_time": "2023-09-27T14:32:40.562Z"
   },
   {
    "duration": 5807,
    "start_time": "2023-09-27T14:32:48.215Z"
   },
   {
    "duration": 5,
    "start_time": "2023-09-27T14:33:05.402Z"
   },
   {
    "duration": 4,
    "start_time": "2023-09-27T14:33:24.361Z"
   },
   {
    "duration": 6386,
    "start_time": "2023-09-27T14:34:02.789Z"
   },
   {
    "duration": 4,
    "start_time": "2023-09-27T14:34:13.165Z"
   },
   {
    "duration": 5,
    "start_time": "2023-09-27T14:34:29.524Z"
   },
   {
    "duration": 44,
    "start_time": "2023-09-27T14:39:11.542Z"
   },
   {
    "duration": 28,
    "start_time": "2023-09-27T14:39:24.131Z"
   },
   {
    "duration": 9,
    "start_time": "2023-09-27T14:39:27.452Z"
   },
   {
    "duration": 4,
    "start_time": "2023-09-27T14:39:35.495Z"
   },
   {
    "duration": 39,
    "start_time": "2023-09-27T14:39:37.886Z"
   },
   {
    "duration": 9,
    "start_time": "2023-09-27T14:39:49.594Z"
   },
   {
    "duration": 3,
    "start_time": "2023-09-27T14:39:56.846Z"
   },
   {
    "duration": 22534,
    "start_time": "2023-09-27T14:39:57.994Z"
   },
   {
    "duration": 105,
    "start_time": "2023-09-27T14:40:49.124Z"
   },
   {
    "duration": 0,
    "start_time": "2023-09-27T14:41:09.356Z"
   },
   {
    "duration": 0,
    "start_time": "2023-09-27T14:41:09.357Z"
   },
   {
    "duration": 3,
    "start_time": "2023-09-27T14:41:12.534Z"
   },
   {
    "duration": 279555,
    "start_time": "2023-09-27T14:41:13.774Z"
   },
   {
    "duration": 1185,
    "start_time": "2023-09-27T14:47:28.054Z"
   },
   {
    "duration": 281,
    "start_time": "2023-09-27T14:47:29.990Z"
   },
   {
    "duration": 5,
    "start_time": "2023-09-27T14:47:32.830Z"
   },
   {
    "duration": 5,
    "start_time": "2023-09-27T14:47:37.237Z"
   },
   {
    "duration": 210,
    "start_time": "2023-09-27T14:47:44.378Z"
   },
   {
    "duration": 62,
    "start_time": "2023-09-27T15:35:56.875Z"
   },
   {
    "duration": 8,
    "start_time": "2023-09-27T15:36:22.766Z"
   },
   {
    "duration": 7,
    "start_time": "2023-09-27T15:37:33.091Z"
   },
   {
    "duration": 8,
    "start_time": "2023-09-27T15:37:37.979Z"
   },
   {
    "duration": 4025,
    "start_time": "2023-09-27T15:37:40.860Z"
   },
   {
    "duration": 2731,
    "start_time": "2023-09-27T15:37:44.888Z"
   },
   {
    "duration": 269,
    "start_time": "2023-09-27T15:37:47.621Z"
   },
   {
    "duration": 4,
    "start_time": "2023-09-27T15:37:50.340Z"
   },
   {
    "duration": 6,
    "start_time": "2023-09-27T15:37:52.279Z"
   },
   {
    "duration": 10,
    "start_time": "2023-09-27T15:38:04.675Z"
   },
   {
    "duration": 7,
    "start_time": "2023-09-27T15:38:15.607Z"
   },
   {
    "duration": 4,
    "start_time": "2023-09-27T15:39:38.379Z"
   },
   {
    "duration": 4,
    "start_time": "2023-09-27T15:40:15.837Z"
   },
   {
    "duration": 7934981,
    "start_time": "2023-09-27T15:40:32.079Z"
   },
   {
    "duration": 882,
    "start_time": "2023-09-27T17:52:47.062Z"
   },
   {
    "duration": 8124906,
    "start_time": "2023-09-27T17:59:42.653Z"
   },
   {
    "duration": 643,
    "start_time": "2023-09-27T20:55:19.650Z"
   },
   {
    "duration": 156,
    "start_time": "2023-09-27T20:55:42.722Z"
   },
   {
    "duration": 220,
    "start_time": "2023-09-27T20:55:53.625Z"
   },
   {
    "duration": 12,
    "start_time": "2023-09-27T20:55:55.883Z"
   },
   {
    "duration": 157,
    "start_time": "2023-09-27T20:56:40.923Z"
   },
   {
    "duration": 137,
    "start_time": "2023-09-27T20:56:42.896Z"
   },
   {
    "duration": 5,
    "start_time": "2023-09-27T20:56:44.834Z"
   },
   {
    "duration": 5,
    "start_time": "2023-09-27T20:56:46.043Z"
   },
   {
    "duration": 138,
    "start_time": "2023-09-27T20:57:06.430Z"
   },
   {
    "duration": 8,
    "start_time": "2023-09-27T20:57:13.242Z"
   },
   {
    "duration": 3,
    "start_time": "2023-09-27T20:57:26.902Z"
   },
   {
    "duration": 697,
    "start_time": "2023-09-27T20:57:41.437Z"
   },
   {
    "duration": 11,
    "start_time": "2023-09-27T20:57:42.650Z"
   },
   {
    "duration": 1104,
    "start_time": "2023-09-27T20:57:48.471Z"
   },
   {
    "duration": 3,
    "start_time": "2023-09-27T20:57:53.835Z"
   },
   {
    "duration": 92,
    "start_time": "2023-09-27T20:58:11.359Z"
   },
   {
    "duration": 3,
    "start_time": "2023-09-27T20:58:23.835Z"
   },
   {
    "duration": 5,
    "start_time": "2023-09-27T20:58:26.125Z"
   },
   {
    "duration": 4,
    "start_time": "2023-09-27T20:58:27.309Z"
   },
   {
    "duration": 2,
    "start_time": "2023-09-27T20:58:29.249Z"
   },
   {
    "duration": 31,
    "start_time": "2023-09-27T20:58:31.953Z"
   },
   {
    "duration": 2,
    "start_time": "2023-09-27T20:58:51.034Z"
   },
   {
    "duration": 16,
    "start_time": "2023-09-27T20:58:52.235Z"
   },
   {
    "duration": 20,
    "start_time": "2023-09-27T21:00:32.215Z"
   },
   {
    "duration": 4,
    "start_time": "2023-09-27T21:00:54.620Z"
   },
   {
    "duration": 30512,
    "start_time": "2023-09-27T21:00:57.800Z"
   },
   {
    "duration": 975,
    "start_time": "2023-09-27T21:08:17.463Z"
   },
   {
    "duration": 1001,
    "start_time": "2023-09-27T21:08:21.300Z"
   },
   {
    "duration": 287,
    "start_time": "2023-09-27T21:08:25.089Z"
   },
   {
    "duration": 3,
    "start_time": "2023-09-27T21:08:27.820Z"
   },
   {
    "duration": 3,
    "start_time": "2023-09-27T21:08:32.273Z"
   },
   {
    "duration": 14,
    "start_time": "2023-09-27T21:08:35.021Z"
   },
   {
    "duration": 4,
    "start_time": "2023-09-27T21:08:48.993Z"
   },
   {
    "duration": 76921,
    "start_time": "2023-09-27T21:09:13.066Z"
   },
   {
    "duration": 718,
    "start_time": "2023-09-27T21:10:29.990Z"
   },
   {
    "duration": 1054,
    "start_time": "2023-09-27T21:15:04.890Z"
   },
   {
    "duration": 331,
    "start_time": "2023-09-27T21:15:12.531Z"
   },
   {
    "duration": 5,
    "start_time": "2023-09-27T21:15:21.344Z"
   },
   {
    "duration": 7,
    "start_time": "2023-09-27T21:15:33.450Z"
   },
   {
    "duration": 10,
    "start_time": "2023-09-27T21:15:34.681Z"
   },
   {
    "duration": 5,
    "start_time": "2023-09-27T21:15:54.291Z"
   },
   {
    "duration": 4,
    "start_time": "2023-09-28T03:37:48.656Z"
   },
   {
    "duration": 2466,
    "start_time": "2023-09-28T03:37:51.140Z"
   },
   {
    "duration": 930,
    "start_time": "2023-09-28T03:42:42.540Z"
   },
   {
    "duration": 269,
    "start_time": "2023-09-28T03:42:49.698Z"
   },
   {
    "duration": 280,
    "start_time": "2023-09-28T03:43:39.218Z"
   },
   {
    "duration": 983,
    "start_time": "2023-09-28T03:46:29.938Z"
   },
   {
    "duration": 272,
    "start_time": "2023-09-28T03:46:33.731Z"
   },
   {
    "duration": 278,
    "start_time": "2023-09-28T03:47:31.630Z"
   },
   {
    "duration": 263,
    "start_time": "2023-09-28T03:49:28.871Z"
   },
   {
    "duration": 254,
    "start_time": "2023-09-28T03:52:53.292Z"
   },
   {
    "duration": 263,
    "start_time": "2023-09-28T03:53:06.953Z"
   },
   {
    "duration": 432,
    "start_time": "2023-09-28T03:54:48.819Z"
   },
   {
    "duration": 266,
    "start_time": "2023-09-28T03:55:58.572Z"
   },
   {
    "duration": 282,
    "start_time": "2023-09-28T03:56:32.419Z"
   },
   {
    "duration": 291,
    "start_time": "2023-09-28T03:57:55.107Z"
   },
   {
    "duration": 5,
    "start_time": "2023-09-28T04:02:35.773Z"
   },
   {
    "duration": 249,
    "start_time": "2023-09-28T04:02:42.855Z"
   },
   {
    "duration": 500,
    "start_time": "2023-09-28T04:02:44.320Z"
   },
   {
    "duration": 7,
    "start_time": "2023-09-28T04:02:47.136Z"
   },
   {
    "duration": 15,
    "start_time": "2023-09-28T04:02:48.994Z"
   },
   {
    "duration": 12,
    "start_time": "2023-09-28T04:03:11.924Z"
   },
   {
    "duration": 10,
    "start_time": "2023-09-28T04:04:02.334Z"
   },
   {
    "duration": 12,
    "start_time": "2023-09-28T04:04:04.252Z"
   },
   {
    "duration": 49,
    "start_time": "2023-09-28T04:04:34.387Z"
   },
   {
    "duration": 15,
    "start_time": "2023-09-28T04:06:30.867Z"
   },
   {
    "duration": 13,
    "start_time": "2023-09-28T04:07:13.664Z"
   },
   {
    "duration": 11,
    "start_time": "2023-09-28T04:07:23.574Z"
   },
   {
    "duration": 44,
    "start_time": "2023-09-28T04:07:45.067Z"
   },
   {
    "duration": 12,
    "start_time": "2023-09-28T04:07:58.183Z"
   },
   {
    "duration": 1470,
    "start_time": "2023-09-28T04:14:34.545Z"
   },
   {
    "duration": 72,
    "start_time": "2023-09-28T04:15:02.417Z"
   },
   {
    "duration": 614,
    "start_time": "2023-09-28T04:15:21.838Z"
   },
   {
    "duration": 14,
    "start_time": "2023-09-28T04:15:25.343Z"
   },
   {
    "duration": 147,
    "start_time": "2023-09-28T04:16:52.636Z"
   },
   {
    "duration": 298,
    "start_time": "2023-09-28T04:16:54.721Z"
   },
   {
    "duration": 5,
    "start_time": "2023-09-28T04:16:58.470Z"
   },
   {
    "duration": 4,
    "start_time": "2023-09-28T04:16:59.907Z"
   },
   {
    "duration": 305,
    "start_time": "2023-09-28T04:17:04.822Z"
   },
   {
    "duration": 8,
    "start_time": "2023-09-28T04:17:09.434Z"
   },
   {
    "duration": 3,
    "start_time": "2023-09-28T04:17:16.235Z"
   },
   {
    "duration": 1467,
    "start_time": "2023-09-28T04:17:18.272Z"
   },
   {
    "duration": 10,
    "start_time": "2023-09-28T04:17:21.958Z"
   },
   {
    "duration": 3,
    "start_time": "2023-09-28T04:17:39.703Z"
   },
   {
    "duration": 28226,
    "start_time": "2023-09-28T04:17:43.422Z"
   },
   {
    "duration": 3,
    "start_time": "2023-09-28T04:18:21.353Z"
   },
   {
    "duration": 4,
    "start_time": "2023-09-28T04:18:22.816Z"
   },
   {
    "duration": 6,
    "start_time": "2023-09-28T04:18:52.805Z"
   },
   {
    "duration": 2,
    "start_time": "2023-09-28T04:19:28.242Z"
   },
   {
    "duration": 6,
    "start_time": "2023-09-28T04:19:32.529Z"
   },
   {
    "duration": 3,
    "start_time": "2023-09-28T04:21:06.478Z"
   },
   {
    "duration": 4,
    "start_time": "2023-09-28T04:24:42.276Z"
   },
   {
    "duration": 7288,
    "start_time": "2023-09-28T04:27:21.459Z"
   },
   {
    "duration": 14,
    "start_time": "2023-09-28T04:27:59.337Z"
   },
   {
    "duration": 4682,
    "start_time": "2023-09-28T04:28:19.965Z"
   },
   {
    "duration": 21,
    "start_time": "2023-09-28T04:28:24.650Z"
   },
   {
    "duration": 9399,
    "start_time": "2023-09-28T04:29:34.861Z"
   },
   {
    "duration": 6405,
    "start_time": "2023-09-28T04:30:13.747Z"
   },
   {
    "duration": 114,
    "start_time": "2023-09-28T04:30:20.155Z"
   },
   {
    "duration": 964,
    "start_time": "2023-09-28T04:33:16.516Z"
   },
   {
    "duration": 311,
    "start_time": "2023-09-28T04:33:20.947Z"
   },
   {
    "duration": 5,
    "start_time": "2023-09-28T04:33:28.462Z"
   },
   {
    "duration": 6,
    "start_time": "2023-09-28T04:33:35.108Z"
   },
   {
    "duration": 10,
    "start_time": "2023-09-28T04:33:36.178Z"
   },
   {
    "duration": 5,
    "start_time": "2023-09-28T04:33:45.303Z"
   },
   {
    "duration": 8644615,
    "start_time": "2023-09-28T04:36:18.289Z"
   },
   {
    "duration": 987,
    "start_time": "2023-09-28T07:00:22.906Z"
   },
   {
    "duration": 0,
    "start_time": "2023-09-28T07:00:23.920Z"
   },
   {
    "duration": 0,
    "start_time": "2023-09-28T07:00:23.923Z"
   },
   {
    "duration": 360,
    "start_time": "2023-09-28T07:10:52.270Z"
   },
   {
    "duration": 17,
    "start_time": "2023-09-28T07:11:16.058Z"
   },
   {
    "duration": 14,
    "start_time": "2023-09-28T07:11:19.006Z"
   },
   {
    "duration": 81,
    "start_time": "2023-09-28T07:11:38.182Z"
   },
   {
    "duration": 1851,
    "start_time": "2023-09-28T07:11:58.252Z"
   },
   {
    "duration": 610,
    "start_time": "2023-09-28T07:12:14.723Z"
   },
   {
    "duration": 18,
    "start_time": "2023-09-28T07:12:42.753Z"
   },
   {
    "duration": 237,
    "start_time": "2023-09-28T07:27:58.836Z"
   },
   {
    "duration": 430,
    "start_time": "2023-09-28T07:28:02.384Z"
   },
   {
    "duration": 3,
    "start_time": "2023-09-28T07:28:03.780Z"
   },
   {
    "duration": 3,
    "start_time": "2023-09-28T07:28:05.004Z"
   },
   {
    "duration": 430,
    "start_time": "2023-09-28T07:28:12.271Z"
   },
   {
    "duration": 7,
    "start_time": "2023-09-28T07:28:14.492Z"
   },
   {
    "duration": 7,
    "start_time": "2023-09-28T07:28:20.043Z"
   },
   {
    "duration": 1969,
    "start_time": "2023-09-28T07:28:21.243Z"
   },
   {
    "duration": 7,
    "start_time": "2023-09-28T07:28:24.406Z"
   },
   {
    "duration": 3,
    "start_time": "2023-09-28T07:28:28.764Z"
   },
   {
    "duration": 57210,
    "start_time": "2023-09-28T07:28:29.942Z"
   },
   {
    "duration": 13394,
    "start_time": "2023-09-28T07:29:27.155Z"
   },
   {
    "duration": 117,
    "start_time": "2023-09-28T07:29:40.551Z"
   },
   {
    "duration": 3,
    "start_time": "2023-09-28T07:30:07.282Z"
   },
   {
    "duration": 138,
    "start_time": "2023-09-28T07:30:08.520Z"
   },
   {
    "duration": 5,
    "start_time": "2023-09-28T07:47:56.123Z"
   },
   {
    "duration": 3,
    "start_time": "2023-09-28T07:48:01.083Z"
   },
   {
    "duration": 12,
    "start_time": "2023-09-28T07:48:17.498Z"
   },
   {
    "duration": 19,
    "start_time": "2023-09-28T07:48:54.584Z"
   },
   {
    "duration": 691,
    "start_time": "2023-09-28T07:52:12.282Z"
   },
   {
    "duration": 18,
    "start_time": "2023-09-28T07:52:25.642Z"
   },
   {
    "duration": 6,
    "start_time": "2023-09-28T07:52:31.732Z"
   },
   {
    "duration": 4,
    "start_time": "2023-09-28T07:52:37.603Z"
   },
   {
    "duration": 4,
    "start_time": "2023-09-28T07:53:08.937Z"
   },
   {
    "duration": 689,
    "start_time": "2023-09-28T07:53:10.622Z"
   },
   {
    "duration": 20,
    "start_time": "2023-09-28T07:53:19.062Z"
   },
   {
    "duration": 2,
    "start_time": "2023-09-28T07:53:59.362Z"
   },
   {
    "duration": 12,
    "start_time": "2023-09-28T07:54:03.154Z"
   },
   {
    "duration": 3,
    "start_time": "2023-09-28T07:54:08.792Z"
   },
   {
    "duration": 11023,
    "start_time": "2023-09-28T07:54:10.122Z"
   },
   {
    "duration": 5,
    "start_time": "2023-09-28T07:54:21.147Z"
   },
   {
    "duration": 4,
    "start_time": "2023-09-28T07:54:24.819Z"
   },
   {
    "duration": 5,
    "start_time": "2023-09-28T07:54:35.998Z"
   },
   {
    "duration": 3,
    "start_time": "2023-09-28T07:55:02.777Z"
   },
   {
    "duration": 3,
    "start_time": "2023-09-28T07:55:03.922Z"
   },
   {
    "duration": 3,
    "start_time": "2023-09-28T07:55:05.142Z"
   },
   {
    "duration": 10902,
    "start_time": "2023-09-28T07:55:06.350Z"
   },
   {
    "duration": 5,
    "start_time": "2023-09-28T07:55:28.931Z"
   },
   {
    "duration": 4,
    "start_time": "2023-09-28T07:55:31.435Z"
   },
   {
    "duration": 4,
    "start_time": "2023-09-28T07:55:44.254Z"
   },
   {
    "duration": 3,
    "start_time": "2023-09-28T07:55:46.645Z"
   },
   {
    "duration": 1230,
    "start_time": "2023-09-28T07:55:48.806Z"
   },
   {
    "duration": 5,
    "start_time": "2023-09-28T07:55:52.768Z"
   },
   {
    "duration": 5,
    "start_time": "2023-09-28T07:55:54.713Z"
   },
   {
    "duration": 3,
    "start_time": "2023-09-28T07:58:13.326Z"
   },
   {
    "duration": 2,
    "start_time": "2023-09-28T07:58:14.728Z"
   },
   {
    "duration": 4,
    "start_time": "2023-09-28T07:58:16.657Z"
   },
   {
    "duration": 3,
    "start_time": "2023-09-28T07:58:18.700Z"
   },
   {
    "duration": 2369,
    "start_time": "2023-09-28T07:58:19.793Z"
   },
   {
    "duration": 5,
    "start_time": "2023-09-28T07:58:22.165Z"
   },
   {
    "duration": 5,
    "start_time": "2023-09-28T07:58:24.640Z"
   },
   {
    "duration": 4,
    "start_time": "2023-09-28T07:58:26.572Z"
   },
   {
    "duration": 3,
    "start_time": "2023-09-28T07:59:37.433Z"
   },
   {
    "duration": 3,
    "start_time": "2023-09-28T07:59:40.041Z"
   },
   {
    "duration": 112114,
    "start_time": "2023-09-28T07:59:41.457Z"
   },
   {
    "duration": 4,
    "start_time": "2023-09-28T08:01:33.574Z"
   },
   {
    "duration": 8,
    "start_time": "2023-09-28T08:01:33.580Z"
   },
   {
    "duration": 3,
    "start_time": "2023-09-28T08:05:06.300Z"
   },
   {
    "duration": 3,
    "start_time": "2023-09-28T08:05:07.988Z"
   },
   {
    "duration": 309117,
    "start_time": "2023-09-28T08:05:09.408Z"
   },
   {
    "duration": 0,
    "start_time": "2023-09-28T08:10:18.529Z"
   },
   {
    "duration": 0,
    "start_time": "2023-09-28T08:10:18.531Z"
   },
   {
    "duration": 4,
    "start_time": "2023-09-28T08:10:58.345Z"
   },
   {
    "duration": 4,
    "start_time": "2023-09-28T08:11:01.797Z"
   },
   {
    "duration": 1065915,
    "start_time": "2023-09-28T08:11:03.548Z"
   },
   {
    "duration": 0,
    "start_time": "2023-09-28T08:28:49.466Z"
   },
   {
    "duration": 0,
    "start_time": "2023-09-28T08:28:49.468Z"
   },
   {
    "duration": 4,
    "start_time": "2023-09-28T08:29:33.274Z"
   },
   {
    "duration": 3,
    "start_time": "2023-09-28T08:29:34.458Z"
   },
   {
    "duration": 24438,
    "start_time": "2023-09-28T08:29:36.138Z"
   },
   {
    "duration": 0,
    "start_time": "2023-09-28T08:30:00.577Z"
   },
   {
    "duration": 0,
    "start_time": "2023-09-28T08:30:00.579Z"
   },
   {
    "duration": 3,
    "start_time": "2023-09-28T08:30:24.802Z"
   },
   {
    "duration": 3,
    "start_time": "2023-09-28T08:30:27.035Z"
   },
   {
    "duration": 28881,
    "start_time": "2023-09-28T08:30:28.122Z"
   },
   {
    "duration": 5,
    "start_time": "2023-09-28T08:30:57.005Z"
   },
   {
    "duration": 37,
    "start_time": "2023-09-28T08:30:57.012Z"
   },
   {
    "duration": 5,
    "start_time": "2023-09-28T08:36:34.352Z"
   },
   {
    "duration": 4,
    "start_time": "2023-09-28T08:36:36.993Z"
   },
   {
    "duration": 5,
    "start_time": "2023-09-28T08:37:00.071Z"
   },
   {
    "duration": 15,
    "start_time": "2023-09-28T08:38:49.154Z"
   },
   {
    "duration": 58,
    "start_time": "2023-09-28T08:39:07.520Z"
   },
   {
    "duration": 4,
    "start_time": "2023-09-28T08:40:18.697Z"
   },
   {
    "duration": 44,
    "start_time": "2023-09-28T08:40:21.313Z"
   },
   {
    "duration": 3,
    "start_time": "2023-09-28T08:43:35.026Z"
   },
   {
    "duration": 3,
    "start_time": "2023-09-28T08:43:38.025Z"
   },
   {
    "duration": 25087,
    "start_time": "2023-09-28T08:43:39.297Z"
   },
   {
    "duration": 5,
    "start_time": "2023-09-28T08:44:04.386Z"
   },
   {
    "duration": 29,
    "start_time": "2023-09-28T08:44:04.393Z"
   },
   {
    "duration": 5,
    "start_time": "2023-09-28T08:44:47.623Z"
   },
   {
    "duration": 3,
    "start_time": "2023-09-28T08:44:48.998Z"
   },
   {
    "duration": 50580,
    "start_time": "2023-09-28T08:44:50.063Z"
   },
   {
    "duration": 4,
    "start_time": "2023-09-28T08:45:40.647Z"
   },
   {
    "duration": 22,
    "start_time": "2023-09-28T08:45:40.652Z"
   },
   {
    "duration": 4,
    "start_time": "2023-09-28T08:48:56.871Z"
   },
   {
    "duration": 3,
    "start_time": "2023-09-28T08:48:57.902Z"
   },
   {
    "duration": 4,
    "start_time": "2023-09-28T08:49:28.549Z"
   },
   {
    "duration": 4,
    "start_time": "2023-09-28T08:49:30.182Z"
   },
   {
    "duration": 3,
    "start_time": "2023-09-28T08:49:31.102Z"
   },
   {
    "duration": 15472,
    "start_time": "2023-09-28T08:49:31.881Z"
   },
   {
    "duration": 4,
    "start_time": "2023-09-28T08:49:47.355Z"
   },
   {
    "duration": 27,
    "start_time": "2023-09-28T08:49:47.361Z"
   },
   {
    "duration": 3,
    "start_time": "2023-09-28T08:55:46.491Z"
   },
   {
    "duration": 2,
    "start_time": "2023-09-28T08:55:47.653Z"
   },
   {
    "duration": 46325,
    "start_time": "2023-09-28T08:55:48.652Z"
   },
   {
    "duration": 4,
    "start_time": "2023-09-28T08:56:34.979Z"
   },
   {
    "duration": 24,
    "start_time": "2023-09-28T08:56:34.985Z"
   },
   {
    "duration": 3,
    "start_time": "2023-09-28T08:59:28.704Z"
   },
   {
    "duration": 3,
    "start_time": "2023-09-28T08:59:29.744Z"
   },
   {
    "duration": 66633,
    "start_time": "2023-09-28T08:59:31.167Z"
   },
   {
    "duration": 4,
    "start_time": "2023-09-28T09:00:37.802Z"
   },
   {
    "duration": 22,
    "start_time": "2023-09-28T09:00:37.808Z"
   },
   {
    "duration": 3,
    "start_time": "2023-09-28T09:04:01.932Z"
   },
   {
    "duration": 3,
    "start_time": "2023-09-28T09:04:05.032Z"
   },
   {
    "duration": 66335,
    "start_time": "2023-09-28T09:04:06.188Z"
   },
   {
    "duration": 4,
    "start_time": "2023-09-28T09:05:12.525Z"
   },
   {
    "duration": 16,
    "start_time": "2023-09-28T09:05:12.531Z"
   },
   {
    "duration": 3,
    "start_time": "2023-09-28T09:07:56.382Z"
   },
   {
    "duration": 2,
    "start_time": "2023-09-28T09:07:57.849Z"
   },
   {
    "duration": 117976,
    "start_time": "2023-09-28T09:08:03.482Z"
   },
   {
    "duration": 5,
    "start_time": "2023-09-28T09:10:01.460Z"
   },
   {
    "duration": 160,
    "start_time": "2023-09-28T09:10:01.467Z"
   },
   {
    "duration": 3,
    "start_time": "2023-09-28T09:11:43.027Z"
   },
   {
    "duration": 3,
    "start_time": "2023-09-28T09:11:44.577Z"
   },
   {
    "duration": 86549,
    "start_time": "2023-09-28T09:11:45.707Z"
   },
   {
    "duration": 4,
    "start_time": "2023-09-28T09:13:12.258Z"
   },
   {
    "duration": 31,
    "start_time": "2023-09-28T09:13:12.264Z"
   },
   {
    "duration": 180,
    "start_time": "2023-09-28T09:14:44.194Z"
   },
   {
    "duration": 157,
    "start_time": "2023-09-28T09:14:54.645Z"
   },
   {
    "duration": 3,
    "start_time": "2023-09-28T09:15:12.824Z"
   },
   {
    "duration": 3,
    "start_time": "2023-09-28T09:15:14.445Z"
   },
   {
    "duration": 14493,
    "start_time": "2023-09-28T09:15:15.585Z"
   },
   {
    "duration": 4,
    "start_time": "2023-09-28T09:15:30.080Z"
   },
   {
    "duration": 48,
    "start_time": "2023-09-28T09:15:30.086Z"
   },
   {
    "duration": 3,
    "start_time": "2023-09-28T09:16:12.373Z"
   },
   {
    "duration": 3,
    "start_time": "2023-09-28T09:17:24.294Z"
   },
   {
    "duration": 2,
    "start_time": "2023-09-28T09:17:25.441Z"
   },
   {
    "duration": 428418,
    "start_time": "2023-09-28T09:17:26.474Z"
   },
   {
    "duration": 5,
    "start_time": "2023-09-28T09:24:34.894Z"
   },
   {
    "duration": 15,
    "start_time": "2023-09-28T09:24:34.900Z"
   },
   {
    "duration": 3,
    "start_time": "2023-09-28T09:25:41.047Z"
   },
   {
    "duration": 3,
    "start_time": "2023-09-28T09:25:42.971Z"
   },
   {
    "duration": 0,
    "start_time": "2023-09-28T09:44:32.453Z"
   },
   {
    "duration": 0,
    "start_time": "2023-09-28T09:44:32.455Z"
   },
   {
    "duration": 0,
    "start_time": "2023-09-28T09:44:32.456Z"
   },
   {
    "duration": 0,
    "start_time": "2023-09-28T09:44:32.457Z"
   },
   {
    "duration": 0,
    "start_time": "2023-09-28T09:44:32.458Z"
   },
   {
    "duration": 0,
    "start_time": "2023-09-28T09:44:32.459Z"
   },
   {
    "duration": 0,
    "start_time": "2023-09-28T09:44:32.460Z"
   },
   {
    "duration": 0,
    "start_time": "2023-09-28T09:44:32.461Z"
   },
   {
    "duration": 0,
    "start_time": "2023-09-28T09:44:32.462Z"
   },
   {
    "duration": 0,
    "start_time": "2023-09-28T09:44:32.464Z"
   },
   {
    "duration": 0,
    "start_time": "2023-09-28T09:44:32.465Z"
   },
   {
    "duration": 0,
    "start_time": "2023-09-28T09:44:32.466Z"
   },
   {
    "duration": 0,
    "start_time": "2023-09-28T09:44:32.468Z"
   },
   {
    "duration": 0,
    "start_time": "2023-09-28T09:44:32.469Z"
   },
   {
    "duration": 0,
    "start_time": "2023-09-28T09:44:32.470Z"
   },
   {
    "duration": 0,
    "start_time": "2023-09-28T09:44:32.471Z"
   },
   {
    "duration": 0,
    "start_time": "2023-09-28T09:44:32.472Z"
   },
   {
    "duration": 0,
    "start_time": "2023-09-28T09:44:32.473Z"
   },
   {
    "duration": 0,
    "start_time": "2023-09-28T09:44:32.474Z"
   },
   {
    "duration": 0,
    "start_time": "2023-09-28T09:44:32.475Z"
   },
   {
    "duration": 0,
    "start_time": "2023-09-28T09:44:32.476Z"
   },
   {
    "duration": 0,
    "start_time": "2023-09-28T09:44:32.477Z"
   },
   {
    "duration": 0,
    "start_time": "2023-09-28T09:44:32.478Z"
   },
   {
    "duration": 0,
    "start_time": "2023-09-28T09:44:32.479Z"
   },
   {
    "duration": 0,
    "start_time": "2023-09-28T09:44:32.481Z"
   },
   {
    "duration": 6,
    "start_time": "2023-09-28T09:44:39.966Z"
   },
   {
    "duration": 4027,
    "start_time": "2023-09-28T09:44:44.967Z"
   },
   {
    "duration": 990,
    "start_time": "2023-09-28T09:44:48.996Z"
   },
   {
    "duration": 332,
    "start_time": "2023-09-28T09:44:49.989Z"
   },
   {
    "duration": 5,
    "start_time": "2023-09-28T09:44:50.323Z"
   },
   {
    "duration": 47,
    "start_time": "2023-09-28T09:44:50.330Z"
   },
   {
    "duration": 59,
    "start_time": "2023-09-28T09:44:50.378Z"
   },
   {
    "duration": 22,
    "start_time": "2023-09-28T09:44:50.439Z"
   },
   {
    "duration": 34,
    "start_time": "2023-09-28T09:44:50.463Z"
   },
   {
    "duration": 588,
    "start_time": "2023-09-28T09:44:50.499Z"
   },
   {
    "duration": 82,
    "start_time": "2023-09-28T09:44:51.089Z"
   },
   {
    "duration": 144,
    "start_time": "2023-09-28T09:44:51.173Z"
   },
   {
    "duration": 0,
    "start_time": "2023-09-28T09:44:51.319Z"
   },
   {
    "duration": 0,
    "start_time": "2023-09-28T09:44:51.321Z"
   },
   {
    "duration": 0,
    "start_time": "2023-09-28T09:44:51.323Z"
   },
   {
    "duration": 0,
    "start_time": "2023-09-28T09:44:51.324Z"
   },
   {
    "duration": 0,
    "start_time": "2023-09-28T09:44:51.325Z"
   },
   {
    "duration": 0,
    "start_time": "2023-09-28T09:44:51.327Z"
   },
   {
    "duration": 0,
    "start_time": "2023-09-28T09:44:51.346Z"
   },
   {
    "duration": 0,
    "start_time": "2023-09-28T09:44:51.347Z"
   },
   {
    "duration": 0,
    "start_time": "2023-09-28T09:44:51.349Z"
   },
   {
    "duration": 0,
    "start_time": "2023-09-28T09:44:51.350Z"
   },
   {
    "duration": 0,
    "start_time": "2023-09-28T09:44:51.351Z"
   },
   {
    "duration": 0,
    "start_time": "2023-09-28T09:44:51.352Z"
   },
   {
    "duration": 0,
    "start_time": "2023-09-28T09:44:51.353Z"
   },
   {
    "duration": 11,
    "start_time": "2023-09-28T09:45:06.538Z"
   },
   {
    "duration": 137,
    "start_time": "2023-09-28T09:45:12.943Z"
   },
   {
    "duration": 408,
    "start_time": "2023-09-28T09:45:14.608Z"
   },
   {
    "duration": 5,
    "start_time": "2023-09-28T09:45:15.727Z"
   },
   {
    "duration": 4,
    "start_time": "2023-09-28T09:45:17.822Z"
   },
   {
    "duration": 418,
    "start_time": "2023-09-28T09:45:21.023Z"
   },
   {
    "duration": 7,
    "start_time": "2023-09-28T09:45:23.213Z"
   },
   {
    "duration": 3,
    "start_time": "2023-09-28T09:45:25.807Z"
   },
   {
    "duration": 1968,
    "start_time": "2023-09-28T09:45:28.223Z"
   },
   {
    "duration": 8,
    "start_time": "2023-09-28T09:45:30.193Z"
   },
   {
    "duration": 3,
    "start_time": "2023-09-28T09:45:34.228Z"
   },
   {
    "duration": 48609,
    "start_time": "2023-09-28T09:45:35.338Z"
   },
   {
    "duration": 9598,
    "start_time": "2023-09-28T09:46:23.949Z"
   },
   {
    "duration": 118,
    "start_time": "2023-09-28T09:46:33.550Z"
   },
   {
    "duration": 2,
    "start_time": "2023-09-28T09:46:33.671Z"
   },
   {
    "duration": 33,
    "start_time": "2023-09-28T09:46:33.675Z"
   },
   {
    "duration": 35,
    "start_time": "2023-09-28T09:46:33.710Z"
   },
   {
    "duration": 505435,
    "start_time": "2023-09-28T09:46:33.747Z"
   },
   {
    "duration": 4,
    "start_time": "2023-09-28T09:54:59.184Z"
   },
   {
    "duration": 5,
    "start_time": "2023-09-28T09:54:59.190Z"
   },
   {
    "duration": 4,
    "start_time": "2023-09-28T09:55:38.041Z"
   },
   {
    "duration": 3,
    "start_time": "2023-09-28T09:55:39.546Z"
   },
   {
    "duration": 124231,
    "start_time": "2023-09-28T09:55:40.637Z"
   },
   {
    "duration": 0,
    "start_time": "2023-09-28T09:57:44.870Z"
   },
   {
    "duration": 0,
    "start_time": "2023-09-28T09:57:44.871Z"
   },
   {
    "duration": 3,
    "start_time": "2023-09-28T09:57:55.038Z"
   },
   {
    "duration": 3,
    "start_time": "2023-09-28T09:57:56.850Z"
   },
   {
    "duration": 28793,
    "start_time": "2023-09-28T09:57:58.001Z"
   },
   {
    "duration": 4,
    "start_time": "2023-09-28T09:58:26.796Z"
   },
   {
    "duration": 19,
    "start_time": "2023-09-28T09:58:26.801Z"
   },
   {
    "duration": 2,
    "start_time": "2023-09-28T09:58:41.967Z"
   },
   {
    "duration": 3,
    "start_time": "2023-09-28T09:58:43.639Z"
   },
   {
    "duration": 72134,
    "start_time": "2023-09-28T09:58:44.667Z"
   },
   {
    "duration": 4,
    "start_time": "2023-09-28T09:59:56.804Z"
   },
   {
    "duration": 24,
    "start_time": "2023-09-28T09:59:56.810Z"
   },
   {
    "duration": 2,
    "start_time": "2023-09-28T10:01:17.938Z"
   },
   {
    "duration": 4,
    "start_time": "2023-09-28T10:01:19.762Z"
   },
   {
    "duration": 14417,
    "start_time": "2023-09-28T10:01:20.763Z"
   },
   {
    "duration": 6,
    "start_time": "2023-09-28T10:01:35.183Z"
   },
   {
    "duration": 26,
    "start_time": "2023-09-28T10:01:35.190Z"
   },
   {
    "duration": 3,
    "start_time": "2023-09-28T10:02:03.903Z"
   },
   {
    "duration": 3,
    "start_time": "2023-09-28T10:02:05.385Z"
   },
   {
    "duration": 10362,
    "start_time": "2023-09-28T10:02:06.297Z"
   },
   {
    "duration": 5,
    "start_time": "2023-09-28T10:02:16.661Z"
   },
   {
    "duration": 44,
    "start_time": "2023-09-28T10:02:16.668Z"
   },
   {
    "duration": 2,
    "start_time": "2023-09-28T10:02:51.550Z"
   },
   {
    "duration": 3,
    "start_time": "2023-09-28T10:02:53.226Z"
   },
   {
    "duration": 51043,
    "start_time": "2023-09-28T10:02:54.197Z"
   },
   {
    "duration": 7,
    "start_time": "2023-09-28T10:03:45.242Z"
   },
   {
    "duration": 33,
    "start_time": "2023-09-28T10:03:45.251Z"
   },
   {
    "duration": 3,
    "start_time": "2023-09-28T10:31:02.354Z"
   },
   {
    "duration": 3,
    "start_time": "2023-09-28T10:31:03.810Z"
   },
   {
    "duration": 3,
    "start_time": "2023-09-28T10:31:04.970Z"
   },
   {
    "duration": 3,
    "start_time": "2023-09-28T10:31:06.651Z"
   },
   {
    "duration": 5308,
    "start_time": "2023-09-28T10:31:07.571Z"
   },
   {
    "duration": 5,
    "start_time": "2023-09-28T10:31:12.882Z"
   },
   {
    "duration": 21,
    "start_time": "2023-09-28T10:31:12.888Z"
   },
   {
    "duration": 3,
    "start_time": "2023-09-28T10:31:45.230Z"
   },
   {
    "duration": 4,
    "start_time": "2023-09-28T10:31:47.662Z"
   },
   {
    "duration": 3,
    "start_time": "2023-09-28T10:31:48.742Z"
   },
   {
    "duration": 7069,
    "start_time": "2023-09-28T10:31:49.662Z"
   },
   {
    "duration": 4,
    "start_time": "2023-09-28T10:31:56.733Z"
   },
   {
    "duration": 13,
    "start_time": "2023-09-28T10:31:56.739Z"
   },
   {
    "duration": 3,
    "start_time": "2023-09-28T10:32:47.454Z"
   },
   {
    "duration": 3,
    "start_time": "2023-09-28T10:32:49.327Z"
   },
   {
    "duration": 3,
    "start_time": "2023-09-28T10:32:50.766Z"
   },
   {
    "duration": 3,
    "start_time": "2023-09-28T10:32:52.423Z"
   },
   {
    "duration": 6958,
    "start_time": "2023-09-28T10:32:53.454Z"
   },
   {
    "duration": 5,
    "start_time": "2023-09-28T10:33:00.415Z"
   },
   {
    "duration": 73,
    "start_time": "2023-09-28T10:33:00.422Z"
   },
   {
    "duration": 4,
    "start_time": "2023-09-28T10:33:53.246Z"
   },
   {
    "duration": 3,
    "start_time": "2023-09-28T10:33:54.822Z"
   },
   {
    "duration": 9465,
    "start_time": "2023-09-28T10:33:55.886Z"
   },
   {
    "duration": 5,
    "start_time": "2023-09-28T10:34:05.354Z"
   },
   {
    "duration": 5,
    "start_time": "2023-09-28T10:34:07.742Z"
   },
   {
    "duration": 4,
    "start_time": "2023-09-28T10:34:24.086Z"
   },
   {
    "duration": 3,
    "start_time": "2023-09-28T10:34:50.718Z"
   },
   {
    "duration": 3,
    "start_time": "2023-09-28T10:34:52.022Z"
   },
   {
    "duration": 30785,
    "start_time": "2023-09-28T10:34:53.022Z"
   },
   {
    "duration": 4,
    "start_time": "2023-09-28T10:35:23.810Z"
   },
   {
    "duration": 57,
    "start_time": "2023-09-28T10:35:23.816Z"
   },
   {
    "duration": 3,
    "start_time": "2023-09-28T10:36:06.142Z"
   },
   {
    "duration": 3,
    "start_time": "2023-09-28T10:36:07.262Z"
   },
   {
    "duration": 53296,
    "start_time": "2023-09-28T10:36:08.261Z"
   },
   {
    "duration": 4,
    "start_time": "2023-09-28T10:37:01.559Z"
   },
   {
    "duration": 79,
    "start_time": "2023-09-28T10:37:01.565Z"
   },
   {
    "duration": 3,
    "start_time": "2023-09-28T10:39:11.792Z"
   },
   {
    "duration": 3,
    "start_time": "2023-09-28T10:39:13.537Z"
   },
   {
    "duration": 54825,
    "start_time": "2023-09-28T10:39:14.536Z"
   },
   {
    "duration": 5,
    "start_time": "2023-09-28T10:40:09.363Z"
   },
   {
    "duration": 37,
    "start_time": "2023-09-28T10:40:09.370Z"
   },
   {
    "duration": 3,
    "start_time": "2023-09-28T10:45:53.679Z"
   },
   {
    "duration": 4,
    "start_time": "2023-09-28T10:45:55.382Z"
   },
   {
    "duration": 53128,
    "start_time": "2023-09-28T10:45:56.430Z"
   },
   {
    "duration": 5,
    "start_time": "2023-09-28T10:46:49.561Z"
   },
   {
    "duration": 36,
    "start_time": "2023-09-28T10:46:49.567Z"
   },
   {
    "duration": 3,
    "start_time": "2023-09-28T10:49:44.574Z"
   },
   {
    "duration": 3,
    "start_time": "2023-09-28T10:49:45.749Z"
   },
   {
    "duration": 157542,
    "start_time": "2023-09-28T10:49:46.889Z"
   },
   {
    "duration": 4,
    "start_time": "2023-09-28T10:52:24.433Z"
   },
   {
    "duration": 29,
    "start_time": "2023-09-28T10:52:24.457Z"
   },
   {
    "duration": 3,
    "start_time": "2023-09-28T10:53:57.850Z"
   },
   {
    "duration": 3,
    "start_time": "2023-09-28T10:54:00.960Z"
   },
   {
    "duration": 36786,
    "start_time": "2023-09-28T10:54:37.915Z"
   },
   {
    "duration": 5,
    "start_time": "2023-09-28T10:55:14.703Z"
   },
   {
    "duration": 20,
    "start_time": "2023-09-28T10:55:14.710Z"
   },
   {
    "duration": 3,
    "start_time": "2023-09-28T10:57:58.487Z"
   },
   {
    "duration": 3,
    "start_time": "2023-09-28T10:57:59.685Z"
   },
   {
    "duration": 451779,
    "start_time": "2023-09-28T10:58:02.311Z"
   },
   {
    "duration": 4,
    "start_time": "2023-09-28T11:05:34.093Z"
   },
   {
    "duration": 32,
    "start_time": "2023-09-28T11:05:34.099Z"
   },
   {
    "duration": 3,
    "start_time": "2023-09-28T11:14:27.535Z"
   },
   {
    "duration": 3,
    "start_time": "2023-09-28T11:14:29.110Z"
   },
   {
    "duration": 886190,
    "start_time": "2023-09-28T11:14:30.144Z"
   },
   {
    "duration": 5,
    "start_time": "2023-09-28T11:29:16.336Z"
   },
   {
    "duration": 20,
    "start_time": "2023-09-28T11:29:16.342Z"
   },
   {
    "duration": 3,
    "start_time": "2023-09-28T11:30:29.985Z"
   },
   {
    "duration": 2,
    "start_time": "2023-09-28T11:30:31.794Z"
   },
   {
    "duration": 10707,
    "start_time": "2023-09-28T11:30:32.553Z"
   },
   {
    "duration": 5,
    "start_time": "2023-09-28T11:30:43.262Z"
   },
   {
    "duration": 3,
    "start_time": "2023-09-28T11:31:08.584Z"
   },
   {
    "duration": 3,
    "start_time": "2023-09-28T11:31:10.613Z"
   },
   {
    "duration": 101498,
    "start_time": "2023-09-28T11:31:11.539Z"
   },
   {
    "duration": 24,
    "start_time": "2023-09-28T11:32:53.039Z"
   },
   {
    "duration": 9,
    "start_time": "2023-09-28T11:32:53.065Z"
   },
   {
    "duration": 4,
    "start_time": "2023-09-28T11:33:52.104Z"
   },
   {
    "duration": 4,
    "start_time": "2023-09-28T11:33:54.505Z"
   },
   {
    "duration": 198101,
    "start_time": "2023-09-28T11:33:55.463Z"
   },
   {
    "duration": 5,
    "start_time": "2023-09-28T11:37:13.565Z"
   },
   {
    "duration": 13,
    "start_time": "2023-09-28T11:37:13.571Z"
   },
   {
    "duration": 5,
    "start_time": "2023-09-28T12:02:35.273Z"
   },
   {
    "duration": 3,
    "start_time": "2023-09-28T12:03:19.305Z"
   },
   {
    "duration": 15,
    "start_time": "2023-09-28T12:03:20.479Z"
   },
   {
    "duration": 4,
    "start_time": "2023-09-28T12:03:29.024Z"
   },
   {
    "duration": 17,
    "start_time": "2023-09-28T12:03:30.681Z"
   },
   {
    "duration": 4,
    "start_time": "2023-09-28T12:03:57.545Z"
   },
   {
    "duration": 3,
    "start_time": "2023-09-28T12:03:59.528Z"
   },
   {
    "duration": 14,
    "start_time": "2023-09-28T12:04:00.952Z"
   },
   {
    "duration": 3,
    "start_time": "2023-09-28T12:04:18.992Z"
   },
   {
    "duration": 5,
    "start_time": "2023-09-28T12:04:31.464Z"
   },
   {
    "duration": 11240,
    "start_time": "2023-09-28T12:04:49.865Z"
   },
   {
    "duration": 34,
    "start_time": "2023-09-28T12:05:03.202Z"
   },
   {
    "duration": 6,
    "start_time": "2023-09-28T12:06:27.123Z"
   },
   {
    "duration": 3,
    "start_time": "2023-09-28T12:12:46.851Z"
   },
   {
    "duration": 84,
    "start_time": "2023-09-28T12:12:55.637Z"
   },
   {
    "duration": 113,
    "start_time": "2023-09-28T12:13:18.644Z"
   },
   {
    "duration": 4,
    "start_time": "2023-09-28T12:13:29.499Z"
   },
   {
    "duration": 4,
    "start_time": "2023-09-28T12:13:44.265Z"
   },
   {
    "duration": 18,
    "start_time": "2023-09-28T12:13:46.449Z"
   },
   {
    "duration": 41614,
    "start_time": "2023-09-28T12:14:21.072Z"
   },
   {
    "duration": 6,
    "start_time": "2023-09-28T12:15:02.688Z"
   },
   {
    "duration": 3,
    "start_time": "2023-09-28T12:15:26.487Z"
   },
   {
    "duration": 4,
    "start_time": "2023-09-28T12:16:22.685Z"
   },
   {
    "duration": 5,
    "start_time": "2023-09-28T12:16:25.325Z"
   },
   {
    "duration": 6,
    "start_time": "2023-09-28T12:16:26.507Z"
   },
   {
    "duration": 135094,
    "start_time": "2023-09-28T12:16:27.714Z"
   },
   {
    "duration": 28,
    "start_time": "2023-09-28T12:18:42.849Z"
   },
   {
    "duration": 20,
    "start_time": "2023-09-28T12:18:42.879Z"
   },
   {
    "duration": 5,
    "start_time": "2023-09-28T12:18:54.877Z"
   },
   {
    "duration": 4,
    "start_time": "2023-09-28T12:19:14.280Z"
   },
   {
    "duration": 4,
    "start_time": "2023-09-28T12:21:10.409Z"
   },
   {
    "duration": 3,
    "start_time": "2023-09-28T12:21:12.542Z"
   },
   {
    "duration": 1003213,
    "start_time": "2023-09-28T12:21:13.594Z"
   },
   {
    "duration": 5,
    "start_time": "2023-09-28T12:37:56.809Z"
   },
   {
    "duration": 18,
    "start_time": "2023-09-28T12:37:56.847Z"
   },
   {
    "duration": 97,
    "start_time": "2023-09-28T12:37:56.868Z"
   },
   {
    "duration": 3,
    "start_time": "2023-09-28T12:39:03.728Z"
   },
   {
    "duration": 4,
    "start_time": "2023-09-28T12:40:37.249Z"
   },
   {
    "duration": 3295,
    "start_time": "2023-09-28T12:40:40.394Z"
   },
   {
    "duration": 36,
    "start_time": "2023-09-28T12:40:49.134Z"
   },
   {
    "duration": 9,
    "start_time": "2023-09-28T12:41:24.414Z"
   },
   {
    "duration": 4034,
    "start_time": "2023-09-28T12:41:26.254Z"
   },
   {
    "duration": 43,
    "start_time": "2023-09-28T12:41:36.115Z"
   },
   {
    "duration": 10,
    "start_time": "2023-09-28T12:41:47.719Z"
   },
   {
    "duration": 6952,
    "start_time": "2023-09-28T12:41:49.899Z"
   },
   {
    "duration": 34,
    "start_time": "2023-09-28T12:42:04.590Z"
   },
   {
    "duration": 3,
    "start_time": "2023-09-28T12:47:03.809Z"
   },
   {
    "duration": 10,
    "start_time": "2023-09-28T12:47:20.316Z"
   },
   {
    "duration": 3,
    "start_time": "2023-09-28T12:48:29.366Z"
   },
   {
    "duration": 3,
    "start_time": "2023-09-28T12:48:31.807Z"
   },
   {
    "duration": 686751,
    "start_time": "2023-09-28T12:48:37.957Z"
   },
   {
    "duration": 5,
    "start_time": "2023-09-28T13:00:04.710Z"
   },
   {
    "duration": 32,
    "start_time": "2023-09-28T13:00:04.716Z"
   },
   {
    "duration": 17,
    "start_time": "2023-09-28T13:00:04.750Z"
   },
   {
    "duration": 6983,
    "start_time": "2023-09-28T13:00:04.769Z"
   },
   {
    "duration": 35,
    "start_time": "2023-09-28T13:00:11.753Z"
   },
   {
    "duration": 3,
    "start_time": "2023-09-28T13:09:18.466Z"
   },
   {
    "duration": 2,
    "start_time": "2023-09-28T13:09:20.587Z"
   },
   {
    "duration": 1121459,
    "start_time": "2023-09-28T13:09:27.365Z"
   },
   {
    "duration": 24,
    "start_time": "2023-09-28T13:28:08.826Z"
   },
   {
    "duration": 40,
    "start_time": "2023-09-28T13:28:08.851Z"
   },
   {
    "duration": 4,
    "start_time": "2023-09-28T13:40:10.943Z"
   },
   {
    "duration": 4,
    "start_time": "2023-09-28T13:40:11.361Z"
   },
   {
    "duration": 3,
    "start_time": "2023-09-28T13:40:12.742Z"
   },
   {
    "duration": 530022,
    "start_time": "2023-09-28T13:40:13.865Z"
   },
   {
    "duration": 5,
    "start_time": "2023-09-28T13:49:03.889Z"
   },
   {
    "duration": 7,
    "start_time": "2023-09-28T13:49:03.899Z"
   },
   {
    "duration": 2,
    "start_time": "2023-09-28T13:51:44.831Z"
   },
   {
    "duration": 3,
    "start_time": "2023-09-28T13:52:29.557Z"
   },
   {
    "duration": 4,
    "start_time": "2023-09-28T13:52:59.036Z"
   },
   {
    "duration": 3,
    "start_time": "2023-09-28T13:53:00.318Z"
   },
   {
    "duration": 3,
    "start_time": "2023-09-28T13:53:02.163Z"
   },
   {
    "duration": 4,
    "start_time": "2023-09-28T13:53:03.357Z"
   },
   {
    "duration": 539629,
    "start_time": "2023-09-28T13:53:18.864Z"
   },
   {
    "duration": 5,
    "start_time": "2023-09-28T14:02:18.496Z"
   },
   {
    "duration": 11,
    "start_time": "2023-09-28T14:02:18.503Z"
   },
   {
    "duration": 1155,
    "start_time": "2023-09-28T14:02:18.516Z"
   },
   {
    "duration": 930,
    "start_time": "2023-09-28T14:02:24.825Z"
   },
   {
    "duration": 1453,
    "start_time": "2023-09-28T14:02:26.921Z"
   },
   {
    "duration": 4,
    "start_time": "2023-09-28T14:02:49.708Z"
   },
   {
    "duration": 33,
    "start_time": "2023-09-28T14:02:54.388Z"
   },
   {
    "duration": 14,
    "start_time": "2023-09-28T14:02:55.828Z"
   },
   {
    "duration": 6,
    "start_time": "2023-09-28T14:03:37.763Z"
   },
   {
    "duration": 10,
    "start_time": "2023-09-28T14:03:51.743Z"
   },
   {
    "duration": 13,
    "start_time": "2023-09-28T14:04:42.744Z"
   },
   {
    "duration": 2355,
    "start_time": "2023-09-28T14:05:23.196Z"
   },
   {
    "duration": 10,
    "start_time": "2023-09-28T14:05:27.057Z"
   },
   {
    "duration": 5546,
    "start_time": "2023-09-28T14:06:01.612Z"
   },
   {
    "duration": 2474,
    "start_time": "2023-09-28T14:06:07.160Z"
   },
   {
    "duration": 333,
    "start_time": "2023-09-28T14:06:09.636Z"
   },
   {
    "duration": 4,
    "start_time": "2023-09-28T14:06:09.971Z"
   },
   {
    "duration": 43,
    "start_time": "2023-09-28T14:06:09.976Z"
   },
   {
    "duration": 35,
    "start_time": "2023-09-28T14:06:10.021Z"
   },
   {
    "duration": 46,
    "start_time": "2023-09-28T14:06:10.058Z"
   },
   {
    "duration": 23,
    "start_time": "2023-09-28T14:06:10.106Z"
   },
   {
    "duration": 592,
    "start_time": "2023-09-28T14:06:10.131Z"
   },
   {
    "duration": 82,
    "start_time": "2023-09-28T14:06:10.726Z"
   },
   {
    "duration": 135,
    "start_time": "2023-09-28T14:06:10.810Z"
   },
   {
    "duration": 180,
    "start_time": "2023-09-28T14:06:10.947Z"
   },
   {
    "duration": 420,
    "start_time": "2023-09-28T14:06:11.128Z"
   },
   {
    "duration": 41,
    "start_time": "2023-09-28T14:06:11.550Z"
   },
   {
    "duration": 80,
    "start_time": "2023-09-28T14:06:11.592Z"
   },
   {
    "duration": 450,
    "start_time": "2023-09-28T14:06:11.673Z"
   },
   {
    "duration": 8,
    "start_time": "2023-09-28T14:06:12.125Z"
   },
   {
    "duration": 20,
    "start_time": "2023-09-28T14:06:12.146Z"
   },
   {
    "duration": 1958,
    "start_time": "2023-09-28T14:06:12.167Z"
   },
   {
    "duration": 7,
    "start_time": "2023-09-28T14:06:14.127Z"
   },
   {
    "duration": 2280,
    "start_time": "2023-09-28T14:06:22.637Z"
   },
   {
    "duration": 9,
    "start_time": "2023-09-28T14:06:26.329Z"
   },
   {
    "duration": 4382,
    "start_time": "2023-09-28T14:06:43.278Z"
   },
   {
    "duration": 2478,
    "start_time": "2023-09-28T14:06:47.662Z"
   },
   {
    "duration": 327,
    "start_time": "2023-09-28T14:06:50.142Z"
   },
   {
    "duration": 3,
    "start_time": "2023-09-28T14:06:50.471Z"
   },
   {
    "duration": 30,
    "start_time": "2023-09-28T14:06:50.476Z"
   },
   {
    "duration": 21,
    "start_time": "2023-09-28T14:06:50.508Z"
   },
   {
    "duration": 49,
    "start_time": "2023-09-28T14:06:50.530Z"
   },
   {
    "duration": 25,
    "start_time": "2023-09-28T14:06:50.581Z"
   },
   {
    "duration": 733,
    "start_time": "2023-09-28T14:06:50.609Z"
   },
   {
    "duration": 78,
    "start_time": "2023-09-28T14:06:51.343Z"
   },
   {
    "duration": 25,
    "start_time": "2023-09-28T14:06:51.423Z"
   },
   {
    "duration": 144,
    "start_time": "2023-09-28T14:06:51.449Z"
   },
   {
    "duration": 421,
    "start_time": "2023-09-28T14:06:51.594Z"
   },
   {
    "duration": 33,
    "start_time": "2023-09-28T14:06:52.018Z"
   },
   {
    "duration": 40,
    "start_time": "2023-09-28T14:06:52.052Z"
   },
   {
    "duration": 451,
    "start_time": "2023-09-28T14:06:52.093Z"
   },
   {
    "duration": 7,
    "start_time": "2023-09-28T14:06:52.546Z"
   },
   {
    "duration": 32,
    "start_time": "2023-09-28T14:06:52.554Z"
   },
   {
    "duration": 1963,
    "start_time": "2023-09-28T14:06:52.588Z"
   },
   {
    "duration": 7,
    "start_time": "2023-09-28T14:06:54.553Z"
   },
   {
    "duration": 960,
    "start_time": "2023-09-28T14:07:07.976Z"
   },
   {
    "duration": 4,
    "start_time": "2023-09-28T14:07:10.512Z"
   },
   {
    "duration": 6,
    "start_time": "2023-09-28T14:07:11.468Z"
   },
   {
    "duration": 6,
    "start_time": "2023-09-28T14:07:12.948Z"
   },
   {
    "duration": 12,
    "start_time": "2023-09-28T14:07:14.037Z"
   },
   {
    "duration": 172,
    "start_time": "2023-09-28T14:07:26.499Z"
   },
   {
    "duration": 14,
    "start_time": "2023-09-28T14:07:31.237Z"
   },
   {
    "duration": 12,
    "start_time": "2023-09-28T14:10:34.112Z"
   },
   {
    "duration": 6,
    "start_time": "2023-09-28T14:11:25.196Z"
   },
   {
    "duration": 13,
    "start_time": "2023-09-28T14:11:31.479Z"
   },
   {
    "duration": 15,
    "start_time": "2023-09-28T14:15:35.809Z"
   },
   {
    "duration": 6,
    "start_time": "2023-09-28T14:15:48.884Z"
   },
   {
    "duration": 17,
    "start_time": "2023-09-28T14:15:51.347Z"
   },
   {
    "duration": 3,
    "start_time": "2023-09-28T14:17:16.879Z"
   },
   {
    "duration": 91,
    "start_time": "2023-09-28T14:17:34.215Z"
   },
   {
    "duration": 4,
    "start_time": "2023-09-28T14:17:41.928Z"
   },
   {
    "duration": 17,
    "start_time": "2023-09-28T14:17:59.984Z"
   },
   {
    "duration": 4,
    "start_time": "2023-09-28T14:20:35.448Z"
   },
   {
    "duration": 4,
    "start_time": "2023-09-28T14:20:37.828Z"
   },
   {
    "duration": 4,
    "start_time": "2023-09-28T14:20:45.322Z"
   },
   {
    "duration": 5,
    "start_time": "2023-09-28T14:25:04.623Z"
   },
   {
    "duration": 1055,
    "start_time": "2023-09-28T14:25:04.633Z"
   },
   {
    "duration": 317,
    "start_time": "2023-09-28T14:25:05.690Z"
   },
   {
    "duration": 4,
    "start_time": "2023-09-28T14:25:06.008Z"
   },
   {
    "duration": 34,
    "start_time": "2023-09-28T14:25:06.013Z"
   },
   {
    "duration": 60,
    "start_time": "2023-09-28T14:25:06.050Z"
   },
   {
    "duration": 29,
    "start_time": "2023-09-28T14:25:06.112Z"
   },
   {
    "duration": 30,
    "start_time": "2023-09-28T14:25:06.143Z"
   },
   {
    "duration": 613,
    "start_time": "2023-09-28T14:25:06.175Z"
   },
   {
    "duration": 89,
    "start_time": "2023-09-28T14:25:06.790Z"
   },
   {
    "duration": 14,
    "start_time": "2023-09-28T14:25:06.880Z"
   },
   {
    "duration": 22,
    "start_time": "2023-09-28T14:25:06.896Z"
   },
   {
    "duration": 474,
    "start_time": "2023-09-28T14:25:06.920Z"
   },
   {
    "duration": 32,
    "start_time": "2023-09-28T14:25:07.396Z"
   },
   {
    "duration": 32,
    "start_time": "2023-09-28T14:25:07.432Z"
   },
   {
    "duration": 502,
    "start_time": "2023-09-28T14:25:07.466Z"
   },
   {
    "duration": 9,
    "start_time": "2023-09-28T14:25:07.970Z"
   },
   {
    "duration": 28,
    "start_time": "2023-09-28T14:25:07.981Z"
   },
   {
    "duration": 1938,
    "start_time": "2023-09-28T14:25:08.011Z"
   },
   {
    "duration": 9,
    "start_time": "2023-09-28T14:25:09.951Z"
   },
   {
    "duration": 8,
    "start_time": "2023-09-28T14:25:09.961Z"
   },
   {
    "duration": 48881,
    "start_time": "2023-09-28T14:25:09.971Z"
   },
   {
    "duration": 9992,
    "start_time": "2023-09-28T14:25:58.855Z"
   },
   {
    "duration": 35,
    "start_time": "2023-09-28T14:26:08.850Z"
   },
   {
    "duration": 16,
    "start_time": "2023-09-28T14:26:08.887Z"
   },
   {
    "duration": 44,
    "start_time": "2023-09-28T14:26:08.905Z"
   },
   {
    "duration": 21,
    "start_time": "2023-09-28T14:26:08.951Z"
   },
   {
    "duration": 182830,
    "start_time": "2023-09-28T14:26:08.974Z"
   },
   {
    "duration": 4,
    "start_time": "2023-09-28T14:29:11.806Z"
   },
   {
    "duration": 27,
    "start_time": "2023-09-28T14:29:11.811Z"
   },
   {
    "duration": 10,
    "start_time": "2023-09-28T14:29:11.840Z"
   },
   {
    "duration": 10843,
    "start_time": "2023-09-28T14:29:11.851Z"
   },
   {
    "duration": 34,
    "start_time": "2023-09-28T14:29:22.695Z"
   },
   {
    "duration": 3,
    "start_time": "2023-09-28T14:34:18.580Z"
   },
   {
    "duration": 12,
    "start_time": "2023-09-28T14:34:20.187Z"
   },
   {
    "duration": 4,
    "start_time": "2023-09-28T14:34:23.846Z"
   },
   {
    "duration": 2,
    "start_time": "2023-09-28T14:34:24.969Z"
   },
   {
    "duration": 3,
    "start_time": "2023-09-28T14:34:25.927Z"
   },
   {
    "duration": 377942,
    "start_time": "2023-09-28T14:40:45.947Z"
   },
   {
    "duration": 5,
    "start_time": "2023-09-28T14:47:03.891Z"
   },
   {
    "duration": 19,
    "start_time": "2023-09-28T14:47:03.898Z"
   },
   {
    "duration": 44,
    "start_time": "2023-09-28T14:47:03.919Z"
   },
   {
    "duration": 7190,
    "start_time": "2023-09-28T14:47:03.965Z"
   },
   {
    "duration": 40,
    "start_time": "2023-09-28T14:47:11.158Z"
   },
   {
    "duration": 12,
    "start_time": "2023-09-28T14:51:53.282Z"
   },
   {
    "duration": 6579,
    "start_time": "2023-09-28T14:51:54.490Z"
   },
   {
    "duration": 89,
    "start_time": "2023-09-28T14:52:01.071Z"
   },
   {
    "duration": 3,
    "start_time": "2023-09-28T14:59:47.357Z"
   },
   {
    "duration": 3,
    "start_time": "2023-09-28T14:59:49.617Z"
   },
   {
    "duration": 592062,
    "start_time": "2023-09-28T14:59:52.098Z"
   },
   {
    "duration": 5,
    "start_time": "2023-09-28T15:09:44.162Z"
   },
   {
    "duration": 6,
    "start_time": "2023-09-28T15:09:44.168Z"
   },
   {
    "duration": 3,
    "start_time": "2023-09-28T15:09:44.176Z"
   },
   {
    "duration": 7280,
    "start_time": "2023-09-28T15:09:44.180Z"
   },
   {
    "duration": 34,
    "start_time": "2023-09-28T15:09:51.461Z"
   },
   {
    "duration": 3,
    "start_time": "2023-09-28T15:11:15.448Z"
   },
   {
    "duration": 3,
    "start_time": "2023-09-28T15:11:17.016Z"
   },
   {
    "duration": 763787,
    "start_time": "2023-09-28T15:11:18.188Z"
   },
   {
    "duration": 5,
    "start_time": "2023-09-28T15:24:01.977Z"
   },
   {
    "duration": 251,
    "start_time": "2023-09-28T15:24:01.983Z"
   },
   {
    "duration": 285,
    "start_time": "2023-09-28T15:24:02.237Z"
   },
   {
    "duration": 7150,
    "start_time": "2023-09-28T15:24:02.524Z"
   },
   {
    "duration": 101,
    "start_time": "2023-09-28T15:24:09.676Z"
   },
   {
    "duration": 3,
    "start_time": "2023-09-28T16:00:46.326Z"
   },
   {
    "duration": 3,
    "start_time": "2023-09-28T16:00:48.025Z"
   },
   {
    "duration": 1146185,
    "start_time": "2023-09-28T16:00:49.722Z"
   },
   {
    "duration": 41,
    "start_time": "2023-09-28T16:19:55.915Z"
   },
   {
    "duration": 26,
    "start_time": "2023-09-28T16:19:55.958Z"
   },
   {
    "duration": 17,
    "start_time": "2023-09-28T16:19:55.986Z"
   },
   {
    "duration": 3,
    "start_time": "2023-09-28T17:13:25.145Z"
   },
   {
    "duration": 3,
    "start_time": "2023-09-28T17:13:26.990Z"
   },
   {
    "duration": 1043805,
    "start_time": "2023-09-28T17:13:33.162Z"
   },
   {
    "duration": 4,
    "start_time": "2023-09-28T17:30:56.970Z"
   },
   {
    "duration": 15,
    "start_time": "2023-09-28T17:30:56.976Z"
   },
   {
    "duration": 26,
    "start_time": "2023-09-28T17:30:56.993Z"
   },
   {
    "duration": 7441,
    "start_time": "2023-09-28T17:30:57.020Z"
   },
   {
    "duration": 35,
    "start_time": "2023-09-28T17:31:04.463Z"
   },
   {
    "duration": 8057,
    "start_time": "2023-09-28T17:32:19.390Z"
   },
   {
    "duration": 34,
    "start_time": "2023-09-28T17:32:27.449Z"
   },
   {
    "duration": 35,
    "start_time": "2023-09-28T17:32:30.390Z"
   },
   {
    "duration": 178,
    "start_time": "2023-09-28T17:35:17.262Z"
   },
   {
    "duration": 350,
    "start_time": "2023-09-28T17:35:31.597Z"
   },
   {
    "duration": 88,
    "start_time": "2023-09-28T17:36:07.684Z"
   },
   {
    "duration": 4,
    "start_time": "2023-09-28T17:36:14.908Z"
   },
   {
    "duration": 4,
    "start_time": "2023-09-28T17:36:27.423Z"
   },
   {
    "duration": 4,
    "start_time": "2023-09-28T17:39:50.467Z"
   },
   {
    "duration": 4,
    "start_time": "2023-09-28T17:39:52.262Z"
   },
   {
    "duration": 2,
    "start_time": "2023-09-28T17:41:14.730Z"
   },
   {
    "duration": 53172,
    "start_time": "2023-09-28T17:41:16.186Z"
   },
   {
    "duration": 10888,
    "start_time": "2023-09-28T17:42:09.361Z"
   },
   {
    "duration": 120,
    "start_time": "2023-09-28T17:42:20.251Z"
   },
   {
    "duration": 9554,
    "start_time": "2023-09-28T17:42:30.096Z"
   },
   {
    "duration": 121,
    "start_time": "2023-09-28T17:42:39.653Z"
   },
   {
    "duration": 12053,
    "start_time": "2023-09-28T17:44:42.295Z"
   },
   {
    "duration": 62529,
    "start_time": "2023-09-28T17:45:56.618Z"
   },
   {
    "duration": 12698,
    "start_time": "2023-09-28T17:46:59.149Z"
   },
   {
    "duration": 36,
    "start_time": "2023-09-28T17:47:11.849Z"
   },
   {
    "duration": 3,
    "start_time": "2023-09-28T17:55:52.212Z"
   },
   {
    "duration": 28,
    "start_time": "2023-09-28T17:55:55.680Z"
   },
   {
    "duration": 3,
    "start_time": "2023-09-28T17:55:58.370Z"
   },
   {
    "duration": 3,
    "start_time": "2023-09-28T17:55:59.314Z"
   },
   {
    "duration": 3,
    "start_time": "2023-09-28T17:56:00.179Z"
   },
   {
    "duration": 184582,
    "start_time": "2023-09-28T17:56:01.090Z"
   },
   {
    "duration": 5,
    "start_time": "2023-09-28T17:59:05.675Z"
   },
   {
    "duration": 6,
    "start_time": "2023-09-28T17:59:05.682Z"
   },
   {
    "duration": 3,
    "start_time": "2023-09-28T17:59:30.532Z"
   },
   {
    "duration": 10805,
    "start_time": "2023-09-28T17:59:31.495Z"
   },
   {
    "duration": 34,
    "start_time": "2023-09-28T17:59:42.302Z"
   },
   {
    "duration": 3,
    "start_time": "2023-09-28T18:00:30.823Z"
   },
   {
    "duration": 4,
    "start_time": "2023-09-28T18:00:32.188Z"
   },
   {
    "duration": 18761,
    "start_time": "2023-09-28T18:00:33.091Z"
   },
   {
    "duration": 4,
    "start_time": "2023-09-28T18:00:51.854Z"
   },
   {
    "duration": 12,
    "start_time": "2023-09-28T18:00:51.860Z"
   },
   {
    "duration": 5,
    "start_time": "2023-09-28T18:01:06.088Z"
   },
   {
    "duration": 3,
    "start_time": "2023-09-28T18:01:15.464Z"
   },
   {
    "duration": 10528,
    "start_time": "2023-09-28T18:01:16.277Z"
   },
   {
    "duration": 40,
    "start_time": "2023-09-28T18:01:26.807Z"
   },
   {
    "duration": 3,
    "start_time": "2023-09-28T18:02:13.017Z"
   },
   {
    "duration": 4,
    "start_time": "2023-09-28T18:02:15.668Z"
   },
   {
    "duration": 3,
    "start_time": "2023-09-28T18:02:16.955Z"
   },
   {
    "duration": 278158,
    "start_time": "2023-09-28T18:02:17.902Z"
   },
   {
    "duration": 4,
    "start_time": "2023-09-28T18:06:56.062Z"
   },
   {
    "duration": 11,
    "start_time": "2023-09-28T18:06:56.068Z"
   },
   {
    "duration": 4,
    "start_time": "2023-09-28T18:06:56.081Z"
   },
   {
    "duration": 11347,
    "start_time": "2023-09-28T18:06:56.086Z"
   },
   {
    "duration": 40,
    "start_time": "2023-09-28T18:07:07.435Z"
   },
   {
    "duration": 4,
    "start_time": "2023-09-28T18:17:41.282Z"
   },
   {
    "duration": 967,
    "start_time": "2023-09-28T18:17:41.291Z"
   },
   {
    "duration": 311,
    "start_time": "2023-09-28T18:17:42.260Z"
   },
   {
    "duration": 4,
    "start_time": "2023-09-28T18:17:42.572Z"
   },
   {
    "duration": 28,
    "start_time": "2023-09-28T18:17:42.578Z"
   },
   {
    "duration": 21,
    "start_time": "2023-09-28T18:17:42.608Z"
   },
   {
    "duration": 125,
    "start_time": "2023-09-28T18:17:42.632Z"
   },
   {
    "duration": 23,
    "start_time": "2023-09-28T18:17:42.759Z"
   },
   {
    "duration": 920,
    "start_time": "2023-09-28T18:17:42.784Z"
   },
   {
    "duration": 84,
    "start_time": "2023-09-28T18:17:43.706Z"
   },
   {
    "duration": 10,
    "start_time": "2023-09-28T18:17:43.793Z"
   },
   {
    "duration": 185,
    "start_time": "2023-09-28T18:17:43.805Z"
   },
   {
    "duration": 446,
    "start_time": "2023-09-28T18:17:43.992Z"
   },
   {
    "duration": 15,
    "start_time": "2023-09-28T18:17:44.440Z"
   },
   {
    "duration": 14,
    "start_time": "2023-09-28T18:17:44.457Z"
   },
   {
    "duration": 497,
    "start_time": "2023-09-28T18:17:44.473Z"
   },
   {
    "duration": 8,
    "start_time": "2023-09-28T18:17:44.972Z"
   },
   {
    "duration": 8,
    "start_time": "2023-09-28T18:17:44.982Z"
   },
   {
    "duration": 2024,
    "start_time": "2023-09-28T18:17:44.992Z"
   },
   {
    "duration": 8,
    "start_time": "2023-09-28T18:17:47.019Z"
   },
   {
    "duration": 21,
    "start_time": "2023-09-28T18:17:47.029Z"
   },
   {
    "duration": 57503,
    "start_time": "2023-09-28T18:17:47.052Z"
   },
   {
    "duration": 13303,
    "start_time": "2023-09-28T18:18:44.557Z"
   },
   {
    "duration": 115,
    "start_time": "2023-09-28T18:18:57.862Z"
   },
   {
    "duration": 3,
    "start_time": "2023-09-28T18:23:03.238Z"
   },
   {
    "duration": 3,
    "start_time": "2023-09-28T18:23:04.797Z"
   },
   {
    "duration": 3,
    "start_time": "2023-09-28T18:23:11.833Z"
   },
   {
    "duration": 323268,
    "start_time": "2023-09-28T18:23:13.046Z"
   },
   {
    "duration": 4,
    "start_time": "2023-09-28T18:28:36.316Z"
   },
   {
    "duration": 10,
    "start_time": "2023-09-28T18:28:36.322Z"
   },
   {
    "duration": 29,
    "start_time": "2023-09-28T18:28:36.333Z"
   },
   {
    "duration": 10601,
    "start_time": "2023-09-28T18:28:36.364Z"
   },
   {
    "duration": 33,
    "start_time": "2023-09-28T18:28:46.967Z"
   },
   {
    "duration": 3,
    "start_time": "2023-09-28T18:32:14.239Z"
   },
   {
    "duration": 3,
    "start_time": "2023-09-28T18:32:17.716Z"
   },
   {
    "duration": 293219,
    "start_time": "2023-09-28T18:32:19.128Z"
   },
   {
    "duration": 5,
    "start_time": "2023-09-28T18:37:12.349Z"
   },
   {
    "duration": 21,
    "start_time": "2023-09-28T18:37:12.356Z"
   },
   {
    "duration": 13,
    "start_time": "2023-09-28T18:37:12.378Z"
   },
   {
    "duration": 3,
    "start_time": "2023-09-28T18:39:16.790Z"
   },
   {
    "duration": 3,
    "start_time": "2023-09-28T18:39:18.616Z"
   },
   {
    "duration": 283426,
    "start_time": "2023-09-28T18:39:20.282Z"
   },
   {
    "duration": 4,
    "start_time": "2023-09-28T18:44:03.710Z"
   },
   {
    "duration": 17,
    "start_time": "2023-09-28T18:44:03.716Z"
   },
   {
    "duration": 2,
    "start_time": "2023-09-28T18:58:51.745Z"
   },
   {
    "duration": 287203,
    "start_time": "2023-09-28T18:58:58.136Z"
   },
   {
    "duration": 7,
    "start_time": "2023-09-28T19:03:45.351Z"
   },
   {
    "duration": 5,
    "start_time": "2023-09-28T19:03:45.361Z"
   },
   {
    "duration": 4,
    "start_time": "2023-09-28T19:08:51.044Z"
   },
   {
    "duration": 4,
    "start_time": "2023-09-28T19:08:55.985Z"
   },
   {
    "duration": 205599,
    "start_time": "2023-09-28T19:08:57.042Z"
   },
   {
    "duration": 4,
    "start_time": "2023-09-28T19:12:22.646Z"
   },
   {
    "duration": 31,
    "start_time": "2023-09-28T19:12:22.652Z"
   },
   {
    "duration": 11,
    "start_time": "2023-09-28T19:32:17.590Z"
   },
   {
    "duration": 6,
    "start_time": "2023-09-28T19:32:19.874Z"
   },
   {
    "duration": 4,
    "start_time": "2023-09-28T19:32:21.175Z"
   },
   {
    "duration": 35,
    "start_time": "2023-09-28T19:55:30.470Z"
   },
   {
    "duration": 3360,
    "start_time": "2023-09-28T20:19:48.499Z"
   },
   {
    "duration": 1122,
    "start_time": "2023-09-28T20:19:51.871Z"
   },
   {
    "duration": 368,
    "start_time": "2023-09-28T20:19:52.995Z"
   },
   {
    "duration": 9,
    "start_time": "2023-09-28T20:19:53.365Z"
   },
   {
    "duration": 8,
    "start_time": "2023-09-28T20:20:06.085Z"
   },
   {
    "duration": 10,
    "start_time": "2023-09-28T20:20:07.789Z"
   },
   {
    "duration": 5,
    "start_time": "2023-09-28T20:20:25.189Z"
   },
   {
    "duration": 2905,
    "start_time": "2023-09-29T07:21:45.687Z"
   },
   {
    "duration": 6,
    "start_time": "2023-09-29T07:21:52.292Z"
   },
   {
    "duration": 948,
    "start_time": "2023-09-29T07:21:56.096Z"
   },
   {
    "duration": 304,
    "start_time": "2023-09-29T07:21:59.520Z"
   },
   {
    "duration": 4,
    "start_time": "2023-09-29T07:22:02.918Z"
   },
   {
    "duration": 11,
    "start_time": "2023-09-29T07:22:27.676Z"
   },
   {
    "duration": 13,
    "start_time": "2023-09-29T07:22:28.888Z"
   },
   {
    "duration": 4,
    "start_time": "2023-09-29T07:22:44.523Z"
   },
   {
    "duration": 9315224,
    "start_time": "2023-09-29T07:23:19.088Z"
   },
   {
    "duration": 7,
    "start_time": "2023-09-29T09:58:34.326Z"
   },
   {
    "duration": 281,
    "start_time": "2023-09-29T09:58:34.336Z"
   },
   {
    "duration": 771,
    "start_time": "2023-09-29T09:58:34.628Z"
   },
   {
    "duration": 101,
    "start_time": "2023-09-29T10:03:14.351Z"
   },
   {
    "duration": 79,
    "start_time": "2023-09-29T10:03:44.284Z"
   },
   {
    "duration": 932,
    "start_time": "2023-09-29T10:03:45.994Z"
   },
   {
    "duration": 59,
    "start_time": "2023-09-29T10:03:48.480Z"
   },
   {
    "duration": 29,
    "start_time": "2023-09-29T10:03:48.998Z"
   },
   {
    "duration": 90,
    "start_time": "2023-09-29T10:03:50.190Z"
   },
   {
    "duration": 74,
    "start_time": "2023-09-29T10:03:51.027Z"
   },
   {
    "duration": 13,
    "start_time": "2023-09-29T10:04:29.561Z"
   },
   {
    "duration": 259,
    "start_time": "2023-09-29T10:04:31.927Z"
   },
   {
    "duration": 631,
    "start_time": "2023-09-29T10:04:33.089Z"
   },
   {
    "duration": 5,
    "start_time": "2023-09-29T10:04:34.045Z"
   },
   {
    "duration": 628,
    "start_time": "2023-09-29T10:04:36.575Z"
   },
   {
    "duration": 7,
    "start_time": "2023-09-29T10:04:37.726Z"
   },
   {
    "duration": 21,
    "start_time": "2023-09-29T10:04:41.608Z"
   },
   {
    "duration": 2943,
    "start_time": "2023-09-29T10:04:42.432Z"
   },
   {
    "duration": 11,
    "start_time": "2023-09-29T10:04:45.377Z"
   },
   {
    "duration": 3,
    "start_time": "2023-09-29T10:04:50.867Z"
   },
   {
    "duration": 276,
    "start_time": "2023-09-29T10:04:51.635Z"
   },
   {
    "duration": 846,
    "start_time": "2023-09-29T10:05:33.490Z"
   },
   {
    "duration": 14,
    "start_time": "2023-09-29T10:05:39.422Z"
   },
   {
    "duration": 19,
    "start_time": "2023-09-29T10:05:58.361Z"
   },
   {
    "duration": 5,
    "start_time": "2023-09-29T10:06:07.230Z"
   },
   {
    "duration": 1115,
    "start_time": "2023-09-29T10:06:08.127Z"
   },
   {
    "duration": 314,
    "start_time": "2023-09-29T10:06:16.883Z"
   },
   {
    "duration": 4,
    "start_time": "2023-09-29T10:06:18.144Z"
   },
   {
    "duration": 736,
    "start_time": "2023-09-29T10:06:27.515Z"
   },
   {
    "duration": 86,
    "start_time": "2023-09-29T10:06:31.840Z"
   },
   {
    "duration": 13,
    "start_time": "2023-09-29T10:06:31.928Z"
   },
   {
    "duration": 127,
    "start_time": "2023-09-29T10:06:31.943Z"
   },
   {
    "duration": 93,
    "start_time": "2023-09-29T10:06:32.072Z"
   },
   {
    "duration": 11,
    "start_time": "2023-09-29T10:06:32.167Z"
   },
   {
    "duration": 4,
    "start_time": "2023-09-29T10:06:39.962Z"
   },
   {
    "duration": 602,
    "start_time": "2023-09-29T10:06:41.162Z"
   },
   {
    "duration": 5,
    "start_time": "2023-09-29T10:06:41.977Z"
   },
   {
    "duration": 624,
    "start_time": "2023-09-29T10:06:43.725Z"
   },
   {
    "duration": 9,
    "start_time": "2023-09-29T10:06:44.493Z"
   },
   {
    "duration": 7,
    "start_time": "2023-09-29T10:06:46.751Z"
   },
   {
    "duration": 2984,
    "start_time": "2023-09-29T10:06:48.391Z"
   },
   {
    "duration": 9,
    "start_time": "2023-09-29T10:06:52.273Z"
   },
   {
    "duration": 20,
    "start_time": "2023-09-29T10:07:09.009Z"
   },
   {
    "duration": 3015,
    "start_time": "2023-09-29T10:07:10.870Z"
   },
   {
    "duration": 9,
    "start_time": "2023-09-29T10:07:14.422Z"
   },
   {
    "duration": 3,
    "start_time": "2023-09-29T10:07:18.451Z"
   },
   {
    "duration": 38,
    "start_time": "2023-09-29T10:07:19.424Z"
   },
   {
    "duration": 8,
    "start_time": "2023-09-29T10:08:05.330Z"
   },
   {
    "duration": 66,
    "start_time": "2023-09-29T10:08:24.737Z"
   },
   {
    "duration": 2637,
    "start_time": "2023-09-29T10:09:01.565Z"
   },
   {
    "duration": 3372,
    "start_time": "2023-09-29T10:09:04.204Z"
   },
   {
    "duration": 2774,
    "start_time": "2023-09-29T10:09:07.578Z"
   },
   {
    "duration": 331,
    "start_time": "2023-09-29T10:09:10.355Z"
   },
   {
    "duration": 4,
    "start_time": "2023-09-29T10:09:10.688Z"
   },
   {
    "duration": 31,
    "start_time": "2023-09-29T10:09:10.694Z"
   },
   {
    "duration": 11,
    "start_time": "2023-09-29T10:09:10.729Z"
   },
   {
    "duration": 5,
    "start_time": "2023-09-29T10:09:10.742Z"
   },
   {
    "duration": 1121,
    "start_time": "2023-09-29T10:09:26.433Z"
   },
   {
    "duration": 67,
    "start_time": "2023-09-29T10:09:30.534Z"
   },
   {
    "duration": 14,
    "start_time": "2023-09-29T10:09:33.173Z"
   },
   {
    "duration": 129,
    "start_time": "2023-09-29T10:09:44.231Z"
   },
   {
    "duration": 118,
    "start_time": "2023-09-29T10:09:48.031Z"
   },
   {
    "duration": 14,
    "start_time": "2023-09-29T10:09:48.732Z"
   },
   {
    "duration": 597,
    "start_time": "2023-09-29T10:09:52.886Z"
   },
   {
    "duration": 18,
    "start_time": "2023-09-29T10:09:55.284Z"
   },
   {
    "duration": 99,
    "start_time": "2023-09-29T10:09:55.793Z"
   },
   {
    "duration": 121,
    "start_time": "2023-09-29T10:09:57.283Z"
   },
   {
    "duration": 14,
    "start_time": "2023-09-29T10:09:58.249Z"
   },
   {
    "duration": 2755,
    "start_time": "2023-09-29T10:10:11.058Z"
   },
   {
    "duration": 834,
    "start_time": "2023-09-29T10:10:35.301Z"
   },
   {
    "duration": 14,
    "start_time": "2023-09-29T10:10:38.653Z"
   },
   {
    "duration": 219,
    "start_time": "2023-09-29T10:10:53.139Z"
   },
   {
    "duration": 578,
    "start_time": "2023-09-29T10:10:57.294Z"
   },
   {
    "duration": 11,
    "start_time": "2023-09-29T10:10:59.608Z"
   },
   {
    "duration": 6,
    "start_time": "2023-09-29T10:11:09.688Z"
   },
   {
    "duration": 599,
    "start_time": "2023-09-29T10:11:28.853Z"
   },
   {
    "duration": 11,
    "start_time": "2023-09-29T10:11:29.580Z"
   },
   {
    "duration": 4,
    "start_time": "2023-09-29T10:11:32.781Z"
   },
   {
    "duration": 3222,
    "start_time": "2023-09-29T10:11:33.944Z"
   },
   {
    "duration": 10,
    "start_time": "2023-09-29T10:11:37.966Z"
   },
   {
    "duration": 5,
    "start_time": "2023-09-29T10:11:41.686Z"
   },
   {
    "duration": 3,
    "start_time": "2023-09-29T10:11:47.955Z"
   },
   {
    "duration": 71372,
    "start_time": "2023-09-29T10:11:49.439Z"
   },
   {
    "duration": 19415,
    "start_time": "2023-09-29T10:13:00.817Z"
   },
   {
    "duration": 127,
    "start_time": "2023-09-29T10:13:20.234Z"
   },
   {
    "duration": 2,
    "start_time": "2023-09-29T10:15:08.938Z"
   },
   {
    "duration": 3,
    "start_time": "2023-09-29T10:15:09.960Z"
   },
   {
    "duration": 3,
    "start_time": "2023-09-29T10:15:10.758Z"
   },
   {
    "duration": 322921,
    "start_time": "2023-09-29T10:15:12.035Z"
   },
   {
    "duration": 5,
    "start_time": "2023-09-29T10:20:34.959Z"
   },
   {
    "duration": 30,
    "start_time": "2023-09-29T10:20:34.966Z"
   },
   {
    "duration": 36,
    "start_time": "2023-09-29T10:20:34.998Z"
   },
   {
    "duration": 19625,
    "start_time": "2023-09-29T10:20:35.036Z"
   },
   {
    "duration": 55,
    "start_time": "2023-09-29T10:20:54.664Z"
   },
   {
    "duration": 3024,
    "start_time": "2023-09-29T10:46:09.346Z"
   },
   {
    "duration": 7,
    "start_time": "2023-09-29T10:46:12.372Z"
   },
   {
    "duration": 1223,
    "start_time": "2023-09-29T10:46:12.382Z"
   },
   {
    "duration": 343,
    "start_time": "2023-09-29T10:46:13.608Z"
   },
   {
    "duration": 4,
    "start_time": "2023-09-29T10:46:13.953Z"
   },
   {
    "duration": 14,
    "start_time": "2023-09-29T10:46:25.286Z"
   },
   {
    "duration": 7,
    "start_time": "2023-09-29T10:46:31.286Z"
   },
   {
    "duration": 875,
    "start_time": "2023-09-29T11:00:29.024Z"
   },
   {
    "duration": 193,
    "start_time": "2023-09-29T11:00:31.631Z"
   },
   {
    "duration": 20,
    "start_time": "2023-09-29T11:01:35.986Z"
   },
   {
    "duration": 26,
    "start_time": "2023-09-29T11:07:33.606Z"
   },
   {
    "duration": 3380,
    "start_time": "2023-09-30T07:01:20.456Z"
   },
   {
    "duration": 2384,
    "start_time": "2023-09-30T07:01:27.963Z"
   },
   {
    "duration": 284,
    "start_time": "2023-09-30T07:01:33.955Z"
   },
   {
    "duration": 3,
    "start_time": "2023-09-30T07:01:38.525Z"
   },
   {
    "duration": 853,
    "start_time": "2023-09-30T07:02:27.587Z"
   },
   {
    "duration": 168,
    "start_time": "2023-09-30T07:02:29.670Z"
   },
   {
    "duration": 398,
    "start_time": "2023-09-30T07:08:51.523Z"
   },
   {
    "duration": 283,
    "start_time": "2023-09-30T07:10:25.553Z"
   },
   {
    "duration": 57,
    "start_time": "2023-09-30T07:10:26.426Z"
   },
   {
    "duration": 58,
    "start_time": "2023-09-30T07:10:42.823Z"
   },
   {
    "duration": 422,
    "start_time": "2023-09-30T07:11:30.176Z"
   },
   {
    "duration": 921,
    "start_time": "2023-09-30T07:11:32.807Z"
   },
   {
    "duration": 221,
    "start_time": "2023-09-30T07:12:09.488Z"
   },
   {
    "duration": 20,
    "start_time": "2023-09-30T07:12:14.278Z"
   },
   {
    "duration": 159,
    "start_time": "2023-09-30T07:12:18.017Z"
   },
   {
    "duration": 148,
    "start_time": "2023-09-30T07:12:19.704Z"
   },
   {
    "duration": 11,
    "start_time": "2023-09-30T07:12:21.204Z"
   },
   {
    "duration": 4447,
    "start_time": "2023-09-30T07:12:34.139Z"
   },
   {
    "duration": 1315,
    "start_time": "2023-09-30T07:13:28.638Z"
   },
   {
    "duration": 178,
    "start_time": "2023-09-30T07:13:44.900Z"
   },
   {
    "duration": 13,
    "start_time": "2023-09-30T07:13:48.132Z"
   },
   {
    "duration": 224,
    "start_time": "2023-09-30T07:13:57.378Z"
   },
   {
    "duration": 1015,
    "start_time": "2023-09-30T07:13:59.337Z"
   },
   {
    "duration": 5,
    "start_time": "2023-09-30T07:14:01.528Z"
   },
   {
    "duration": 5,
    "start_time": "2023-09-30T07:14:03.610Z"
   },
   {
    "duration": 999,
    "start_time": "2023-09-30T07:14:07.139Z"
   },
   {
    "duration": 8,
    "start_time": "2023-09-30T07:14:09.547Z"
   },
   {
    "duration": 2,
    "start_time": "2023-09-30T07:14:12.083Z"
   },
   {
    "duration": 5238,
    "start_time": "2023-09-30T07:14:13.317Z"
   },
   {
    "duration": 8,
    "start_time": "2023-09-30T07:14:18.997Z"
   },
   {
    "duration": 4,
    "start_time": "2023-09-30T07:14:26.496Z"
   },
   {
    "duration": 3,
    "start_time": "2023-09-30T07:14:29.744Z"
   },
   {
    "duration": 85242,
    "start_time": "2023-09-30T07:14:30.775Z"
   },
   {
    "duration": 13600,
    "start_time": "2023-09-30T07:15:56.021Z"
   },
   {
    "duration": 190,
    "start_time": "2023-09-30T07:16:09.623Z"
   },
   {
    "duration": 3,
    "start_time": "2023-09-30T07:16:39.474Z"
   },
   {
    "duration": 4,
    "start_time": "2023-09-30T07:16:41.156Z"
   },
   {
    "duration": 3,
    "start_time": "2023-09-30T07:16:42.859Z"
   },
   {
    "duration": 870529,
    "start_time": "2023-09-30T07:16:44.856Z"
   },
   {
    "duration": 4,
    "start_time": "2023-09-30T07:31:15.387Z"
   },
   {
    "duration": 13,
    "start_time": "2023-09-30T07:31:15.393Z"
   },
   {
    "duration": 7,
    "start_time": "2023-09-30T07:31:15.408Z"
   },
   {
    "duration": 55386,
    "start_time": "2023-09-30T07:31:15.417Z"
   },
   {
    "duration": 84,
    "start_time": "2023-09-30T07:32:10.804Z"
   },
   {
    "duration": 3,
    "start_time": "2023-09-30T07:36:03.137Z"
   },
   {
    "duration": 3,
    "start_time": "2023-09-30T07:36:04.182Z"
   },
   {
    "duration": 5,
    "start_time": "2023-09-30T07:36:06.656Z"
   },
   {
    "duration": 2,
    "start_time": "2023-09-30T07:36:07.624Z"
   },
   {
    "duration": 3,
    "start_time": "2023-09-30T07:37:11.100Z"
   },
   {
    "duration": 4100,
    "start_time": "2023-09-30T07:37:11.105Z"
   },
   {
    "duration": 2459,
    "start_time": "2023-09-30T07:37:15.207Z"
   },
   {
    "duration": 317,
    "start_time": "2023-09-30T07:37:17.668Z"
   },
   {
    "duration": 4,
    "start_time": "2023-09-30T07:37:17.987Z"
   },
   {
    "duration": 21,
    "start_time": "2023-09-30T07:37:17.993Z"
   },
   {
    "duration": 7,
    "start_time": "2023-09-30T07:37:18.016Z"
   },
   {
    "duration": 1711,
    "start_time": "2023-09-30T07:37:18.024Z"
   },
   {
    "duration": 178,
    "start_time": "2023-09-30T07:37:19.737Z"
   },
   {
    "duration": 159,
    "start_time": "2023-09-30T07:37:19.917Z"
   },
   {
    "duration": 13,
    "start_time": "2023-09-30T07:37:20.079Z"
   },
   {
    "duration": 185,
    "start_time": "2023-09-30T07:37:20.094Z"
   },
   {
    "duration": 1159,
    "start_time": "2023-09-30T07:37:20.280Z"
   },
   {
    "duration": 37,
    "start_time": "2023-09-30T07:37:21.441Z"
   },
   {
    "duration": 25,
    "start_time": "2023-09-30T07:37:21.480Z"
   },
   {
    "duration": 1162,
    "start_time": "2023-09-30T07:37:21.506Z"
   },
   {
    "duration": 8,
    "start_time": "2023-09-30T07:37:22.671Z"
   },
   {
    "duration": 25,
    "start_time": "2023-09-30T07:37:22.681Z"
   },
   {
    "duration": 5024,
    "start_time": "2023-09-30T07:37:22.709Z"
   },
   {
    "duration": 9,
    "start_time": "2023-09-30T07:37:27.735Z"
   },
   {
    "duration": 17,
    "start_time": "2023-09-30T07:37:27.746Z"
   },
   {
    "duration": 3,
    "start_time": "2023-09-30T07:37:32.145Z"
   },
   {
    "duration": 3888,
    "start_time": "2023-09-30T08:53:03.166Z"
   },
   {
    "duration": 2369,
    "start_time": "2023-09-30T08:53:07.057Z"
   },
   {
    "duration": 293,
    "start_time": "2023-09-30T08:53:09.428Z"
   },
   {
    "duration": 3,
    "start_time": "2023-09-30T08:53:09.724Z"
   },
   {
    "duration": 20,
    "start_time": "2023-09-30T08:53:09.730Z"
   },
   {
    "duration": 24,
    "start_time": "2023-09-30T08:53:09.752Z"
   },
   {
    "duration": 1445,
    "start_time": "2023-09-30T08:53:09.779Z"
   },
   {
    "duration": 152,
    "start_time": "2023-09-30T08:53:11.226Z"
   },
   {
    "duration": 129,
    "start_time": "2023-09-30T08:53:11.380Z"
   },
   {
    "duration": 11,
    "start_time": "2023-09-30T08:53:11.511Z"
   },
   {
    "duration": 220,
    "start_time": "2023-09-30T08:53:11.523Z"
   },
   {
    "duration": 973,
    "start_time": "2023-09-30T08:53:11.745Z"
   },
   {
    "duration": 10,
    "start_time": "2023-09-30T08:53:12.720Z"
   },
   {
    "duration": 5,
    "start_time": "2023-09-30T08:53:12.744Z"
   },
   {
    "duration": 1006,
    "start_time": "2023-09-30T08:53:12.750Z"
   },
   {
    "duration": 6,
    "start_time": "2023-09-30T08:53:13.758Z"
   },
   {
    "duration": 11,
    "start_time": "2023-09-30T08:53:13.765Z"
   },
   {
    "duration": 4863,
    "start_time": "2023-09-30T08:53:13.778Z"
   },
   {
    "duration": 7,
    "start_time": "2023-09-30T08:53:18.644Z"
   },
   {
    "duration": 37,
    "start_time": "2023-09-30T08:53:18.652Z"
   },
   {
    "duration": 10,
    "start_time": "2023-09-30T08:53:18.690Z"
   },
   {
    "duration": 84146,
    "start_time": "2023-09-30T08:53:18.701Z"
   },
   {
    "duration": 13697,
    "start_time": "2023-09-30T08:54:42.849Z"
   },
   {
    "duration": 160,
    "start_time": "2023-09-30T08:54:56.548Z"
   },
   {
    "duration": 3,
    "start_time": "2023-09-30T08:54:56.711Z"
   },
   {
    "duration": 7,
    "start_time": "2023-09-30T08:54:56.716Z"
   },
   {
    "duration": 12,
    "start_time": "2023-09-30T08:54:56.724Z"
   },
   {
    "duration": 48,
    "start_time": "2023-09-30T09:32:48.063Z"
   },
   {
    "duration": 3823,
    "start_time": "2023-09-30T09:33:02.150Z"
   },
   {
    "duration": 2419,
    "start_time": "2023-09-30T09:33:05.975Z"
   },
   {
    "duration": 326,
    "start_time": "2023-09-30T09:33:08.395Z"
   },
   {
    "duration": 3,
    "start_time": "2023-09-30T09:33:08.723Z"
   },
   {
    "duration": 22,
    "start_time": "2023-09-30T09:33:08.728Z"
   },
   {
    "duration": 6,
    "start_time": "2023-09-30T09:33:08.751Z"
   },
   {
    "duration": 1905,
    "start_time": "2023-09-30T09:33:08.759Z"
   },
   {
    "duration": 180,
    "start_time": "2023-09-30T09:33:10.666Z"
   },
   {
    "duration": 172,
    "start_time": "2023-09-30T09:33:10.847Z"
   },
   {
    "duration": 12,
    "start_time": "2023-09-30T09:33:11.022Z"
   },
   {
    "duration": 191,
    "start_time": "2023-09-30T09:33:11.036Z"
   },
   {
    "duration": 1009,
    "start_time": "2023-09-30T09:33:11.229Z"
   },
   {
    "duration": 7,
    "start_time": "2023-09-30T09:33:12.244Z"
   },
   {
    "duration": 9,
    "start_time": "2023-09-30T09:33:12.253Z"
   },
   {
    "duration": 1043,
    "start_time": "2023-09-30T09:33:12.264Z"
   },
   {
    "duration": 8,
    "start_time": "2023-09-30T09:33:13.309Z"
   },
   {
    "duration": 28,
    "start_time": "2023-09-30T09:33:13.319Z"
   },
   {
    "duration": 4966,
    "start_time": "2023-09-30T09:33:13.349Z"
   },
   {
    "duration": 8,
    "start_time": "2023-09-30T09:33:18.316Z"
   },
   {
    "duration": 18,
    "start_time": "2023-09-30T09:33:18.326Z"
   },
   {
    "duration": 3,
    "start_time": "2023-09-30T09:33:27.159Z"
   },
   {
    "duration": 3,
    "start_time": "2023-09-30T09:33:28.715Z"
   },
   {
    "duration": 4,
    "start_time": "2023-09-30T09:33:30.355Z"
   },
   {
    "duration": 788162,
    "start_time": "2023-09-30T09:33:31.385Z"
   },
   {
    "duration": 5,
    "start_time": "2023-09-30T09:46:39.549Z"
   },
   {
    "duration": 8,
    "start_time": "2023-09-30T09:46:39.555Z"
   },
   {
    "duration": 8,
    "start_time": "2023-09-30T09:46:39.564Z"
   },
   {
    "duration": 48616,
    "start_time": "2023-09-30T09:46:39.573Z"
   },
   {
    "duration": 76,
    "start_time": "2023-09-30T09:47:28.191Z"
   },
   {
    "duration": 3,
    "start_time": "2023-09-30T09:48:59.062Z"
   },
   {
    "duration": 3,
    "start_time": "2023-09-30T09:49:00.706Z"
   },
   {
    "duration": 24239,
    "start_time": "2023-09-30T09:49:02.068Z"
   },
   {
    "duration": 4,
    "start_time": "2023-09-30T09:49:26.309Z"
   },
   {
    "duration": 4,
    "start_time": "2023-09-30T09:51:01.752Z"
   },
   {
    "duration": 3,
    "start_time": "2023-09-30T09:51:56.320Z"
   },
   {
    "duration": 3,
    "start_time": "2023-09-30T09:51:57.839Z"
   },
   {
    "duration": 21468,
    "start_time": "2023-09-30T09:51:58.890Z"
   },
   {
    "duration": 4,
    "start_time": "2023-09-30T09:52:20.360Z"
   },
   {
    "duration": 15,
    "start_time": "2023-09-30T09:52:20.366Z"
   },
   {
    "duration": 3,
    "start_time": "2023-09-30T09:53:15.670Z"
   },
   {
    "duration": 2,
    "start_time": "2023-09-30T09:53:23.320Z"
   },
   {
    "duration": 3,
    "start_time": "2023-09-30T09:53:24.774Z"
   },
   {
    "duration": 10314,
    "start_time": "2023-09-30T09:53:25.800Z"
   },
   {
    "duration": 4,
    "start_time": "2023-09-30T09:53:36.116Z"
   },
   {
    "duration": 19,
    "start_time": "2023-09-30T09:53:36.122Z"
   },
   {
    "duration": 3,
    "start_time": "2023-09-30T09:54:15.477Z"
   },
   {
    "duration": 3,
    "start_time": "2023-09-30T09:54:17.421Z"
   },
   {
    "duration": 13445,
    "start_time": "2023-09-30T09:54:18.318Z"
   },
   {
    "duration": 4,
    "start_time": "2023-09-30T09:54:31.765Z"
   },
   {
    "duration": 47,
    "start_time": "2023-09-30T09:54:31.770Z"
   },
   {
    "duration": 3,
    "start_time": "2023-09-30T09:55:08.130Z"
   },
   {
    "duration": 2,
    "start_time": "2023-09-30T09:55:09.663Z"
   },
   {
    "duration": 10512,
    "start_time": "2023-09-30T09:55:10.744Z"
   },
   {
    "duration": 5,
    "start_time": "2023-09-30T09:55:21.258Z"
   },
   {
    "duration": 19,
    "start_time": "2023-09-30T09:55:21.264Z"
   },
   {
    "duration": 3,
    "start_time": "2023-09-30T09:55:41.780Z"
   },
   {
    "duration": 3,
    "start_time": "2023-09-30T09:55:43.184Z"
   },
   {
    "duration": 31824,
    "start_time": "2023-09-30T09:55:44.169Z"
   },
   {
    "duration": 4,
    "start_time": "2023-09-30T09:56:15.995Z"
   },
   {
    "duration": 23,
    "start_time": "2023-09-30T09:56:16.000Z"
   },
   {
    "duration": 3,
    "start_time": "2023-09-30T09:56:40.815Z"
   },
   {
    "duration": 2,
    "start_time": "2023-09-30T09:56:42.499Z"
   },
   {
    "duration": 94100,
    "start_time": "2023-09-30T09:56:43.434Z"
   },
   {
    "duration": 8,
    "start_time": "2023-09-30T09:58:17.535Z"
   },
   {
    "duration": 5,
    "start_time": "2023-09-30T09:58:17.545Z"
   },
   {
    "duration": 3,
    "start_time": "2023-09-30T09:58:56.553Z"
   },
   {
    "duration": 2,
    "start_time": "2023-09-30T09:58:57.833Z"
   },
   {
    "duration": 54706,
    "start_time": "2023-09-30T09:58:59.123Z"
   },
   {
    "duration": 12,
    "start_time": "2023-09-30T09:59:53.832Z"
   },
   {
    "duration": 23,
    "start_time": "2023-09-30T09:59:53.846Z"
   },
   {
    "duration": 3,
    "start_time": "2023-09-30T10:00:25.162Z"
   },
   {
    "duration": 2,
    "start_time": "2023-09-30T10:00:28.859Z"
   },
   {
    "duration": 81954,
    "start_time": "2023-09-30T10:00:30.794Z"
   },
   {
    "duration": 4,
    "start_time": "2023-09-30T10:01:52.750Z"
   },
   {
    "duration": 29,
    "start_time": "2023-09-30T10:01:52.756Z"
   },
   {
    "duration": 3,
    "start_time": "2023-09-30T10:02:43.272Z"
   },
   {
    "duration": 3,
    "start_time": "2023-09-30T10:02:49.176Z"
   },
   {
    "duration": 81978,
    "start_time": "2023-09-30T10:02:50.270Z"
   },
   {
    "duration": 4,
    "start_time": "2023-09-30T10:04:12.250Z"
   },
   {
    "duration": 17,
    "start_time": "2023-09-30T10:04:12.255Z"
   },
   {
    "duration": 2,
    "start_time": "2023-09-30T10:09:40.404Z"
   },
   {
    "duration": 2,
    "start_time": "2023-09-30T10:09:42.367Z"
   },
   {
    "duration": 90065,
    "start_time": "2023-09-30T10:09:43.624Z"
   },
   {
    "duration": 5,
    "start_time": "2023-09-30T10:11:13.691Z"
   },
   {
    "duration": 8,
    "start_time": "2023-09-30T10:11:13.698Z"
   },
   {
    "duration": 5,
    "start_time": "2023-09-30T10:12:03.833Z"
   },
   {
    "duration": 2,
    "start_time": "2023-09-30T10:12:05.336Z"
   },
   {
    "duration": 88624,
    "start_time": "2023-09-30T10:12:06.265Z"
   },
   {
    "duration": 4,
    "start_time": "2023-09-30T10:13:34.891Z"
   },
   {
    "duration": 19,
    "start_time": "2023-09-30T10:13:34.896Z"
   },
   {
    "duration": 3,
    "start_time": "2023-09-30T10:14:22.943Z"
   },
   {
    "duration": 2,
    "start_time": "2023-09-30T10:14:24.337Z"
   },
   {
    "duration": 85955,
    "start_time": "2023-09-30T10:14:25.221Z"
   },
   {
    "duration": 23,
    "start_time": "2023-09-30T10:15:51.183Z"
   },
   {
    "duration": 39,
    "start_time": "2023-09-30T10:15:51.208Z"
   },
   {
    "duration": 3,
    "start_time": "2023-09-30T10:27:44.691Z"
   },
   {
    "duration": 3,
    "start_time": "2023-09-30T10:27:46.126Z"
   },
   {
    "duration": 144432,
    "start_time": "2023-09-30T10:27:47.179Z"
   },
   {
    "duration": 4,
    "start_time": "2023-09-30T10:30:11.613Z"
   },
   {
    "duration": 17,
    "start_time": "2023-09-30T10:30:11.619Z"
   },
   {
    "duration": 3,
    "start_time": "2023-09-30T10:34:53.124Z"
   },
   {
    "duration": 2,
    "start_time": "2023-09-30T10:34:54.208Z"
   },
   {
    "duration": 110113,
    "start_time": "2023-09-30T10:34:55.579Z"
   },
   {
    "duration": 5,
    "start_time": "2023-09-30T10:36:45.694Z"
   },
   {
    "duration": 19,
    "start_time": "2023-09-30T10:36:45.700Z"
   },
   {
    "duration": 3,
    "start_time": "2023-09-30T10:43:30.576Z"
   },
   {
    "duration": 3,
    "start_time": "2023-09-30T10:43:31.108Z"
   },
   {
    "duration": 4,
    "start_time": "2023-09-30T10:43:32.224Z"
   },
   {
    "duration": 148475,
    "start_time": "2023-09-30T10:43:33.156Z"
   },
   {
    "duration": 4,
    "start_time": "2023-09-30T10:46:01.634Z"
   },
   {
    "duration": 162,
    "start_time": "2023-09-30T10:46:01.645Z"
   },
   {
    "duration": 3,
    "start_time": "2023-09-30T10:46:48.367Z"
   },
   {
    "duration": 3,
    "start_time": "2023-09-30T10:46:49.780Z"
   },
   {
    "duration": 19390,
    "start_time": "2023-09-30T10:46:50.739Z"
   },
   {
    "duration": 0,
    "start_time": "2023-09-30T10:47:10.132Z"
   },
   {
    "duration": 0,
    "start_time": "2023-09-30T10:47:10.134Z"
   },
   {
    "duration": 5,
    "start_time": "2023-09-30T10:47:34.554Z"
   },
   {
    "duration": 3,
    "start_time": "2023-09-30T10:47:36.098Z"
   },
   {
    "duration": 269672,
    "start_time": "2023-09-30T10:47:37.149Z"
   },
   {
    "duration": 4,
    "start_time": "2023-09-30T10:52:06.822Z"
   },
   {
    "duration": 39,
    "start_time": "2023-09-30T10:52:06.828Z"
   },
   {
    "duration": 3,
    "start_time": "2023-09-30T10:53:34.564Z"
   },
   {
    "duration": 5,
    "start_time": "2023-09-30T10:53:36.444Z"
   },
   {
    "duration": 13,
    "start_time": "2023-09-30T10:53:38.140Z"
   },
   {
    "duration": 92204,
    "start_time": "2023-09-30T10:53:39.058Z"
   },
   {
    "duration": 4,
    "start_time": "2023-09-30T10:55:11.264Z"
   },
   {
    "duration": 27,
    "start_time": "2023-09-30T10:55:11.269Z"
   },
   {
    "duration": 3,
    "start_time": "2023-09-30T10:55:46.560Z"
   },
   {
    "duration": 3,
    "start_time": "2023-09-30T10:55:48.973Z"
   },
   {
    "duration": 184392,
    "start_time": "2023-09-30T10:55:50.056Z"
   },
   {
    "duration": 10,
    "start_time": "2023-09-30T10:58:54.455Z"
   },
   {
    "duration": 29,
    "start_time": "2023-09-30T10:58:54.468Z"
   },
   {
    "duration": 3,
    "start_time": "2023-09-30T11:02:49.574Z"
   },
   {
    "duration": 3,
    "start_time": "2023-09-30T11:02:57.868Z"
   },
   {
    "duration": 3,
    "start_time": "2023-09-30T11:02:59.114Z"
   },
   {
    "duration": 3014,
    "start_time": "2023-09-30T11:13:41.275Z"
   },
   {
    "duration": 971,
    "start_time": "2023-09-30T11:13:44.291Z"
   },
   {
    "duration": 317,
    "start_time": "2023-09-30T11:13:45.265Z"
   },
   {
    "duration": 3,
    "start_time": "2023-09-30T11:13:45.585Z"
   },
   {
    "duration": 25,
    "start_time": "2023-09-30T11:13:45.591Z"
   },
   {
    "duration": 12,
    "start_time": "2023-09-30T11:13:45.618Z"
   },
   {
    "duration": 1902,
    "start_time": "2023-09-30T11:13:45.631Z"
   },
   {
    "duration": 365,
    "start_time": "2023-09-30T11:13:47.534Z"
   },
   {
    "duration": 339,
    "start_time": "2023-09-30T11:13:47.902Z"
   },
   {
    "duration": 294,
    "start_time": "2023-09-30T11:13:48.243Z"
   },
   {
    "duration": 311,
    "start_time": "2023-09-30T11:13:48.539Z"
   },
   {
    "duration": 347,
    "start_time": "2023-09-30T11:13:48.852Z"
   },
   {
    "duration": 52,
    "start_time": "2023-09-30T11:13:49.202Z"
   },
   {
    "duration": 353,
    "start_time": "2023-09-30T11:13:49.257Z"
   },
   {
    "duration": 374,
    "start_time": "2023-09-30T11:13:49.612Z"
   },
   {
    "duration": 278,
    "start_time": "2023-09-30T11:14:05.099Z"
   },
   {
    "duration": 324,
    "start_time": "2023-09-30T11:14:08.395Z"
   },
   {
    "duration": 12,
    "start_time": "2023-09-30T11:14:08.932Z"
   },
   {
    "duration": 6346,
    "start_time": "2023-09-30T11:14:18.764Z"
   },
   {
    "duration": 11,
    "start_time": "2023-09-30T11:15:25.264Z"
   },
   {
    "duration": 2476,
    "start_time": "2023-09-30T11:15:30.227Z"
   },
   {
    "duration": 10,
    "start_time": "2023-09-30T11:15:36.188Z"
   },
   {
    "duration": 6443,
    "start_time": "2023-09-30T11:15:36.965Z"
   },
   {
    "duration": 1887,
    "start_time": "2023-09-30T11:15:48.153Z"
   },
   {
    "duration": 12,
    "start_time": "2023-09-30T11:15:55.987Z"
   },
   {
    "duration": 155,
    "start_time": "2023-09-30T11:16:14.874Z"
   },
   {
    "duration": 6,
    "start_time": "2023-09-30T11:16:29.168Z"
   },
   {
    "duration": 1504,
    "start_time": "2023-09-30T11:17:21.378Z"
   },
   {
    "duration": 58,
    "start_time": "2023-09-30T11:17:22.884Z"
   },
   {
    "duration": 10,
    "start_time": "2023-09-30T11:17:23.711Z"
   },
   {
    "duration": 2962,
    "start_time": "2023-09-30T11:17:48.567Z"
   },
   {
    "duration": 2582,
    "start_time": "2023-09-30T11:17:51.532Z"
   },
   {
    "duration": 321,
    "start_time": "2023-09-30T11:17:54.115Z"
   },
   {
    "duration": 9,
    "start_time": "2023-09-30T11:17:54.439Z"
   },
   {
    "duration": 63,
    "start_time": "2023-09-30T11:17:54.453Z"
   },
   {
    "duration": 54,
    "start_time": "2023-09-30T11:17:54.518Z"
   },
   {
    "duration": 2384,
    "start_time": "2023-09-30T11:17:54.575Z"
   },
   {
    "duration": 12,
    "start_time": "2023-09-30T11:17:56.961Z"
   },
   {
    "duration": 219,
    "start_time": "2023-09-30T11:17:56.975Z"
   },
   {
    "duration": 6,
    "start_time": "2023-09-30T11:17:57.196Z"
   },
   {
    "duration": 1547,
    "start_time": "2023-09-30T11:17:57.203Z"
   },
   {
    "duration": 38,
    "start_time": "2023-09-30T11:17:58.755Z"
   },
   {
    "duration": 94,
    "start_time": "2023-09-30T11:17:58.795Z"
   },
   {
    "duration": 3093,
    "start_time": "2023-09-30T11:18:35.066Z"
   },
   {
    "duration": 2503,
    "start_time": "2023-09-30T11:18:38.161Z"
   },
   {
    "duration": 289,
    "start_time": "2023-09-30T11:18:40.665Z"
   },
   {
    "duration": 4,
    "start_time": "2023-09-30T11:18:40.960Z"
   },
   {
    "duration": 16,
    "start_time": "2023-09-30T11:18:40.966Z"
   },
   {
    "duration": 39,
    "start_time": "2023-09-30T11:18:40.984Z"
   },
   {
    "duration": 1887,
    "start_time": "2023-09-30T11:18:41.026Z"
   },
   {
    "duration": 11,
    "start_time": "2023-09-30T11:18:42.915Z"
   },
   {
    "duration": 283,
    "start_time": "2023-09-30T11:18:42.928Z"
   },
   {
    "duration": 6,
    "start_time": "2023-09-30T11:18:43.213Z"
   },
   {
    "duration": 1581,
    "start_time": "2023-09-30T11:18:43.220Z"
   },
   {
    "duration": 12375,
    "start_time": "2023-10-03T10:24:07.304Z"
   },
   {
    "duration": 380,
    "start_time": "2023-10-03T10:25:53.938Z"
   },
   {
    "duration": 2809,
    "start_time": "2023-10-03T10:26:25.161Z"
   },
   {
    "duration": 2563,
    "start_time": "2023-10-03T10:26:45.539Z"
   },
   {
    "duration": 202,
    "start_time": "2023-10-03T10:26:59.503Z"
   },
   {
    "duration": 345,
    "start_time": "2023-10-03T10:27:02.606Z"
   },
   {
    "duration": 924,
    "start_time": "2023-10-03T10:27:24.171Z"
   },
   {
    "duration": 965,
    "start_time": "2023-10-03T10:27:25.633Z"
   },
   {
    "duration": 5,
    "start_time": "2023-10-03T10:29:08.753Z"
   },
   {
    "duration": 3,
    "start_time": "2023-10-03T10:30:09.218Z"
   },
   {
    "duration": 12,
    "start_time": "2023-10-03T10:30:14.190Z"
   },
   {
    "duration": 13,
    "start_time": "2023-10-03T10:32:51.220Z"
   },
   {
    "duration": 182,
    "start_time": "2023-10-03T10:33:17.407Z"
   },
   {
    "duration": 13,
    "start_time": "2023-10-03T10:33:24.421Z"
   },
   {
    "duration": 1523,
    "start_time": "2023-10-03T10:33:27.350Z"
   },
   {
    "duration": 1290,
    "start_time": "2023-10-03T10:33:54.162Z"
   },
   {
    "duration": 626,
    "start_time": "2023-10-03T10:35:29.368Z"
   },
   {
    "duration": 2615,
    "start_time": "2023-10-03T10:36:31.880Z"
   },
   {
    "duration": 961,
    "start_time": "2023-10-03T10:36:34.497Z"
   },
   {
    "duration": 7,
    "start_time": "2023-10-03T10:36:35.460Z"
   },
   {
    "duration": 209,
    "start_time": "2023-10-03T10:36:35.469Z"
   },
   {
    "duration": 315,
    "start_time": "2023-10-03T10:36:35.681Z"
   },
   {
    "duration": 3,
    "start_time": "2023-10-03T10:36:45.769Z"
   },
   {
    "duration": 7,
    "start_time": "2023-10-03T10:36:47.389Z"
   },
   {
    "duration": 908,
    "start_time": "2023-10-03T10:36:59.589Z"
   },
   {
    "duration": 5,
    "start_time": "2023-10-03T10:37:03.718Z"
   },
   {
    "duration": 4,
    "start_time": "2023-10-03T10:39:37.135Z"
   },
   {
    "duration": 3,
    "start_time": "2023-10-03T10:39:43.567Z"
   },
   {
    "duration": 19753,
    "start_time": "2023-10-03T10:39:44.661Z"
   },
   {
    "duration": 19,
    "start_time": "2023-10-03T10:40:09.468Z"
   },
   {
    "duration": 575,
    "start_time": "2023-10-03T10:44:14.468Z"
   },
   {
    "duration": 247,
    "start_time": "2023-10-03T10:44:16.669Z"
   },
   {
    "duration": 99,
    "start_time": "2023-10-03T10:45:16.563Z"
   },
   {
    "duration": 103,
    "start_time": "2023-10-03T10:45:36.373Z"
   },
   {
    "duration": 94,
    "start_time": "2023-10-03T10:47:20.497Z"
   },
   {
    "duration": 4,
    "start_time": "2023-10-03T10:47:36.988Z"
   },
   {
    "duration": 3,
    "start_time": "2023-10-03T10:47:42.583Z"
   },
   {
    "duration": 840,
    "start_time": "2023-10-03T10:47:43.736Z"
   },
   {
    "duration": 572,
    "start_time": "2023-10-03T10:51:48.535Z"
   },
   {
    "duration": 290,
    "start_time": "2023-10-03T10:52:08.180Z"
   },
   {
    "duration": 258,
    "start_time": "2023-10-03T10:52:23.448Z"
   },
   {
    "duration": 134,
    "start_time": "2023-10-03T10:52:49.640Z"
   },
   {
    "duration": 101,
    "start_time": "2023-10-03T10:52:57.598Z"
   },
   {
    "duration": 395202,
    "start_time": "2023-10-03T10:53:19.515Z"
   },
   {
    "duration": 737,
    "start_time": "2023-10-03T11:00:39.159Z"
   },
   {
    "duration": 174,
    "start_time": "2023-10-03T11:01:30.077Z"
   },
   {
    "duration": 645,
    "start_time": "2023-10-03T11:01:49.852Z"
   },
   {
    "duration": 681,
    "start_time": "2023-10-03T11:02:12.874Z"
   },
   {
    "duration": 4,
    "start_time": "2023-10-03T11:02:45.753Z"
   },
   {
    "duration": 623,
    "start_time": "2023-10-03T11:02:54.517Z"
   },
   {
    "duration": 5,
    "start_time": "2023-10-03T11:13:55.242Z"
   },
   {
    "duration": 783,
    "start_time": "2023-10-03T11:13:59.874Z"
   },
   {
    "duration": 5,
    "start_time": "2023-10-03T11:58:49.148Z"
   },
   {
    "duration": 2706,
    "start_time": "2023-10-03T11:58:52.908Z"
   },
   {
    "duration": 11,
    "start_time": "2023-10-03T11:58:59.740Z"
   },
   {
    "duration": 4,
    "start_time": "2023-10-03T11:59:00.745Z"
   },
   {
    "duration": 8,
    "start_time": "2023-10-03T11:59:01.893Z"
   },
   {
    "duration": 749,
    "start_time": "2023-10-03T11:59:04.407Z"
   },
   {
    "duration": 683,
    "start_time": "2023-10-03T11:59:18.489Z"
   },
   {
    "duration": 5,
    "start_time": "2023-10-03T12:01:21.248Z"
   },
   {
    "duration": 4,
    "start_time": "2023-10-03T12:01:30.092Z"
   },
   {
    "duration": 20688,
    "start_time": "2023-10-03T12:01:31.187Z"
   },
   {
    "duration": 14,
    "start_time": "2023-10-03T12:01:57.982Z"
   },
   {
    "duration": 183,
    "start_time": "2023-10-03T12:15:18.471Z"
   },
   {
    "duration": 5,
    "start_time": "2023-10-03T12:16:35.347Z"
   },
   {
    "duration": 9,
    "start_time": "2023-10-03T12:17:04.866Z"
   },
   {
    "duration": 13318,
    "start_time": "2023-10-03T12:17:37.125Z"
   },
   {
    "duration": 13980,
    "start_time": "2023-10-03T12:19:23.890Z"
   },
   {
    "duration": 4,
    "start_time": "2023-10-03T12:19:56.916Z"
   },
   {
    "duration": 4,
    "start_time": "2023-10-03T12:20:17.208Z"
   },
   {
    "duration": 18921,
    "start_time": "2023-10-03T12:20:22.585Z"
   },
   {
    "duration": 18,
    "start_time": "2023-10-03T12:20:51.643Z"
   },
   {
    "duration": 4,
    "start_time": "2023-10-03T12:21:33.487Z"
   },
   {
    "duration": 18432,
    "start_time": "2023-10-03T12:21:37.653Z"
   },
   {
    "duration": 18,
    "start_time": "2023-10-03T12:22:09.848Z"
   },
   {
    "duration": 17,
    "start_time": "2023-10-03T12:23:08.662Z"
   },
   {
    "duration": 6,
    "start_time": "2023-10-03T12:23:13.141Z"
   },
   {
    "duration": 55,
    "start_time": "2023-10-03T12:23:17.241Z"
   },
   {
    "duration": 4,
    "start_time": "2023-10-03T12:23:53.091Z"
   },
   {
    "duration": 560,
    "start_time": "2023-10-03T12:24:08.713Z"
   },
   {
    "duration": 8053,
    "start_time": "2023-10-03T12:24:16.942Z"
   },
   {
    "duration": 4,
    "start_time": "2023-10-03T12:24:43.219Z"
   },
   {
    "duration": 5,
    "start_time": "2023-10-03T12:25:37.139Z"
   },
   {
    "duration": 21303,
    "start_time": "2023-10-03T12:25:41.542Z"
   },
   {
    "duration": 30,
    "start_time": "2023-10-03T12:28:03.308Z"
   },
   {
    "duration": 3,
    "start_time": "2023-10-03T12:29:17.802Z"
   },
   {
    "duration": 12,
    "start_time": "2023-10-03T12:29:19.941Z"
   },
   {
    "duration": 5,
    "start_time": "2023-10-03T12:30:23.957Z"
   },
   {
    "duration": 46,
    "start_time": "2023-10-03T12:30:26.017Z"
   },
   {
    "duration": 4,
    "start_time": "2023-10-03T12:36:51.268Z"
   },
   {
    "duration": 36,
    "start_time": "2023-10-03T12:36:54.106Z"
   },
   {
    "duration": 4,
    "start_time": "2023-10-03T12:39:17.267Z"
   },
   {
    "duration": 25,
    "start_time": "2023-10-03T12:39:19.196Z"
   },
   {
    "duration": 4,
    "start_time": "2023-10-03T12:39:40.477Z"
   },
   {
    "duration": 12,
    "start_time": "2023-10-03T12:39:43.966Z"
   },
   {
    "duration": 20023,
    "start_time": "2023-10-03T12:40:40.655Z"
   },
   {
    "duration": 16,
    "start_time": "2023-10-03T12:41:03.735Z"
   },
   {
    "duration": 4,
    "start_time": "2023-10-03T12:41:41.952Z"
   },
   {
    "duration": 19,
    "start_time": "2023-10-03T12:41:44.544Z"
   },
   {
    "duration": 15,
    "start_time": "2023-10-03T12:41:46.862Z"
   },
   {
    "duration": 7,
    "start_time": "2023-10-03T12:43:06.775Z"
   },
   {
    "duration": 15,
    "start_time": "2023-10-03T12:43:16.144Z"
   },
   {
    "duration": 5,
    "start_time": "2023-10-03T12:43:31.486Z"
   },
   {
    "duration": 23,
    "start_time": "2023-10-03T12:44:03.613Z"
   },
   {
    "duration": 13,
    "start_time": "2023-10-03T12:44:37.843Z"
   },
   {
    "duration": 5,
    "start_time": "2023-10-03T12:45:02.274Z"
   },
   {
    "duration": 18888,
    "start_time": "2023-10-03T12:45:03.340Z"
   },
   {
    "duration": 4,
    "start_time": "2023-10-03T12:46:52.860Z"
   },
   {
    "duration": 20,
    "start_time": "2023-10-03T12:46:55.583Z"
   },
   {
    "duration": 18723,
    "start_time": "2023-10-03T12:47:15.952Z"
   },
   {
    "duration": 6,
    "start_time": "2023-10-03T12:48:18.249Z"
   },
   {
    "duration": 945,
    "start_time": "2023-10-03T12:48:21.037Z"
   },
   {
    "duration": 24,
    "start_time": "2023-10-03T12:48:27.622Z"
   },
   {
    "duration": 5,
    "start_time": "2023-10-03T12:48:28.551Z"
   },
   {
    "duration": 8,
    "start_time": "2023-10-03T12:48:29.678Z"
   },
   {
    "duration": 678,
    "start_time": "2023-10-03T12:48:36.098Z"
   },
   {
    "duration": 7,
    "start_time": "2023-10-03T12:48:38.959Z"
   },
   {
    "duration": 5,
    "start_time": "2023-10-03T12:48:51.460Z"
   },
   {
    "duration": 26,
    "start_time": "2023-10-03T12:48:54.123Z"
   },
   {
    "duration": 3,
    "start_time": "2023-10-03T12:49:01.250Z"
   },
   {
    "duration": 953118,
    "start_time": "2023-10-03T12:49:02.650Z"
   },
   {
    "duration": 18,
    "start_time": "2023-10-03T13:04:59.270Z"
   },
   {
    "duration": 3101,
    "start_time": "2023-10-03T13:05:34.465Z"
   },
   {
    "duration": 905,
    "start_time": "2023-10-03T13:05:39.555Z"
   },
   {
    "duration": 18,
    "start_time": "2023-10-03T13:05:42.655Z"
   },
   {
    "duration": 5,
    "start_time": "2023-10-03T13:05:46.197Z"
   },
   {
    "duration": 747,
    "start_time": "2023-10-03T13:05:48.007Z"
   },
   {
    "duration": 19,
    "start_time": "2023-10-03T13:05:49.629Z"
   },
   {
    "duration": 786,
    "start_time": "2023-10-03T13:07:04.429Z"
   },
   {
    "duration": 6,
    "start_time": "2023-10-03T13:07:08.104Z"
   },
   {
    "duration": 4,
    "start_time": "2023-10-03T13:07:10.663Z"
   },
   {
    "duration": 3297,
    "start_time": "2023-10-03T13:07:11.968Z"
   },
   {
    "duration": 3228,
    "start_time": "2023-10-03T13:07:22.042Z"
   },
   {
    "duration": 5,
    "start_time": "2023-10-03T13:07:37.369Z"
   },
   {
    "duration": 16,
    "start_time": "2023-10-03T13:07:54.762Z"
   },
   {
    "duration": 4,
    "start_time": "2023-10-03T13:07:56.242Z"
   },
   {
    "duration": 46,
    "start_time": "2023-10-03T13:07:57.297Z"
   },
   {
    "duration": 5,
    "start_time": "2023-10-03T13:08:20.140Z"
   },
   {
    "duration": 80699,
    "start_time": "2023-10-03T13:08:21.837Z"
   },
   {
    "duration": 6,
    "start_time": "2023-10-03T13:12:28.901Z"
   },
   {
    "duration": 12,
    "start_time": "2023-10-03T13:12:30.654Z"
   },
   {
    "duration": 19,
    "start_time": "2023-10-03T13:15:17.021Z"
   },
   {
    "duration": 4,
    "start_time": "2023-10-03T13:15:54.499Z"
   },
   {
    "duration": 1000,
    "start_time": "2023-10-03T13:15:59.385Z"
   },
   {
    "duration": 9,
    "start_time": "2023-10-03T13:16:05.484Z"
   },
   {
    "duration": 17,
    "start_time": "2023-10-03T13:16:06.519Z"
   },
   {
    "duration": 742,
    "start_time": "2023-10-03T13:16:13.685Z"
   },
   {
    "duration": 5,
    "start_time": "2023-10-03T13:16:19.299Z"
   },
   {
    "duration": 13,
    "start_time": "2023-10-03T13:16:22.341Z"
   },
   {
    "duration": 7,
    "start_time": "2023-10-03T13:16:35.230Z"
   },
   {
    "duration": 2758271,
    "start_time": "2023-10-03T13:16:38.203Z"
   },
   {
    "duration": 13,
    "start_time": "2023-10-03T14:02:36.477Z"
   },
   {
    "duration": 9487,
    "start_time": "2023-10-03T14:02:36.493Z"
   },
   {
    "duration": 4811,
    "start_time": "2023-10-03T14:02:45.982Z"
   },
   {
    "duration": 2785,
    "start_time": "2023-10-03T14:02:54.117Z"
   },
   {
    "duration": 34,
    "start_time": "2023-10-03T14:02:56.905Z"
   },
   {
    "duration": 36,
    "start_time": "2023-10-03T14:05:02.410Z"
   },
   {
    "duration": 18,
    "start_time": "2023-10-03T14:05:33.941Z"
   },
   {
    "duration": 4,
    "start_time": "2023-10-03T14:07:18.094Z"
   },
   {
    "duration": 13,
    "start_time": "2023-10-03T14:07:19.493Z"
   },
   {
    "duration": 31,
    "start_time": "2023-10-03T14:07:32.002Z"
   },
   {
    "duration": 4,
    "start_time": "2023-10-03T14:08:13.440Z"
   },
   {
    "duration": 34,
    "start_time": "2023-10-03T14:08:16.622Z"
   },
   {
    "duration": 26,
    "start_time": "2023-10-03T14:08:18.262Z"
   },
   {
    "duration": 15,
    "start_time": "2023-10-03T14:08:59.220Z"
   },
   {
    "duration": 5,
    "start_time": "2023-10-03T14:09:19.382Z"
   },
   {
    "duration": 21,
    "start_time": "2023-10-03T14:09:22.119Z"
   },
   {
    "duration": 23,
    "start_time": "2023-10-03T14:09:23.761Z"
   },
   {
    "duration": 6,
    "start_time": "2023-10-03T14:10:07.053Z"
   },
   {
    "duration": 5,
    "start_time": "2023-10-03T14:12:44.946Z"
   },
   {
    "duration": 15,
    "start_time": "2023-10-03T14:12:47.904Z"
   },
   {
    "duration": 5,
    "start_time": "2023-10-03T14:12:51.134Z"
   },
   {
    "duration": 19,
    "start_time": "2023-10-03T14:12:54.196Z"
   },
   {
    "duration": 50,
    "start_time": "2023-10-03T14:15:02.210Z"
   },
   {
    "duration": 11,
    "start_time": "2023-10-03T14:15:03.703Z"
   },
   {
    "duration": 836,
    "start_time": "2023-10-03T14:15:47.080Z"
   },
   {
    "duration": 11,
    "start_time": "2023-10-03T14:15:52.751Z"
   },
   {
    "duration": 28,
    "start_time": "2023-10-03T14:15:54.208Z"
   },
   {
    "duration": 12,
    "start_time": "2023-10-03T14:15:55.896Z"
   },
   {
    "duration": 897,
    "start_time": "2023-10-03T14:16:09.913Z"
   },
   {
    "duration": 10,
    "start_time": "2023-10-03T14:16:14.057Z"
   },
   {
    "duration": 27,
    "start_time": "2023-10-03T14:16:15.072Z"
   },
   {
    "duration": 12,
    "start_time": "2023-10-03T14:16:16.038Z"
   },
   {
    "duration": 4,
    "start_time": "2023-10-03T14:16:20.101Z"
   },
   {
    "duration": 94,
    "start_time": "2023-10-03T14:16:28.074Z"
   },
   {
    "duration": 4,
    "start_time": "2023-10-03T14:16:38.905Z"
   },
   {
    "duration": 12,
    "start_time": "2023-10-03T14:16:41.443Z"
   },
   {
    "duration": 2348,
    "start_time": "2023-10-03T14:17:07.164Z"
   },
   {
    "duration": 2596,
    "start_time": "2023-10-03T14:17:30.542Z"
   },
   {
    "duration": 2432,
    "start_time": "2023-10-03T14:20:11.352Z"
   },
   {
    "duration": 12,
    "start_time": "2023-10-03T14:20:24.781Z"
   },
   {
    "duration": 6,
    "start_time": "2023-10-03T14:20:26.171Z"
   },
   {
    "duration": 5,
    "start_time": "2023-10-03T14:20:34.492Z"
   },
   {
    "duration": 13,
    "start_time": "2023-10-03T14:20:36.338Z"
   },
   {
    "duration": 5,
    "start_time": "2023-10-03T14:20:38.380Z"
   },
   {
    "duration": 19,
    "start_time": "2023-10-03T14:21:01.600Z"
   },
   {
    "duration": 3,
    "start_time": "2023-10-03T14:23:02.139Z"
   },
   {
    "duration": 507503,
    "start_time": "2023-10-03T14:23:03.240Z"
   },
   {
    "duration": 13,
    "start_time": "2023-10-03T14:31:34.323Z"
   },
   {
    "duration": 2028,
    "start_time": "2023-10-03T14:32:29.376Z"
   },
   {
    "duration": 608,
    "start_time": "2023-10-03T14:32:33.067Z"
   },
   {
    "duration": 18,
    "start_time": "2023-10-03T14:32:35.926Z"
   },
   {
    "duration": 235,
    "start_time": "2023-10-03T14:32:40.465Z"
   },
   {
    "duration": 13,
    "start_time": "2023-10-03T14:32:46.945Z"
   },
   {
    "duration": 4,
    "start_time": "2023-10-03T14:32:52.452Z"
   },
   {
    "duration": 13,
    "start_time": "2023-10-03T14:33:01.704Z"
   },
   {
    "duration": 574,
    "start_time": "2023-10-03T14:33:03.747Z"
   },
   {
    "duration": 11,
    "start_time": "2023-10-03T14:33:05.437Z"
   },
   {
    "duration": 510,
    "start_time": "2023-10-03T14:33:40.263Z"
   },
   {
    "duration": 4,
    "start_time": "2023-10-03T14:33:42.859Z"
   },
   {
    "duration": 8,
    "start_time": "2023-10-03T14:33:47.079Z"
   },
   {
    "duration": 1664,
    "start_time": "2023-10-03T14:33:48.353Z"
   },
   {
    "duration": 5,
    "start_time": "2023-10-03T14:33:51.100Z"
   },
   {
    "duration": 7,
    "start_time": "2023-10-03T14:34:08.310Z"
   },
   {
    "duration": 1818,
    "start_time": "2023-10-03T14:34:09.987Z"
   },
   {
    "duration": 4,
    "start_time": "2023-10-03T14:34:13.189Z"
   },
   {
    "duration": 3,
    "start_time": "2023-10-03T14:36:00.427Z"
   },
   {
    "duration": 37,
    "start_time": "2023-10-03T14:36:03.134Z"
   },
   {
    "duration": 94,
    "start_time": "2023-10-03T14:36:58.834Z"
   },
   {
    "duration": 3,
    "start_time": "2023-10-03T14:37:09.853Z"
   },
   {
    "duration": 0,
    "start_time": "2023-10-03T14:39:51.132Z"
   },
   {
    "duration": 0,
    "start_time": "2023-10-03T14:39:51.134Z"
   },
   {
    "duration": 3,
    "start_time": "2023-10-03T14:44:00.416Z"
   },
   {
    "duration": 70714,
    "start_time": "2023-10-03T14:44:01.708Z"
   },
   {
    "duration": 0,
    "start_time": "2023-10-03T14:45:12.424Z"
   },
   {
    "duration": 3,
    "start_time": "2023-10-03T14:45:14.482Z"
   },
   {
    "duration": 432038,
    "start_time": "2023-10-03T14:45:15.986Z"
   },
   {
    "duration": 8,
    "start_time": "2023-10-03T14:58:46.754Z"
   },
   {
    "duration": 1690,
    "start_time": "2023-10-03T14:58:48.843Z"
   },
   {
    "duration": 5,
    "start_time": "2023-10-03T14:58:51.783Z"
   },
   {
    "duration": 3,
    "start_time": "2023-10-03T14:58:56.753Z"
   },
   {
    "duration": 4,
    "start_time": "2023-10-03T14:59:51.323Z"
   },
   {
    "duration": 694,
    "start_time": "2023-10-03T14:59:52.994Z"
   },
   {
    "duration": 713,
    "start_time": "2023-10-03T15:00:05.714Z"
   },
   {
    "duration": 3,
    "start_time": "2023-10-03T15:00:34.289Z"
   },
   {
    "duration": 135885,
    "start_time": "2023-10-03T15:00:36.563Z"
   },
   {
    "duration": 3,
    "start_time": "2023-10-03T15:03:53.512Z"
   },
   {
    "duration": 443,
    "start_time": "2023-10-03T15:03:55.436Z"
   },
   {
    "duration": 4,
    "start_time": "2023-10-03T15:04:16.459Z"
   },
   {
    "duration": 653,
    "start_time": "2023-10-03T15:04:17.951Z"
   },
   {
    "duration": 4,
    "start_time": "2023-10-03T15:04:28.259Z"
   },
   {
    "duration": 811,
    "start_time": "2023-10-03T15:04:29.965Z"
   },
   {
    "duration": 3,
    "start_time": "2023-10-03T15:04:44.222Z"
   },
   {
    "duration": 713,
    "start_time": "2023-10-03T15:04:45.673Z"
   },
   {
    "duration": 3,
    "start_time": "2023-10-03T15:04:57.408Z"
   },
   {
    "duration": 1067,
    "start_time": "2023-10-03T15:04:58.811Z"
   },
   {
    "duration": 3,
    "start_time": "2023-10-03T15:05:19.673Z"
   },
   {
    "duration": 2358,
    "start_time": "2023-10-03T15:05:20.991Z"
   },
   {
    "duration": 3,
    "start_time": "2023-10-03T15:05:33.680Z"
   },
   {
    "duration": 1591,
    "start_time": "2023-10-03T15:05:35.149Z"
   },
   {
    "duration": 3,
    "start_time": "2023-10-03T15:05:48.522Z"
   },
   {
    "duration": 1199,
    "start_time": "2023-10-03T15:05:50.597Z"
   },
   {
    "duration": 6,
    "start_time": "2023-10-03T15:06:10.193Z"
   },
   {
    "duration": 1731,
    "start_time": "2023-10-03T15:06:11.902Z"
   },
   {
    "duration": 4,
    "start_time": "2023-10-03T15:06:14.726Z"
   },
   {
    "duration": 3,
    "start_time": "2023-10-03T15:06:18.468Z"
   },
   {
    "duration": 76309,
    "start_time": "2023-10-03T15:06:19.528Z"
   },
   {
    "duration": 4,
    "start_time": "2023-10-03T15:10:16.643Z"
   },
   {
    "duration": 37718,
    "start_time": "2023-10-03T15:10:22.018Z"
   },
   {
    "duration": 14,
    "start_time": "2023-10-03T15:13:11.095Z"
   },
   {
    "duration": 3,
    "start_time": "2023-10-03T15:14:31.852Z"
   },
   {
    "duration": 6,
    "start_time": "2023-10-03T15:17:48.152Z"
   },
   {
    "duration": 1895,
    "start_time": "2023-10-03T15:17:54.496Z"
   },
   {
    "duration": 4,
    "start_time": "2023-10-03T15:17:57.977Z"
   },
   {
    "duration": 3,
    "start_time": "2023-10-03T15:18:02.836Z"
   },
   {
    "duration": 3,
    "start_time": "2023-10-03T15:18:04.179Z"
   },
   {
    "duration": 5,
    "start_time": "2023-10-03T15:18:05.605Z"
   },
   {
    "duration": 264685,
    "start_time": "2023-10-03T15:18:10.538Z"
   },
   {
    "duration": 34,
    "start_time": "2023-10-03T15:22:35.234Z"
   },
   {
    "duration": 88,
    "start_time": "2023-10-03T15:22:35.270Z"
   },
   {
    "duration": 87,
    "start_time": "2023-10-03T15:22:59.348Z"
   },
   {
    "duration": 76,
    "start_time": "2023-10-03T15:23:02.618Z"
   },
   {
    "duration": 4,
    "start_time": "2023-10-03T15:23:15.339Z"
   },
   {
    "duration": 4,
    "start_time": "2023-10-03T15:24:18.065Z"
   },
   {
    "duration": 3,
    "start_time": "2023-10-03T15:24:20.918Z"
   },
   {
    "duration": 210372,
    "start_time": "2023-10-03T15:24:23.256Z"
   },
   {
    "duration": 4,
    "start_time": "2023-10-03T15:31:50.186Z"
   },
   {
    "duration": 3,
    "start_time": "2023-10-03T15:31:52.367Z"
   },
   {
    "duration": 208518,
    "start_time": "2023-10-03T15:31:53.507Z"
   },
   {
    "duration": 4,
    "start_time": "2023-10-03T15:35:22.026Z"
   },
   {
    "duration": 182,
    "start_time": "2023-10-03T15:35:22.032Z"
   },
   {
    "duration": 3,
    "start_time": "2023-10-03T15:37:45.765Z"
   },
   {
    "duration": 3,
    "start_time": "2023-10-03T15:37:47.722Z"
   },
   {
    "duration": 162980,
    "start_time": "2023-10-03T15:37:49.246Z"
   },
   {
    "duration": 6,
    "start_time": "2023-10-03T15:40:32.228Z"
   },
   {
    "duration": 17,
    "start_time": "2023-10-03T15:40:32.236Z"
   },
   {
    "duration": 8,
    "start_time": "2023-10-03T15:44:09.819Z"
   },
   {
    "duration": 1853,
    "start_time": "2023-10-03T15:44:11.796Z"
   },
   {
    "duration": 4,
    "start_time": "2023-10-03T15:44:13.651Z"
   },
   {
    "duration": 3,
    "start_time": "2023-10-03T15:44:18.770Z"
   },
   {
    "duration": 2,
    "start_time": "2023-10-03T15:44:19.865Z"
   },
   {
    "duration": 3,
    "start_time": "2023-10-03T15:44:20.886Z"
   },
   {
    "duration": 77246,
    "start_time": "2023-10-03T15:44:22.687Z"
   },
   {
    "duration": 89,
    "start_time": "2023-10-03T15:45:39.936Z"
   },
   {
    "duration": 3,
    "start_time": "2023-10-03T15:45:40.027Z"
   },
   {
    "duration": 850,
    "start_time": "2023-10-03T15:50:56.598Z"
   },
   {
    "duration": 11,
    "start_time": "2023-10-03T15:51:14.332Z"
   },
   {
    "duration": 7,
    "start_time": "2023-10-03T15:51:15.715Z"
   },
   {
    "duration": 593,
    "start_time": "2023-10-03T15:51:27.472Z"
   },
   {
    "duration": 8,
    "start_time": "2023-10-03T15:51:30.780Z"
   },
   {
    "duration": 10,
    "start_time": "2023-10-03T15:51:37.332Z"
   },
   {
    "duration": 23,
    "start_time": "2023-10-03T15:51:40.331Z"
   },
   {
    "duration": 3,
    "start_time": "2023-10-03T15:52:38.908Z"
   },
   {
    "duration": 2611888,
    "start_time": "2023-10-03T15:52:42.110Z"
   },
   {
    "duration": 25,
    "start_time": "2023-10-03T16:36:14.002Z"
   },
   {
    "duration": 8713,
    "start_time": "2023-10-03T16:36:14.029Z"
   },
   {
    "duration": 4435,
    "start_time": "2023-10-03T16:36:22.744Z"
   },
   {
    "duration": 14,
    "start_time": "2023-10-03T16:36:27.182Z"
   },
   {
    "duration": 16,
    "start_time": "2023-10-03T16:36:30.374Z"
   },
   {
    "duration": 2846,
    "start_time": "2023-10-03T16:36:33.673Z"
   },
   {
    "duration": 13,
    "start_time": "2023-10-03T16:36:38.364Z"
   },
   {
    "duration": 135,
    "start_time": "2023-10-03T16:41:07.473Z"
   },
   {
    "duration": 13,
    "start_time": "2023-10-03T16:41:10.022Z"
   },
   {
    "duration": 4,
    "start_time": "2023-10-03T16:41:18.966Z"
   },
   {
    "duration": 4,
    "start_time": "2023-10-03T16:41:28.013Z"
   },
   {
    "duration": 48,
    "start_time": "2023-10-03T16:41:43.109Z"
   },
   {
    "duration": 4915,
    "start_time": "2023-10-03T16:42:04.909Z"
   },
   {
    "duration": 2427,
    "start_time": "2023-10-03T16:42:12.985Z"
   },
   {
    "duration": 2440,
    "start_time": "2023-10-03T16:42:58.203Z"
   },
   {
    "duration": 20,
    "start_time": "2023-10-03T16:43:03.503Z"
   },
   {
    "duration": 150,
    "start_time": "2023-10-03T16:43:06.922Z"
   },
   {
    "duration": 2101,
    "start_time": "2023-10-03T16:43:08.941Z"
   },
   {
    "duration": 12,
    "start_time": "2023-10-03T16:43:12.428Z"
   },
   {
    "duration": 52,
    "start_time": "2023-10-03T16:48:08.858Z"
   },
   {
    "duration": 12960,
    "start_time": "2023-10-03T16:48:27.568Z"
   },
   {
    "duration": 164,
    "start_time": "2023-10-03T16:48:40.530Z"
   },
   {
    "duration": 0,
    "start_time": "2023-10-03T16:48:40.696Z"
   },
   {
    "duration": 0,
    "start_time": "2023-10-03T16:48:40.697Z"
   },
   {
    "duration": 0,
    "start_time": "2023-10-03T16:48:40.698Z"
   },
   {
    "duration": 0,
    "start_time": "2023-10-03T16:48:40.699Z"
   },
   {
    "duration": 0,
    "start_time": "2023-10-03T16:48:40.700Z"
   },
   {
    "duration": 0,
    "start_time": "2023-10-03T16:48:40.701Z"
   },
   {
    "duration": 0,
    "start_time": "2023-10-03T16:48:40.702Z"
   },
   {
    "duration": 0,
    "start_time": "2023-10-03T16:48:40.703Z"
   },
   {
    "duration": 0,
    "start_time": "2023-10-03T16:48:40.723Z"
   },
   {
    "duration": 0,
    "start_time": "2023-10-03T16:48:40.725Z"
   },
   {
    "duration": 0,
    "start_time": "2023-10-03T16:48:40.726Z"
   },
   {
    "duration": 0,
    "start_time": "2023-10-03T16:48:40.727Z"
   },
   {
    "duration": 0,
    "start_time": "2023-10-03T16:48:40.728Z"
   },
   {
    "duration": 0,
    "start_time": "2023-10-03T16:48:40.729Z"
   },
   {
    "duration": 14,
    "start_time": "2023-10-03T16:48:46.447Z"
   },
   {
    "duration": 12,
    "start_time": "2023-10-03T16:48:51.492Z"
   },
   {
    "duration": 2585,
    "start_time": "2023-10-03T16:48:57.415Z"
   },
   {
    "duration": 18,
    "start_time": "2023-10-03T16:49:05.181Z"
   },
   {
    "duration": 208,
    "start_time": "2023-10-03T16:49:07.275Z"
   },
   {
    "duration": 2102,
    "start_time": "2023-10-03T16:49:09.266Z"
   },
   {
    "duration": 11,
    "start_time": "2023-10-03T16:49:12.768Z"
   },
   {
    "duration": 32,
    "start_time": "2023-10-03T16:49:15.094Z"
   },
   {
    "duration": 13914,
    "start_time": "2023-10-03T16:49:58.367Z"
   },
   {
    "duration": 223,
    "start_time": "2023-10-03T16:50:12.283Z"
   },
   {
    "duration": 0,
    "start_time": "2023-10-03T16:50:12.507Z"
   },
   {
    "duration": 0,
    "start_time": "2023-10-03T16:50:12.509Z"
   },
   {
    "duration": 0,
    "start_time": "2023-10-03T16:50:12.510Z"
   },
   {
    "duration": 0,
    "start_time": "2023-10-03T16:50:12.511Z"
   },
   {
    "duration": 0,
    "start_time": "2023-10-03T16:50:12.512Z"
   },
   {
    "duration": 0,
    "start_time": "2023-10-03T16:50:12.524Z"
   },
   {
    "duration": 0,
    "start_time": "2023-10-03T16:50:12.525Z"
   },
   {
    "duration": 0,
    "start_time": "2023-10-03T16:50:12.526Z"
   },
   {
    "duration": 0,
    "start_time": "2023-10-03T16:50:12.527Z"
   },
   {
    "duration": 2356,
    "start_time": "2023-10-03T16:50:17.356Z"
   },
   {
    "duration": 47,
    "start_time": "2023-10-03T16:50:21.805Z"
   },
   {
    "duration": 23,
    "start_time": "2023-10-03T16:50:22.964Z"
   },
   {
    "duration": 134,
    "start_time": "2023-10-03T16:50:26.373Z"
   },
   {
    "duration": 1129,
    "start_time": "2023-10-03T16:50:28.481Z"
   },
   {
    "duration": 11,
    "start_time": "2023-10-03T16:50:31.400Z"
   },
   {
    "duration": 30,
    "start_time": "2023-10-03T16:50:33.512Z"
   },
   {
    "duration": 1073,
    "start_time": "2023-10-03T16:50:35.875Z"
   },
   {
    "duration": 4,
    "start_time": "2023-10-03T16:50:39.444Z"
   },
   {
    "duration": 3,
    "start_time": "2023-10-03T16:50:47.094Z"
   },
   {
    "duration": 3,
    "start_time": "2023-10-03T16:50:56.104Z"
   },
   {
    "duration": 4482,
    "start_time": "2023-10-03T16:50:58.050Z"
   },
   {
    "duration": 16,
    "start_time": "2023-10-03T16:51:04.392Z"
   },
   {
    "duration": 15,
    "start_time": "2023-10-03T16:51:06.218Z"
   },
   {
    "duration": 4,
    "start_time": "2023-10-03T16:51:38.942Z"
   },
   {
    "duration": 3,
    "start_time": "2023-10-03T16:52:06.533Z"
   },
   {
    "duration": 3,
    "start_time": "2023-10-03T16:52:08.038Z"
   },
   {
    "duration": 3,
    "start_time": "2023-10-03T16:52:09.407Z"
   },
   {
    "duration": 31,
    "start_time": "2023-10-03T16:52:14.323Z"
   },
   {
    "duration": 23,
    "start_time": "2023-10-03T16:52:18.664Z"
   },
   {
    "duration": 3,
    "start_time": "2023-10-03T16:53:03.022Z"
   },
   {
    "duration": 3,
    "start_time": "2023-10-03T16:53:03.997Z"
   },
   {
    "duration": 2,
    "start_time": "2023-10-03T16:53:04.957Z"
   },
   {
    "duration": 177281,
    "start_time": "2023-10-03T16:53:06.653Z"
   },
   {
    "duration": 88,
    "start_time": "2023-10-03T16:56:03.938Z"
   },
   {
    "duration": 194,
    "start_time": "2023-10-03T16:56:04.028Z"
   },
   {
    "duration": 7,
    "start_time": "2023-10-03T16:56:30.383Z"
   },
   {
    "duration": 2380,
    "start_time": "2023-10-03T16:56:32.521Z"
   },
   {
    "duration": 8,
    "start_time": "2023-10-03T16:57:43.907Z"
   },
   {
    "duration": 4640,
    "start_time": "2023-10-03T16:57:46.392Z"
   },
   {
    "duration": 4,
    "start_time": "2023-10-03T16:57:56.401Z"
   },
   {
    "duration": 3,
    "start_time": "2023-10-03T16:58:09.073Z"
   },
   {
    "duration": 2689,
    "start_time": "2023-10-03T16:58:10.101Z"
   },
   {
    "duration": 11,
    "start_time": "2023-10-03T16:58:36.121Z"
   },
   {
    "duration": 4607,
    "start_time": "2023-10-03T16:58:38.032Z"
   },
   {
    "duration": 4,
    "start_time": "2023-10-03T16:58:42.641Z"
   },
   {
    "duration": 3,
    "start_time": "2023-10-03T16:58:52.324Z"
   },
   {
    "duration": 2589,
    "start_time": "2023-10-03T16:58:53.342Z"
   },
   {
    "duration": 12,
    "start_time": "2023-10-03T16:59:20.620Z"
   },
   {
    "duration": 4673,
    "start_time": "2023-10-03T16:59:22.017Z"
   },
   {
    "duration": 4,
    "start_time": "2023-10-03T16:59:26.787Z"
   },
   {
    "duration": 6,
    "start_time": "2023-10-03T16:59:32.542Z"
   },
   {
    "duration": 2330,
    "start_time": "2023-10-03T16:59:33.620Z"
   },
   {
    "duration": 7355,
    "start_time": "2023-10-03T21:26:50.617Z"
   },
   {
    "duration": 4369,
    "start_time": "2023-10-04T05:48:02.187Z"
   },
   {
    "duration": 776,
    "start_time": "2023-10-04T05:48:06.558Z"
   },
   {
    "duration": 5,
    "start_time": "2023-10-04T05:48:07.335Z"
   },
   {
    "duration": 69,
    "start_time": "2023-10-04T05:48:07.342Z"
   },
   {
    "duration": 25,
    "start_time": "2023-10-04T05:48:07.413Z"
   },
   {
    "duration": 3014,
    "start_time": "2023-10-04T05:48:07.440Z"
   },
   {
    "duration": 54,
    "start_time": "2023-10-04T05:48:10.456Z"
   },
   {
    "duration": 18,
    "start_time": "2023-10-04T05:48:10.512Z"
   },
   {
    "duration": 223,
    "start_time": "2023-10-04T05:48:10.544Z"
   },
   {
    "duration": 1041,
    "start_time": "2023-10-04T05:48:10.770Z"
   },
   {
    "duration": 24,
    "start_time": "2023-10-04T05:48:11.813Z"
   },
   {
    "duration": 31,
    "start_time": "2023-10-04T05:48:11.844Z"
   },
   {
    "duration": 975,
    "start_time": "2023-10-04T05:48:11.877Z"
   },
   {
    "duration": 6,
    "start_time": "2023-10-04T05:48:12.854Z"
   },
   {
    "duration": 79,
    "start_time": "2023-10-04T05:48:12.861Z"
   },
   {
    "duration": 5,
    "start_time": "2023-10-04T05:48:12.942Z"
   },
   {
    "duration": 4509,
    "start_time": "2023-10-04T05:48:12.949Z"
   },
   {
    "duration": 3,
    "start_time": "2023-10-04T05:48:17.460Z"
   },
   {
    "duration": 3,
    "start_time": "2023-10-04T05:48:24.566Z"
   },
   {
    "duration": 314,
    "start_time": "2023-10-04T05:48:25.626Z"
   },
   {
    "duration": 4059,
    "start_time": "2023-10-04T05:49:48.390Z"
   },
   {
    "duration": 786,
    "start_time": "2023-10-04T05:49:52.451Z"
   },
   {
    "duration": 4,
    "start_time": "2023-10-04T05:49:53.239Z"
   },
   {
    "duration": 82,
    "start_time": "2023-10-04T05:49:53.245Z"
   },
   {
    "duration": 7,
    "start_time": "2023-10-04T05:49:53.328Z"
   },
   {
    "duration": 2801,
    "start_time": "2023-10-04T05:49:53.337Z"
   },
   {
    "duration": 42,
    "start_time": "2023-10-04T05:49:56.140Z"
   },
   {
    "duration": 17,
    "start_time": "2023-10-04T05:49:56.184Z"
   },
   {
    "duration": 143,
    "start_time": "2023-10-04T05:49:56.202Z"
   },
   {
    "duration": 1045,
    "start_time": "2023-10-04T05:49:56.347Z"
   },
   {
    "duration": 32,
    "start_time": "2023-10-04T05:49:57.394Z"
   },
   {
    "duration": 50,
    "start_time": "2023-10-04T05:49:57.428Z"
   },
   {
    "duration": 946,
    "start_time": "2023-10-04T05:49:57.480Z"
   },
   {
    "duration": 4,
    "start_time": "2023-10-04T05:49:58.428Z"
   },
   {
    "duration": 83,
    "start_time": "2023-10-04T05:49:58.434Z"
   },
   {
    "duration": 5,
    "start_time": "2023-10-04T05:49:58.519Z"
   },
   {
    "duration": 3,
    "start_time": "2023-10-04T05:50:07.026Z"
   },
   {
    "duration": 4105,
    "start_time": "2023-10-04T05:50:55.650Z"
   },
   {
    "duration": 942,
    "start_time": "2023-10-04T05:50:59.757Z"
   },
   {
    "duration": 4,
    "start_time": "2023-10-04T05:51:00.701Z"
   },
   {
    "duration": 507,
    "start_time": "2023-10-04T05:51:00.707Z"
   },
   {
    "duration": 3,
    "start_time": "2023-10-04T05:51:01.216Z"
   },
   {
    "duration": 2477,
    "start_time": "2023-10-04T05:51:01.221Z"
   },
   {
    "duration": 45,
    "start_time": "2023-10-04T05:51:03.700Z"
   },
   {
    "duration": 18,
    "start_time": "2023-10-04T05:51:03.750Z"
   },
   {
    "duration": 177,
    "start_time": "2023-10-04T05:51:03.769Z"
   },
   {
    "duration": 394,
    "start_time": "2023-10-04T05:51:03.949Z"
   },
   {
    "duration": 28,
    "start_time": "2023-10-04T05:51:04.345Z"
   },
   {
    "duration": 28,
    "start_time": "2023-10-04T05:51:04.375Z"
   },
   {
    "duration": 417,
    "start_time": "2023-10-04T05:51:04.406Z"
   },
   {
    "duration": 4,
    "start_time": "2023-10-04T05:51:04.825Z"
   },
   {
    "duration": 108,
    "start_time": "2023-10-04T05:51:04.831Z"
   },
   {
    "duration": 18,
    "start_time": "2023-10-04T05:51:04.941Z"
   },
   {
    "duration": 2534,
    "start_time": "2023-10-04T05:51:08.046Z"
   },
   {
    "duration": 2863,
    "start_time": "2023-10-04T05:51:26.770Z"
   },
   {
    "duration": 4,
    "start_time": "2023-10-04T05:51:45.932Z"
   },
   {
    "duration": 2,
    "start_time": "2023-10-04T05:52:05.715Z"
   },
   {
    "duration": 4224,
    "start_time": "2023-10-04T05:52:09.589Z"
   },
   {
    "duration": 1626,
    "start_time": "2023-10-04T05:53:10.363Z"
   },
   {
    "duration": 4,
    "start_time": "2023-10-04T05:53:15.115Z"
   },
   {
    "duration": 1673,
    "start_time": "2023-10-04T06:01:27.238Z"
   },
   {
    "duration": 2,
    "start_time": "2023-10-04T06:01:30.332Z"
   },
   {
    "duration": 17,
    "start_time": "2023-10-04T06:01:37.127Z"
   },
   {
    "duration": 4,
    "start_time": "2023-10-04T06:02:04.315Z"
   },
   {
    "duration": 1769,
    "start_time": "2023-10-04T06:04:22.558Z"
   },
   {
    "duration": 2,
    "start_time": "2023-10-04T06:04:25.998Z"
   },
   {
    "duration": 4,
    "start_time": "2023-10-04T06:04:27.515Z"
   },
   {
    "duration": 3,
    "start_time": "2023-10-04T06:21:30.128Z"
   },
   {
    "duration": 0,
    "start_time": "2023-10-04T06:24:47.746Z"
   },
   {
    "duration": 381686,
    "start_time": "2023-10-04T06:31:37.391Z"
   },
   {
    "duration": 32,
    "start_time": "2023-10-04T06:39:13.407Z"
   },
   {
    "duration": 13789,
    "start_time": "2023-10-04T06:39:57.523Z"
   },
   {
    "duration": 3,
    "start_time": "2023-10-04T06:41:03.274Z"
   },
   {
    "duration": 3,
    "start_time": "2023-10-04T06:41:05.299Z"
   },
   {
    "duration": 18810,
    "start_time": "2023-10-04T06:41:06.513Z"
   },
   {
    "duration": 36,
    "start_time": "2023-10-04T06:42:53.631Z"
   },
   {
    "duration": 19,
    "start_time": "2023-10-04T06:43:20.899Z"
   },
   {
    "duration": 23787,
    "start_time": "2023-10-04T06:43:52.362Z"
   },
   {
    "duration": 18321,
    "start_time": "2023-10-04T06:45:20.156Z"
   },
   {
    "duration": 29604,
    "start_time": "2023-10-04T06:46:33.363Z"
   },
   {
    "duration": 29533,
    "start_time": "2023-10-04T06:48:15.769Z"
   },
   {
    "duration": 29983,
    "start_time": "2023-10-04T06:49:04.203Z"
   },
   {
    "duration": 40317,
    "start_time": "2023-10-04T06:50:16.909Z"
   },
   {
    "duration": 3,
    "start_time": "2023-10-04T06:52:21.814Z"
   },
   {
    "duration": 2,
    "start_time": "2023-10-04T06:55:42.586Z"
   },
   {
    "duration": 5,
    "start_time": "2023-10-04T06:55:43.663Z"
   },
   {
    "duration": 11365,
    "start_time": "2023-10-04T06:56:01.265Z"
   },
   {
    "duration": 5,
    "start_time": "2023-10-04T06:56:14.606Z"
   },
   {
    "duration": 3,
    "start_time": "2023-10-04T06:57:13.463Z"
   },
   {
    "duration": 1789,
    "start_time": "2023-10-04T06:57:48.415Z"
   },
   {
    "duration": 3,
    "start_time": "2023-10-04T06:57:54.969Z"
   },
   {
    "duration": 4,
    "start_time": "2023-10-04T06:57:56.529Z"
   },
   {
    "duration": 3,
    "start_time": "2023-10-04T06:58:02.764Z"
   },
   {
    "duration": 3,
    "start_time": "2023-10-04T06:58:04.069Z"
   },
   {
    "duration": 3,
    "start_time": "2023-10-04T06:58:09.296Z"
   },
   {
    "duration": 86417,
    "start_time": "2023-10-04T06:58:10.430Z"
   },
   {
    "duration": 8,
    "start_time": "2023-10-04T06:59:36.853Z"
   },
   {
    "duration": 5,
    "start_time": "2023-10-04T07:00:24.863Z"
   },
   {
    "duration": 2,
    "start_time": "2023-10-04T07:00:43.523Z"
   },
   {
    "duration": 2062,
    "start_time": "2023-10-04T07:00:47.669Z"
   },
   {
    "duration": 7,
    "start_time": "2023-10-04T07:00:51.164Z"
   },
   {
    "duration": 4,
    "start_time": "2023-10-04T07:01:12.814Z"
   },
   {
    "duration": 3,
    "start_time": "2023-10-04T07:01:21.207Z"
   },
   {
    "duration": 2,
    "start_time": "2023-10-04T07:01:22.278Z"
   },
   {
    "duration": 81653,
    "start_time": "2023-10-04T07:01:24.215Z"
   },
   {
    "duration": 4,
    "start_time": "2023-10-04T07:02:45.870Z"
   },
   {
    "duration": 5,
    "start_time": "2023-10-04T07:03:21.559Z"
   },
   {
    "duration": 254873,
    "start_time": "2023-10-04T07:03:23.279Z"
   },
   {
    "duration": 4,
    "start_time": "2023-10-04T07:07:38.154Z"
   },
   {
    "duration": 4,
    "start_time": "2023-10-04T07:08:33.820Z"
   },
   {
    "duration": 4,
    "start_time": "2023-10-04T07:11:01.528Z"
   },
   {
    "duration": 2,
    "start_time": "2023-10-04T07:12:29.376Z"
   },
   {
    "duration": 3,
    "start_time": "2023-10-04T07:15:56.220Z"
   },
   {
    "duration": 3,
    "start_time": "2023-10-04T07:16:45.667Z"
   },
   {
    "duration": 2,
    "start_time": "2023-10-04T07:23:07.979Z"
   },
   {
    "duration": 4,
    "start_time": "2023-10-04T07:23:23.489Z"
   },
   {
    "duration": 3,
    "start_time": "2023-10-04T07:23:25.198Z"
   },
   {
    "duration": 3,
    "start_time": "2023-10-04T07:23:26.879Z"
   },
   {
    "duration": 3,
    "start_time": "2023-10-04T07:23:28.983Z"
   },
   {
    "duration": 74,
    "start_time": "2023-10-04T07:23:33.299Z"
   },
   {
    "duration": 3,
    "start_time": "2023-10-04T07:23:45.379Z"
   },
   {
    "duration": 454745,
    "start_time": "2023-10-04T07:23:51.902Z"
   },
   {
    "duration": 3,
    "start_time": "2023-10-04T07:31:26.650Z"
   },
   {
    "duration": 2,
    "start_time": "2023-10-04T07:32:40.001Z"
   },
   {
    "duration": 404861,
    "start_time": "2023-10-04T07:32:42.289Z"
   },
   {
    "duration": 4,
    "start_time": "2023-10-04T07:39:27.151Z"
   },
   {
    "duration": 3,
    "start_time": "2023-10-04T07:46:43.321Z"
   },
   {
    "duration": 213601,
    "start_time": "2023-10-04T07:46:44.882Z"
   },
   {
    "duration": 0,
    "start_time": "2023-10-04T07:50:18.485Z"
   },
   {
    "duration": 0,
    "start_time": "2023-10-04T07:50:18.488Z"
   },
   {
    "duration": 2,
    "start_time": "2023-10-04T07:50:40.905Z"
   },
   {
    "duration": 28202,
    "start_time": "2023-10-04T07:50:43.856Z"
   },
   {
    "duration": 3,
    "start_time": "2023-10-04T07:51:15.609Z"
   },
   {
    "duration": 23508,
    "start_time": "2023-10-04T07:51:18.780Z"
   },
   {
    "duration": 6084,
    "start_time": "2023-10-04T07:52:03.279Z"
   },
   {
    "duration": 499,
    "start_time": "2023-10-04T07:52:09.366Z"
   },
   {
    "duration": 5,
    "start_time": "2023-10-04T07:52:09.867Z"
   },
   {
    "duration": 31,
    "start_time": "2023-10-04T07:52:09.875Z"
   },
   {
    "duration": 4,
    "start_time": "2023-10-04T07:52:09.908Z"
   },
   {
    "duration": 2903,
    "start_time": "2023-10-04T07:52:09.914Z"
   },
   {
    "duration": 39,
    "start_time": "2023-10-04T07:52:12.819Z"
   },
   {
    "duration": 18,
    "start_time": "2023-10-04T07:52:12.862Z"
   },
   {
    "duration": 204,
    "start_time": "2023-10-04T07:52:12.881Z"
   },
   {
    "duration": 396,
    "start_time": "2023-10-04T07:52:13.089Z"
   },
   {
    "duration": 18,
    "start_time": "2023-10-04T07:52:13.487Z"
   },
   {
    "duration": 25,
    "start_time": "2023-10-04T07:52:13.506Z"
   },
   {
    "duration": 387,
    "start_time": "2023-10-04T07:52:13.532Z"
   },
   {
    "duration": 5,
    "start_time": "2023-10-04T07:52:13.921Z"
   },
   {
    "duration": 39,
    "start_time": "2023-10-04T07:52:13.927Z"
   },
   {
    "duration": 9,
    "start_time": "2023-10-04T07:52:13.968Z"
   },
   {
    "duration": 1753,
    "start_time": "2023-10-04T07:52:13.979Z"
   },
   {
    "duration": 2,
    "start_time": "2023-10-04T07:52:15.734Z"
   },
   {
    "duration": 29,
    "start_time": "2023-10-04T07:52:15.738Z"
   },
   {
    "duration": 5,
    "start_time": "2023-10-04T07:52:15.769Z"
   },
   {
    "duration": 14,
    "start_time": "2023-10-04T07:52:15.776Z"
   },
   {
    "duration": 20,
    "start_time": "2023-10-04T07:52:15.791Z"
   },
   {
    "duration": 349,
    "start_time": "2023-10-04T07:52:15.812Z"
   },
   {
    "duration": 18,
    "start_time": "2023-10-04T07:52:27.901Z"
   },
   {
    "duration": 18,
    "start_time": "2023-10-04T07:52:30.909Z"
   },
   {
    "duration": 4,
    "start_time": "2023-10-04T07:52:40.856Z"
   },
   {
    "duration": 428,
    "start_time": "2023-10-04T07:52:41.078Z"
   },
   {
    "duration": 4,
    "start_time": "2023-10-04T07:52:41.508Z"
   },
   {
    "duration": 49,
    "start_time": "2023-10-04T07:52:41.514Z"
   },
   {
    "duration": 2,
    "start_time": "2023-10-04T07:52:41.566Z"
   },
   {
    "duration": 2630,
    "start_time": "2023-10-04T07:52:41.570Z"
   },
   {
    "duration": 33,
    "start_time": "2023-10-04T07:52:44.201Z"
   },
   {
    "duration": 14,
    "start_time": "2023-10-04T07:52:44.247Z"
   },
   {
    "duration": 14,
    "start_time": "2023-10-04T07:52:44.263Z"
   },
   {
    "duration": 477,
    "start_time": "2023-10-04T07:52:44.279Z"
   },
   {
    "duration": 18,
    "start_time": "2023-10-04T07:52:44.759Z"
   },
   {
    "duration": 53,
    "start_time": "2023-10-04T07:52:44.779Z"
   },
   {
    "duration": 392,
    "start_time": "2023-10-04T07:52:44.834Z"
   },
   {
    "duration": 4,
    "start_time": "2023-10-04T07:52:45.228Z"
   },
   {
    "duration": 47,
    "start_time": "2023-10-04T07:52:45.234Z"
   },
   {
    "duration": 24,
    "start_time": "2023-10-04T07:52:45.283Z"
   },
   {
    "duration": 1721,
    "start_time": "2023-10-04T07:52:45.309Z"
   },
   {
    "duration": 24,
    "start_time": "2023-10-04T07:52:47.032Z"
   },
   {
    "duration": 46,
    "start_time": "2023-10-04T07:52:47.059Z"
   },
   {
    "duration": 29,
    "start_time": "2023-10-04T07:52:47.106Z"
   },
   {
    "duration": 27,
    "start_time": "2023-10-04T07:52:47.137Z"
   },
   {
    "duration": 44,
    "start_time": "2023-10-04T07:52:47.166Z"
   },
   {
    "duration": 17,
    "start_time": "2023-10-04T07:52:52.194Z"
   },
   {
    "duration": 12,
    "start_time": "2023-10-04T07:54:00.742Z"
   },
   {
    "duration": 3,
    "start_time": "2023-10-04T07:54:02.176Z"
   },
   {
    "duration": 349412,
    "start_time": "2023-10-04T07:54:06.445Z"
   },
   {
    "duration": 3,
    "start_time": "2023-10-04T07:59:55.860Z"
   },
   {
    "duration": 3,
    "start_time": "2023-10-04T08:02:24.675Z"
   },
   {
    "duration": 2,
    "start_time": "2023-10-04T08:02:27.595Z"
   },
   {
    "duration": 352772,
    "start_time": "2023-10-04T08:02:29.382Z"
   },
   {
    "duration": 4,
    "start_time": "2023-10-04T08:08:22.157Z"
   },
   {
    "duration": 3,
    "start_time": "2023-10-04T08:10:46.700Z"
   },
   {
    "duration": 2,
    "start_time": "2023-10-04T08:10:49.085Z"
   },
   {
    "duration": 140549,
    "start_time": "2023-10-04T08:10:52.696Z"
   },
   {
    "duration": 4,
    "start_time": "2023-10-04T08:13:13.247Z"
   },
   {
    "duration": 2732,
    "start_time": "2023-10-04T08:20:24.753Z"
   },
   {
    "duration": 13,
    "start_time": "2023-10-04T08:20:29.683Z"
   },
   {
    "duration": 22,
    "start_time": "2023-10-04T08:20:32.693Z"
   },
   {
    "duration": 19,
    "start_time": "2023-10-04T08:20:36.512Z"
   },
   {
    "duration": 29030,
    "start_time": "2023-10-04T08:21:52.179Z"
   },
   {
    "duration": 884,
    "start_time": "2023-10-04T08:22:21.211Z"
   },
   {
    "duration": 4,
    "start_time": "2023-10-04T08:22:22.096Z"
   },
   {
    "duration": 125,
    "start_time": "2023-10-04T08:22:22.102Z"
   },
   {
    "duration": 3,
    "start_time": "2023-10-04T08:22:22.229Z"
   },
   {
    "duration": 4118,
    "start_time": "2023-10-04T08:22:22.233Z"
   },
   {
    "duration": 14,
    "start_time": "2023-10-04T08:22:26.353Z"
   },
   {
    "duration": 263,
    "start_time": "2023-10-04T08:22:26.368Z"
   },
   {
    "duration": 37633,
    "start_time": "2023-10-04T08:23:19.811Z"
   },
   {
    "duration": 917,
    "start_time": "2023-10-04T08:23:57.446Z"
   },
   {
    "duration": 4,
    "start_time": "2023-10-04T08:23:58.365Z"
   },
   {
    "duration": 89,
    "start_time": "2023-10-04T08:23:58.371Z"
   },
   {
    "duration": 3,
    "start_time": "2023-10-04T08:23:58.461Z"
   },
   {
    "duration": 3433,
    "start_time": "2023-10-04T08:23:58.465Z"
   },
   {
    "duration": 51,
    "start_time": "2023-10-04T08:24:01.900Z"
   },
   {
    "duration": 31,
    "start_time": "2023-10-04T08:24:01.953Z"
   },
   {
    "duration": 720,
    "start_time": "2023-10-04T08:24:01.986Z"
   },
   {
    "duration": 2920,
    "start_time": "2023-10-04T08:24:02.708Z"
   },
   {
    "duration": 81,
    "start_time": "2023-10-04T08:24:05.629Z"
   },
   {
    "duration": 77,
    "start_time": "2023-10-04T08:24:05.712Z"
   },
   {
    "duration": 37247,
    "start_time": "2023-10-04T08:34:58.254Z"
   },
   {
    "duration": 826,
    "start_time": "2023-10-04T08:35:35.504Z"
   },
   {
    "duration": 4,
    "start_time": "2023-10-04T08:35:36.332Z"
   },
   {
    "duration": 58,
    "start_time": "2023-10-04T08:35:36.338Z"
   },
   {
    "duration": 4,
    "start_time": "2023-10-04T08:35:36.397Z"
   },
   {
    "duration": 2610,
    "start_time": "2023-10-04T08:35:36.403Z"
   },
   {
    "duration": 49,
    "start_time": "2023-10-04T08:35:39.015Z"
   },
   {
    "duration": 21,
    "start_time": "2023-10-04T08:35:39.066Z"
   },
   {
    "duration": 178,
    "start_time": "2023-10-04T08:35:39.089Z"
   },
   {
    "duration": 1144,
    "start_time": "2023-10-04T08:35:39.270Z"
   },
   {
    "duration": 28,
    "start_time": "2023-10-04T08:35:40.416Z"
   },
   {
    "duration": 54,
    "start_time": "2023-10-04T08:35:40.445Z"
   },
   {
    "duration": 40098,
    "start_time": "2023-10-04T08:37:14.175Z"
   },
   {
    "duration": 4,
    "start_time": "2023-10-04T08:37:54.275Z"
   },
   {
    "duration": 3452,
    "start_time": "2023-10-04T08:37:54.280Z"
   },
   {
    "duration": 49,
    "start_time": "2023-10-04T08:37:57.734Z"
   },
   {
    "duration": 26,
    "start_time": "2023-10-04T08:37:57.785Z"
   },
   {
    "duration": 258,
    "start_time": "2023-10-04T08:37:57.813Z"
   },
   {
    "duration": 1016,
    "start_time": "2023-10-04T08:37:58.072Z"
   },
   {
    "duration": 25,
    "start_time": "2023-10-04T08:37:59.089Z"
   },
   {
    "duration": 35,
    "start_time": "2023-10-04T08:37:59.115Z"
   },
   {
    "duration": 93,
    "start_time": "2023-10-04T08:39:58.228Z"
   },
   {
    "duration": 41583,
    "start_time": "2023-10-04T08:40:43.164Z"
   },
   {
    "duration": 4,
    "start_time": "2023-10-04T08:41:24.749Z"
   },
   {
    "duration": 2685,
    "start_time": "2023-10-04T08:41:24.755Z"
   },
   {
    "duration": 46,
    "start_time": "2023-10-04T08:41:27.443Z"
   },
   {
    "duration": 32,
    "start_time": "2023-10-04T08:41:27.491Z"
   },
   {
    "duration": 190,
    "start_time": "2023-10-04T08:41:27.524Z"
   },
   {
    "duration": 1052,
    "start_time": "2023-10-04T08:41:27.716Z"
   },
   {
    "duration": 23,
    "start_time": "2023-10-04T08:41:28.769Z"
   },
   {
    "duration": 36,
    "start_time": "2023-10-04T08:41:28.793Z"
   },
   {
    "duration": 2534,
    "start_time": "2023-10-04T08:41:28.832Z"
   },
   {
    "duration": 5,
    "start_time": "2023-10-04T08:41:31.368Z"
   },
   {
    "duration": 159,
    "start_time": "2023-10-04T08:41:31.375Z"
   },
   {
    "duration": 62,
    "start_time": "2023-10-04T08:41:31.536Z"
   },
   {
    "duration": 65,
    "start_time": "2023-10-04T08:41:31.600Z"
   },
   {
    "duration": 75,
    "start_time": "2023-10-04T08:41:31.667Z"
   },
   {
    "duration": 57,
    "start_time": "2023-10-04T08:41:31.744Z"
   },
   {
    "duration": 81,
    "start_time": "2023-10-04T08:41:31.803Z"
   },
   {
    "duration": 2,
    "start_time": "2023-10-04T08:41:49.177Z"
   },
   {
    "duration": 3,
    "start_time": "2023-10-04T08:41:50.339Z"
   },
   {
    "duration": 273655,
    "start_time": "2023-10-04T08:41:52.107Z"
   },
   {
    "duration": 4,
    "start_time": "2023-10-04T08:46:25.765Z"
   },
   {
    "duration": 4,
    "start_time": "2023-10-04T08:51:17.016Z"
   },
   {
    "duration": 183,
    "start_time": "2023-10-04T08:51:38.503Z"
   },
   {
    "duration": 7,
    "start_time": "2023-10-04T08:51:49.054Z"
   },
   {
    "duration": 3,
    "start_time": "2023-10-04T08:54:25.547Z"
   },
   {
    "duration": 3,
    "start_time": "2023-10-04T08:54:26.781Z"
   },
   {
    "duration": 2,
    "start_time": "2023-10-04T08:54:28.200Z"
   },
   {
    "duration": 3,
    "start_time": "2023-10-04T08:54:30.410Z"
   },
   {
    "duration": 1058,
    "start_time": "2023-10-04T08:54:37.716Z"
   },
   {
    "duration": 3,
    "start_time": "2023-10-04T08:55:24.090Z"
   },
   {
    "duration": 3,
    "start_time": "2023-10-04T08:55:26.208Z"
   },
   {
    "duration": 63,
    "start_time": "2023-10-04T08:55:38.107Z"
   },
   {
    "duration": 38500,
    "start_time": "2023-10-04T08:56:22.133Z"
   },
   {
    "duration": 4,
    "start_time": "2023-10-04T08:57:00.635Z"
   },
   {
    "duration": 3070,
    "start_time": "2023-10-04T08:57:00.641Z"
   },
   {
    "duration": 47,
    "start_time": "2023-10-04T08:57:03.714Z"
   },
   {
    "duration": 38,
    "start_time": "2023-10-04T08:57:03.764Z"
   },
   {
    "duration": 326,
    "start_time": "2023-10-04T08:57:03.804Z"
   },
   {
    "duration": 674,
    "start_time": "2023-10-04T08:57:04.131Z"
   },
   {
    "duration": 145,
    "start_time": "2023-10-04T08:57:04.807Z"
   },
   {
    "duration": 56,
    "start_time": "2023-10-04T08:57:04.953Z"
   },
   {
    "duration": 882,
    "start_time": "2023-10-04T08:57:05.012Z"
   },
   {
    "duration": 5,
    "start_time": "2023-10-04T08:57:05.895Z"
   },
   {
    "duration": 96,
    "start_time": "2023-10-04T08:57:05.902Z"
   },
   {
    "duration": 4,
    "start_time": "2023-10-04T08:57:23.822Z"
   },
   {
    "duration": 296,
    "start_time": "2023-10-04T08:57:25.031Z"
   },
   {
    "duration": 3,
    "start_time": "2023-10-04T08:57:31.963Z"
   },
   {
    "duration": 3,
    "start_time": "2023-10-04T08:57:36.172Z"
   },
   {
    "duration": 3,
    "start_time": "2023-10-04T08:57:37.261Z"
   },
   {
    "duration": 2,
    "start_time": "2023-10-04T08:57:39.343Z"
   },
   {
    "duration": 4,
    "start_time": "2023-10-04T08:57:41.282Z"
   },
   {
    "duration": 64643,
    "start_time": "2023-10-04T08:57:43.232Z"
   },
   {
    "duration": 4,
    "start_time": "2023-10-04T08:58:47.877Z"
   },
   {
    "duration": 15778,
    "start_time": "2023-10-04T09:09:24.740Z"
   },
   {
    "duration": 5,
    "start_time": "2023-10-04T09:09:40.520Z"
   },
   {
    "duration": 3096,
    "start_time": "2023-10-04T09:09:40.527Z"
   },
   {
    "duration": 43,
    "start_time": "2023-10-04T09:09:43.626Z"
   },
   {
    "duration": 25,
    "start_time": "2023-10-04T09:09:43.672Z"
   },
   {
    "duration": 157,
    "start_time": "2023-10-04T09:09:43.699Z"
   },
   {
    "duration": 686,
    "start_time": "2023-10-04T09:09:43.858Z"
   },
   {
    "duration": 29,
    "start_time": "2023-10-04T09:09:44.546Z"
   },
   {
    "duration": 31,
    "start_time": "2023-10-04T09:09:44.577Z"
   },
   {
    "duration": 3284,
    "start_time": "2023-10-04T09:09:44.611Z"
   },
   {
    "duration": 9,
    "start_time": "2023-10-04T09:09:47.897Z"
   },
   {
    "duration": 82,
    "start_time": "2023-10-04T09:09:47.907Z"
   },
   {
    "duration": 41,
    "start_time": "2023-10-04T09:09:47.990Z"
   },
   {
    "duration": 46,
    "start_time": "2023-10-04T09:09:48.033Z"
   },
   {
    "duration": 35,
    "start_time": "2023-10-04T09:09:48.081Z"
   },
   {
    "duration": 29,
    "start_time": "2023-10-04T09:09:48.118Z"
   },
   {
    "duration": 30,
    "start_time": "2023-10-04T09:09:48.150Z"
   },
   {
    "duration": 140072,
    "start_time": "2023-10-04T09:09:48.181Z"
   },
   {
    "duration": 4,
    "start_time": "2023-10-04T09:12:08.254Z"
   },
   {
    "duration": 17,
    "start_time": "2023-10-04T09:12:08.259Z"
   },
   {
    "duration": 23,
    "start_time": "2023-10-04T09:12:08.277Z"
   },
   {
    "duration": 28,
    "start_time": "2023-10-04T09:12:08.301Z"
   },
   {
    "duration": 13,
    "start_time": "2023-10-04T09:12:08.330Z"
   },
   {
    "duration": 63235,
    "start_time": "2023-10-04T09:12:08.344Z"
   },
   {
    "duration": 3,
    "start_time": "2023-10-04T09:13:11.581Z"
   },
   {
    "duration": 3,
    "start_time": "2023-10-04T09:15:31.270Z"
   },
   {
    "duration": 3,
    "start_time": "2023-10-04T09:15:34.479Z"
   },
   {
    "duration": 122508,
    "start_time": "2023-10-04T09:15:36.371Z"
   },
   {
    "duration": 4,
    "start_time": "2023-10-04T09:17:38.880Z"
   },
   {
    "duration": 3,
    "start_time": "2023-10-04T09:24:56.573Z"
   },
   {
    "duration": 3,
    "start_time": "2023-10-04T09:24:58.670Z"
   },
   {
    "duration": 52295,
    "start_time": "2023-10-04T09:25:02.473Z"
   },
   {
    "duration": 4,
    "start_time": "2023-10-04T09:25:54.770Z"
   },
   {
    "duration": 162,
    "start_time": "2023-10-04T09:30:11.780Z"
   },
   {
    "duration": 3,
    "start_time": "2023-10-04T09:30:23.212Z"
   },
   {
    "duration": 3,
    "start_time": "2023-10-04T09:30:24.898Z"
   },
   {
    "duration": 79304,
    "start_time": "2023-10-04T09:30:28.771Z"
   },
   {
    "duration": 3,
    "start_time": "2023-10-04T09:31:48.077Z"
   },
   {
    "duration": 4,
    "start_time": "2023-10-04T09:32:54.844Z"
   },
   {
    "duration": 3,
    "start_time": "2023-10-04T09:32:56.434Z"
   },
   {
    "duration": 4,
    "start_time": "2023-10-04T09:32:59.041Z"
   },
   {
    "duration": 3,
    "start_time": "2023-10-04T09:33:00.584Z"
   },
   {
    "duration": 17729,
    "start_time": "2023-10-04T09:33:01.862Z"
   },
   {
    "duration": 4,
    "start_time": "2023-10-04T09:33:24.866Z"
   },
   {
    "duration": 3,
    "start_time": "2023-10-04T09:33:45.904Z"
   },
   {
    "duration": 3,
    "start_time": "2023-10-04T09:33:48.574Z"
   },
   {
    "duration": 47971,
    "start_time": "2023-10-04T09:33:52.004Z"
   },
   {
    "duration": 4,
    "start_time": "2023-10-04T09:34:39.977Z"
   },
   {
    "duration": 3,
    "start_time": "2023-10-04T09:38:13.534Z"
   },
   {
    "duration": 3,
    "start_time": "2023-10-04T09:38:15.137Z"
   },
   {
    "duration": 48107,
    "start_time": "2023-10-04T09:38:16.168Z"
   },
   {
    "duration": 4,
    "start_time": "2023-10-04T09:39:04.277Z"
   },
   {
    "duration": 886,
    "start_time": "2023-10-04T09:52:39.650Z"
   },
   {
    "duration": 19,
    "start_time": "2023-10-04T09:52:41.141Z"
   },
   {
    "duration": 2,
    "start_time": "2023-10-04T09:57:49.829Z"
   },
   {
    "duration": 3,
    "start_time": "2023-10-04T09:57:54.506Z"
   },
   {
    "duration": 3,
    "start_time": "2023-10-04T09:57:56.978Z"
   },
   {
    "duration": 4,
    "start_time": "2023-10-04T09:58:02.288Z"
   },
   {
    "duration": 24835,
    "start_time": "2023-10-04T09:58:05.378Z"
   },
   {
    "duration": 4,
    "start_time": "2023-10-04T09:58:30.215Z"
   },
   {
    "duration": 3,
    "start_time": "2023-10-04T09:59:00.044Z"
   },
   {
    "duration": 4,
    "start_time": "2023-10-04T09:59:03.770Z"
   },
   {
    "duration": 65181,
    "start_time": "2023-10-04T09:59:08.667Z"
   },
   {
    "duration": 4,
    "start_time": "2023-10-04T10:00:13.850Z"
   },
   {
    "duration": 3,
    "start_time": "2023-10-04T10:00:53.958Z"
   },
   {
    "duration": 3,
    "start_time": "2023-10-04T10:00:55.858Z"
   },
   {
    "duration": 85126,
    "start_time": "2023-10-04T10:00:57.178Z"
   },
   {
    "duration": 4,
    "start_time": "2023-10-04T10:02:22.306Z"
   },
   {
    "duration": 3,
    "start_time": "2023-10-04T10:03:57.806Z"
   },
   {
    "duration": 3,
    "start_time": "2023-10-04T10:03:59.736Z"
   },
   {
    "duration": 104091,
    "start_time": "2023-10-04T10:04:03.898Z"
   },
   {
    "duration": 4,
    "start_time": "2023-10-04T10:05:47.991Z"
   },
   {
    "duration": 3,
    "start_time": "2023-10-04T10:07:55.424Z"
   },
   {
    "duration": 2,
    "start_time": "2023-10-04T10:07:57.412Z"
   },
   {
    "duration": 238210,
    "start_time": "2023-10-04T10:07:59.053Z"
   },
   {
    "duration": 4,
    "start_time": "2023-10-04T10:11:57.264Z"
   },
   {
    "duration": 49828,
    "start_time": "2023-10-04T10:11:57.269Z"
   },
   {
    "duration": 3,
    "start_time": "2023-10-04T10:14:31.975Z"
   },
   {
    "duration": 3,
    "start_time": "2023-10-04T10:14:51.281Z"
   },
   {
    "duration": 3,
    "start_time": "2023-10-04T10:14:53.286Z"
   },
   {
    "duration": 291497,
    "start_time": "2023-10-04T10:14:54.463Z"
   },
   {
    "duration": 4,
    "start_time": "2023-10-04T10:19:45.962Z"
   },
   {
    "duration": 3,
    "start_time": "2023-10-04T10:20:28.370Z"
   },
   {
    "duration": 2,
    "start_time": "2023-10-04T10:20:51.092Z"
   },
   {
    "duration": 77,
    "start_time": "2023-10-04T10:20:53.477Z"
   },
   {
    "duration": 3,
    "start_time": "2023-10-04T10:21:16.003Z"
   },
   {
    "duration": 3,
    "start_time": "2023-10-04T10:21:19.536Z"
   },
   {
    "duration": 373005,
    "start_time": "2023-10-04T10:21:23.140Z"
   },
   {
    "duration": 3,
    "start_time": "2023-10-04T10:27:36.147Z"
   },
   {
    "duration": 98,
    "start_time": "2023-10-04T10:33:43.636Z"
   },
   {
    "duration": 78137,
    "start_time": "2023-10-04T10:33:48.411Z"
   },
   {
    "duration": 0,
    "start_time": "2023-10-04T10:35:06.550Z"
   },
   {
    "duration": 158,
    "start_time": "2023-10-04T10:35:11.596Z"
   },
   {
    "duration": 3,
    "start_time": "2023-10-04T10:35:57.067Z"
   },
   {
    "duration": 2,
    "start_time": "2023-10-04T10:35:59.621Z"
   },
   {
    "duration": 187373,
    "start_time": "2023-10-04T10:36:01.814Z"
   },
   {
    "duration": 3,
    "start_time": "2023-10-04T10:39:09.189Z"
   },
   {
    "duration": 3,
    "start_time": "2023-10-04T10:40:58.688Z"
   },
   {
    "duration": 3,
    "start_time": "2023-10-04T10:41:01.422Z"
   },
   {
    "duration": 121081,
    "start_time": "2023-10-04T10:41:02.691Z"
   },
   {
    "duration": 6,
    "start_time": "2023-10-04T10:43:03.774Z"
   },
   {
    "duration": 2,
    "start_time": "2023-10-04T10:45:46.666Z"
   },
   {
    "duration": 3,
    "start_time": "2023-10-04T10:45:48.667Z"
   },
   {
    "duration": 126848,
    "start_time": "2023-10-04T10:45:50.547Z"
   },
   {
    "duration": 50,
    "start_time": "2023-10-04T10:47:57.397Z"
   },
   {
    "duration": 3,
    "start_time": "2023-10-04T10:50:46.367Z"
   },
   {
    "duration": 3,
    "start_time": "2023-10-04T10:50:48.943Z"
   },
   {
    "duration": 650591,
    "start_time": "2023-10-04T10:50:54.580Z"
   },
   {
    "duration": 4,
    "start_time": "2023-10-04T11:01:45.173Z"
   },
   {
    "duration": 4,
    "start_time": "2023-10-04T11:02:27.245Z"
   },
   {
    "duration": 3,
    "start_time": "2023-10-04T11:02:29.276Z"
   },
   {
    "duration": 431950,
    "start_time": "2023-10-04T11:02:33.116Z"
   },
   {
    "duration": 4,
    "start_time": "2023-10-04T11:09:45.068Z"
   },
   {
    "duration": 3,
    "start_time": "2023-10-04T11:11:17.178Z"
   },
   {
    "duration": 4,
    "start_time": "2023-10-04T11:11:18.948Z"
   },
   {
    "duration": 472826,
    "start_time": "2023-10-04T11:11:20.379Z"
   },
   {
    "duration": 4,
    "start_time": "2023-10-04T11:19:13.208Z"
   },
   {
    "duration": 3,
    "start_time": "2023-10-04T11:19:57.698Z"
   },
   {
    "duration": 2,
    "start_time": "2023-10-04T11:21:22.044Z"
   },
   {
    "duration": 4,
    "start_time": "2023-10-04T11:21:23.774Z"
   },
   {
    "duration": 336068,
    "start_time": "2023-10-04T11:21:25.687Z"
   },
   {
    "duration": 4,
    "start_time": "2023-10-04T11:27:01.756Z"
   },
   {
    "duration": 3,
    "start_time": "2023-10-04T11:28:34.071Z"
   },
   {
    "duration": 3,
    "start_time": "2023-10-04T11:29:07.710Z"
   },
   {
    "duration": 3,
    "start_time": "2023-10-04T11:29:09.648Z"
   },
   {
    "duration": 413603,
    "start_time": "2023-10-04T11:29:11.606Z"
   },
   {
    "duration": 32,
    "start_time": "2023-10-04T11:36:05.212Z"
   },
   {
    "duration": 20954,
    "start_time": "2023-10-04T11:50:00.496Z"
   },
   {
    "duration": 3078,
    "start_time": "2023-10-04T11:50:21.452Z"
   },
   {
    "duration": 59,
    "start_time": "2023-10-04T11:50:24.532Z"
   },
   {
    "duration": 28,
    "start_time": "2023-10-04T11:50:24.595Z"
   },
   {
    "duration": 192,
    "start_time": "2023-10-04T11:50:24.624Z"
   },
   {
    "duration": 942,
    "start_time": "2023-10-04T11:50:24.818Z"
   },
   {
    "duration": 31,
    "start_time": "2023-10-04T11:50:25.762Z"
   },
   {
    "duration": 24,
    "start_time": "2023-10-04T11:50:25.795Z"
   },
   {
    "duration": 873,
    "start_time": "2023-10-04T11:50:25.821Z"
   },
   {
    "duration": 5,
    "start_time": "2023-10-04T11:50:26.697Z"
   },
   {
    "duration": 105,
    "start_time": "2023-10-04T11:50:26.703Z"
   },
   {
    "duration": 26,
    "start_time": "2023-10-04T11:50:26.810Z"
   },
   {
    "duration": 27,
    "start_time": "2023-10-04T11:50:26.837Z"
   },
   {
    "duration": 31,
    "start_time": "2023-10-04T11:50:26.866Z"
   },
   {
    "duration": 35,
    "start_time": "2023-10-04T11:50:26.899Z"
   },
   {
    "duration": 31,
    "start_time": "2023-10-04T11:50:26.936Z"
   },
   {
    "duration": 234576,
    "start_time": "2023-10-04T11:50:26.969Z"
   },
   {
    "duration": 4,
    "start_time": "2023-10-04T11:54:21.547Z"
   },
   {
    "duration": 8,
    "start_time": "2023-10-04T11:54:21.554Z"
   },
   {
    "duration": 4,
    "start_time": "2023-10-04T11:54:21.564Z"
   },
   {
    "duration": 25,
    "start_time": "2023-10-04T11:54:21.570Z"
   },
   {
    "duration": 12,
    "start_time": "2023-10-04T11:54:21.597Z"
   },
   {
    "duration": 25157,
    "start_time": "2023-10-04T11:54:21.611Z"
   },
   {
    "duration": 4,
    "start_time": "2023-10-04T11:54:46.770Z"
   },
   {
    "duration": 14,
    "start_time": "2023-10-04T11:54:46.775Z"
   },
   {
    "duration": 13,
    "start_time": "2023-10-04T11:54:46.791Z"
   },
   {
    "duration": 31,
    "start_time": "2023-10-04T11:54:46.806Z"
   },
   {
    "duration": 13,
    "start_time": "2023-10-04T11:54:46.840Z"
   },
   {
    "duration": 497061,
    "start_time": "2023-10-04T11:54:46.854Z"
   },
   {
    "duration": 4,
    "start_time": "2023-10-04T12:03:03.917Z"
   },
   {
    "duration": 38,
    "start_time": "2023-10-04T12:03:03.922Z"
   },
   {
    "duration": 45,
    "start_time": "2023-10-04T12:03:03.962Z"
   },
   {
    "duration": 36,
    "start_time": "2023-10-04T12:03:04.009Z"
   },
   {
    "duration": 38,
    "start_time": "2023-10-04T12:03:04.046Z"
   },
   {
    "duration": 336459,
    "start_time": "2023-10-04T12:03:04.085Z"
   },
   {
    "duration": 4,
    "start_time": "2023-10-04T12:08:40.546Z"
   },
   {
    "duration": 3,
    "start_time": "2023-10-04T12:09:16.719Z"
   },
   {
    "duration": 3,
    "start_time": "2023-10-04T12:09:18.600Z"
   },
   {
    "duration": 243637,
    "start_time": "2023-10-04T12:09:20.562Z"
   },
   {
    "duration": 4,
    "start_time": "2023-10-04T12:13:24.200Z"
   },
   {
    "duration": 3,
    "start_time": "2023-10-04T12:14:45.971Z"
   },
   {
    "duration": 3,
    "start_time": "2023-10-04T12:15:52.400Z"
   },
   {
    "duration": 3,
    "start_time": "2023-10-04T12:15:57.675Z"
   },
   {
    "duration": 8,
    "start_time": "2023-10-04T13:49:15.382Z"
   },
   {
    "duration": 29660,
    "start_time": "2023-10-04T13:49:19.696Z"
   },
   {
    "duration": 2706,
    "start_time": "2023-10-04T13:49:49.358Z"
   },
   {
    "duration": 37,
    "start_time": "2023-10-04T13:49:52.066Z"
   },
   {
    "duration": 164,
    "start_time": "2023-10-04T13:49:52.106Z"
   },
   {
    "duration": 252,
    "start_time": "2023-10-04T13:49:52.272Z"
   },
   {
    "duration": 875,
    "start_time": "2023-10-04T13:49:52.526Z"
   },
   {
    "duration": 155,
    "start_time": "2023-10-04T13:49:53.402Z"
   },
   {
    "duration": 61,
    "start_time": "2023-10-04T13:49:53.558Z"
   },
   {
    "duration": 1153,
    "start_time": "2023-10-04T13:49:53.621Z"
   },
   {
    "duration": 6,
    "start_time": "2023-10-04T13:49:54.778Z"
   },
   {
    "duration": 106,
    "start_time": "2023-10-04T13:49:54.786Z"
   },
   {
    "duration": 33,
    "start_time": "2023-10-04T13:49:54.894Z"
   },
   {
    "duration": 25,
    "start_time": "2023-10-04T13:49:54.930Z"
   },
   {
    "duration": 35,
    "start_time": "2023-10-04T13:49:54.957Z"
   },
   {
    "duration": 41,
    "start_time": "2023-10-04T13:49:54.993Z"
   },
   {
    "duration": 52,
    "start_time": "2023-10-04T13:49:55.036Z"
   },
   {
    "duration": 229568,
    "start_time": "2023-10-04T13:49:55.090Z"
   },
   {
    "duration": 4,
    "start_time": "2023-10-04T13:53:44.660Z"
   },
   {
    "duration": 34,
    "start_time": "2023-10-04T13:53:44.665Z"
   },
   {
    "duration": 23,
    "start_time": "2023-10-04T13:53:44.700Z"
   },
   {
    "duration": 13,
    "start_time": "2023-10-04T13:53:44.724Z"
   },
   {
    "duration": 9,
    "start_time": "2023-10-04T13:53:44.739Z"
   },
   {
    "duration": 24002,
    "start_time": "2023-10-04T13:53:44.750Z"
   },
   {
    "duration": 4,
    "start_time": "2023-10-04T13:54:08.754Z"
   },
   {
    "duration": 45,
    "start_time": "2023-10-04T13:54:08.759Z"
   },
   {
    "duration": 42,
    "start_time": "2023-10-04T13:54:08.806Z"
   },
   {
    "duration": 55,
    "start_time": "2023-10-04T13:54:08.850Z"
   },
   {
    "duration": 16,
    "start_time": "2023-10-04T13:54:08.909Z"
   },
   {
    "duration": 502573,
    "start_time": "2023-10-04T13:54:08.927Z"
   },
   {
    "duration": 3,
    "start_time": "2023-10-04T14:02:31.502Z"
   },
   {
    "duration": 184,
    "start_time": "2023-10-04T14:02:31.507Z"
   },
   {
    "duration": 85,
    "start_time": "2023-10-04T14:02:31.693Z"
   },
   {
    "duration": 72,
    "start_time": "2023-10-04T14:02:31.780Z"
   },
   {
    "duration": 105,
    "start_time": "2023-10-04T14:02:31.855Z"
   },
   {
    "duration": 389,
    "start_time": "2023-10-04T14:02:31.962Z"
   },
   {
    "duration": 3,
    "start_time": "2023-10-04T14:04:33.967Z"
   },
   {
    "duration": 3,
    "start_time": "2023-10-04T14:04:35.095Z"
   },
   {
    "duration": 3,
    "start_time": "2023-10-04T14:04:36.647Z"
   },
   {
    "duration": 3,
    "start_time": "2023-10-04T14:04:38.599Z"
   },
   {
    "duration": 31504,
    "start_time": "2023-10-04T14:12:23.022Z"
   },
   {
    "duration": 2729,
    "start_time": "2023-10-04T14:12:54.529Z"
   },
   {
    "duration": 40,
    "start_time": "2023-10-04T14:12:57.260Z"
   },
   {
    "duration": 22,
    "start_time": "2023-10-04T14:12:57.303Z"
   },
   {
    "duration": 147,
    "start_time": "2023-10-04T14:12:57.343Z"
   },
   {
    "duration": 910,
    "start_time": "2023-10-04T14:12:57.492Z"
   },
   {
    "duration": 26,
    "start_time": "2023-10-04T14:12:58.404Z"
   },
   {
    "duration": 34,
    "start_time": "2023-10-04T14:12:58.432Z"
   },
   {
    "duration": 1313,
    "start_time": "2023-10-04T14:12:58.468Z"
   },
   {
    "duration": 5,
    "start_time": "2023-10-04T14:12:59.783Z"
   },
   {
    "duration": 105,
    "start_time": "2023-10-04T14:12:59.789Z"
   },
   {
    "duration": 4,
    "start_time": "2023-10-04T14:15:39.846Z"
   },
   {
    "duration": 3,
    "start_time": "2023-10-04T14:15:41.019Z"
   },
   {
    "duration": 2,
    "start_time": "2023-10-04T14:15:42.118Z"
   },
   {
    "duration": 3,
    "start_time": "2023-10-04T14:15:43.879Z"
   },
   {
    "duration": 4,
    "start_time": "2023-10-04T14:15:46.904Z"
   }
  ],
  "kernelspec": {
   "display_name": "Python 3 (ipykernel)",
   "language": "python",
   "name": "python3"
  },
  "language_info": {
   "codemirror_mode": {
    "name": "ipython",
    "version": 3
   },
   "file_extension": ".py",
   "mimetype": "text/x-python",
   "name": "python",
   "nbconvert_exporter": "python",
   "pygments_lexer": "ipython3",
   "version": "3.9.5"
  },
  "toc": {
   "base_numbering": 1,
   "nav_menu": {},
   "number_sections": true,
   "sideBar": true,
   "skip_h1_title": true,
   "title_cell": "Содержание",
   "title_sidebar": "Contents",
   "toc_cell": true,
   "toc_position": {
    "height": "calc(100% - 180px)",
    "left": "10px",
    "top": "150px",
    "width": "207.391px"
   },
   "toc_section_display": true,
   "toc_window_display": false
  }
 },
 "nbformat": 4,
 "nbformat_minor": 2
}
